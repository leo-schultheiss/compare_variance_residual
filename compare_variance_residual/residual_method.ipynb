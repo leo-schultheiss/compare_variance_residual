{
 "cells": [
  {
   "cell_type": "code",
   "id": "initial_id",
   "metadata": {
    "collapsed": true,
    "ExecuteTime": {
     "end_time": "2025-02-10T10:41:49.622529Z",
     "start_time": "2025-02-10T10:41:49.526445Z"
    }
   },
   "source": [
    "import random\n",
    "\n",
    "import himalaya.scoring\n",
    "import matplotlib.pyplot as plt\n",
    "import numpy as np\n",
    "import seaborn as sns\n",
    "from himalaya.backend import set_backend, get_backend\n",
    "from himalaya.ridge import RidgeCV, Ridge\n",
    "from sklearn.linear_model import LinearRegression\n",
    "\n",
    "from simulation import generate_dataset"
   ],
   "outputs": [],
   "execution_count": 1
  },
  {
   "metadata": {
    "ExecuteTime": {
     "end_time": "2025-02-10T10:41:49.739497Z",
     "start_time": "2025-02-10T10:41:49.625984Z"
    }
   },
   "cell_type": "code",
   "source": [
    "set_backend('cupy', on_error='warn')\n",
    "backend = get_backend()\n",
    "plt.style.use('nord')\n",
    "sns.set_theme(style='whitegrid')\n",
    "random.seed(42)"
   ],
   "id": "3e5fea55ca2c1071",
   "outputs": [],
   "execution_count": 2
  },
  {
   "metadata": {
    "ExecuteTime": {
     "end_time": "2025-02-10T10:41:49.892809Z",
     "start_time": "2025-02-10T10:41:49.890306Z"
    }
   },
   "cell_type": "code",
   "source": [
    "d_list = [100, 100, 100]\n",
    "scalars = [1 / 3, 1 / 3, 1 / 3]\n",
    "n_targets = 10000\n",
    "n_samples_train = 10000\n",
    "n_samples_test = 100\n",
    "n_samples = n_samples_train + n_samples_test\n",
    "noise_scalar = 0.1"
   ],
   "id": "d10d21bb140c181a",
   "outputs": [],
   "execution_count": 3
  },
  {
   "metadata": {
    "ExecuteTime": {
     "end_time": "2025-02-10T10:41:49.900761Z",
     "start_time": "2025-02-10T10:41:49.898353Z"
    }
   },
   "cell_type": "code",
   "source": [
    "alphas = np.logspace(-4, 4, 10)\n",
    "cv = 10\n",
    "score_func = himalaya.scoring.r2_score\n",
    "use_ols = False\n",
    "i_from = 0\n",
    "i_to = 1"
   ],
   "id": "d9727f4b2f9d4bb1",
   "outputs": [],
   "execution_count": 4
  },
  {
   "metadata": {
    "ExecuteTime": {
     "end_time": "2025-02-10T10:42:03.090478Z",
     "start_time": "2025-02-10T10:41:49.943356Z"
    }
   },
   "cell_type": "code",
   "source": "Xs, Y = generate_dataset(d_list, scalars, n_targets, n_samples, noise_scalar, construction_method=\"orthogonal\")",
   "id": "85fa73af68715748",
   "outputs": [],
   "execution_count": 5
  },
  {
   "metadata": {},
   "cell_type": "markdown",
   "source": "first of all lets verify that Ridge regression with $\\alpha = 0$ indeed is equivalent to linear regression",
   "id": "5db358af28e59cac"
  },
  {
   "metadata": {
    "ExecuteTime": {
     "end_time": "2025-02-10T10:42:05.087406Z",
     "start_time": "2025-02-10T10:42:03.114982Z"
    }
   },
   "cell_type": "code",
   "source": [
    "ridge = Ridge(alpha=1, solver_params=dict(warn=False, n_targets_batch=1000))\n",
    "ridge.fit(Xs[0][:n_samples_train], Y[:n_samples_train])\n",
    "ridge_coef = ridge.coef_  # (n_features, n_targets)"
   ],
   "id": "70f2618c35682bb",
   "outputs": [],
   "execution_count": 6
  },
  {
   "metadata": {
    "ExecuteTime": {
     "end_time": "2025-02-10T10:42:09.621448Z",
     "start_time": "2025-02-10T10:42:05.103759Z"
    }
   },
   "cell_type": "code",
   "source": [
    "linear = LinearRegression()\n",
    "linear.fit(backend.to_numpy(Xs[0][:n_samples_train]), backend.to_numpy(Y[:n_samples_train]))\n",
    "linear_coef = linear.coef_  # (n_targets, n_features)\n",
    "# swap rows and columns\n",
    "linear_coef = linear_coef.T"
   ],
   "id": "ac51c01a430a31d8",
   "outputs": [],
   "execution_count": 7
  },
  {
   "metadata": {
    "ExecuteTime": {
     "end_time": "2025-02-10T10:47:24.043028Z",
     "start_time": "2025-02-10T10:47:23.993026Z"
    }
   },
   "cell_type": "code",
   "source": [
    "print((backend.to_numpy(ridge_coef) - np.array(linear_coef)).mean())\n",
    "print((backend.to_numpy(ridge_coef) - np.array(linear_coef)).max())\n",
    "print((backend.to_numpy(ridge_coef) - np.array(linear_coef)).min())\n",
    "# sns.displot(backend.to_numpy(linear_coef) - backend.to_numpy(ridge_coef))"
   ],
   "id": "6f3e975756f54d91",
   "outputs": [
    {
     "name": "stdout",
     "output_type": "stream",
     "text": [
      "-2.5841695e-09\n",
      "0.00011653209\n",
      "-0.00010243151\n"
     ]
    }
   ],
   "execution_count": 21
  },
  {
   "metadata": {},
   "cell_type": "markdown",
   "source": [
    "\n",
    "compute on full feature sets for comparison"
   ],
   "id": "d69097e853a17750"
  },
  {
   "metadata": {
    "ExecuteTime": {
     "end_time": "2025-02-10T10:42:26.565525Z",
     "start_time": "2025-02-10T10:42:09.680085Z"
    }
   },
   "cell_type": "code",
   "source": [
    "full_scores = []\n",
    "for i in range(len(Xs)):\n",
    "    full_model = RidgeCV(alphas=alphas, cv=cv,\n",
    "                         solver_params=dict(warn=False, score_func=score_func, n_targets_batch=1000))\n",
    "    full_model.fit(Xs[i][:n_samples_train], Y[:n_samples_train])\n",
    "    full_score = full_model.score(Xs[i][n_samples_train:], Y[n_samples_train:])\n",
    "    print(full_score.mean())\n",
    "    full_scores.append(full_score)\n",
    "    sns.histplot(backend.to_numpy(full_score))"
   ],
   "id": "cb68faa68c91835d",
   "outputs": [
    {
     "name": "stdout",
     "output_type": "stream",
     "text": [
      "0.5837315\n",
      "0.58321595\n"
     ]
    },
    {
     "data": {
      "text/plain": [
       "<Figure size 640x480 with 1 Axes>"
      ],
      "image/png": "[encoded data removed]"
     },
     "metadata": {},
     "output_type": "display_data"
    }
   ],
   "execution_count": 9
  },
  {
   "metadata": {},
   "cell_type": "markdown",
   "source": "# Feature to feature regression",
   "id": "974e862381aa1afd"
  },
  {
   "metadata": {
    "ExecuteTime": {
     "end_time": "2025-02-10T10:42:26.612551Z",
     "start_time": "2025-02-10T10:42:26.610108Z"
    }
   },
   "cell_type": "code",
   "source": [
    "if use_ols:\n",
    "    feature_model = Ridge(alpha=1, solver_params=dict(warn=False, n_targets_batch=1000))\n",
    "else:\n",
    "    feature_model = RidgeCV(alphas=alphas, cv=cv, solver_params=(\n",
    "        dict(warn=False, score_func=score_func, n_targets_batch=1000)))"
   ],
   "id": "9a2422b298cfbdf1",
   "outputs": [],
   "execution_count": 10
  },
  {
   "metadata": {
    "ExecuteTime": {
     "end_time": "2025-02-10T10:42:28.783301Z",
     "start_time": "2025-02-10T10:42:26.659506Z"
    }
   },
   "cell_type": "code",
   "source": "feature_model.fit(Xs[i_from][:n_samples_train], Xs[i_to][:n_samples_train])",
   "id": "fdb9ab4784c88633",
   "outputs": [
    {
     "data": {
      "text/plain": [
       "RidgeCV(alphas=array([1.00000000e-04, 7.74263683e-04, 5.99484250e-03, 4.64158883e-02,\n",
       "       3.59381366e-01, 2.78255940e+00, 2.15443469e+01, 1.66810054e+02,\n",
       "       1.29154967e+03, 1.00000000e+04]),\n",
       "        cv=10,\n",
       "        solver_params={'n_targets_batch': 1000,\n",
       "                       'score_func': <function r2_score at 0x7a85a33c8b80>,\n",
       "                       'warn': False})"
      ],
      "text/html": [
       "<style>#sk-container-id-1 {\n",
       "  /* Definition of color scheme common for light and dark mode */\n",
       "  --sklearn-color-text: #000;\n",
       "  --sklearn-color-text-muted: #666;\n",
       "  --sklearn-color-line: gray;\n",
       "  /* Definition of color scheme for unfitted estimators */\n",
       "  --sklearn-color-unfitted-level-0: #fff5e6;\n",
       "  --sklearn-color-unfitted-level-1: #f6e4d2;\n",
       "  --sklearn-color-unfitted-level-2: #ffe0b3;\n",
       "  --sklearn-color-unfitted-level-3: chocolate;\n",
       "  /* Definition of color scheme for fitted estimators */\n",
       "  --sklearn-color-fitted-level-0: #f0f8ff;\n",
       "  --sklearn-color-fitted-level-1: #d4ebff;\n",
       "  --sklearn-color-fitted-level-2: #b3dbfd;\n",
       "  --sklearn-color-fitted-level-3: cornflowerblue;\n",
       "\n",
       "  /* Specific color for light theme */\n",
       "  --sklearn-color-text-on-default-background: var(--sg-text-color, var(--theme-code-foreground, var(--jp-content-font-color1, black)));\n",
       "  --sklearn-color-background: var(--sg-background-color, var(--theme-background, var(--jp-layout-color0, white)));\n",
       "  --sklearn-color-border-box: var(--sg-text-color, var(--theme-code-foreground, var(--jp-content-font-color1, black)));\n",
       "  --sklearn-color-icon: #696969;\n",
       "\n",
       "  @media (prefers-color-scheme: dark) {\n",
       "    /* Redefinition of color scheme for dark theme */\n",
       "    --sklearn-color-text-on-default-background: var(--sg-text-color, var(--theme-code-foreground, var(--jp-content-font-color1, white)));\n",
       "    --sklearn-color-background: var(--sg-background-color, var(--theme-background, var(--jp-layout-color0, #111)));\n",
       "    --sklearn-color-border-box: var(--sg-text-color, var(--theme-code-foreground, var(--jp-content-font-color1, white)));\n",
       "    --sklearn-color-icon: #878787;\n",
       "  }\n",
       "}\n",
       "\n",
       "#sk-container-id-1 {\n",
       "  color: var(--sklearn-color-text);\n",
       "}\n",
       "\n",
       "#sk-container-id-1 pre {\n",
       "  padding: 0;\n",
       "}\n",
       "\n",
       "#sk-container-id-1 input.sk-hidden--visually {\n",
       "  border: 0;\n",
       "  clip: rect(1px 1px 1px 1px);\n",
       "  clip: rect(1px, 1px, 1px, 1px);\n",
       "  height: 1px;\n",
       "  margin: -1px;\n",
       "  overflow: hidden;\n",
       "  padding: 0;\n",
       "  position: absolute;\n",
       "  width: 1px;\n",
       "}\n",
       "\n",
       "#sk-container-id-1 div.sk-dashed-wrapped {\n",
       "  border: 1px dashed var(--sklearn-color-line);\n",
       "  margin: 0 0.4em 0.5em 0.4em;\n",
       "  box-sizing: border-box;\n",
       "  padding-bottom: 0.4em;\n",
       "  background-color: var(--sklearn-color-background);\n",
       "}\n",
       "\n",
       "#sk-container-id-1 div.sk-container {\n",
       "  /* jupyter's `normalize.less` sets `[hidden] { display: none; }`\n",
       "     but bootstrap.min.css set `[hidden] { display: none !important; }`\n",
       "     so we also need the `!important` here to be able to override the\n",
       "     default hidden behavior on the sphinx rendered scikit-learn.org.\n",
       "     See: https://github.com/scikit-learn/scikit-learn/issues/21755 */\n",
       "  display: inline-block !important;\n",
       "  position: relative;\n",
       "}\n",
       "\n",
       "#sk-container-id-1 div.sk-text-repr-fallback {\n",
       "  display: none;\n",
       "}\n",
       "\n",
       "div.sk-parallel-item,\n",
       "div.sk-serial,\n",
       "div.sk-item {\n",
       "  /* draw centered vertical line to link estimators */\n",
       "  background-image: linear-gradient(var(--sklearn-color-text-on-default-background), var(--sklearn-color-text-on-default-background));\n",
       "  background-size: 2px 100%;\n",
       "  background-repeat: no-repeat;\n",
       "  background-position: center center;\n",
       "}\n",
       "\n",
       "/* Parallel-specific style estimator block */\n",
       "\n",
       "#sk-container-id-1 div.sk-parallel-item::after {\n",
       "  content: \"\";\n",
       "  width: 100%;\n",
       "  border-bottom: 2px solid var(--sklearn-color-text-on-default-background);\n",
       "  flex-grow: 1;\n",
       "}\n",
       "\n",
       "#sk-container-id-1 div.sk-parallel {\n",
       "  display: flex;\n",
       "  align-items: stretch;\n",
       "  justify-content: center;\n",
       "  background-color: var(--sklearn-color-background);\n",
       "  position: relative;\n",
       "}\n",
       "\n",
       "#sk-container-id-1 div.sk-parallel-item {\n",
       "  display: flex;\n",
       "  flex-direction: column;\n",
       "}\n",
       "\n",
       "#sk-container-id-1 div.sk-parallel-item:first-child::after {\n",
       "  align-self: flex-end;\n",
       "  width: 50%;\n",
       "}\n",
       "\n",
       "#sk-container-id-1 div.sk-parallel-item:last-child::after {\n",
       "  align-self: flex-start;\n",
       "  width: 50%;\n",
       "}\n",
       "\n",
       "#sk-container-id-1 div.sk-parallel-item:only-child::after {\n",
       "  width: 0;\n",
       "}\n",
       "\n",
       "/* Serial-specific style estimator block */\n",
       "\n",
       "#sk-container-id-1 div.sk-serial {\n",
       "  display: flex;\n",
       "  flex-direction: column;\n",
       "  align-items: center;\n",
       "  background-color: var(--sklearn-color-background);\n",
       "  padding-right: 1em;\n",
       "  padding-left: 1em;\n",
       "}\n",
       "\n",
       "\n",
       "/* Toggleable style: style used for estimator/Pipeline/ColumnTransformer box that is\n",
       "clickable and can be expanded/collapsed.\n",
       "- Pipeline and ColumnTransformer use this feature and define the default style\n",
       "- Estimators will overwrite some part of the style using the `sk-estimator` class\n",
       "*/\n",
       "\n",
       "/* Pipeline and ColumnTransformer style (default) */\n",
       "\n",
       "#sk-container-id-1 div.sk-toggleable {\n",
       "  /* Default theme specific background. It is overwritten whether we have a\n",
       "  specific estimator or a Pipeline/ColumnTransformer */\n",
       "  background-color: var(--sklearn-color-background);\n",
       "}\n",
       "\n",
       "/* Toggleable label */\n",
       "#sk-container-id-1 label.sk-toggleable__label {\n",
       "  cursor: pointer;\n",
       "  display: flex;\n",
       "  width: 100%;\n",
       "  margin-bottom: 0;\n",
       "  padding: 0.5em;\n",
       "  box-sizing: border-box;\n",
       "  text-align: center;\n",
       "  align-items: start;\n",
       "  justify-content: space-between;\n",
       "  gap: 0.5em;\n",
       "}\n",
       "\n",
       "#sk-container-id-1 label.sk-toggleable__label .caption {\n",
       "  font-size: 0.6rem;\n",
       "  font-weight: lighter;\n",
       "  color: var(--sklearn-color-text-muted);\n",
       "}\n",
       "\n",
       "#sk-container-id-1 label.sk-toggleable__label-arrow:before {\n",
       "  /* Arrow on the left of the label */\n",
       "  content: \"▸\";\n",
       "  float: left;\n",
       "  margin-right: 0.25em;\n",
       "  color: var(--sklearn-color-icon);\n",
       "}\n",
       "\n",
       "#sk-container-id-1 label.sk-toggleable__label-arrow:hover:before {\n",
       "  color: var(--sklearn-color-text);\n",
       "}\n",
       "\n",
       "/* Toggleable content - dropdown */\n",
       "\n",
       "#sk-container-id-1 div.sk-toggleable__content {\n",
       "  max-height: 0;\n",
       "  max-width: 0;\n",
       "  overflow: hidden;\n",
       "  text-align: left;\n",
       "  /* unfitted */\n",
       "  background-color: var(--sklearn-color-unfitted-level-0);\n",
       "}\n",
       "\n",
       "#sk-container-id-1 div.sk-toggleable__content.fitted {\n",
       "  /* fitted */\n",
       "  background-color: var(--sklearn-color-fitted-level-0);\n",
       "}\n",
       "\n",
       "#sk-container-id-1 div.sk-toggleable__content pre {\n",
       "  margin: 0.2em;\n",
       "  border-radius: 0.25em;\n",
       "  color: var(--sklearn-color-text);\n",
       "  /* unfitted */\n",
       "  background-color: var(--sklearn-color-unfitted-level-0);\n",
       "}\n",
       "\n",
       "#sk-container-id-1 div.sk-toggleable__content.fitted pre {\n",
       "  /* unfitted */\n",
       "  background-color: var(--sklearn-color-fitted-level-0);\n",
       "}\n",
       "\n",
       "#sk-container-id-1 input.sk-toggleable__control:checked~div.sk-toggleable__content {\n",
       "  /* Expand drop-down */\n",
       "  max-height: 200px;\n",
       "  max-width: 100%;\n",
       "  overflow: auto;\n",
       "}\n",
       "\n",
       "#sk-container-id-1 input.sk-toggleable__control:checked~label.sk-toggleable__label-arrow:before {\n",
       "  content: \"▾\";\n",
       "}\n",
       "\n",
       "/* Pipeline/ColumnTransformer-specific style */\n",
       "\n",
       "#sk-container-id-1 div.sk-label input.sk-toggleable__control:checked~label.sk-toggleable__label {\n",
       "  color: var(--sklearn-color-text);\n",
       "  background-color: var(--sklearn-color-unfitted-level-2);\n",
       "}\n",
       "\n",
       "#sk-container-id-1 div.sk-label.fitted input.sk-toggleable__control:checked~label.sk-toggleable__label {\n",
       "  background-color: var(--sklearn-color-fitted-level-2);\n",
       "}\n",
       "\n",
       "/* Estimator-specific style */\n",
       "\n",
       "/* Colorize estimator box */\n",
       "#sk-container-id-1 div.sk-estimator input.sk-toggleable__control:checked~label.sk-toggleable__label {\n",
       "  /* unfitted */\n",
       "  background-color: var(--sklearn-color-unfitted-level-2);\n",
       "}\n",
       "\n",
       "#sk-container-id-1 div.sk-estimator.fitted input.sk-toggleable__control:checked~label.sk-toggleable__label {\n",
       "  /* fitted */\n",
       "  background-color: var(--sklearn-color-fitted-level-2);\n",
       "}\n",
       "\n",
       "#sk-container-id-1 div.sk-label label.sk-toggleable__label,\n",
       "#sk-container-id-1 div.sk-label label {\n",
       "  /* The background is the default theme color */\n",
       "  color: var(--sklearn-color-text-on-default-background);\n",
       "}\n",
       "\n",
       "/* On hover, darken the color of the background */\n",
       "#sk-container-id-1 div.sk-label:hover label.sk-toggleable__label {\n",
       "  color: var(--sklearn-color-text);\n",
       "  background-color: var(--sklearn-color-unfitted-level-2);\n",
       "}\n",
       "\n",
       "/* Label box, darken color on hover, fitted */\n",
       "#sk-container-id-1 div.sk-label.fitted:hover label.sk-toggleable__label.fitted {\n",
       "  color: var(--sklearn-color-text);\n",
       "  background-color: var(--sklearn-color-fitted-level-2);\n",
       "}\n",
       "\n",
       "/* Estimator label */\n",
       "\n",
       "#sk-container-id-1 div.sk-label label {\n",
       "  font-family: monospace;\n",
       "  font-weight: bold;\n",
       "  display: inline-block;\n",
       "  line-height: 1.2em;\n",
       "}\n",
       "\n",
       "#sk-container-id-1 div.sk-label-container {\n",
       "  text-align: center;\n",
       "}\n",
       "\n",
       "/* Estimator-specific */\n",
       "#sk-container-id-1 div.sk-estimator {\n",
       "  font-family: monospace;\n",
       "  border: 1px dotted var(--sklearn-color-border-box);\n",
       "  border-radius: 0.25em;\n",
       "  box-sizing: border-box;\n",
       "  margin-bottom: 0.5em;\n",
       "  /* unfitted */\n",
       "  background-color: var(--sklearn-color-unfitted-level-0);\n",
       "}\n",
       "\n",
       "#sk-container-id-1 div.sk-estimator.fitted {\n",
       "  /* fitted */\n",
       "  background-color: var(--sklearn-color-fitted-level-0);\n",
       "}\n",
       "\n",
       "/* on hover */\n",
       "#sk-container-id-1 div.sk-estimator:hover {\n",
       "  /* unfitted */\n",
       "  background-color: var(--sklearn-color-unfitted-level-2);\n",
       "}\n",
       "\n",
       "#sk-container-id-1 div.sk-estimator.fitted:hover {\n",
       "  /* fitted */\n",
       "  background-color: var(--sklearn-color-fitted-level-2);\n",
       "}\n",
       "\n",
       "/* Specification for estimator info (e.g. \"i\" and \"?\") */\n",
       "\n",
       "/* Common style for \"i\" and \"?\" */\n",
       "\n",
       ".sk-estimator-doc-link,\n",
       "a:link.sk-estimator-doc-link,\n",
       "a:visited.sk-estimator-doc-link {\n",
       "  float: right;\n",
       "  font-size: smaller;\n",
       "  line-height: 1em;\n",
       "  font-family: monospace;\n",
       "  background-color: var(--sklearn-color-background);\n",
       "  border-radius: 1em;\n",
       "  height: 1em;\n",
       "  width: 1em;\n",
       "  text-decoration: none !important;\n",
       "  margin-left: 0.5em;\n",
       "  text-align: center;\n",
       "  /* unfitted */\n",
       "  border: var(--sklearn-color-unfitted-level-1) 1pt solid;\n",
       "  color: var(--sklearn-color-unfitted-level-1);\n",
       "}\n",
       "\n",
       ".sk-estimator-doc-link.fitted,\n",
       "a:link.sk-estimator-doc-link.fitted,\n",
       "a:visited.sk-estimator-doc-link.fitted {\n",
       "  /* fitted */\n",
       "  border: var(--sklearn-color-fitted-level-1) 1pt solid;\n",
       "  color: var(--sklearn-color-fitted-level-1);\n",
       "}\n",
       "\n",
       "/* On hover */\n",
       "div.sk-estimator:hover .sk-estimator-doc-link:hover,\n",
       ".sk-estimator-doc-link:hover,\n",
       "div.sk-label-container:hover .sk-estimator-doc-link:hover,\n",
       ".sk-estimator-doc-link:hover {\n",
       "  /* unfitted */\n",
       "  background-color: var(--sklearn-color-unfitted-level-3);\n",
       "  color: var(--sklearn-color-background);\n",
       "  text-decoration: none;\n",
       "}\n",
       "\n",
       "div.sk-estimator.fitted:hover .sk-estimator-doc-link.fitted:hover,\n",
       ".sk-estimator-doc-link.fitted:hover,\n",
       "div.sk-label-container:hover .sk-estimator-doc-link.fitted:hover,\n",
       ".sk-estimator-doc-link.fitted:hover {\n",
       "  /* fitted */\n",
       "  background-color: var(--sklearn-color-fitted-level-3);\n",
       "  color: var(--sklearn-color-background);\n",
       "  text-decoration: none;\n",
       "}\n",
       "\n",
       "/* Span, style for the box shown on hovering the info icon */\n",
       ".sk-estimator-doc-link span {\n",
       "  display: none;\n",
       "  z-index: 9999;\n",
       "  position: relative;\n",
       "  font-weight: normal;\n",
       "  right: .2ex;\n",
       "  padding: .5ex;\n",
       "  margin: .5ex;\n",
       "  width: min-content;\n",
       "  min-width: 20ex;\n",
       "  max-width: 50ex;\n",
       "  color: var(--sklearn-color-text);\n",
       "  box-shadow: 2pt 2pt 4pt #999;\n",
       "  /* unfitted */\n",
       "  background: var(--sklearn-color-unfitted-level-0);\n",
       "  border: .5pt solid var(--sklearn-color-unfitted-level-3);\n",
       "}\n",
       "\n",
       ".sk-estimator-doc-link.fitted span {\n",
       "  /* fitted */\n",
       "  background: var(--sklearn-color-fitted-level-0);\n",
       "  border: var(--sklearn-color-fitted-level-3);\n",
       "}\n",
       "\n",
       ".sk-estimator-doc-link:hover span {\n",
       "  display: block;\n",
       "}\n",
       "\n",
       "/* \"?\"-specific style due to the `<a>` HTML tag */\n",
       "\n",
       "#sk-container-id-1 a.estimator_doc_link {\n",
       "  float: right;\n",
       "  font-size: 1rem;\n",
       "  line-height: 1em;\n",
       "  font-family: monospace;\n",
       "  background-color: var(--sklearn-color-background);\n",
       "  border-radius: 1rem;\n",
       "  height: 1rem;\n",
       "  width: 1rem;\n",
       "  text-decoration: none;\n",
       "  /* unfitted */\n",
       "  color: var(--sklearn-color-unfitted-level-1);\n",
       "  border: var(--sklearn-color-unfitted-level-1) 1pt solid;\n",
       "}\n",
       "\n",
       "#sk-container-id-1 a.estimator_doc_link.fitted {\n",
       "  /* fitted */\n",
       "  border: var(--sklearn-color-fitted-level-1) 1pt solid;\n",
       "  color: var(--sklearn-color-fitted-level-1);\n",
       "}\n",
       "\n",
       "/* On hover */\n",
       "#sk-container-id-1 a.estimator_doc_link:hover {\n",
       "  /* unfitted */\n",
       "  background-color: var(--sklearn-color-unfitted-level-3);\n",
       "  color: var(--sklearn-color-background);\n",
       "  text-decoration: none;\n",
       "}\n",
       "\n",
       "#sk-container-id-1 a.estimator_doc_link.fitted:hover {\n",
       "  /* fitted */\n",
       "  background-color: var(--sklearn-color-fitted-level-3);\n",
       "}\n",
       "</style><div id=\"sk-container-id-1\" class=\"sk-top-container\"><div class=\"sk-text-repr-fallback\"><pre>RidgeCV(alphas=array([1.00000000e-04, 7.74263683e-04, 5.99484250e-03, 4.64158883e-02,\n",
       "       3.59381366e-01, 2.78255940e+00, 2.15443469e+01, 1.66810054e+02,\n",
       "       1.29154967e+03, 1.00000000e+04]),\n",
       "        cv=10,\n",
       "        solver_params={&#x27;n_targets_batch&#x27;: 1000,\n",
       "                       &#x27;score_func&#x27;: &lt;function r2_score at 0x7a85a33c8b80&gt;,\n",
       "                       &#x27;warn&#x27;: False})</pre><b>In a Jupyter environment, please rerun this cell to show the HTML representation or trust the notebook. <br />On GitHub, the HTML representation is unable to render, please try loading this page with nbviewer.org.</b></div><div class=\"sk-container\" hidden><div class=\"sk-item\"><div class=\"sk-estimator fitted sk-toggleable\"><input class=\"sk-toggleable__control sk-hidden--visually\" id=\"sk-estimator-id-1\" type=\"checkbox\" checked><label for=\"sk-estimator-id-1\" class=\"sk-toggleable__label fitted sk-toggleable__label-arrow\"><div><div>RidgeCV</div></div><div><span class=\"sk-estimator-doc-link fitted\">i<span>Fitted</span></span></div></label><div class=\"sk-toggleable__content fitted\"><pre>RidgeCV(alphas=array([1.00000000e-04, 7.74263683e-04, 5.99484250e-03, 4.64158883e-02,\n",
       "       3.59381366e-01, 2.78255940e+00, 2.15443469e+01, 1.66810054e+02,\n",
       "       1.29154967e+03, 1.00000000e+04]),\n",
       "        cv=10,\n",
       "        solver_params={&#x27;n_targets_batch&#x27;: 1000,\n",
       "                       &#x27;score_func&#x27;: &lt;function r2_score at 0x7a85a33c8b80&gt;,\n",
       "                       &#x27;warn&#x27;: False})</pre></div> </div></div></div></div>"
      ]
     },
     "execution_count": 11,
     "metadata": {},
     "output_type": "execute_result"
    }
   ],
   "execution_count": 11
  },
  {
   "metadata": {
    "ExecuteTime": {
     "end_time": "2025-02-10T10:50:24.844894Z",
     "start_time": "2025-02-10T10:50:24.808120Z"
    }
   },
   "cell_type": "code",
   "source": [
    "X_predict_train = feature_model.predict(Xs[i_from][:n_samples_train])\n",
    "X_predict_test = feature_model.predict(Xs[i_from][n_samples_train:])"
   ],
   "id": "addf35b0ec3249eb",
   "outputs": [],
   "execution_count": 22
  },
  {
   "metadata": {
    "ExecuteTime": {
     "end_time": "2025-02-10T10:50:25.845967Z",
     "start_time": "2025-02-10T10:50:25.841038Z"
    }
   },
   "cell_type": "code",
   "source": [
    "X_predict_train = backend.asarray(X_predict_train)\n",
    "X_predict_test = backend.asarray(X_predict_test)"
   ],
   "id": "3ab5078594766ddc",
   "outputs": [],
   "execution_count": 23
  },
  {
   "metadata": {
    "ExecuteTime": {
     "end_time": "2025-02-10T10:50:26.536143Z",
     "start_time": "2025-02-10T10:50:26.412459Z"
    }
   },
   "cell_type": "code",
   "source": [
    "feature_score = feature_model.score(Xs[i_from][n_samples_train:], Xs[i_to][n_samples_train:])\n",
    "sns.histplot(backend.to_numpy(feature_score))"
   ],
   "id": "a37f4e94bb800bac",
   "outputs": [
    {
     "data": {
      "text/plain": [
       "<Axes: ylabel='Count'>"
      ]
     },
     "execution_count": 24,
     "metadata": {},
     "output_type": "execute_result"
    },
    {
     "data": {
      "text/plain": [
       "<Figure size 640x480 with 1 Axes>"
      ],
      "image/png": "[encoded data removed]"
     },
     "metadata": {},
     "output_type": "display_data"
    }
   ],
   "execution_count": 24
  },
  {
   "metadata": {},
   "cell_type": "markdown",
   "source": "Compute residuals",
   "id": "67c85728e5317402"
  },
  {
   "metadata": {
    "ExecuteTime": {
     "end_time": "2025-02-10T10:50:28.894690Z",
     "start_time": "2025-02-10T10:50:28.892152Z"
    }
   },
   "cell_type": "code",
   "source": [
    "X_residual_train = Xs[i_to][:n_samples_train] - X_predict_train\n",
    "X_residual_test = Xs[i_to][n_samples_train:] - X_predict_test"
   ],
   "id": "9ca67502a72c81ac",
   "outputs": [],
   "execution_count": 25
  },
  {
   "metadata": {},
   "cell_type": "markdown",
   "source": "# Train residual model",
   "id": "bbc7ec9bd2e25ece"
  },
  {
   "metadata": {
    "ExecuteTime": {
     "end_time": "2025-02-10T10:50:37.800507Z",
     "start_time": "2025-02-10T10:50:29.844851Z"
    }
   },
   "cell_type": "code",
   "source": [
    "residual_model = RidgeCV(alphas=alphas, cv=cv,\n",
    "                         solver_params=dict(warn=False, score_func=score_func, n_targets_batch=1000))\n",
    "residual_model.fit(X_residual_train, Y[:n_samples_train])\n",
    "residual_score = residual_model.score(X_residual_test, Y[n_samples_train:])\n",
    "print(residual_score.mean())\n",
    "sns.histplot(backend.to_numpy(residual_score))"
   ],
   "id": "c7ebe0020b8a6fc9",
   "outputs": [
    {
     "name": "stdout",
     "output_type": "stream",
     "text": [
      "0.30542374\n"
     ]
    },
    {
     "data": {
      "text/plain": [
       "<Axes: ylabel='Count'>"
      ]
     },
     "execution_count": 26,
     "metadata": {},
     "output_type": "execute_result"
    },
    {
     "data": {
      "text/plain": [
       "<Figure size 640x480 with 1 Axes>"
      ],
      "image/png": "[encoded data removed]"
     },
     "metadata": {},
     "output_type": "display_data"
    }
   ],
   "execution_count": 26
  },
  {
   "metadata": {
    "ExecuteTime": {
     "end_time": "2025-02-10T10:50:44.147792Z",
     "start_time": "2025-02-10T10:50:44.144840Z"
    }
   },
   "cell_type": "code",
   "source": [
    "full_scores = list(map(backend.to_numpy, full_scores))\n",
    "feature_score = backend.to_numpy(feature_score)\n",
    "residual_score = backend.to_numpy(residual_score)"
   ],
   "id": "3982d0e7d3fb0e9",
   "outputs": [],
   "execution_count": 27
  },
  {
   "metadata": {
    "ExecuteTime": {
     "end_time": "2025-02-10T10:52:58.709760Z",
     "start_time": "2025-02-10T10:52:58.102433Z"
    }
   },
   "cell_type": "code",
   "source": [
    "import pandas as pd\n",
    "\n",
    "fig, ax = plt.subplots(figsize=(3, 5))\n",
    "\n",
    "scores = pd.DataFrame(\n",
    "    # create columnar data\n",
    "    [full_scores[0], full_scores[1], feature_score, residual_score],\n",
    "    index=[r\"$X_1$\", \"$X_2$\", fr\"$f(X_{i_from + 1})\\approx X_{i_to + 1}$\", rf\"$X_{i_to} \\setminus X_{i_from}$\"]\n",
    ")\n",
    "p = sns.barplot(\n",
    "    data=scores.T,\n",
    "    palette=[\"C0\", \"C0\", \"C0\", \"C1\"],  # Define colors: one for joint/X₁/X₂, one for unique/shared\n",
    "    ax=ax\n",
    ")\n",
    "sns.despine(fig)\n",
    "\n",
    "# Add lines indicating the maximum possible height for each bar\n",
    "theoretical_scores = [scalars[0] + scalars[1], scalars[0] + scalars[2], d_list[0] / (d_list[0] + d_list[i_to]), scalars[i_to + 1]]\n",
    "\n",
    "for idx, score in enumerate(theoretical_scores):  # iterate over rows in the DataFrame\n",
    "    xmin = idx / len(theoretical_scores)  # Calculate xmin for each bar\n",
    "    xmax = (idx + 1) / len(theoretical_scores)  # Calculate xmax for each bar\n",
    "    plt.axhline(score, linestyle='--', alpha=0.7, xmin=xmin, xmax=xmax,\n",
    "                label=fr'Theoretically Explained Variance' if idx == 0 else \"\")\n",
    "\n",
    "# add values to center of bar charts\n",
    "for idx, column in enumerate(scores.index):\n",
    "    plt.text(idx, scores.loc[column].mean() / 2,\n",
    "             f\"{scores.loc[column].mean():.2f}\", ha='center', va='bottom')\n",
    "\n",
    "# Ensure the legend is displayed properly\n",
    "plt.legend(bbox_to_anchor=(1.05, 1), loc='upper left')\n",
    "plt.ylabel(r\"Variance Explained $(R^2)$\")\n",
    "plt.xlabel(\"Ridge Regression Features / Residual Method Predicted\")\n",
    "plt.title(\"Residual Method\")"
   ],
   "id": "51c5d00b18b0773e",
   "outputs": [
    {
     "data": {
      "text/plain": [
       "Text(0.0, 1.0, 'Residual Method')"
      ]
     },
     "execution_count": 35,
     "metadata": {},
     "output_type": "execute_result"
    },
    {
     "data": {
      "text/plain": [
       "<Figure size 300x500 with 1 Axes>"
      ],
      "image/png": "[encoded data removed]"
     },
     "metadata": {},
     "output_type": "display_data"
    }
   ],
   "execution_count": 35
  },
  {
   "metadata": {},
   "cell_type": "code",
   "outputs": [],
   "execution_count": null,
   "source": "",
   "id": "526be9939af6709e"
  }
 ],
 "metadata": {
  "kernelspec": {
   "display_name": "Python 3",
   "language": "python",
   "name": "python3"
  },
  "language_info": {
   "codemirror_mode": {
    "name": "ipython",
    "version": 2
   },
   "file_extension": ".py",
   "mimetype": "text/x-python",
   "name": "python",
   "nbconvert_exporter": "python",
   "pygments_lexer": "ipython2",
   "version": "2.7.6"
  }
 },
 "nbformat": 4,
 "nbformat_minor": 5
}
