{
 "cells": [
  {
   "cell_type": "code",
   "id": "initial_id",
   "metadata": {
    "collapsed": true
   },
   "source": [
    "import numpy as np\n",
    "from himalaya.backend import set_backend\n",
    "from scipy.stats import zscore\n",
    "import seaborn as sns\n",
    "import matplotlib.pyplot as plt"
   ],
   "outputs": [],
   "execution_count": null
  },
  {
   "metadata": {},
   "cell_type": "code",
   "source": [
    "np.random.seed(42)\n",
    "set_backend(\"cupy\")\n",
    "plt.style.use(\"nord\")\n",
    "sns.set_theme()\n",
    "sns.color_palette()"
   ],
   "id": "330ef60ce14c81f7",
   "outputs": [],
   "execution_count": null
  },
  {
   "metadata": {},
   "cell_type": "code",
   "source": [
    "n_samples_train = 1000\n",
    "n_samples_test = 100\n",
    "n_targets = 10000\n",
    "d_list = [100, 100, 100]\n",
    "scalars = [1/3, 1/3, 1/3]\n",
    "noise_scalar = 0.1"
   ],
   "id": "b90449eb7290aedd",
   "outputs": [],
   "execution_count": null
  },
  {
   "metadata": {},
   "cell_type": "code",
   "source": [
    "feature_spaces = []\n",
    "# Generate a random matrix of shape (samples, total rank)\n",
    "M = np.random.randn(n_samples_train + n_samples_test, sum(d_list))\n",
    "M = zscore(M)\n",
    "M"
   ],
   "id": "ac62109d96ea1da8",
   "outputs": [],
   "execution_count": null
  },
  {
   "metadata": {},
   "cell_type": "code",
   "source": "sns.histplot(M[0])",
   "id": "37ca76ac688bf724",
   "outputs": [],
   "execution_count": null
  },
  {
   "metadata": {},
   "cell_type": "code",
   "source": [
    "U, S, Vt = np.linalg.svd(M, full_matrices=True)\n",
    "print(U.shape, S.shape, Vt.shape)\n",
    "S"
   ],
   "id": "f758a886593e8d37",
   "outputs": [],
   "execution_count": null
  },
  {
   "metadata": {},
   "cell_type": "code",
   "source": "sns.histplot(S)",
   "id": "86a61909efde608d",
   "outputs": [],
   "execution_count": null
  },
  {
   "metadata": {},
   "cell_type": "code",
   "source": [
    "start = 0\n",
    "for rank in d_list:\n",
    "    _S = np.zeros(len(S))\n",
    "    _S[start:start + rank] = S[start:start + rank]\n",
    "\n",
    "    # create rectangular diagonal sigma matrix\n",
    "    diag_S = np.diag(_S)\n",
    "    diag_S = np.pad(diag_S, ((0, U.shape[0] - diag_S.shape[0]), (0, Vt.shape[0] - diag_S.shape[1])))\n",
    "\n",
    "    space = U @ diag_S @ Vt\n",
    "    feature_spaces.append(space)\n",
    "    start += rank\n",
    "feature_spaces"
   ],
   "id": "ab15b29d0ac0fd56",
   "outputs": [],
   "execution_count": null
  },
  {
   "metadata": {},
   "cell_type": "code",
   "source": [
    "feature_spaces_train = [feature_space[:n_samples_train] for feature_space in feature_spaces]\n",
    "feature_spaces_test = [feature_space[n_samples_train:] for feature_space in feature_spaces]"
   ],
   "id": "5c5736f8417f4ff5",
   "outputs": [],
   "execution_count": null
  },
  {
   "metadata": {},
   "cell_type": "markdown",
   "source": [
    "add the first feature with all other feature spaces\n",
    "[0 + 1, 0 + 2, 0 + 3, ...]"
   ],
   "id": "80848e4bde68fd11"
  },
  {
   "metadata": {},
   "cell_type": "code",
   "source": [
    "Xs_train = [1 / 2 * (feature_spaces_train[0] + feature_space) for feature_space in feature_spaces_train[1:]]\n",
    "Xs_test = [1 / 2 * (feature_spaces_test[0] + feature_space) for feature_space in feature_spaces_test[1:]]\n",
    "\n",
    "Xs_train = [zscore(x) for x in Xs_train]\n",
    "Xs_test = [zscore(x) for x in Xs_test]"
   ],
   "id": "26c633a6349cb2ff",
   "outputs": [],
   "execution_count": null
  },
  {
   "metadata": {},
   "cell_type": "markdown",
   "source": "generate weights",
   "id": "fe724afe6a28b60e"
  },
  {
   "metadata": {},
   "cell_type": "code",
   "source": [
    "betas = [np.random.randn(sum(d_list), n_targets) for _ in d_list]\n",
    "betas = [zscore(beta) for beta in betas]\n",
    "betas"
   ],
   "id": "15ce10db947999b0",
   "outputs": [],
   "execution_count": null
  },
  {
   "metadata": {},
   "cell_type": "markdown",
   "source": "generate targets",
   "id": "a679b19a2ad2157f"
  },
  {
   "metadata": {},
   "cell_type": "code",
   "source": [
    "Y_train = sum(\n",
    "    [alpha * zscore(feature_space @ beta) for alpha, feature_space, beta in\n",
    "     zip(scalars, feature_spaces_train, betas)])\n",
    "Y_test = sum(\n",
    "    [alpha * zscore(feature_space @ beta) for alpha, feature_space, beta in\n",
    "     zip(scalars, feature_spaces_test, betas)])\n",
    "Y_train = zscore(Y_train)\n",
    "Y_test = zscore(Y_test)"
   ],
   "id": "650c4050d1628ec2",
   "outputs": [],
   "execution_count": null
  },
  {
   "metadata": {},
   "cell_type": "markdown",
   "source": "add noise",
   "id": "b2283c6d398251b1"
  },
  {
   "metadata": {},
   "cell_type": "code",
   "source": [
    "noise_train = zscore(np.random.randn(n_samples_train, n_targets))\n",
    "noise_test = zscore(np.random.randn(n_samples_test, n_targets))\n",
    "Y_train += noise_train * noise_scalar\n",
    "Y_test += noise_test * noise_scalar\n",
    "noise_train * noise_scalar"
   ],
   "id": "85ca01bf1f2a1efb",
   "outputs": [],
   "execution_count": null
  },
  {
   "metadata": {},
   "cell_type": "code",
   "source": "",
   "id": "df3315c56d4ca5a1",
   "outputs": [],
   "execution_count": null
  }
 ],
 "metadata": {
  "kernelspec": {
   "display_name": "Python 3",
   "language": "python",
   "name": "python3"
  },
  "language_info": {
   "codemirror_mode": {
    "name": "ipython",
    "version": 2
   },
   "file_extension": ".py",
   "mimetype": "text/x-python",
   "name": "python",
   "nbconvert_exporter": "python",
   "pygments_lexer": "ipython2",
   "version": "2.7.6"
  }
 },
 "nbformat": 4,
 "nbformat_minor": 5
}
