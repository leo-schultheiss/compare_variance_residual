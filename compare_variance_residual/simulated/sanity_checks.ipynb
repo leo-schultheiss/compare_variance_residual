{
 "cells": [
  {
   "cell_type": "code",
   "id": "initial_id",
   "metadata": {
    "collapsed": true,
    "ExecuteTime": {
     "end_time": "2025-01-27T19:07:19.077454Z",
     "start_time": "2025-01-27T19:07:18.062603Z"
    }
   },
   "source": [
    "from simulation import generate_dataset\n",
    "from himalaya.backend import set_backend\n",
    "\n",
    "set_backend(\"cupy\", on_error=\"warn\")"
   ],
   "outputs": [
    {
     "name": "stderr",
     "output_type": "stream",
     "text": [
      "/home/leo/git/compare_variance_residual/venv/lib/python3.12/site-packages/himalaya/backend/_utils.py:55: UserWarning: Setting backend to cupy failed: Cupy not installed..Falling back to numpy backend.\n",
      "  warnings.warn(f\"Setting backend to {backend} failed: {str(error)}.\"\n"
     ]
    },
    {
     "data": {
      "text/plain": [
       "<module 'himalaya.backend.numpy' from '/home/leo/git/compare_variance_residual/venv/lib/python3.12/site-packages/himalaya/backend/numpy.py'>"
      ]
     },
     "execution_count": 1,
     "metadata": {},
     "output_type": "execute_result"
    }
   ],
   "execution_count": 1
  },
  {
   "metadata": {
    "ExecuteTime": {
     "end_time": "2025-01-27T19:07:19.263849Z",
     "start_time": "2025-01-27T19:07:19.260825Z"
    }
   },
   "cell_type": "code",
   "source": [
    "feature_space_dimensions = [\n",
    "    100,  # shared\n",
    "    100,  # unique 0\n",
    "    100,  # unique 1\n",
    "]\n",
    "scalars = [\n",
    "    0 / 3,\n",
    "    2 / 3,\n",
    "    1 / 3,\n",
    "]\n",
    "n_targets = 1000\n",
    "n_samples_train = 1000\n",
    "n_samples_test = 100\n",
    "noise = 0.0\n"
   ],
   "id": "932307cb1705d75d",
   "outputs": [],
   "execution_count": 2
  },
  {
   "metadata": {
    "ExecuteTime": {
     "end_time": "2025-01-27T19:07:19.523194Z",
     "start_time": "2025-01-27T19:07:19.305438Z"
    }
   },
   "cell_type": "code",
   "source": [
    "(Xs_train, Xs_test, Y_train, Y_test) = generate_dataset(feature_space_dimensions, scalars, n_targets, n_samples_train,\n",
    "                                                        n_samples_test, noise)"
   ],
   "id": "aa2870586733128f",
   "outputs": [],
   "execution_count": 3
  },
  {
   "metadata": {},
   "cell_type": "markdown",
   "source": "# Variance Partitioning",
   "id": "26dd6ebe135a88f2"
  },
  {
   "metadata": {
    "ExecuteTime": {
     "end_time": "2025-01-27T19:07:19.568973Z",
     "start_time": "2025-01-27T19:07:19.563205Z"
    }
   },
   "cell_type": "code",
   "source": "from variance_partitioning import variance_partitioning",
   "id": "a91dd1d8fdde375b",
   "outputs": [],
   "execution_count": 4
  },
  {
   "metadata": {
    "ExecuteTime": {
     "end_time": "2025-01-27T19:08:06.004316Z",
     "start_time": "2025-01-27T19:07:19.607146Z"
    }
   },
   "cell_type": "code",
   "source": "(score_0, score_1, joint_score, x0_unique, x1_unique, shared) = variance_partitioning(Xs_train, Xs_test, Y_train, Y_test)",
   "id": "b162c2b238084803",
   "outputs": [
    {
     "name": "stderr",
     "output_type": "stream",
     "text": [
      "/home/leo/git/compare_variance_residual/venv/lib/python3.12/site-packages/sklearn/utils/_tags.py:354: FutureWarning: The GroupRidgeCV or classes from which it inherits use `_get_tags` and `_more_tags`. Please define the `__sklearn_tags__` method, or inherit from `sklearn.base.BaseEstimator` and/or other appropriate mixins such as `sklearn.base.TransformerMixin`, `sklearn.base.ClassifierMixin`, `sklearn.base.RegressorMixin`, and `sklearn.base.OutlierMixin`. From scikit-learn 1.7, not defining `__sklearn_tags__` will raise an error.\n",
      "  warnings.warn(\n",
      "/home/leo/git/compare_variance_residual/venv/lib/python3.12/site-packages/sklearn/utils/_tags.py:354: FutureWarning: The RidgeCV or classes from which it inherits use `_get_tags` and `_more_tags`. Please define the `__sklearn_tags__` method, or inherit from `sklearn.base.BaseEstimator` and/or other appropriate mixins such as `sklearn.base.TransformerMixin`, `sklearn.base.ClassifierMixin`, `sklearn.base.RegressorMixin`, and `sklearn.base.OutlierMixin`. From scikit-learn 1.7, not defining `__sklearn_tags__` will raise an error.\n",
      "  warnings.warn(\n",
      "/home/leo/git/compare_variance_residual/venv/lib/python3.12/site-packages/sklearn/utils/_tags.py:354: FutureWarning: The RidgeCV or classes from which it inherits use `_get_tags` and `_more_tags`. Please define the `__sklearn_tags__` method, or inherit from `sklearn.base.BaseEstimator` and/or other appropriate mixins such as `sklearn.base.TransformerMixin`, `sklearn.base.ClassifierMixin`, `sklearn.base.RegressorMixin`, and `sklearn.base.OutlierMixin`. From scikit-learn 1.7, not defining `__sklearn_tags__` will raise an error.\n",
      "  warnings.warn(\n"
     ]
    }
   ],
   "execution_count": 5
  },
  {
   "metadata": {},
   "cell_type": "markdown",
   "source": "I assume that x0_unique and x1_unique and shared should be the same, since they all contribute equally to the target.",
   "id": "8da68d696b87781a"
  },
  {
   "metadata": {
    "ExecuteTime": {
     "end_time": "2025-01-27T19:08:06.693949Z",
     "start_time": "2025-01-27T19:08:06.160248Z"
    }
   },
   "cell_type": "code",
   "source": [
    "import matplotlib.pyplot as plt\n",
    "plt.bar(range(6), [score_0.mean(), score_1.mean(), joint_score.mean(), x0_unique.mean(), x1_unique.mean(), shared.mean()])\n",
    "plt.xticks(range(6), labels=[\"score_0\", \"score_1\", \"joint score\", \"x0_unique\", \"x1_unique\", \"shared\"])\n",
    "plt.show()"
   ],
   "id": "e7f21353699b22a7",
   "outputs": [
    {
     "data": {
      "text/plain": [
       "<Figure size 640x480 with 1 Axes>"
      ],
      "image/png": "[encoded data removed]"
     },
     "metadata": {},
     "output_type": "display_data"
    }
   ],
   "execution_count": 6
  },
  {
   "metadata": {},
   "cell_type": "markdown",
   "source": "# Residual Method",
   "id": "7cce74a62c46dce8"
  },
  {
   "metadata": {
    "ExecuteTime": {
     "end_time": "2025-01-27T19:08:06.703988Z",
     "start_time": "2025-01-27T19:08:06.699912Z"
    }
   },
   "cell_type": "code",
   "source": "from residual import residual_method",
   "id": "1a3857211e518a48",
   "outputs": [],
   "execution_count": 7
  },
  {
   "metadata": {
    "ExecuteTime": {
     "end_time": "2025-01-27T19:09:17.571176Z",
     "start_time": "2025-01-27T19:08:52.959941Z"
    }
   },
   "cell_type": "code",
   "source": "residual, feature, full = residual_method(Xs_train, Xs_test, Y_train, Y_test, use_ols=True, return_full_variance=True)",
   "id": "70522fcf4aaad1e3",
   "outputs": [
    {
     "name": "stderr",
     "output_type": "stream",
     "text": [
      "/home/leo/git/compare_variance_residual/venv/lib/python3.12/site-packages/sklearn/utils/_tags.py:354: FutureWarning: The RidgeCV or classes from which it inherits use `_get_tags` and `_more_tags`. Please define the `__sklearn_tags__` method, or inherit from `sklearn.base.BaseEstimator` and/or other appropriate mixins such as `sklearn.base.TransformerMixin`, `sklearn.base.ClassifierMixin`, `sklearn.base.RegressorMixin`, and `sklearn.base.OutlierMixin`. From scikit-learn 1.7, not defining `__sklearn_tags__` will raise an error.\n",
      "  warnings.warn(\n",
      "/home/leo/git/compare_variance_residual/venv/lib/python3.12/site-packages/sklearn/utils/_tags.py:354: FutureWarning: The RidgeCV or classes from which it inherits use `_get_tags` and `_more_tags`. Please define the `__sklearn_tags__` method, or inherit from `sklearn.base.BaseEstimator` and/or other appropriate mixins such as `sklearn.base.TransformerMixin`, `sklearn.base.ClassifierMixin`, `sklearn.base.RegressorMixin`, and `sklearn.base.OutlierMixin`. From scikit-learn 1.7, not defining `__sklearn_tags__` will raise an error.\n",
      "  warnings.warn(\n"
     ]
    }
   ],
   "execution_count": 9
  },
  {
   "metadata": {
    "ExecuteTime": {
     "end_time": "2025-01-27T19:09:51.816064Z",
     "start_time": "2025-01-27T19:09:38.803243Z"
    }
   },
   "cell_type": "code",
   "source": "residual_ridge, feature_ridge, _ = residual_method(Xs_train, Xs_test, Y_train, Y_test, use_ols=False)",
   "id": "bc192f58e4afccdc",
   "outputs": [
    {
     "name": "stderr",
     "output_type": "stream",
     "text": [
      "/home/leo/git/compare_variance_residual/venv/lib/python3.12/site-packages/sklearn/utils/_tags.py:354: FutureWarning: The RidgeCV or classes from which it inherits use `_get_tags` and `_more_tags`. Please define the `__sklearn_tags__` method, or inherit from `sklearn.base.BaseEstimator` and/or other appropriate mixins such as `sklearn.base.TransformerMixin`, `sklearn.base.ClassifierMixin`, `sklearn.base.RegressorMixin`, and `sklearn.base.OutlierMixin`. From scikit-learn 1.7, not defining `__sklearn_tags__` will raise an error.\n",
      "  warnings.warn(\n",
      "/home/leo/git/compare_variance_residual/venv/lib/python3.12/site-packages/sklearn/utils/_tags.py:354: FutureWarning: The RidgeCV or classes from which it inherits use `_get_tags` and `_more_tags`. Please define the `__sklearn_tags__` method, or inherit from `sklearn.base.BaseEstimator` and/or other appropriate mixins such as `sklearn.base.TransformerMixin`, `sklearn.base.ClassifierMixin`, `sklearn.base.RegressorMixin`, and `sklearn.base.OutlierMixin`. From scikit-learn 1.7, not defining `__sklearn_tags__` will raise an error.\n",
      "  warnings.warn(\n",
      "/home/leo/git/compare_variance_residual/venv/lib/python3.12/site-packages/sklearn/utils/_tags.py:354: FutureWarning: The RidgeCV or classes from which it inherits use `_get_tags` and `_more_tags`. Please define the `__sklearn_tags__` method, or inherit from `sklearn.base.BaseEstimator` and/or other appropriate mixins such as `sklearn.base.TransformerMixin`, `sklearn.base.ClassifierMixin`, `sklearn.base.RegressorMixin`, and `sklearn.base.OutlierMixin`. From scikit-learn 1.7, not defining `__sklearn_tags__` will raise an error.\n",
      "  warnings.warn(\n"
     ]
    },
    {
     "name": "stdout",
     "output_type": "stream",
     "text": [
      "Ridge best alphas:  [1.00000064e-10 1.00000064e-10 1.00000064e-10 1.00000064e-10\n",
      " 1.00000064e-10 1.00000064e-10 1.00000064e-10 1.00000064e-10\n",
      " 1.00000064e-10 1.00000064e-10 1.00000064e-10 1.00000064e-10\n",
      " 1.00000064e-10 1.00000064e-10 1.00000064e-10 1.00000064e-10\n",
      " 1.00000064e-10 1.00000064e-10 1.00000064e-10 1.00000064e-10\n",
      " 1.00000064e-10 1.00000064e-10 1.00000064e-10 1.00000064e-10\n",
      " 1.00000064e-10 1.00000064e-10 1.00000064e-10 1.00000064e-10\n",
      " 1.00000064e-10 1.00000064e-10 1.00000064e-10 1.00000064e-10\n",
      " 1.00000064e-10 1.00000064e-10 1.00000064e-10 1.00000064e-10\n",
      " 1.00000064e-10 1.00000064e-10 1.00000064e-10 1.00000064e-10\n",
      " 1.00000064e-10 1.00000064e-10 1.00000064e-10 1.00000064e-10\n",
      " 1.00000064e-10 1.00000064e-10 1.00000064e-10 1.00000064e-10\n",
      " 1.00000064e-10 1.00000064e-10 1.00000064e-10 1.00000064e-10\n",
      " 1.00000064e-10 1.00000064e-10 1.00000064e-10 1.00000064e-10\n",
      " 1.00000064e-10 1.00000064e-10 1.00000064e-10 1.00000064e-10\n",
      " 1.00000064e-10 1.00000064e-10 1.00000064e-10 1.00000064e-10\n",
      " 1.00000064e-10 1.00000064e-10 1.00000064e-10 1.00000064e-10\n",
      " 1.00000064e-10 1.00000064e-10 1.00000064e-10 1.00000064e-10\n",
      " 1.00000064e-10 1.00000064e-10 1.00000064e-10 1.00000064e-10\n",
      " 1.00000064e-10 1.00000064e-10 1.00000064e-10 1.00000064e-10\n",
      " 1.00000064e-10 1.00000064e-10 1.00000064e-10 1.00000064e-10\n",
      " 1.00000064e-10 1.00000064e-10 1.00000064e-10 1.00000064e-10\n",
      " 1.00000064e-10 1.00000064e-10 1.00000064e-10 1.00000064e-10\n",
      " 1.00000064e-10 1.00000064e-10 1.00000064e-10 1.00000064e-10\n",
      " 1.00000064e-10 1.00000064e-10 1.00000064e-10 1.00000064e-10\n",
      " 3.16228070e+09 3.16227734e+03 3.16228070e+09 9.99999688e+04\n",
      " 3.16227871e+04 9.99999283e+09 9.99999688e+04 3.16227871e+04\n",
      " 3.16228070e+09 1.00000010e+04 9.99999283e+09 9.99999283e+09\n",
      " 3.16227750e+05 9.99999283e+09 3.16228070e+09 1.00000010e+04\n",
      " 3.16227936e+08 3.16227936e+08 3.16227734e+03 9.99999283e+09\n",
      " 1.00000083e+09 9.99999283e+09 1.00000010e+04 9.99999283e+09\n",
      " 9.99999688e+04 1.00000010e+04 3.16227871e+04 9.99999283e+09\n",
      " 3.16227871e+04 9.99999283e+09 3.16227871e+04 1.00000010e+04\n",
      " 3.16228070e+09 9.99999283e+09 1.00000083e+09 3.16227871e+04\n",
      " 9.99999283e+09 1.00000010e+04 9.99999283e+09 3.16227871e+04\n",
      " 9.99999283e+09 1.00000010e+04 1.00000010e+04 3.16228070e+09\n",
      " 3.16227936e+08 9.99999283e+09 1.00000010e+04 1.00000010e+04\n",
      " 3.16227936e+08 9.99999283e+09 3.16227871e+04 1.00000083e+09\n",
      " 9.99999688e+04 1.00000083e+09 1.00000083e+09 1.00000010e+04\n",
      " 3.16227734e+03 3.16227871e+04 9.99999283e+09 3.16227871e+04\n",
      " 9.99999283e+09 9.99999283e+09 1.00000010e+04 9.99999283e+09\n",
      " 9.99999283e+09 3.16227871e+04 1.00000083e+09 3.16228070e+09\n",
      " 1.00000010e+04 3.16227871e+04 3.16227871e+04 3.16227734e+03\n",
      " 3.16228070e+09 3.16227750e+05 3.16227871e+04 3.16227871e+04\n",
      " 3.16227734e+03 1.00000083e+09 1.00000083e+09 3.16227871e+04\n",
      " 9.99999283e+09 3.16227871e+04 3.16228070e+09 9.99999283e+09\n",
      " 9.99999283e+09 3.16228070e+09 9.99999283e+09 9.99999283e+09\n",
      " 9.99999283e+09 9.99999283e+09 9.99999283e+09 1.00000010e+04\n",
      " 3.16227871e+04 3.16228070e+09 1.00000010e+04 3.16228070e+09\n",
      " 3.16227871e+04 1.00000010e+04 1.00000010e+04 1.00000083e+09]\n"
     ]
    },
    {
     "name": "stderr",
     "output_type": "stream",
     "text": [
      "/home/leo/git/compare_variance_residual/venv/lib/python3.12/site-packages/sklearn/utils/_tags.py:354: FutureWarning: The RidgeCV or classes from which it inherits use `_get_tags` and `_more_tags`. Please define the `__sklearn_tags__` method, or inherit from `sklearn.base.BaseEstimator` and/or other appropriate mixins such as `sklearn.base.TransformerMixin`, `sklearn.base.ClassifierMixin`, `sklearn.base.RegressorMixin`, and `sklearn.base.OutlierMixin`. From scikit-learn 1.7, not defining `__sklearn_tags__` will raise an error.\n",
      "  warnings.warn(\n"
     ]
    }
   ],
   "execution_count": 11
  },
  {
   "metadata": {
    "ExecuteTime": {
     "end_time": "2025-01-27T19:11:26.686294Z",
     "start_time": "2025-01-27T19:11:26.577922Z"
    }
   },
   "cell_type": "code",
   "source": [
    "import matplotlib.pyplot as plt\n",
    "bars = [full.mean(), residual.mean(), feature, residual_ridge.mean(), feature_ridge.mean()]\n",
    "bar_names = [\"full\", \"residual\", \"feature\", \"residual_ridge\", \"feature_ridge\"]\n",
    "plt.bar(range(len(bars)), bars)\n",
    "plt.xticks(range(len(bars)), labels=bar_names)\n",
    "plt.show()"
   ],
   "id": "743a6737a874e959",
   "outputs": [
    {
     "data": {
      "text/plain": [
       "<Figure size 640x480 with 1 Axes>"
      ],
      "image/png": "[encoded data removed]"
     },
     "metadata": {},
     "output_type": "display_data"
    }
   ],
   "execution_count": 14
  },
  {
   "metadata": {},
   "cell_type": "code",
   "outputs": [],
   "execution_count": null,
   "source": "",
   "id": "f4cd8e520d7122f8"
  }
 ],
 "metadata": {
  "kernelspec": {
   "display_name": "Python 3",
   "language": "python",
   "name": "python3"
  },
  "language_info": {
   "codemirror_mode": {
    "name": "ipython",
    "version": 2
   },
   "file_extension": ".py",
   "mimetype": "text/x-python",
   "name": "python",
   "nbconvert_exporter": "python",
   "pygments_lexer": "ipython2",
   "version": "2.7.6"
  }
 },
 "nbformat": 4,
 "nbformat_minor": 5
}
