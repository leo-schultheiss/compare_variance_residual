{
 "cells": [
  {
   "cell_type": "code",
   "id": "initial_id",
   "metadata": {
    "collapsed": true,
    "ExecuteTime": {
     "end_time": "2025-01-27T15:34:04.597694Z",
     "start_time": "2025-01-27T15:34:03.817476Z"
    }
   },
   "source": [
    "from simulation import generate_dataset\n",
    "from himalaya.backend import set_backend\n",
    "\n",
    "set_backend(\"cupy\", on_error=\"warn\")"
   ],
   "outputs": [
    {
     "name": "stderr",
     "output_type": "stream",
     "text": [
      "/home/leo/git/compare_variance_residual/venv/lib/python3.12/site-packages/himalaya/backend/_utils.py:55: UserWarning: Setting backend to cupy failed: Cupy not installed..Falling back to numpy backend.\n",
      "  warnings.warn(f\"Setting backend to {backend} failed: {str(error)}.\"\n"
     ]
    },
    {
     "data": {
      "text/plain": [
       "<module 'himalaya.backend.numpy' from '/home/leo/git/compare_variance_residual/venv/lib/python3.12/site-packages/himalaya/backend/numpy.py'>"
      ]
     },
     "execution_count": 1,
     "metadata": {},
     "output_type": "execute_result"
    }
   ],
   "execution_count": 1
  },
  {
   "metadata": {
    "ExecuteTime": {
     "end_time": "2025-01-27T15:40:26.280153Z",
     "start_time": "2025-01-27T15:40:26.276888Z"
    }
   },
   "cell_type": "code",
   "source": [
    "feature_space_dimensions = [\n",
    "    100,  # share\n",
    "    100,  # unique 0\n",
    "    100,  # unique 1\n",
    "]\n",
    "scalars = [\n",
    "    1 / 3,\n",
    "    1 / 3,\n",
    "    1 / 3,\n",
    "]\n",
    "n_targets = 1000\n",
    "n_samples_train = 1000\n",
    "n_samples_test = 100\n",
    "noise = 0.0\n"
   ],
   "id": "932307cb1705d75d",
   "outputs": [],
   "execution_count": 13
  },
  {
   "metadata": {
    "ExecuteTime": {
     "end_time": "2025-01-27T15:40:26.787428Z",
     "start_time": "2025-01-27T15:40:26.597690Z"
    }
   },
   "cell_type": "code",
   "source": [
    "(Xs_train, Xs_test, Y_train, Y_test) = generate_dataset(feature_space_dimensions, scalars, n_targets, n_samples_train,\n",
    "                                                        n_samples_test, noise)"
   ],
   "id": "aa2870586733128f",
   "outputs": [],
   "execution_count": 14
  },
  {
   "metadata": {},
   "cell_type": "markdown",
   "source": "# Variance Partitioning",
   "id": "26dd6ebe135a88f2"
  },
  {
   "metadata": {
    "ExecuteTime": {
     "end_time": "2025-01-27T15:40:27.714942Z",
     "start_time": "2025-01-27T15:40:27.711800Z"
    }
   },
   "cell_type": "code",
   "source": "from variance_partitioning import variance_partitioning",
   "id": "a91dd1d8fdde375b",
   "outputs": [],
   "execution_count": 15
  },
  {
   "metadata": {
    "ExecuteTime": {
     "end_time": "2025-01-27T15:41:18.876005Z",
     "start_time": "2025-01-27T15:40:28.186518Z"
    }
   },
   "cell_type": "code",
   "source": "(score_0, score_1, joint_score, x0_unique, x1_unique, shared) = variance_partitioning(Xs_train, Xs_test, Y_train, Y_test)",
   "id": "b162c2b238084803",
   "outputs": [
    {
     "name": "stderr",
     "output_type": "stream",
     "text": [
      "/home/leo/git/compare_variance_residual/venv/lib/python3.12/site-packages/sklearn/utils/_tags.py:354: FutureWarning: The GroupRidgeCV or classes from which it inherits use `_get_tags` and `_more_tags`. Please define the `__sklearn_tags__` method, or inherit from `sklearn.base.BaseEstimator` and/or other appropriate mixins such as `sklearn.base.TransformerMixin`, `sklearn.base.ClassifierMixin`, `sklearn.base.RegressorMixin`, and `sklearn.base.OutlierMixin`. From scikit-learn 1.7, not defining `__sklearn_tags__` will raise an error.\n",
      "  warnings.warn(\n",
      "/home/leo/git/compare_variance_residual/venv/lib/python3.12/site-packages/sklearn/utils/_tags.py:354: FutureWarning: The RidgeCV or classes from which it inherits use `_get_tags` and `_more_tags`. Please define the `__sklearn_tags__` method, or inherit from `sklearn.base.BaseEstimator` and/or other appropriate mixins such as `sklearn.base.TransformerMixin`, `sklearn.base.ClassifierMixin`, `sklearn.base.RegressorMixin`, and `sklearn.base.OutlierMixin`. From scikit-learn 1.7, not defining `__sklearn_tags__` will raise an error.\n",
      "  warnings.warn(\n",
      "/home/leo/git/compare_variance_residual/venv/lib/python3.12/site-packages/sklearn/utils/_tags.py:354: FutureWarning: The RidgeCV or classes from which it inherits use `_get_tags` and `_more_tags`. Please define the `__sklearn_tags__` method, or inherit from `sklearn.base.BaseEstimator` and/or other appropriate mixins such as `sklearn.base.TransformerMixin`, `sklearn.base.ClassifierMixin`, `sklearn.base.RegressorMixin`, and `sklearn.base.OutlierMixin`. From scikit-learn 1.7, not defining `__sklearn_tags__` will raise an error.\n",
      "  warnings.warn(\n"
     ]
    }
   ],
   "execution_count": 16
  },
  {
   "metadata": {
    "ExecuteTime": {
     "end_time": "2025-01-27T15:46:25.982630Z",
     "start_time": "2025-01-27T15:46:25.890666Z"
    }
   },
   "cell_type": "code",
   "source": [
    "import matplotlib.pyplot as plt\n",
    "plt.bar(range(6), [score_0.mean(), score_1.mean(), joint_score.mean(), x0_unique.mean(), x1_unique.mean(), shared.mean()])\n",
    "plt.xticks(range(6), labels=[\"score_0\", \"score_1\", \"joint score\", \"x0_unique\", \"x1_unique\", \"shared\"])\n",
    "plt.show()"
   ],
   "id": "e7f21353699b22a7",
   "outputs": [
    {
     "data": {
      "text/plain": [
       "<Figure size 640x480 with 1 Axes>"
      ],
      "image/png": "[encoded data removed]"
     },
     "metadata": {},
     "output_type": "display_data"
    }
   ],
   "execution_count": 18
  },
  {
   "metadata": {},
   "cell_type": "code",
   "outputs": [],
   "execution_count": null,
   "source": "",
   "id": "663516ca19ed7f72"
  },
  {
   "metadata": {},
   "cell_type": "markdown",
   "source": "# Residual Method",
   "id": "7cce74a62c46dce8"
  },
  {
   "metadata": {},
   "cell_type": "code",
   "outputs": [],
   "execution_count": null,
   "source": "",
   "id": "1a3857211e518a48"
  }
 ],
 "metadata": {
  "kernelspec": {
   "display_name": "Python 3",
   "language": "python",
   "name": "python3"
  },
  "language_info": {
   "codemirror_mode": {
    "name": "ipython",
    "version": 2
   },
   "file_extension": ".py",
   "mimetype": "text/x-python",
   "name": "python",
   "nbconvert_exporter": "python",
   "pygments_lexer": "ipython2",
   "version": "2.7.6"
  }
 },
 "nbformat": 4,
 "nbformat_minor": 5
}
