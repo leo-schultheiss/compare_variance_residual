{
 "cells": [
  {
   "cell_type": "code",
   "id": "faf0e3b762520a8c",
   "metadata": {
    "ExecuteTime": {
     "end_time": "2024-12-19T14:31:29.200414Z",
     "start_time": "2024-12-19T14:31:28.453784Z"
    }
   },
   "source": [
    "import warnings\n",
    "\n",
    "warnings.simplefilter(action='ignore', category=FutureWarning)\n",
    "import numpy as np\n",
    "\n",
    "from variance_partitioning import variance_partitioning\n",
    "from simulation import generate_dataset"
   ],
   "outputs": [],
   "execution_count": 1
  },
  {
   "metadata": {
    "collapsed": true,
    "ExecuteTime": {
     "end_time": "2024-12-19T14:31:29.418463Z",
     "start_time": "2024-12-19T14:31:29.285756Z"
    }
   },
   "cell_type": "code",
   "source": [
    "from himalaya.backend import set_backend\n",
    "\n",
    "backend = set_backend(\"cupy\", on_error=\"warn\")"
   ],
   "id": "initial_id",
   "outputs": [],
   "execution_count": 2
  },
  {
   "metadata": {
    "ExecuteTime": {
     "end_time": "2024-12-19T14:33:34.162431Z",
     "start_time": "2024-12-19T14:33:34.160058Z"
    }
   },
   "cell_type": "code",
   "source": [
    "unique_contributions_X0 = np.linspace(0.1, 1, 11)\n",
    "noise_level = 0.0"
   ],
   "id": "dc15f6d5c54f27f8",
   "outputs": [],
   "execution_count": 5
  },
  {
   "metadata": {
    "ExecuteTime": {
     "end_time": "2024-12-19T14:35:52.786491Z",
     "start_time": "2024-12-19T14:34:45.989264Z"
    }
   },
   "cell_type": "code",
   "source": [
    "for unique_contribution in unique_contributions_X0:\n",
    "    (Xs_train, Xs_test, Y_train, Y_test, n_targets_list) = generate_dataset(\n",
    "        n_features_list=[1000, 1000], n_targets=1000,\n",
    "        n_samples_train=1000, n_samples_test=1000,\n",
    "        noise=noise_level, unique_contributions=[unique_contribution, (1 - unique_contribution) / 2],\n",
    "        random_distribution=np.random.randn, random_state=42)\n",
    "    predicted_contribution, _ = variance_partitioning(Xs_train, Xs_test, Y_train, Y_test, use_refinement=True)\n",
    "    print(f\"actual-predicted: {unique_contribution - predicted_contribution} \\t unique: {unique_contribution}\")"
   ],
   "id": "46fdb4fd8134cc26",
   "outputs": [
    {
     "name": "stdout",
     "output_type": "stream",
     "text": [
      "actual-predicted: 0.08120998777449132 \t unique: 0.1\n",
      "actual-predicted: 0.11248352617025376 \t unique: 0.19\n",
      "actual-predicted: 0.09738419830799105 \t unique: 0.28\n",
      "actual-predicted: 0.05723887205123901 \t unique: 0.37\n",
      "actual-predicted: 8.442163467403674e-05 \t unique: 0.45999999999999996\n",
      "actual-predicted: -0.04018123149871833 \t unique: 0.5499999999999999\n",
      "actual-predicted: -0.06720762014389037 \t unique: 0.64\n",
      "actual-predicted: -0.0749665689468384 \t unique: 0.73\n",
      "actual-predicted: -0.0640105533599854 \t unique: 0.82\n",
      "actual-predicted: -0.02830716609954842 \t unique: 0.9099999999999999\n",
      "actual-predicted: 0.014249265193939209 \t unique: 1.0\n"
     ]
    }
   ],
   "execution_count": 7
  },
  {
   "metadata": {},
   "cell_type": "code",
   "outputs": [],
   "execution_count": null,
   "source": "",
   "id": "e72f3eaaddad8ad"
  }
 ],
 "metadata": {
  "kernelspec": {
   "display_name": "Python 3",
   "language": "python",
   "name": "python3"
  },
  "language_info": {
   "codemirror_mode": {
    "name": "ipython",
    "version": 2
   },
   "file_extension": ".py",
   "mimetype": "text/x-python",
   "name": "python",
   "nbconvert_exporter": "python",
   "pygments_lexer": "ipython2",
   "version": "2.7.6"
  }
 },
 "nbformat": 4,
 "nbformat_minor": 5
}
