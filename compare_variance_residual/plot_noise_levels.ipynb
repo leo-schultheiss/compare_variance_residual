{
 "cells": [
  {
   "metadata": {
    "ExecuteTime": {
     "end_time": "2025-02-20T08:12:11.111682Z",
     "start_time": "2025-02-20T08:12:10.947383Z"
    }
   },
   "cell_type": "code",
   "source": [
    "import os\n",
    "import random\n",
    "import warnings\n",
    "\n",
    "import numpy as np\n",
    "import pandas as pd\n",
    "import seaborn as sns\n",
    "from himalaya.backend import set_backend\n",
    "\n",
    "from compare_variance_residual.residual import residual_method\n",
    "from compare_variance_residual.simulation import generate_dataset\n",
    "from compare_variance_residual.variance_partitioning import variance_partitioning"
   ],
   "id": "c30ae19c69b4c6ea",
   "outputs": [],
   "execution_count": 1
  },
  {
   "metadata": {
    "ExecuteTime": {
     "end_time": "2025-02-20T08:12:11.128713Z",
     "start_time": "2025-02-20T08:12:11.125945Z"
    }
   },
   "cell_type": "code",
   "source": [
    "def get_path(alphas, cv, n_targets):\n",
    "    path = os.path.join(\"results\", f\"targets={n_targets}\", f\"cv={cv}\",\n",
    "                        f\"alphas={alphas.min()},{alphas.max()},{len(alphas)}\", \"varying noise\")\n",
    "    os.makedirs(path, exist_ok=True)\n",
    "    return path"
   ],
   "id": "7214bbfbd22e42b9",
   "outputs": [],
   "execution_count": 2
  },
  {
   "metadata": {
    "ExecuteTime": {
     "end_time": "2025-02-20T08:22:00.379267Z",
     "start_time": "2025-02-20T08:22:00.374177Z"
    }
   },
   "cell_type": "code",
   "source": [
    "def save_scores(noise_levels, d_list, scalars, n_targets, n_samples, cv, alphas):\n",
    "    path = get_path(alphas, cv, n_targets)\n",
    "    for noise_target in noise_levels:\n",
    "        print(noise_target)\n",
    "        csv_path = os.path.join(path, f\"scores_{noise_target}.csv\")\n",
    "        scores = pd.DataFrame()\n",
    "        if os.path.exists(csv_path):\n",
    "            print(\"skipping, already exists\")\n",
    "            continue\n",
    "        Xs, Y = generate_dataset(d_list, scalars, n_targets, n_samples, noise_target)\n",
    "        print(\"data generated\")\n",
    "        x1_score, x2_score, joint_score, x1_and_x2_score, vp_x1_unique_score, vp_x2_unique_score = variance_partitioning(\n",
    "            Xs, Y, n_samples_train, alphas, cv)\n",
    "        print(\"variance partitioning done\")\n",
    "\n",
    "        scores[\"x1_score\"] = x1_score\n",
    "        scores[\"x2_score\"] = x2_score\n",
    "        scores[\"vp_joint_score\"] = joint_score\n",
    "        scores[\"vp_shared_score\"] = x1_and_x2_score\n",
    "        scores[\"vp_x1_unique_score\"] = vp_x1_unique_score\n",
    "        scores[\"vp_x2_unique_score\"] = vp_x2_unique_score\n",
    "        del x1_score, x2_score, joint_score, x1_and_x2_score, vp_x1_unique_score, vp_x2_unique_score\n",
    "        print(scores.head())\n",
    "\n",
    "        _, _, x2_to_x1_score, x1_to_x2_score, rm_x1_unique_score, rm_x2_unique_score = residual_method(\n",
    "            Xs, Y, n_samples_train, alphas, cv)\n",
    "        print(\"residual method done\")\n",
    "        scores[\"rm_x2_to_x1_score\"] = np.concatenate(\n",
    "            [x2_to_x1_score, np.full(len(rm_x1_unique_score) - len(x2_to_x1_score), np.nan)])\n",
    "        scores[\"rm_x1_to_x2_score\"] = np.concatenate(\n",
    "            [x1_to_x2_score, np.full(len(rm_x1_unique_score) - len(x1_to_x2_score), np.nan)])\n",
    "        scores[\"rm_x1_unique_score\"] = rm_x1_unique_score\n",
    "        scores[\"rm_x2_unique_score\"] = rm_x2_unique_score\n",
    "        del x2_to_x1_score, x1_to_x2_score, rm_x1_unique_score, rm_x2_unique_score\n",
    "        del Xs, Y\n",
    "        scores.to_csv(csv_path, index=False)"
   ],
   "id": "e892fc1cda6d373f",
   "outputs": [],
   "execution_count": 9
  },
  {
   "metadata": {},
   "cell_type": "markdown",
   "source": "# Save scores for varying noise levels",
   "id": "29652e5a7524e7c8"
  },
  {
   "metadata": {
    "ExecuteTime": {
     "end_time": "2025-02-20T08:12:11.533663Z",
     "start_time": "2025-02-20T08:12:11.265778Z"
    }
   },
   "cell_type": "code",
   "source": [
    "backend = set_backend(\"cupy\", on_error=\"warn\")\n",
    "warnings.filterwarnings(\"ignore\")\n",
    "random.seed(42)"
   ],
   "id": "d88dce6a0ca359b5",
   "outputs": [],
   "execution_count": 4
  },
  {
   "metadata": {
    "ExecuteTime": {
     "end_time": "2025-02-20T08:12:11.540841Z",
     "start_time": "2025-02-20T08:12:11.538498Z"
    }
   },
   "cell_type": "code",
   "source": [
    "d_list = [100, 100, 100]\n",
    "n_targets = 10000\n",
    "n_samples_train = 10000\n",
    "n_samples_test = 100\n",
    "n_samples = n_samples_train + n_samples_test\n",
    "scalars = [1 / 3, 1 / 3, 1 / 3]\n",
    "\n",
    "cv = 10\n",
    "alphas = np.logspace(-5, 5, 10)"
   ],
   "id": "7d22e5e47c2bd337",
   "outputs": [],
   "execution_count": 5
  },
  {
   "metadata": {
    "ExecuteTime": {
     "end_time": "2025-02-20T08:12:11.583832Z",
     "start_time": "2025-02-20T08:12:11.581593Z"
    }
   },
   "cell_type": "code",
   "source": "noise_levels = [0.01, 0.1, 0.5, 1]",
   "id": "d13ef57f64a8417f",
   "outputs": [],
   "execution_count": 6
  },
  {
   "metadata": {
    "ExecuteTime": {
     "end_time": "2025-02-20T08:22:54.670620Z",
     "start_time": "2025-02-20T08:22:54.526333Z"
    }
   },
   "cell_type": "code",
   "source": "!export CUDA_PATH='/opt/cuda/'",
   "id": "9e8db2816aaff01d",
   "outputs": [],
   "execution_count": 10
  },
  {
   "metadata": {
    "ExecuteTime": {
     "end_time": "2025-02-20T08:23:07.244155Z",
     "start_time": "2025-02-20T08:22:55.508900Z"
    }
   },
   "cell_type": "code",
   "source": "save_scores(noise_levels, d_list, scalars, n_targets, n_samples, cv, alphas)",
   "id": "5115fc2bfda7cdc5",
   "outputs": [
    {
     "name": "stdout",
     "output_type": "stream",
     "text": [
      "0.01\n",
      "data generated\n"
     ]
    },
    {
     "ename": "RuntimeError",
     "evalue": "Failed to auto-detect CUDA root directory. Please specify `CUDA_PATH` environment variable if you are using CUDA versions not yet supported by CuPy.",
     "output_type": "error",
     "traceback": [
      "\u001B[0;31m---------------------------------------------------------------------------\u001B[0m",
      "\u001B[0;31mRuntimeError\u001B[0m                              Traceback (most recent call last)",
      "Cell \u001B[0;32mIn[11], line 1\u001B[0m\n\u001B[0;32m----> 1\u001B[0m \u001B[43msave_scores\u001B[49m\u001B[43m(\u001B[49m\u001B[43mnoise_levels\u001B[49m\u001B[43m,\u001B[49m\u001B[43m \u001B[49m\u001B[43md_list\u001B[49m\u001B[43m,\u001B[49m\u001B[43m \u001B[49m\u001B[43mscalars\u001B[49m\u001B[43m,\u001B[49m\u001B[43m \u001B[49m\u001B[43mn_targets\u001B[49m\u001B[43m,\u001B[49m\u001B[43m \u001B[49m\u001B[43mn_samples\u001B[49m\u001B[43m,\u001B[49m\u001B[43m \u001B[49m\u001B[43mcv\u001B[49m\u001B[43m,\u001B[49m\u001B[43m \u001B[49m\u001B[43malphas\u001B[49m\u001B[43m)\u001B[49m\n",
      "Cell \u001B[0;32mIn[9], line 12\u001B[0m, in \u001B[0;36msave_scores\u001B[0;34m(noise_levels, d_list, scalars, n_targets, n_samples, cv, alphas)\u001B[0m\n\u001B[1;32m     10\u001B[0m Xs, Y \u001B[38;5;241m=\u001B[39m generate_dataset(d_list, scalars, n_targets, n_samples, noise_target)\n\u001B[1;32m     11\u001B[0m \u001B[38;5;28mprint\u001B[39m(\u001B[38;5;124m\"\u001B[39m\u001B[38;5;124mdata generated\u001B[39m\u001B[38;5;124m\"\u001B[39m)\n\u001B[0;32m---> 12\u001B[0m x1_score, x2_score, joint_score, x1_and_x2_score, vp_x1_unique_score, vp_x2_unique_score \u001B[38;5;241m=\u001B[39m \u001B[43mvariance_partitioning\u001B[49m\u001B[43m(\u001B[49m\n\u001B[1;32m     13\u001B[0m \u001B[43m    \u001B[49m\u001B[43mXs\u001B[49m\u001B[43m,\u001B[49m\u001B[43m \u001B[49m\u001B[43mY\u001B[49m\u001B[43m,\u001B[49m\u001B[43m \u001B[49m\u001B[43mn_samples_train\u001B[49m\u001B[43m,\u001B[49m\u001B[43m \u001B[49m\u001B[43malphas\u001B[49m\u001B[43m,\u001B[49m\u001B[43m \u001B[49m\u001B[43mcv\u001B[49m\u001B[43m)\u001B[49m\n\u001B[1;32m     14\u001B[0m \u001B[38;5;28mprint\u001B[39m(\u001B[38;5;124m\"\u001B[39m\u001B[38;5;124mvariance partitioning done\u001B[39m\u001B[38;5;124m\"\u001B[39m)\n\u001B[1;32m     16\u001B[0m scores[\u001B[38;5;124m\"\u001B[39m\u001B[38;5;124mx1_score\u001B[39m\u001B[38;5;124m\"\u001B[39m] \u001B[38;5;241m=\u001B[39m x1_score\n",
      "File \u001B[0;32m~/PycharmProjects/compare_variance_residual/compare_variance_residual/variance_partitioning.py:54\u001B[0m, in \u001B[0;36mvariance_partitioning\u001B[0;34m(Xs, Y, n_samples_train, alphas, cv, score_func, use_ols)\u001B[0m\n\u001B[1;32m     51\u001B[0m \u001B[38;5;66;03m# train joint model\u001B[39;00m\n\u001B[1;32m     52\u001B[0m joint_model \u001B[38;5;241m=\u001B[39m GroupRidgeCV(groups\u001B[38;5;241m=\u001B[39m\u001B[38;5;124m\"\u001B[39m\u001B[38;5;124minput\u001B[39m\u001B[38;5;124m\"\u001B[39m, solver_params\u001B[38;5;241m=\u001B[39mjoint_solver_params)\n\u001B[0;32m---> 54\u001B[0m \u001B[43mjoint_model\u001B[49m\u001B[38;5;241;43m.\u001B[39;49m\u001B[43mfit\u001B[49m\u001B[43m(\u001B[49m\u001B[43m[\u001B[49m\u001B[43mx\u001B[49m\u001B[43m[\u001B[49m\u001B[43m:\u001B[49m\u001B[43mn_samples_train\u001B[49m\u001B[43m]\u001B[49m\u001B[43m \u001B[49m\u001B[38;5;28;43;01mfor\u001B[39;49;00m\u001B[43m \u001B[49m\u001B[43mx\u001B[49m\u001B[43m \u001B[49m\u001B[38;5;129;43;01min\u001B[39;49;00m\u001B[43m \u001B[49m\u001B[43mXs\u001B[49m\u001B[43m]\u001B[49m\u001B[43m,\u001B[49m\u001B[43m \u001B[49m\u001B[43mY\u001B[49m\u001B[43m[\u001B[49m\u001B[43m:\u001B[49m\u001B[43mn_samples_train\u001B[49m\u001B[43m]\u001B[49m\u001B[43m)\u001B[49m\n\u001B[1;32m     55\u001B[0m joint_score \u001B[38;5;241m=\u001B[39m joint_model\u001B[38;5;241m.\u001B[39mscore([x[n_samples_train:] \u001B[38;5;28;01mfor\u001B[39;00m x \u001B[38;5;129;01min\u001B[39;00m Xs], Y[n_samples_train:])\n\u001B[1;32m     57\u001B[0m \u001B[38;5;66;03m# train single models\u001B[39;00m\n",
      "File \u001B[0;32m~/PycharmProjects/compare_variance_residual/.venv/lib/python3.12/site-packages/himalaya/backend/_utils.py:97\u001B[0m, in \u001B[0;36mforce_cpu_backend.<locals>.wrapper\u001B[0;34m(*args, **kwargs)\u001B[0m\n\u001B[1;32m     93\u001B[0m \u001B[38;5;129m@wraps\u001B[39m(func)\n\u001B[1;32m     94\u001B[0m \u001B[38;5;28;01mdef\u001B[39;00m\u001B[38;5;250m \u001B[39m\u001B[38;5;21mwrapper\u001B[39m(\u001B[38;5;241m*\u001B[39margs, \u001B[38;5;241m*\u001B[39m\u001B[38;5;241m*\u001B[39mkwargs):\n\u001B[1;32m     95\u001B[0m     \u001B[38;5;66;03m# skip if the object does not force cpu use\u001B[39;00m\n\u001B[1;32m     96\u001B[0m     \u001B[38;5;28;01mif\u001B[39;00m \u001B[38;5;129;01mnot\u001B[39;00m \u001B[38;5;28mhasattr\u001B[39m(args[\u001B[38;5;241m0\u001B[39m], \u001B[38;5;124m\"\u001B[39m\u001B[38;5;124mforce_cpu\u001B[39m\u001B[38;5;124m\"\u001B[39m) \u001B[38;5;129;01mor\u001B[39;00m \u001B[38;5;129;01mnot\u001B[39;00m args[\u001B[38;5;241m0\u001B[39m]\u001B[38;5;241m.\u001B[39mforce_cpu:\n\u001B[0;32m---> 97\u001B[0m         \u001B[38;5;28;01mreturn\u001B[39;00m \u001B[43mfunc\u001B[49m\u001B[43m(\u001B[49m\u001B[38;5;241;43m*\u001B[39;49m\u001B[43margs\u001B[49m\u001B[43m,\u001B[49m\u001B[43m \u001B[49m\u001B[38;5;241;43m*\u001B[39;49m\u001B[38;5;241;43m*\u001B[39;49m\u001B[43mkwargs\u001B[49m\u001B[43m)\u001B[49m\n\u001B[1;32m     99\u001B[0m     \u001B[38;5;66;03m# set corresponding cpu backend\u001B[39;00m\n\u001B[1;32m    100\u001B[0m     original_backend \u001B[38;5;241m=\u001B[39m get_backend()\u001B[38;5;241m.\u001B[39mname\n",
      "File \u001B[0;32m~/PycharmProjects/compare_variance_residual/.venv/lib/python3.12/site-packages/himalaya/ridge/_sklearn_api.py:481\u001B[0m, in \u001B[0;36mGroupRidgeCV.fit\u001B[0;34m(self, X, y)\u001B[0m\n\u001B[1;32m    462\u001B[0m \u001B[38;5;250m\u001B[39m\u001B[38;5;124;03m\"\"\"Fit the model.\u001B[39;00m\n\u001B[1;32m    463\u001B[0m \n\u001B[1;32m    464\u001B[0m \u001B[38;5;124;03mParameters\u001B[39;00m\n\u001B[0;32m   (...)\u001B[0m\n\u001B[1;32m    477\u001B[0m \u001B[38;5;124;03mself : returns an instance of self.\u001B[39;00m\n\u001B[1;32m    478\u001B[0m \u001B[38;5;124;03m\"\"\"\u001B[39;00m\n\u001B[1;32m    479\u001B[0m backend \u001B[38;5;241m=\u001B[39m get_backend()\n\u001B[0;32m--> 481\u001B[0m Xs \u001B[38;5;241m=\u001B[39m \u001B[38;5;28;43mself\u001B[39;49m\u001B[38;5;241;43m.\u001B[39;49m\u001B[43m_split_groups\u001B[49m\u001B[43m(\u001B[49m\u001B[43mX\u001B[49m\u001B[43m,\u001B[49m\u001B[43m \u001B[49m\u001B[43mcheck\u001B[49m\u001B[38;5;241;43m=\u001B[39;49m\u001B[38;5;28;43;01mTrue\u001B[39;49;00m\u001B[43m)\u001B[49m\n\u001B[1;32m    482\u001B[0m \u001B[38;5;28;01mdel\u001B[39;00m X\n\u001B[1;32m    484\u001B[0m \u001B[38;5;28mself\u001B[39m\u001B[38;5;241m.\u001B[39mn_features_in_ \u001B[38;5;241m=\u001B[39m \u001B[38;5;28msum\u001B[39m(Xi\u001B[38;5;241m.\u001B[39mshape[\u001B[38;5;241m1\u001B[39m] \u001B[38;5;28;01mfor\u001B[39;00m Xi \u001B[38;5;129;01min\u001B[39;00m Xs)\n",
      "File \u001B[0;32m~/PycharmProjects/compare_variance_residual/.venv/lib/python3.12/site-packages/himalaya/ridge/_sklearn_api.py:629\u001B[0m, in \u001B[0;36mGroupRidgeCV._split_groups\u001B[0;34m(self, X, check, **check_kwargs)\u001B[0m\n\u001B[1;32m    627\u001B[0m \u001B[38;5;28;01mif\u001B[39;00m \u001B[38;5;28misinstance\u001B[39m(\u001B[38;5;28mself\u001B[39m\u001B[38;5;241m.\u001B[39mgroups, \u001B[38;5;28mstr\u001B[39m) \u001B[38;5;129;01mand\u001B[39;00m \u001B[38;5;28mself\u001B[39m\u001B[38;5;241m.\u001B[39mgroups \u001B[38;5;241m==\u001B[39m \u001B[38;5;124m\"\u001B[39m\u001B[38;5;124minput\u001B[39m\u001B[38;5;124m\"\u001B[39m:\n\u001B[1;32m    628\u001B[0m     \u001B[38;5;28;01mif\u001B[39;00m check:\n\u001B[0;32m--> 629\u001B[0m         X \u001B[38;5;241m=\u001B[39m [\u001B[43mcheck_array\u001B[49m\u001B[43m(\u001B[49m\u001B[43mXi\u001B[49m\u001B[43m,\u001B[49m\u001B[43m \u001B[49m\u001B[43mndim\u001B[49m\u001B[38;5;241;43m=\u001B[39;49m\u001B[38;5;241;43m2\u001B[39;49m\u001B[43m,\u001B[49m\u001B[43m \u001B[49m\u001B[38;5;241;43m*\u001B[39;49m\u001B[38;5;241;43m*\u001B[39;49m\u001B[43mcheck_kwargs\u001B[49m\u001B[43m)\u001B[49m \u001B[38;5;28;01mfor\u001B[39;00m Xi \u001B[38;5;129;01min\u001B[39;00m X]\n\u001B[1;32m    630\u001B[0m     \u001B[38;5;28;01mreturn\u001B[39;00m X\n\u001B[1;32m    632\u001B[0m \u001B[38;5;66;03m# groups defined in self.groups\u001B[39;00m\n",
      "File \u001B[0;32m~/PycharmProjects/compare_variance_residual/.venv/lib/python3.12/site-packages/himalaya/validation.py:203\u001B[0m, in \u001B[0;36mcheck_array\u001B[0;34m(array, accept_sparse, dtype, copy, force_all_finite, ndim, ensure_min_samples, ensure_min_features, device)\u001B[0m\n\u001B[1;32m    200\u001B[0m             array \u001B[38;5;241m=\u001B[39m backend\u001B[38;5;241m.\u001B[39mcopy(array)\n\u001B[1;32m    202\u001B[0m     numpy \u001B[38;5;241m=\u001B[39m backend\u001B[38;5;241m.\u001B[39mname \u001B[38;5;241m==\u001B[39m \u001B[38;5;124m'\u001B[39m\u001B[38;5;124mcupy\u001B[39m\u001B[38;5;124m'\u001B[39m \u001B[38;5;129;01mand\u001B[39;00m device \u001B[38;5;241m==\u001B[39m \u001B[38;5;124m\"\u001B[39m\u001B[38;5;124mcpu\u001B[39m\u001B[38;5;124m\"\u001B[39m\n\u001B[0;32m--> 203\u001B[0m     \u001B[43m_assert_all_finite\u001B[49m\u001B[43m(\u001B[49m\u001B[43marray\u001B[49m\u001B[43m,\u001B[49m\u001B[43m \u001B[49m\u001B[43mforce_all_finite\u001B[49m\u001B[43m,\u001B[49m\u001B[43m \u001B[49m\u001B[43mnumpy\u001B[49m\u001B[38;5;241;43m=\u001B[39;49m\u001B[43mnumpy\u001B[49m\u001B[43m)\u001B[49m\n\u001B[1;32m    205\u001B[0m \u001B[38;5;66;03m#####################\u001B[39;00m\n\u001B[1;32m    206\u001B[0m \u001B[38;5;66;03m# check minimum sizes\u001B[39;00m\n\u001B[1;32m    207\u001B[0m \u001B[38;5;28;01mif\u001B[39;00m ensure_min_samples \u001B[38;5;241m>\u001B[39m \u001B[38;5;241m0\u001B[39m:\n",
      "File \u001B[0;32m~/PycharmProjects/compare_variance_residual/.venv/lib/python3.12/site-packages/himalaya/validation.py:266\u001B[0m, in \u001B[0;36m_assert_all_finite\u001B[0;34m(X, force_all_finite, numpy, batch_size)\u001B[0m\n\u001B[1;32m    264\u001B[0m \u001B[38;5;28;01mfor\u001B[39;00m start \u001B[38;5;129;01min\u001B[39;00m \u001B[38;5;28mrange\u001B[39m(\u001B[38;5;241m0\u001B[39m, np\u001B[38;5;241m.\u001B[39mprod(X\u001B[38;5;241m.\u001B[39mshape), batch_size):\n\u001B[1;32m    265\u001B[0m     batch \u001B[38;5;241m=\u001B[39m \u001B[38;5;28mslice\u001B[39m(start, start \u001B[38;5;241m+\u001B[39m batch_size)\n\u001B[0;32m--> 266\u001B[0m     X_batch \u001B[38;5;241m=\u001B[39m \u001B[43mX\u001B[49m\u001B[38;5;241;43m.\u001B[39;49m\u001B[43mflatten\u001B[49m\u001B[43m(\u001B[49m\u001B[43m)\u001B[49m[batch]\n\u001B[1;32m    268\u001B[0m     \u001B[38;5;28;01mif\u001B[39;00m backend\u001B[38;5;241m.\u001B[39many(backend\u001B[38;5;241m.\u001B[39misinf(X_batch)):\n\u001B[1;32m    269\u001B[0m         \u001B[38;5;28;01mraise\u001B[39;00m \u001B[38;5;167;01mValueError\u001B[39;00m(msg)\n",
      "File \u001B[0;32mcupy/_core/core.pyx:782\u001B[0m, in \u001B[0;36mcupy._core.core._ndarray_base.flatten\u001B[0;34m()\u001B[0m\n",
      "File \u001B[0;32mcupy/_core/core.pyx:801\u001B[0m, in \u001B[0;36mcupy._core.core._ndarray_base.flatten\u001B[0;34m()\u001B[0m\n",
      "File \u001B[0;32mcupy/_core/_routines_manipulation.pyx:130\u001B[0m, in \u001B[0;36mcupy._core._routines_manipulation._ndarray_flatten\u001B[0;34m()\u001B[0m\n",
      "File \u001B[0;32mcupy/_core/_routines_manipulation.pyx:139\u001B[0m, in \u001B[0;36mcupy._core._routines_manipulation._ndarray_flatten_order_c\u001B[0;34m()\u001B[0m\n",
      "File \u001B[0;32mcupy/_core/core.pyx:617\u001B[0m, in \u001B[0;36mcupy._core.core._ndarray_base.copy\u001B[0;34m()\u001B[0m\n",
      "File \u001B[0;32mcupy/_core/core.pyx:586\u001B[0m, in \u001B[0;36mcupy._core.core._ndarray_base.astype\u001B[0;34m()\u001B[0m\n",
      "File \u001B[0;32mcupy/_core/_kernel.pyx:1375\u001B[0m, in \u001B[0;36mcupy._core._kernel.ufunc.__call__\u001B[0;34m()\u001B[0m\n",
      "File \u001B[0;32mcupy/_core/_kernel.pyx:1402\u001B[0m, in \u001B[0;36mcupy._core._kernel.ufunc._get_ufunc_kernel\u001B[0;34m()\u001B[0m\n",
      "File \u001B[0;32mcupy/_core/_kernel.pyx:1082\u001B[0m, in \u001B[0;36mcupy._core._kernel._get_ufunc_kernel\u001B[0;34m()\u001B[0m\n",
      "File \u001B[0;32mcupy/_core/_kernel.pyx:94\u001B[0m, in \u001B[0;36mcupy._core._kernel._get_simple_elementwise_kernel\u001B[0;34m()\u001B[0m\n",
      "File \u001B[0;32mcupy/_core/_kernel.pyx:82\u001B[0m, in \u001B[0;36mcupy._core._kernel._get_simple_elementwise_kernel_from_code\u001B[0;34m()\u001B[0m\n",
      "File \u001B[0;32mcupy/_core/core.pyx:2281\u001B[0m, in \u001B[0;36mcupy._core.core.compile_with_cache\u001B[0;34m()\u001B[0m\n",
      "File \u001B[0;32mcupy/_core/core.pyx:2245\u001B[0m, in \u001B[0;36mcupy._core.core.assemble_cupy_compiler_options\u001B[0;34m()\u001B[0m\n",
      "\u001B[0;31mRuntimeError\u001B[0m: Failed to auto-detect CUDA root directory. Please specify `CUDA_PATH` environment variable if you are using CUDA versions not yet supported by CuPy."
     ]
    }
   ],
   "execution_count": 11
  },
  {
   "metadata": {},
   "cell_type": "markdown",
   "source": "# Plot scores",
   "id": "63f6300da18ff5af"
  },
  {
   "metadata": {},
   "cell_type": "code",
   "outputs": [],
   "execution_count": null,
   "source": [
    "vp_x1_unique_predicted = []\n",
    "vp_x2_unique_predicted = []\n",
    "rm_x1_unique_predicted = []\n",
    "rm_x2_unique_predicted = []\n",
    "\n",
    "for noise_level in noise_levels:\n",
    "    scores = pd.read_csv(os.path.join(get_path(alphas, cv, n_targets), f\"scores_{noise_level}.csv\"))\n",
    "    vp_x1_unique_predicted.append(scores[\"vp_x1_unique_score\"])\n",
    "    vp_x2_unique_predicted.append(scores[\"vp_x2_unique_score\"])\n",
    "    rm_x1_unique_predicted.append(scores[\"rm_x1_unique_score\"])\n",
    "    rm_x2_unique_predicted.append(scores[\"rm_x2_unique_score\"])"
   ],
   "id": "5d1b00874386e234"
  },
  {
   "metadata": {},
   "cell_type": "code",
   "outputs": [],
   "execution_count": null,
   "source": "sns.catplot(data=pd.DataFrame(vp_x1_unique_predicted).T)",
   "id": "584dbe676ed596d1"
  }
 ],
 "metadata": {
  "kernelspec": {
   "display_name": "Python 3",
   "language": "python",
   "name": "python3"
  },
  "language_info": {
   "codemirror_mode": {
    "name": "ipython",
    "version": 2
   },
   "file_extension": ".py",
   "mimetype": "text/x-python",
   "name": "python",
   "nbconvert_exporter": "python",
   "pygments_lexer": "ipython2",
   "version": "2.7.6"
  }
 },
 "nbformat": 4,
 "nbformat_minor": 5
}
