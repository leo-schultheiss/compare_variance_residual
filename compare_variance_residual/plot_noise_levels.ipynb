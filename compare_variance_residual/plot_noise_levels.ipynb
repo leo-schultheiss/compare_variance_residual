{
 "cells": [
  {
   "metadata": {},
   "cell_type": "code",
   "outputs": [],
   "execution_count": null,
   "source": [
    "import os\n",
    "import random\n",
    "import warnings\n",
    "\n",
    "import matplotlib.pyplot as plt\n",
    "import simplstyles\n",
    "import numpy as np\n",
    "import pandas as pd\n",
    "import seaborn as sns\n",
    "from himalaya.backend import set_backend\n",
    "\n",
    "from compare_variance_residual.residual import residual_method\n",
    "from compare_variance_residual.simulation import generate_dataset\n",
    "from compare_variance_residual.variance_partitioning import variance_partitioning"
   ],
   "id": "9ddd33b8ef97bc90"
  },
  {
   "metadata": {},
   "cell_type": "code",
   "outputs": [],
   "execution_count": null,
   "source": [
    "def get_path(alphas, cv, n_targets):\n",
    "    path = os.path.join(\"results\", f\"targets={n_targets}\", f\"cv={cv}\",\n",
    "                        f\"alphas={alphas.min()},{alphas.max()},{len(alphas)}\", \"varying noise\")\n",
    "    os.makedirs(path, exist_ok=True)\n",
    "    return path"
   ],
   "id": "4e578e5db6242f48"
  },
  {
   "metadata": {},
   "cell_type": "code",
   "outputs": [],
   "execution_count": null,
   "source": [
    "def get_experiments(alphas, cv, n_targets):\n",
    "    path = get_path(alphas, cv, n_targets)\n",
    "    experiments = []\n",
    "    for file in os.listdir(path):\n",
    "        if file.endswith(\".csv\"):\n",
    "            variable = file.split(\"_\")[1].split(\".csv\")[0]\n",
    "            # parse variable\n",
    "            noise = float(variable)\n",
    "            experiments.append(noise)\n",
    "    return experiments"
   ],
   "id": "82d3fc24b1a6bb7e"
  },
  {
   "metadata": {},
   "cell_type": "code",
   "outputs": [],
   "execution_count": null,
   "source": [
    "def save_scores(noise_levels, d_list, scalars, n_targets, n_samples, cv, alphas):\n",
    "    path = get_path(alphas, cv, n_targets)\n",
    "    for noise_target in noise_levels:\n",
    "        print(noise_target)\n",
    "        csv_path = os.path.join(path, f\"scores_{noise_target}.csv\")\n",
    "        scores = pd.DataFrame()\n",
    "        if os.path.exists(csv_path):\n",
    "            print(\"skipping, already exists\")\n",
    "            continue\n",
    "        Xs, Y = generate_dataset(d_list, scalars, n_targets, n_samples, noise_target)\n",
    "        print(\"data generated\")\n",
    "        x1_score, x2_score, joint_score, x1_and_x2_score, vp_x1_unique_score, vp_x2_unique_score = variance_partitioning(\n",
    "            Xs, Y, n_samples_train, alphas, cv)\n",
    "        print(\"variance partitioning done\")\n",
    "\n",
    "        scores[\"x1_score\"] = x1_score\n",
    "        scores[\"x2_score\"] = x2_score\n",
    "        scores[\"vp_joint_score\"] = joint_score\n",
    "        scores[\"vp_shared_score\"] = x1_and_x2_score\n",
    "        scores[\"vp_x1_unique_score\"] = vp_x1_unique_score\n",
    "        scores[\"vp_x2_unique_score\"] = vp_x2_unique_score\n",
    "        del x1_score, x2_score, joint_score, x1_and_x2_score, vp_x1_unique_score, vp_x2_unique_score\n",
    "        print(scores.head())\n",
    "\n",
    "        _, _, x2_to_x1_score, x1_to_x2_score, rm_x1_unique_score, rm_x2_unique_score = residual_method(\n",
    "            Xs, Y, n_samples_train, alphas, cv)\n",
    "        print(\"residual method done\")\n",
    "        scores[\"rm_x2_to_x1_score\"] = np.concatenate(\n",
    "            [x2_to_x1_score, np.full(len(rm_x1_unique_score) - len(x2_to_x1_score), np.nan)])\n",
    "        scores[\"rm_x1_to_x2_score\"] = np.concatenate(\n",
    "            [x1_to_x2_score, np.full(len(rm_x1_unique_score) - len(x1_to_x2_score), np.nan)])\n",
    "        scores[\"rm_x1_unique_score\"] = rm_x1_unique_score\n",
    "        scores[\"rm_x2_unique_score\"] = rm_x2_unique_score\n",
    "        del x2_to_x1_score, x1_to_x2_score, rm_x1_unique_score, rm_x2_unique_score\n",
    "        del Xs, Y\n",
    "        scores.to_csv(csv_path, index=False)"
   ],
   "id": "881f582c971d5f8a"
  },
  {
   "metadata": {},
   "cell_type": "markdown",
   "source": "# Save scores for varying noise levels",
   "id": "d00dc772f2ffa917"
  },
  {
   "metadata": {},
   "cell_type": "code",
   "outputs": [],
   "execution_count": null,
   "source": [
    "backend = set_backend(\"cupy\", on_error=\"warn\")\n",
    "warnings.filterwarnings(\"ignore\")\n",
    "random.seed(42)\n",
    "plt.style.use('nord-light-talk')"
   ],
   "id": "3ff0a44e33077917"
  },
  {
   "metadata": {},
   "cell_type": "code",
   "outputs": [],
   "execution_count": null,
   "source": [
    "d_list = [100, 100, 100]\n",
    "n_targets = 10000\n",
    "n_samples_train = 10000\n",
    "n_samples_test = 100\n",
    "n_samples = n_samples_train + n_samples_test\n",
    "scalars = [1 / 3, 1 / 3, 1 / 3]\n",
    "\n",
    "cv = 10\n",
    "alphas = np.logspace(-5, 5, 10)"
   ],
   "id": "b7a438f228379129"
  },
  {
   "metadata": {},
   "cell_type": "code",
   "outputs": [],
   "execution_count": null,
   "source": [
    "nstep = 24\n",
    "noise_levels = np.logspace(-5.0, 0.0, nstep)\n",
    "noise_levels = np.insert(noise_levels, 0, 0.0)\n",
    "noise_levels"
   ],
   "id": "bf5e4a31c09a5330"
  },
  {
   "metadata": {},
   "cell_type": "code",
   "outputs": [],
   "execution_count": null,
   "source": "save_scores(noise_levels, d_list, scalars, n_targets, n_samples, cv, alphas)",
   "id": "f3d311a75f339e77"
  },
  {
   "metadata": {},
   "cell_type": "markdown",
   "source": "# Plot scores",
   "id": "59733bdb308f0cf5"
  },
  {
   "metadata": {},
   "cell_type": "code",
   "outputs": [],
   "execution_count": null,
   "source": [
    "vp = pd.DataFrame()\n",
    "rm = pd.DataFrame()\n",
    "\n",
    "all_levels = get_experiments(alphas, cv, n_targets)\n",
    "print(all_levels)\n",
    "for i, noise_level in enumerate(all_levels):\n",
    "    scores = pd.read_csv(os.path.join(get_path(alphas, cv, n_targets), f\"scores_{noise_level}.csv\"))\n",
    "    vp_x1_unique_predicted = scores['vp_x1_unique_score']\n",
    "    vp_scores = pd.DataFrame({\n",
    "        'noise_target': [noise_level] * len(vp_x1_unique_predicted),\n",
    "        'vp_x1_unique_score': vp_x1_unique_predicted,\n",
    "    }, index=range(len(vp_x1_unique_predicted)))\n",
    "\n",
    "    rm_x1_unique_score = scores['rm_x1_unique_score']\n",
    "    rm_scores = pd.DataFrame({\n",
    "        'noise_target': [noise_level] * len(vp_x1_unique_predicted),\n",
    "        'rm_x1_unique_score': rm_x1_unique_score,\n",
    "    }, index=range(len(vp_x1_unique_predicted)))\n",
    "\n",
    "    vp = pd.concat([vp, vp_scores], ignore_index=True)\n",
    "    rm = pd.concat([rm, rm_scores], ignore_index=True)\n",
    "vp.head()"
   ],
   "id": "351ae4b76c61b15f"
  },
  {
   "metadata": {},
   "cell_type": "code",
   "outputs": [],
   "execution_count": null,
   "source": [
    "sns.lineplot(data=vp, x='noise_target', y='vp_x1_unique_score', label='Variance Partitioning', errorbar='sd')\n",
    "# plt.fill_between(vp['noise_target'], vp['vp_x1_lower_se'], vp['vp_x1_upper_se'], alpha=0.3)\n",
    "sns.lineplot(data=rm, x='noise_target', y='rm_x1_unique_score', label='Residual Method', errorbar='sd')\n",
    "# plt.fill_between(rm['noise_target'], rm['rm_x1_lower_se'], rm['rm_x1_upper_se'], alpha=0.3)\n",
    "plt.axhline(scalars[1], linestyle='--', label='true unique variance')\n",
    "plt.xlabel(r\"Proportion of noise ($\\alpha_E$)\")\n",
    "plt.ylabel(r\"$R^2$\")\n",
    "plt.xscale('log')"
   ],
   "id": "6d65e3b98a3c7f0a"
  }
 ],
 "metadata": {
  "kernelspec": {
   "display_name": "Python 3",
   "language": "python",
   "name": "python3"
  },
  "language_info": {
   "codemirror_mode": {
    "name": "ipython",
    "version": 2
   },
   "file_extension": ".py",
   "mimetype": "text/x-python",
   "name": "python",
   "nbconvert_exporter": "python",
   "pygments_lexer": "ipython2",
   "version": "2.7.6"
  }
 },
 "nbformat": 4,
 "nbformat_minor": 5
}
