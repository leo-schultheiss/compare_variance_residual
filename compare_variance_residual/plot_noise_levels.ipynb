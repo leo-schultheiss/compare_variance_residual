{
 "cells": [
  {
   "metadata": {
    "ExecuteTime": {
     "end_time": "2025-02-20T18:44:25.348967Z",
     "start_time": "2025-02-20T18:44:24.448375Z"
    }
   },
   "cell_type": "code",
   "source": [
    "import os\n",
    "import random\n",
    "import warnings\n",
    "\n",
    "import matplotlib.pyplot as plt\n",
    "import simplstyles\n",
    "import numpy as np\n",
    "import pandas as pd\n",
    "import seaborn as sns\n",
    "from himalaya.backend import set_backend\n",
    "\n",
    "from compare_variance_residual.residual import residual_method\n",
    "from compare_variance_residual.simulation import generate_dataset, save_scores\n",
    "from compare_variance_residual.variance_partitioning import variance_partitioning"
   ],
   "id": "9ddd33b8ef97bc90",
   "outputs": [],
   "execution_count": 1
  },
  {
   "metadata": {
    "ExecuteTime": {
     "end_time": "2025-02-20T18:44:25.362780Z",
     "start_time": "2025-02-20T18:44:25.353782Z"
    }
   },
   "cell_type": "code",
   "source": [
    "def get_path(alphas, cv, n_targets):\n",
    "    path = os.path.join(\"results\", f\"targets={n_targets}\", f\"cv={cv}\",\n",
    "                        f\"alphas={alphas.min()},{alphas.max()},{len(alphas)}\", \"varying noise\")\n",
    "    os.makedirs(path, exist_ok=True)\n",
    "    return path"
   ],
   "id": "4e578e5db6242f48",
   "outputs": [],
   "execution_count": 2
  },
  {
   "metadata": {
    "ExecuteTime": {
     "end_time": "2025-02-20T18:44:25.478751Z",
     "start_time": "2025-02-20T18:44:25.475872Z"
    }
   },
   "cell_type": "code",
   "source": [
    "def get_experiments(alphas, cv, n_targets):\n",
    "    path = get_path(alphas, cv, n_targets)\n",
    "    experiments = []\n",
    "    for file in os.listdir(path):\n",
    "        if file.endswith(\".csv\"):\n",
    "            variable = file.split(\"_\")[1].split(\".csv\")[0]\n",
    "            # parse variable\n",
    "            noise = float(variable)\n",
    "            experiments.append(noise)\n",
    "    return experiments"
   ],
   "id": "82d3fc24b1a6bb7e",
   "outputs": [],
   "execution_count": 3
  },
  {
   "metadata": {},
   "cell_type": "markdown",
   "source": "# Save scores for varying noise levels",
   "id": "d00dc772f2ffa917"
  },
  {
   "metadata": {
    "ExecuteTime": {
     "end_time": "2025-02-20T18:44:26.708879Z",
     "start_time": "2025-02-20T18:44:25.570497Z"
    }
   },
   "cell_type": "code",
   "source": [
    "backend = set_backend(\"cupy\", on_error=\"warn\")\n",
    "warnings.filterwarnings(\"ignore\")\n",
    "random.seed(42)\n",
    "plt.style.use('nord-light-talk')"
   ],
   "id": "3ff0a44e33077917",
   "outputs": [],
   "execution_count": 5
  },
  {
   "metadata": {
    "ExecuteTime": {
     "end_time": "2025-02-20T18:44:26.716422Z",
     "start_time": "2025-02-20T18:44:26.713937Z"
    }
   },
   "cell_type": "code",
   "source": [
    "d_list = [100, 100, 100]\n",
    "n_targets = 10000\n",
    "n_samples_train = 10000\n",
    "n_samples_test = 100\n",
    "n_samples = n_samples_train + n_samples_test\n",
    "scalars = [1 / 3, 1 / 3, 1 / 3]\n",
    "\n",
    "cv = 10\n",
    "alphas = np.logspace(-5, 5, 10)\n",
    "path = get_path(alphas, cv, n_targets)"
   ],
   "id": "b7a438f228379129",
   "outputs": [],
   "execution_count": 6
  },
  {
   "metadata": {
    "ExecuteTime": {
     "end_time": "2025-02-20T18:44:45.114557Z",
     "start_time": "2025-02-20T18:44:45.111476Z"
    }
   },
   "cell_type": "code",
   "source": [
    "nstep = 11\n",
    "noise_levels = np.linspace(0, 1, nstep)\n",
    "noise_levels"
   ],
   "id": "bf5e4a31c09a5330",
   "outputs": [
    {
     "data": {
      "text/plain": [
       "array([0. , 0.1, 0.2, 0.3, 0.4, 0.5, 0.6, 0.7, 0.8, 0.9, 1. ])"
      ]
     },
     "execution_count": 9,
     "metadata": {},
     "output_type": "execute_result"
    }
   ],
   "execution_count": 9
  },
  {
   "metadata": {
    "ExecuteTime": {
     "end_time": "2025-02-20T19:39:57.255491Z",
     "start_time": "2025-02-20T18:44:45.606521Z"
    }
   },
   "cell_type": "code",
   "source": "save_scores(path, noise_levels, d_list, scalars, n_targets, n_samples, cv, alphas)",
   "id": "f3d311a75f339e77",
   "outputs": [
    {
     "name": "stdout",
     "output_type": "stream",
     "text": [
      "0.0\n",
      "skipping, already exists\n",
      "0.1\n",
      "skipping, already exists\n",
      "0.2\n",
      "skipping, already exists\n",
      "0.30000000000000004\n",
      "data generated\n",
      "variance partitioning done\n",
      "   x1_score  x2_score  vp_joint_score  vp_shared_score  vp_x1_unique_score  \\\n",
      "0  0.387284  0.396526        0.658230         0.125580            0.261705   \n",
      "1  0.423429  0.462979        0.672119         0.214290            0.209139   \n",
      "2  0.547224  0.588325        0.815820         0.319729            0.227495   \n",
      "3  0.446707  0.529417        0.721508         0.254616            0.192091   \n",
      "4  0.394629  0.446523        0.712315         0.128837            0.265792   \n",
      "\n",
      "   vp_x2_unique_score  \n",
      "0            0.270946  \n",
      "1            0.248690  \n",
      "2            0.268596  \n",
      "3            0.274801  \n",
      "4            0.317686  \n",
      "residual method done\n",
      "0.4\n",
      "data generated\n",
      "variance partitioning done\n",
      "   x1_score  x2_score  vp_joint_score  vp_shared_score  vp_x1_unique_score  \\\n",
      "0  0.299597  0.308292        0.531459         0.076429            0.223168   \n",
      "1  0.362636  0.403061        0.577212         0.188484            0.174151   \n",
      "2  0.503506  0.535276        0.745868         0.292913            0.210593   \n",
      "3  0.381851  0.471748        0.631531         0.222067            0.159783   \n",
      "4  0.330971  0.392951        0.614334         0.109588            0.221383   \n",
      "\n",
      "   vp_x2_unique_score  \n",
      "0            0.231863  \n",
      "1            0.214577  \n",
      "2            0.242363  \n",
      "3            0.249680  \n",
      "4            0.283363  \n",
      "residual method done\n",
      "0.5\n",
      "data generated\n",
      "variance partitioning done\n",
      "   x1_score  x2_score  vp_joint_score  vp_shared_score  vp_x1_unique_score  \\\n",
      "0  0.214456  0.220911        0.404424         0.030943            0.183513   \n",
      "1  0.302970  0.344580        0.484984         0.162565            0.140405   \n",
      "2  0.454294  0.476721        0.668341         0.262674            0.191620   \n",
      "3  0.316804  0.411490        0.540179         0.188115            0.128689   \n",
      "4  0.267439  0.335387        0.513691         0.089135            0.178304   \n",
      "\n",
      "   vp_x2_unique_score  \n",
      "0            0.189968  \n",
      "1            0.182015  \n",
      "2            0.214047  \n",
      "3            0.223375  \n",
      "4            0.246252  \n",
      "residual method done\n",
      "0.6000000000000001\n",
      "data generated\n",
      "variance partitioning done\n",
      "   x1_score  x2_score  vp_joint_score  vp_shared_score  vp_x1_unique_score  \\\n",
      "0  0.134144  0.136778        0.280647        -0.009726            0.143870   \n",
      "1  0.243669  0.286749        0.394146         0.136272            0.107397   \n",
      "2  0.398225  0.411122        0.581273         0.228073            0.170151   \n",
      "3  0.250801  0.348070        0.446437         0.152434            0.098367   \n",
      "4  0.203773  0.273720        0.410180         0.067312            0.136461   \n",
      "\n",
      "   vp_x2_unique_score  \n",
      "0            0.146504  \n",
      "1            0.150477  \n",
      "2            0.183049  \n",
      "3            0.195636  \n",
      "4            0.206408  \n",
      "residual method done\n",
      "0.7000000000000001\n",
      "data generated\n",
      "variance partitioning done\n",
      "   x1_score  x2_score  vp_joint_score  vp_shared_score  vp_x1_unique_score  \\\n",
      "0  0.061495  0.058732        0.163809        -0.043582            0.105077   \n",
      "1  0.183803  0.228667        0.303285         0.109185            0.074619   \n",
      "2  0.333215  0.336295        0.481526         0.187984            0.145231   \n",
      "3  0.182980  0.280467        0.348479         0.114968            0.068012   \n",
      "4  0.139880  0.207438        0.303996         0.043321            0.096558   \n",
      "\n",
      "   vp_x2_unique_score  \n",
      "0            0.102314  \n",
      "1            0.119482  \n",
      "2            0.148311  \n",
      "3            0.165499  \n",
      "4            0.164117  \n",
      "residual method done\n",
      "0.8\n",
      "data generated\n",
      "variance partitioning done\n",
      "   x1_score  x2_score  vp_joint_score  vp_shared_score  vp_x1_unique_score  \\\n",
      "0  0.015940  0.005055        0.059898        -0.038903            0.054843   \n",
      "1  0.121940  0.156712        0.211436         0.067217            0.054724   \n",
      "2  0.231592  0.223346        0.363624         0.091314            0.140278   \n",
      "3  0.101943  0.179248        0.244266         0.036925            0.065018   \n",
      "4  0.087133  0.143223        0.192712         0.037644            0.049489   \n",
      "\n",
      "   vp_x2_unique_score  \n",
      "0            0.043958  \n",
      "1            0.089495  \n",
      "2            0.132032  \n",
      "3            0.142323  \n",
      "4            0.105579  \n",
      "residual method done\n",
      "0.9\n",
      "data generated\n",
      "variance partitioning done\n",
      "   x1_score  x2_score  vp_joint_score  vp_shared_score  vp_x1_unique_score  \\\n",
      "0 -0.030357 -0.048399       -0.010082        -0.068675            0.038317   \n",
      "1  0.056014  0.096714        0.101121         0.051607            0.004407   \n",
      "2  0.143303  0.126626        0.191305         0.078623            0.064680   \n",
      "3  0.032525  0.102174        0.107862         0.026838            0.005688   \n",
      "4  0.025997  0.067967        0.082820         0.011145            0.014852   \n",
      "\n",
      "   vp_x2_unique_score  \n",
      "0            0.020276  \n",
      "1            0.045107  \n",
      "2            0.048003  \n",
      "3            0.075337  \n",
      "4            0.056822  \n",
      "residual method done\n",
      "1.0\n",
      "skipping, already exists\n"
     ]
    }
   ],
   "execution_count": 10
  },
  {
   "metadata": {},
   "cell_type": "markdown",
   "source": "# Plot scores",
   "id": "59733bdb308f0cf5"
  },
  {
   "metadata": {
    "ExecuteTime": {
     "end_time": "2025-02-20T19:39:57.531267Z",
     "start_time": "2025-02-20T19:39:57.343844Z"
    }
   },
   "cell_type": "code",
   "source": [
    "vp = pd.DataFrame()\n",
    "rm = pd.DataFrame()\n",
    "\n",
    "all_levels = get_experiments(alphas, cv, n_targets)\n",
    "print(all_levels)\n",
    "for i, noise_level in enumerate(all_levels):\n",
    "    scores = pd.read_csv(os.path.join(get_path(alphas, cv, n_targets), f\"scores_{noise_level}.csv\"))\n",
    "    vp_x1_unique_predicted = scores['vp_x1_unique_score']\n",
    "    vp_scores = pd.DataFrame({\n",
    "        'noise_target': [noise_level] * len(vp_x1_unique_predicted),\n",
    "        'vp_x1_unique_score': vp_x1_unique_predicted,\n",
    "    }, index=range(len(vp_x1_unique_predicted)))\n",
    "\n",
    "    rm_x1_unique_score = scores['rm_x1_unique_score']\n",
    "    rm_scores = pd.DataFrame({\n",
    "        'noise_target': [noise_level] * len(vp_x1_unique_predicted),\n",
    "        'rm_x1_unique_score': rm_x1_unique_score,\n",
    "    }, index=range(len(vp_x1_unique_predicted)))\n",
    "\n",
    "    vp = pd.concat([vp, vp_scores], ignore_index=True)\n",
    "    rm = pd.concat([rm, rm_scores], ignore_index=True)\n",
    "vp.head()"
   ],
   "id": "351ae4b76c61b15f",
   "outputs": [
    {
     "name": "stdout",
     "output_type": "stream",
     "text": [
      "[0.0, 0.05, 0.2, 0.4, 0.9, 0.25, 0.5, 0.15000000000000002, 1.0, 0.8, 0.1, 0.6000000000000001, 0.30000000000000004, 0.7000000000000001]\n"
     ]
    },
    {
     "data": {
      "text/plain": [
       "   noise_target  vp_x1_unique_score\n",
       "0           0.0            0.351996\n",
       "1           0.0            0.334528\n",
       "2           0.0            0.270543\n",
       "3           0.0            0.323304\n",
       "4           0.0            0.438242"
      ],
      "text/html": [
       "<div>\n",
       "<style scoped>\n",
       "    .dataframe tbody tr th:only-of-type {\n",
       "        vertical-align: middle;\n",
       "    }\n",
       "\n",
       "    .dataframe tbody tr th {\n",
       "        vertical-align: top;\n",
       "    }\n",
       "\n",
       "    .dataframe thead th {\n",
       "        text-align: right;\n",
       "    }\n",
       "</style>\n",
       "<table border=\"1\" class=\"dataframe\">\n",
       "  <thead>\n",
       "    <tr style=\"text-align: right;\">\n",
       "      <th></th>\n",
       "      <th>noise_target</th>\n",
       "      <th>vp_x1_unique_score</th>\n",
       "    </tr>\n",
       "  </thead>\n",
       "  <tbody>\n",
       "    <tr>\n",
       "      <th>0</th>\n",
       "      <td>0.0</td>\n",
       "      <td>0.351996</td>\n",
       "    </tr>\n",
       "    <tr>\n",
       "      <th>1</th>\n",
       "      <td>0.0</td>\n",
       "      <td>0.334528</td>\n",
       "    </tr>\n",
       "    <tr>\n",
       "      <th>2</th>\n",
       "      <td>0.0</td>\n",
       "      <td>0.270543</td>\n",
       "    </tr>\n",
       "    <tr>\n",
       "      <th>3</th>\n",
       "      <td>0.0</td>\n",
       "      <td>0.323304</td>\n",
       "    </tr>\n",
       "    <tr>\n",
       "      <th>4</th>\n",
       "      <td>0.0</td>\n",
       "      <td>0.438242</td>\n",
       "    </tr>\n",
       "  </tbody>\n",
       "</table>\n",
       "</div>"
      ]
     },
     "execution_count": 11,
     "metadata": {},
     "output_type": "execute_result"
    }
   ],
   "execution_count": 11
  },
  {
   "metadata": {
    "ExecuteTime": {
     "end_time": "2025-02-20T19:48:29.640886Z",
     "start_time": "2025-02-20T19:48:29.246646Z"
    }
   },
   "cell_type": "code",
   "source": [
    "sns.lineplot(data=vp, x='noise_target', y='vp_x1_unique_score', label='Variance Partitioning', errorbar='sd')\n",
    "sns.lineplot(data=rm, x='noise_target', y='rm_x1_unique_score', label='Residual Method', errorbar='sd')\n",
    "plt.axhline(scalars[1], linestyle='--', label='true unique variance')\n",
    "plt.xlabel(r\"Relative proportion of noise ($\\alpha_E$)\")\n",
    "plt.ylabel(r\"$R^2$\")"
   ],
   "id": "6d65e3b98a3c7f0a",
   "outputs": [
    {
     "data": {
      "text/plain": [
       "Text(0, 0.5, '$R^2$')"
      ]
     },
     "execution_count": 13,
     "metadata": {},
     "output_type": "execute_result"
    },
    {
     "data": {
      "text/plain": [
       "<Figure size 640x480 with 1 Axes>"
      ],
      "image/png": "[encoded data removed]"
     },
     "metadata": {},
     "output_type": "display_data"
    }
   ],
   "execution_count": 13
  }
 ],
 "metadata": {
  "kernelspec": {
   "display_name": "Python 3",
   "language": "python",
   "name": "python3"
  },
  "language_info": {
   "codemirror_mode": {
    "name": "ipython",
    "version": 2
   },
   "file_extension": ".py",
   "mimetype": "text/x-python",
   "name": "python",
   "nbconvert_exporter": "python",
   "pygments_lexer": "ipython2",
   "version": "2.7.6"
  }
 },
 "nbformat": 4,
 "nbformat_minor": 5
}
