{
 "cells": [
  {
   "metadata": {},
   "cell_type": "code",
   "source": [
    "import os\n",
    "import random\n",
    "import warnings\n",
    "\n",
    "import numpy as np\n",
    "import pandas as pd\n",
    "import seaborn as sns\n",
    "from himalaya.backend import set_backend\n",
    "\n",
    "from compare_variance_residual.residual import residual_method\n",
    "from compare_variance_residual.simulation import generate_dataset\n",
    "from compare_variance_residual.variance_partitioning import variance_partitioning"
   ],
   "id": "c30ae19c69b4c6ea",
   "outputs": [],
   "execution_count": null
  },
  {
   "metadata": {
    "ExecuteTime": {
     "end_time": "2025-02-19T19:38:16.794856Z",
     "start_time": "2025-02-19T19:38:16.702123Z"
    }
   },
   "cell_type": "code",
   "outputs": [],
   "execution_count": 1,
   "source": [
    "def get_path(alphas, cv, n_targets):\n",
    "    path = os.path.join(\"results\", f\"targets={n_targets}\", f\"cv={cv}\",\n",
    "                        f\"alphas={alphas.min()},{alphas.max()},{len(alphas)}\", \"varying noise\")\n",
    "    os.makedirs(path, exist_ok=True)\n",
    "    return path"
   ],
   "id": "7214bbfbd22e42b9"
  },
  {
   "metadata": {
    "ExecuteTime": {
     "end_time": "2025-02-19T19:38:16.803775Z",
     "start_time": "2025-02-19T19:38:16.798801Z"
    }
   },
   "cell_type": "code",
   "source": [
    "def save_scores(noise_levels, scalars, d_list, n_targets, n_samples, cv, alphas):\n",
    "    path = get_path(alphas, cv, n_targets)\n",
    "    for noise_target in noise_levels:\n",
    "        print(d_list)\n",
    "        csv_path = os.path.join(path, f\"scores_{noise_target}.csv\")\n",
    "        scores = pd.DataFrame()\n",
    "        if os.path.exists(csv_path):\n",
    "            print(\"skipping, already exists\")\n",
    "            continue\n",
    "        Xs, Y = generate_dataset(d_list, scalars, n_targets, n_samples, noise_target)\n",
    "        print(\"data generated\")\n",
    "        x1_score, x2_score, joint_score, x1_and_x2_score, vp_x1_unique_score, vp_x2_unique_score = variance_partitioning(\n",
    "            Xs, Y, n_samples_train, alphas, cv)\n",
    "        print(\"variance partitioning done\")\n",
    "\n",
    "        scores[\"x1_score\"] = x1_score\n",
    "        scores[\"x2_score\"] = x2_score\n",
    "        scores[\"vp_joint_score\"] = joint_score\n",
    "        scores[\"vp_shared_score\"] = x1_and_x2_score\n",
    "        scores[\"vp_x1_unique_score\"] = vp_x1_unique_score\n",
    "        scores[\"vp_x2_unique_score\"] = vp_x2_unique_score\n",
    "        del x1_score, x2_score, joint_score, x1_and_x2_score, vp_x1_unique_score, vp_x2_unique_score\n",
    "        print(scores.head())\n",
    "\n",
    "        _, _, x2_to_x1_score, x1_to_x2_score, rm_x1_unique_score, rm_x2_unique_score = residual_method(\n",
    "            Xs, Y, n_samples_train, alphas, cv)\n",
    "        print(\"residual method done\")\n",
    "        scores[\"rm_x2_to_x1_score\"] = np.concatenate(\n",
    "            [x2_to_x1_score, np.full(len(rm_x1_unique_score) - len(x2_to_x1_score), np.nan)])\n",
    "        scores[\"rm_x1_to_x2_score\"] = np.concatenate(\n",
    "            [x1_to_x2_score, np.full(len(rm_x1_unique_score) - len(x1_to_x2_score), np.nan)])\n",
    "        scores[\"rm_x1_unique_score\"] = rm_x1_unique_score\n",
    "        scores[\"rm_x2_unique_score\"] = rm_x2_unique_score\n",
    "        del x2_to_x1_score, x1_to_x2_score, rm_x1_unique_score, rm_x2_unique_score\n",
    "        del Xs, Y\n",
    "        scores.to_csv(csv_path, index=False)"
   ],
   "id": "e892fc1cda6d373f",
   "outputs": [],
   "execution_count": 2
  },
  {
   "metadata": {},
   "cell_type": "markdown",
   "source": "# Save scores for varying noise levels",
   "id": "29652e5a7524e7c8"
  },
  {
   "metadata": {
    "ExecuteTime": {
     "end_time": "2025-02-19T19:38:17.060070Z",
     "start_time": "2025-02-19T19:38:16.887746Z"
    }
   },
   "cell_type": "code",
   "source": [
    "backend = set_backend(\"cupy\", on_error=\"warn\")\n",
    "warnings.filterwarnings(\"ignore\")\n",
    "random.seed(42)"
   ],
   "id": "d88dce6a0ca359b5",
   "outputs": [],
   "execution_count": 3
  },
  {
   "metadata": {
    "ExecuteTime": {
     "end_time": "2025-02-19T19:38:17.068519Z",
     "start_time": "2025-02-19T19:38:17.065973Z"
    }
   },
   "cell_type": "code",
   "source": [
    "d_list = [100, 100, 100]\n",
    "n_targets = 10000\n",
    "n_samples_train = 10000\n",
    "n_samples_test = 100\n",
    "n_samples = n_samples_train + n_samples_test\n",
    "scalars = [1 / 3, 1 / 3, 1 / 3]\n",
    "\n",
    "cv = 10\n",
    "alphas = np.logspace(-5, 5, 10)"
   ],
   "id": "7d22e5e47c2bd337",
   "outputs": [],
   "execution_count": 4
  },
  {
   "metadata": {
    "ExecuteTime": {
     "end_time": "2025-02-19T19:38:17.111761Z",
     "start_time": "2025-02-19T19:38:17.109082Z"
    }
   },
   "cell_type": "code",
   "source": "noise_levels = [0.01, 0.1, 0.5, 1]",
   "id": "d13ef57f64a8417f",
   "outputs": [],
   "execution_count": 5
  },
  {
   "metadata": {
    "ExecuteTime": {
     "end_time": "2025-02-19T19:54:35.118250Z",
     "start_time": "2025-02-19T19:38:17.204286Z"
    }
   },
   "cell_type": "code",
   "source": "save_scores(noise_levels, scalars, d_list, n_targets, n_samples, cv, alphas)",
   "id": "5115fc2bfda7cdc5",
   "outputs": [
    {
     "name": "stdout",
     "output_type": "stream",
     "text": [
      "[np.int64(10), 100, 100]\n",
      "skipping, already exists\n",
      "[np.int64(100), 100, 100]\n",
      "skipping, already exists\n",
      "[np.int64(1000), 100, 100]\n",
      "data generated\n",
      "variance partitioning done\n",
      "   x1_score  x2_score  vp_joint_score  vp_shared_score  vp_x1_unique_score  \\\n",
      "0  0.461371  0.459514        0.874169         0.046716            0.414655   \n",
      "1  0.535339  0.573399        0.895665         0.213072            0.322267   \n",
      "2  0.568278  0.554833        0.878547         0.244565            0.323714   \n",
      "3  0.375521  0.464975        0.875263        -0.034768            0.410289   \n",
      "4  0.588965  0.537196        0.908395         0.217765            0.371200   \n",
      "\n",
      "   vp_x2_unique_score  \n",
      "0            0.412797  \n",
      "1            0.360327  \n",
      "2            0.310269  \n",
      "3            0.499742  \n",
      "4            0.319430  \n",
      "residual method done\n"
     ]
    }
   ],
   "execution_count": 7
  },
  {
   "metadata": {},
   "cell_type": "markdown",
   "source": "## Unique dimension",
   "id": "b61808a59caffdcf"
  },
  {
   "metadata": {
    "ExecuteTime": {
     "end_time": "2025-02-19T19:54:35.173887Z",
     "start_time": "2025-02-19T19:54:35.170868Z"
    }
   },
   "cell_type": "code",
   "source": "d_list_list = [[d_list[0], dim, d_list[2]] for dim in varying_dim]",
   "id": "de452254c43fe0aa",
   "outputs": [],
   "execution_count": 8
  },
  {
   "metadata": {
    "jupyter": {
     "is_executing": true
    },
    "ExecuteTime": {
     "start_time": "2025-02-19T19:54:35.627484Z"
    }
   },
   "cell_type": "code",
   "source": "save_scores(d_list_list, d_list, n_targets, n_samples, noise_target, cv, alphas)",
   "id": "8fdfb1e255f5218a",
   "outputs": [
    {
     "name": "stdout",
     "output_type": "stream",
     "text": [
      "[100, np.int64(10), 100]\n",
      "data generated\n"
     ]
    }
   ],
   "execution_count": null
  },
  {
   "metadata": {},
   "cell_type": "markdown",
   "source": "# Plot scores",
   "id": "63f6300da18ff5af"
  },
  {
   "metadata": {},
   "cell_type": "code",
   "outputs": [],
   "execution_count": null,
   "source": [
    "vp_x1_unique_predicted = []\n",
    "vp_x2_unique_predicted = []\n",
    "rm_x1_unique_predicted = []\n",
    "rm_x2_unique_predicted = []\n",
    "\n",
    "for d_list in d_list_list:\n",
    "    scores = pd.read_csv(os.path.join(get_path(alphas, cv, n_samples, n_targets, noise_target), f\"scores_{d_list}.csv\"))\n",
    "    vp_x1_unique_predicted.append(scores[\"vp_x1_unique_score\"])\n",
    "    vp_x2_unique_predicted.append(scores[\"vp_x2_unique_score\"])\n",
    "    rm_x1_unique_predicted.append(scores[\"rm_x1_unique_score\"])\n",
    "    rm_x2_unique_predicted.append(scores[\"rm_x2_unique_score\"])"
   ],
   "id": "5d1b00874386e234"
  },
  {
   "metadata": {},
   "cell_type": "code",
   "outputs": [],
   "execution_count": null,
   "source": "sns.catplot(data=pd.DataFrame(vp_x1_unique_predicted).T)",
   "id": "584dbe676ed596d1"
  }
 ],
 "metadata": {
  "kernelspec": {
   "display_name": "Python 3",
   "language": "python",
   "name": "python3"
  },
  "language_info": {
   "codemirror_mode": {
    "name": "ipython",
    "version": 2
   },
   "file_extension": ".py",
   "mimetype": "text/x-python",
   "name": "python",
   "nbconvert_exporter": "python",
   "pygments_lexer": "ipython2",
   "version": "2.7.6"
  }
 },
 "nbformat": 4,
 "nbformat_minor": 5
}
