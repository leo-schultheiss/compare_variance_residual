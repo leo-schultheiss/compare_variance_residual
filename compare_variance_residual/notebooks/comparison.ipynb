{
 "cells": [
  {
   "cell_type": "markdown",
   "metadata": {
    "editable": true,
    "slideshow": {
     "slide_type": ""
    },
    "tags": []
   },
   "source": [
    "# Variance Partitioning"
   ]
  },
  {
   "cell_type": "code",
   "metadata": {
    "collapsed": false,
    "jupyter": {
     "outputs_hidden": false
    },
    "ExecuteTime": {
     "end_time": "2024-12-17T13:23:18.594394Z",
     "start_time": "2024-12-17T13:23:18.591841Z"
    }
   },
   "source": [
    "import numpy as np\n",
    "\n",
    "from himalaya.backend import set_backend, get_backend\n",
    "from himalaya.kernel_ridge import KernelRidgeCV, MultipleKernelRidgeCV\n",
    "from himalaya.kernel_ridge import Kernelizer\n",
    "from himalaya.kernel_ridge import ColumnKernelizer\n",
    "from himalaya.kernel_ridge import generate_dirichlet_samples\n",
    "\n",
    "from sklearn.pipeline import make_pipeline\n",
    "from sklearn import set_config\n",
    "set_config(display='diagram')"
   ],
   "outputs": [],
   "execution_count": 51
  },
  {
   "cell_type": "markdown",
   "metadata": {
    "editable": true,
    "slideshow": {
     "slide_type": ""
    },
    "tags": []
   },
   "source": [
    "In this example, we use the ``cupy`` backend (GPU).\n",
    "\n"
   ]
  },
  {
   "cell_type": "code",
   "metadata": {
    "collapsed": false,
    "jupyter": {
     "outputs_hidden": false
    },
    "ExecuteTime": {
     "end_time": "2024-12-17T13:23:18.640061Z",
     "start_time": "2024-12-17T13:23:18.637977Z"
    }
   },
   "source": [
    "backend = set_backend(\"cupy\", on_error=\"warn\")"
   ],
   "outputs": [],
   "execution_count": 52
  },
  {
   "cell_type": "code",
   "metadata": {
    "ExecuteTime": {
     "end_time": "2024-12-17T13:23:18.749952Z",
     "start_time": "2024-12-17T13:23:18.744348Z"
    }
   },
   "source": [
    "def generate_multikernel_dataset(n_kernels=2, n_targets=500,\n",
    "                                 n_samples_train=1000, n_samples_test=400,\n",
    "                                 noise=0.1, kernel_weights=None, overlap=0.8,\n",
    "                                 n_features_list=None, random_state=None):\n",
    "    \"\"\"Utility to generate datasets for the gallery of examples.\n",
    "\n",
    "    Parameters\n",
    "    ----------\n",
    "    n_kernels : int\n",
    "        Number of kernels.\n",
    "    n_targets : int\n",
    "        Number of targets.\n",
    "    n_samples_train : int\n",
    "        Number of samples in the training set.\n",
    "    n_samples_test : int\n",
    "        Number of sample in the testing set.\n",
    "    noise : float > 0\n",
    "        Scale of the Gaussian white noise added to the targets.\n",
    "    kernel_weights : array of shape (n_targets, n_kernels) or None\n",
    "        Kernel weights used in the prediction of the targets.\n",
    "        If None, generate random kernel weights from a Dirichlet distribution.\n",
    "    overlap: float >= 0\n",
    "    \n",
    "    n_features_list : list of int of length (n_kernels, ) or None\n",
    "        Number of features in each kernel. If None, use 1000 features for each.\n",
    "    random_state : int, or None\n",
    "        Random generator seed use to generate the true kernel weights.\n",
    "\n",
    "    Returns\n",
    "    -------\n",
    "    Xs_train : array of shape (n_feature_spaces, n_samples_train, n_features)\n",
    "        Training features.\n",
    "    Xs_test : array of shape (n_feature_spaces, n_samples_test, n_features)\n",
    "        Testing features.\n",
    "    Y_train : array of shape (n_samples_train, n_targets)\n",
    "        Training targets.\n",
    "    Y_test : array of shape (n_samples_test, n_targets)\n",
    "        Testing targets.\n",
    "    kernel_weights : array of shape (n_targets, n_kernels)\n",
    "        Kernel weights in the prediction of the targets.\n",
    "    n_features_list : list of int of length (n_kernels, )\n",
    "        Number of features in each kernel.\n",
    "    \"\"\"\n",
    "    from himalaya.utils import check_random_state\n",
    "\n",
    "    backend = get_backend()\n",
    "\n",
    "    # Create a few kernel weights if not given.\n",
    "    if kernel_weights is None:\n",
    "        kernel_weights = generate_dirichlet_samples(n_targets, n_kernels,\n",
    "                                                    concentration=[.3],\n",
    "                                                    random_state=random_state)\n",
    "        kernel_weights = backend.to_numpy(kernel_weights)\n",
    "\n",
    "    if n_features_list is None:\n",
    "        n_features_list = np.full(n_kernels, fill_value=1000)\n",
    "\n",
    "    rng = check_random_state(random_state)\n",
    "\n",
    "    # Then, generate a random dataset, using the arbitrary scalings.\n",
    "    Xs_train, Xs_test = [], []\n",
    "    Y_train, Y_test = None, None\n",
    "    \n",
    "    # Generate a shared component Z\n",
    "    Z_train = np.random.rand(n_samples_train, 1)\n",
    "    Z_test = np.random.rand(n_samples_test, 1)\n",
    "    \n",
    "    for ii in range(n_kernels):\n",
    "        n_features = n_features_list[ii]\n",
    "\n",
    "        X_train = rng.randn(n_samples_train, n_features)\n",
    "        X_test = rng.randn(n_samples_test, n_features)\n",
    "        X_train = overlap * Z_train + (1-overlap) * X_train\n",
    "        X_test = overlap * Z_test + (1-overlap) * X_test\n",
    "        X_train -= X_train.mean(0)\n",
    "        X_test -= X_test.mean(0)\n",
    "        Xs_train.append(X_train)\n",
    "        Xs_test.append(X_test)\n",
    "\n",
    "        weights = rng.randn(n_features, n_targets) / n_features\n",
    "        weights *= kernel_weights[:, ii] ** 0.5\n",
    "\n",
    "        if ii == 0:\n",
    "            Y_train = X_train @ weights\n",
    "            Y_test = X_test @ weights\n",
    "        else:\n",
    "            Y_train += X_train @ weights\n",
    "            Y_test += X_test @ weights\n",
    "\n",
    "    std = Y_train.std(0)[None]\n",
    "    Y_train /= std\n",
    "    Y_test /= std\n",
    "\n",
    "    Y_train += rng.randn(n_samples_train, n_targets) * noise\n",
    "    Y_test += rng.randn(n_samples_test, n_targets) * noise\n",
    "    Y_train -= Y_train.mean(0)\n",
    "    Y_test -= Y_test.mean(0)\n",
    "\n",
    "    # Concatenate the feature spaces.\n",
    "    Xs_train = backend.asarray(Xs_train, dtype=\"float32\")\n",
    "    Xs_test = backend.asarray(Xs_test, dtype=\"float32\")\n",
    "    Y_train = backend.asarray(Y_train, dtype=\"float32\")\n",
    "    Y_test = backend.asarray(Y_test, dtype=\"float32\")\n",
    "    kernel_weights = backend.asarray(kernel_weights, dtype=\"float32\")\n",
    "\n",
    "    return Xs_train, Xs_test, Y_train, Y_test, kernel_weights, n_features_list"
   ],
   "outputs": [],
   "execution_count": 53
  },
  {
   "cell_type": "markdown",
   "metadata": {
    "editable": true,
    "slideshow": {
     "slide_type": ""
    },
    "tags": []
   },
   "source": [
    "## Generate a random dataset\n",
    "- X_train : array of shape (n_samples_train, n_features)\n",
    "- X_test : array of shape (n_samples_test, n_features)\n",
    "- Y_train : array of shape (n_samples_train, n_targets)\n",
    "- Y_test : array of shape (n_samples_test, n_targets)"
   ]
  },
  {
   "cell_type": "code",
   "metadata": {
    "ExecuteTime": {
     "end_time": "2024-12-17T13:23:18.853714Z",
     "start_time": "2024-12-17T13:23:18.851271Z"
    }
   },
   "source": [
    "n_kernels = 2\n",
    "n_features_list = [1000, 1000]\n",
    "n_targets = 1000\n",
    "n_samples_train = 600\n",
    "n_samples_test = 300\n",
    "kernel_weights = [[0.7, 0.3]] * n_targets\n",
    "kernel_weights = np.array(kernel_weights)"
   ],
   "outputs": [],
   "execution_count": 54
  },
  {
   "cell_type": "code",
   "metadata": {
    "collapsed": false,
    "jupyter": {
     "outputs_hidden": false
    },
    "ExecuteTime": {
     "end_time": "2024-12-17T13:23:19.119026Z",
     "start_time": "2024-12-17T13:23:18.952660Z"
    }
   },
   "source": [
    "(Xs_train, Xs_test, Y_train, Y_test, kernel_weights, n_features_list) = generate_multikernel_dataset(n_kernels=n_kernels, n_features_list=n_features_list, n_targets=n_targets,\n",
    "                                                                                                    n_samples_train=n_samples_train,\n",
    "                                                                                                    n_samples_test=n_samples_test,\n",
    "                                                                                                    kernel_weights=kernel_weights,\n",
    "                                                                                                    random_state=42)\n",
    "\n",
    "\n",
    "feature_names = [f\"Feature space {ii}\" for ii in range(len(n_features_list))]"
   ],
   "outputs": [],
   "execution_count": 55
  },
  {
   "cell_type": "markdown",
   "metadata": {
    "editable": true,
    "slideshow": {
     "slide_type": ""
    },
    "tags": []
   },
   "source": [
    "# Variance Partitioning"
   ]
  },
  {
   "cell_type": "markdown",
   "metadata": {
    "editable": true,
    "slideshow": {
     "slide_type": ""
    },
    "tags": []
   },
   "source": [
    "## Single models"
   ]
  },
  {
   "cell_type": "code",
   "metadata": {
    "editable": true,
    "slideshow": {
     "slide_type": ""
    },
    "tags": [],
    "ExecuteTime": {
     "end_time": "2024-12-17T13:23:19.508639Z",
     "start_time": "2024-12-17T13:23:19.226733Z"
    }
   },
   "source": [
    "solver_params = dict()\n",
    "\n",
    "single_pipelines = []\n",
    "for feature in range(n_kernels):\n",
    "    single_model = KernelRidgeCV(alphas=np.logspace(-10, 10, 41), kernel=\"precomputed\", solver=\"eigenvalues\", solver_params=solver_params)\n",
    "    \n",
    "    pipe = make_pipeline(Kernelizer(), single_model)\n",
    "    single_pipelines.append(pipe)\n",
    "    pipe.fit(Xs_train[feature], Y_train)"
   ],
   "outputs": [],
   "execution_count": 56
  },
  {
   "cell_type": "markdown",
   "metadata": {
    "editable": true,
    "slideshow": {
     "slide_type": ""
    },
    "tags": []
   },
   "source": [
    "### Compute prediction scores"
   ]
  },
  {
   "cell_type": "code",
   "metadata": {
    "editable": true,
    "slideshow": {
     "slide_type": ""
    },
    "tags": [],
    "ExecuteTime": {
     "end_time": "2024-12-17T13:23:19.616202Z",
     "start_time": "2024-12-17T13:23:19.604496Z"
    }
   },
   "source": [
    "import matplotlib.pyplot as plt\n",
    "\n",
    "# predict for all targets\n",
    "test_scores = []\n",
    "for i, pipeline in enumerate(single_pipelines):\n",
    "    score = pipeline.score(Xs_test[i], Y_test)\n",
    "    score = backend.to_numpy(score)\n",
    "    test_scores.append(score)"
   ],
   "outputs": [],
   "execution_count": 57
  },
  {
   "cell_type": "markdown",
   "metadata": {},
   "source": [
    " ### Plot voxelwise R^2 scores"
   ]
  },
  {
   "cell_type": "code",
   "metadata": {
    "ExecuteTime": {
     "end_time": "2024-12-17T13:23:19.872434Z",
     "start_time": "2024-12-17T13:23:19.727069Z"
    }
   },
   "source": [
    "maximum = 0\n",
    "for score in test_scores:\n",
    "    maximum = max(maximum, score.max())\n",
    "\n",
    "bins = np.linspace(0, maximum, 50)\n",
    "for i, score in enumerate(test_scores):\n",
    "    plt.hist(score, bins, alpha=0.7, label=f\"{feature_names[i]}\")\n",
    "\n",
    "plt.xlabel(r\"$R^2$ generalization score\")\n",
    "plt.title(\"Histogram over targets\")\n",
    "plt.legend()\n",
    "plt.show()"
   ],
   "outputs": [
    {
     "data": {
      "text/plain": [
       "<Figure size 640x480 with 1 Axes>"
      ],
      "image/png": "[encoded data removed]"
     },
     "metadata": {},
     "output_type": "display_data"
    }
   ],
   "execution_count": 58
  },
  {
   "cell_type": "markdown",
   "metadata": {
    "editable": true,
    "slideshow": {
     "slide_type": ""
    },
    "tags": []
   },
   "source": [
    "## Joint model"
   ]
  },
  {
   "cell_type": "code",
   "metadata": {
    "ExecuteTime": {
     "end_time": "2024-12-17T13:23:19.973151Z",
     "start_time": "2024-12-17T13:23:19.970730Z"
    }
   },
   "source": [
    "X_train = np.hstack([X for X in Xs_train])\n",
    "X_test = np.hstack([X for X in Xs_test])"
   ],
   "outputs": [],
   "execution_count": 59
  },
  {
   "cell_type": "markdown",
   "metadata": {},
   "source": [
    "### Prepare the pipeline"
   ]
  },
  {
   "cell_type": "code",
   "metadata": {
    "ExecuteTime": {
     "end_time": "2024-12-17T13:23:20.073524Z",
     "start_time": "2024-12-17T13:23:20.071049Z"
    }
   },
   "source": [
    "# Find the start and end of each feature space X in Xs\n",
    "start_and_end = np.concatenate([[0], np.cumsum(n_features_list)])\n",
    "slices = [\n",
    "    slice(start, end)\n",
    "    for start, end in zip(start_and_end[:-1], start_and_end[1:])\n",
    "]\n",
    "\n",
    "# Create a different ``Kernelizer`` for each feature space.\n",
    "kernelizers = [(\"space %d\" % ii, Kernelizer(), slice_)\n",
    "               for ii, slice_ in enumerate(slices)]\n",
    "column_kernelizer = ColumnKernelizer(kernelizers)"
   ],
   "outputs": [],
   "execution_count": 60
  },
  {
   "cell_type": "markdown",
   "metadata": {
    "editable": true,
    "slideshow": {
     "slide_type": ""
    },
    "tags": []
   },
   "source": [
    "### Define the random-search model\n",
    "We use very few iteration on purpose, to make the random search suboptimal,\n",
    "and refine it with hyperparameter gradient descent.\n",
    "\n"
   ]
  },
  {
   "cell_type": "code",
   "metadata": {
    "collapsed": false,
    "jupyter": {
     "outputs_hidden": false
    },
    "scrolled": true,
    "ExecuteTime": {
     "end_time": "2024-12-17T13:23:20.612710Z",
     "start_time": "2024-12-17T13:23:20.173389Z"
    }
   },
   "source": [
    "solver_params = dict(n_iter=5, alphas=np.logspace(-10, 10, 41))\n",
    "\n",
    "model_random = MultipleKernelRidgeCV(kernels=\"precomputed\", solver=\"random_search\",\n",
    "                                     solver_params=solver_params, random_state=42)\n",
    "pipe_random = make_pipeline(column_kernelizer, model_random)\n",
    "\n",
    "# Fit the model on all targets\n",
    "pipe_random.fit(X_train, Y_train)"
   ],
   "outputs": [
    {
     "name": "stdout",
     "output_type": "stream",
     "text": [
      "[........................................] 100% | 0.40 sec | 5 random sampling with cv | \n"
     ]
    },
    {
     "data": {
      "text/plain": [
       "Pipeline(steps=[('columnkernelizer',\n",
       "                 ColumnKernelizer(transformers=[('space 0', Kernelizer(),\n",
       "                                                 slice(np.int64(0), np.int64(1000), None)),\n",
       "                                                ('space 1', Kernelizer(),\n",
       "                                                 slice(np.int64(1000), np.int64(2000), None))])),\n",
       "                ('multiplekernelridgecv',\n",
       "                 MultipleKernelRidgeCV(kernels='precomputed', random_state=42,\n",
       "                                       solver_params={'alphas': array([1.00000000e-10, 3.16227766e-10, 1.000...\n",
       "       1.00000000e-02, 3.16227766e-02, 1.00000000e-01, 3.16227766e-01,\n",
       "       1.00000000e+00, 3.16227766e+00, 1.00000000e+01, 3.16227766e+01,\n",
       "       1.00000000e+02, 3.16227766e+02, 1.00000000e+03, 3.16227766e+03,\n",
       "       1.00000000e+04, 3.16227766e+04, 1.00000000e+05, 3.16227766e+05,\n",
       "       1.00000000e+06, 3.16227766e+06, 1.00000000e+07, 3.16227766e+07,\n",
       "       1.00000000e+08, 3.16227766e+08, 1.00000000e+09, 3.16227766e+09,\n",
       "       1.00000000e+10]),\n",
       "                                                      'n_iter': 5}))])"
      ],
      "text/html": [
       "<style>#sk-container-id-5 {\n",
       "  /* Definition of color scheme common for light and dark mode */\n",
       "  --sklearn-color-text: black;\n",
       "  --sklearn-color-line: gray;\n",
       "  /* Definition of color scheme for unfitted estimators */\n",
       "  --sklearn-color-unfitted-level-0: #fff5e6;\n",
       "  --sklearn-color-unfitted-level-1: #f6e4d2;\n",
       "  --sklearn-color-unfitted-level-2: #ffe0b3;\n",
       "  --sklearn-color-unfitted-level-3: chocolate;\n",
       "  /* Definition of color scheme for fitted estimators */\n",
       "  --sklearn-color-fitted-level-0: #f0f8ff;\n",
       "  --sklearn-color-fitted-level-1: #d4ebff;\n",
       "  --sklearn-color-fitted-level-2: #b3dbfd;\n",
       "  --sklearn-color-fitted-level-3: cornflowerblue;\n",
       "\n",
       "  /* Specific color for light theme */\n",
       "  --sklearn-color-text-on-default-background: var(--sg-text-color, var(--theme-code-foreground, var(--jp-content-font-color1, black)));\n",
       "  --sklearn-color-background: var(--sg-background-color, var(--theme-background, var(--jp-layout-color0, white)));\n",
       "  --sklearn-color-border-box: var(--sg-text-color, var(--theme-code-foreground, var(--jp-content-font-color1, black)));\n",
       "  --sklearn-color-icon: #696969;\n",
       "\n",
       "  @media (prefers-color-scheme: dark) {\n",
       "    /* Redefinition of color scheme for dark theme */\n",
       "    --sklearn-color-text-on-default-background: var(--sg-text-color, var(--theme-code-foreground, var(--jp-content-font-color1, white)));\n",
       "    --sklearn-color-background: var(--sg-background-color, var(--theme-background, var(--jp-layout-color0, #111)));\n",
       "    --sklearn-color-border-box: var(--sg-text-color, var(--theme-code-foreground, var(--jp-content-font-color1, white)));\n",
       "    --sklearn-color-icon: #878787;\n",
       "  }\n",
       "}\n",
       "\n",
       "#sk-container-id-5 {\n",
       "  color: var(--sklearn-color-text);\n",
       "}\n",
       "\n",
       "#sk-container-id-5 pre {\n",
       "  padding: 0;\n",
       "}\n",
       "\n",
       "#sk-container-id-5 input.sk-hidden--visually {\n",
       "  border: 0;\n",
       "  clip: rect(1px 1px 1px 1px);\n",
       "  clip: rect(1px, 1px, 1px, 1px);\n",
       "  height: 1px;\n",
       "  margin: -1px;\n",
       "  overflow: hidden;\n",
       "  padding: 0;\n",
       "  position: absolute;\n",
       "  width: 1px;\n",
       "}\n",
       "\n",
       "#sk-container-id-5 div.sk-dashed-wrapped {\n",
       "  border: 1px dashed var(--sklearn-color-line);\n",
       "  margin: 0 0.4em 0.5em 0.4em;\n",
       "  box-sizing: border-box;\n",
       "  padding-bottom: 0.4em;\n",
       "  background-color: var(--sklearn-color-background);\n",
       "}\n",
       "\n",
       "#sk-container-id-5 div.sk-container {\n",
       "  /* jupyter's `normalize.less` sets `[hidden] { display: none; }`\n",
       "     but bootstrap.min.css set `[hidden] { display: none !important; }`\n",
       "     so we also need the `!important` here to be able to override the\n",
       "     default hidden behavior on the sphinx rendered scikit-learn.org.\n",
       "     See: https://github.com/scikit-learn/scikit-learn/issues/21755 */\n",
       "  display: inline-block !important;\n",
       "  position: relative;\n",
       "}\n",
       "\n",
       "#sk-container-id-5 div.sk-text-repr-fallback {\n",
       "  display: none;\n",
       "}\n",
       "\n",
       "div.sk-parallel-item,\n",
       "div.sk-serial,\n",
       "div.sk-item {\n",
       "  /* draw centered vertical line to link estimators */\n",
       "  background-image: linear-gradient(var(--sklearn-color-text-on-default-background), var(--sklearn-color-text-on-default-background));\n",
       "  background-size: 2px 100%;\n",
       "  background-repeat: no-repeat;\n",
       "  background-position: center center;\n",
       "}\n",
       "\n",
       "/* Parallel-specific style estimator block */\n",
       "\n",
       "#sk-container-id-5 div.sk-parallel-item::after {\n",
       "  content: \"\";\n",
       "  width: 100%;\n",
       "  border-bottom: 2px solid var(--sklearn-color-text-on-default-background);\n",
       "  flex-grow: 1;\n",
       "}\n",
       "\n",
       "#sk-container-id-5 div.sk-parallel {\n",
       "  display: flex;\n",
       "  align-items: stretch;\n",
       "  justify-content: center;\n",
       "  background-color: var(--sklearn-color-background);\n",
       "  position: relative;\n",
       "}\n",
       "\n",
       "#sk-container-id-5 div.sk-parallel-item {\n",
       "  display: flex;\n",
       "  flex-direction: column;\n",
       "}\n",
       "\n",
       "#sk-container-id-5 div.sk-parallel-item:first-child::after {\n",
       "  align-self: flex-end;\n",
       "  width: 50%;\n",
       "}\n",
       "\n",
       "#sk-container-id-5 div.sk-parallel-item:last-child::after {\n",
       "  align-self: flex-start;\n",
       "  width: 50%;\n",
       "}\n",
       "\n",
       "#sk-container-id-5 div.sk-parallel-item:only-child::after {\n",
       "  width: 0;\n",
       "}\n",
       "\n",
       "/* Serial-specific style estimator block */\n",
       "\n",
       "#sk-container-id-5 div.sk-serial {\n",
       "  display: flex;\n",
       "  flex-direction: column;\n",
       "  align-items: center;\n",
       "  background-color: var(--sklearn-color-background);\n",
       "  padding-right: 1em;\n",
       "  padding-left: 1em;\n",
       "}\n",
       "\n",
       "\n",
       "/* Toggleable style: style used for estimator/Pipeline/ColumnTransformer box that is\n",
       "clickable and can be expanded/collapsed.\n",
       "- Pipeline and ColumnTransformer use this feature and define the default style\n",
       "- Estimators will overwrite some part of the style using the `sk-estimator` class\n",
       "*/\n",
       "\n",
       "/* Pipeline and ColumnTransformer style (default) */\n",
       "\n",
       "#sk-container-id-5 div.sk-toggleable {\n",
       "  /* Default theme specific background. It is overwritten whether we have a\n",
       "  specific estimator or a Pipeline/ColumnTransformer */\n",
       "  background-color: var(--sklearn-color-background);\n",
       "}\n",
       "\n",
       "/* Toggleable label */\n",
       "#sk-container-id-5 label.sk-toggleable__label {\n",
       "  cursor: pointer;\n",
       "  display: block;\n",
       "  width: 100%;\n",
       "  margin-bottom: 0;\n",
       "  padding: 0.5em;\n",
       "  box-sizing: border-box;\n",
       "  text-align: center;\n",
       "}\n",
       "\n",
       "#sk-container-id-5 label.sk-toggleable__label-arrow:before {\n",
       "  /* Arrow on the left of the label */\n",
       "  content: \"▸\";\n",
       "  float: left;\n",
       "  margin-right: 0.25em;\n",
       "  color: var(--sklearn-color-icon);\n",
       "}\n",
       "\n",
       "#sk-container-id-5 label.sk-toggleable__label-arrow:hover:before {\n",
       "  color: var(--sklearn-color-text);\n",
       "}\n",
       "\n",
       "/* Toggleable content - dropdown */\n",
       "\n",
       "#sk-container-id-5 div.sk-toggleable__content {\n",
       "  max-height: 0;\n",
       "  max-width: 0;\n",
       "  overflow: hidden;\n",
       "  text-align: left;\n",
       "  /* unfitted */\n",
       "  background-color: var(--sklearn-color-unfitted-level-0);\n",
       "}\n",
       "\n",
       "#sk-container-id-5 div.sk-toggleable__content.fitted {\n",
       "  /* fitted */\n",
       "  background-color: var(--sklearn-color-fitted-level-0);\n",
       "}\n",
       "\n",
       "#sk-container-id-5 div.sk-toggleable__content pre {\n",
       "  margin: 0.2em;\n",
       "  border-radius: 0.25em;\n",
       "  color: var(--sklearn-color-text);\n",
       "  /* unfitted */\n",
       "  background-color: var(--sklearn-color-unfitted-level-0);\n",
       "}\n",
       "\n",
       "#sk-container-id-5 div.sk-toggleable__content.fitted pre {\n",
       "  /* unfitted */\n",
       "  background-color: var(--sklearn-color-fitted-level-0);\n",
       "}\n",
       "\n",
       "#sk-container-id-5 input.sk-toggleable__control:checked~div.sk-toggleable__content {\n",
       "  /* Expand drop-down */\n",
       "  max-height: 200px;\n",
       "  max-width: 100%;\n",
       "  overflow: auto;\n",
       "}\n",
       "\n",
       "#sk-container-id-5 input.sk-toggleable__control:checked~label.sk-toggleable__label-arrow:before {\n",
       "  content: \"▾\";\n",
       "}\n",
       "\n",
       "/* Pipeline/ColumnTransformer-specific style */\n",
       "\n",
       "#sk-container-id-5 div.sk-label input.sk-toggleable__control:checked~label.sk-toggleable__label {\n",
       "  color: var(--sklearn-color-text);\n",
       "  background-color: var(--sklearn-color-unfitted-level-2);\n",
       "}\n",
       "\n",
       "#sk-container-id-5 div.sk-label.fitted input.sk-toggleable__control:checked~label.sk-toggleable__label {\n",
       "  background-color: var(--sklearn-color-fitted-level-2);\n",
       "}\n",
       "\n",
       "/* Estimator-specific style */\n",
       "\n",
       "/* Colorize estimator box */\n",
       "#sk-container-id-5 div.sk-estimator input.sk-toggleable__control:checked~label.sk-toggleable__label {\n",
       "  /* unfitted */\n",
       "  background-color: var(--sklearn-color-unfitted-level-2);\n",
       "}\n",
       "\n",
       "#sk-container-id-5 div.sk-estimator.fitted input.sk-toggleable__control:checked~label.sk-toggleable__label {\n",
       "  /* fitted */\n",
       "  background-color: var(--sklearn-color-fitted-level-2);\n",
       "}\n",
       "\n",
       "#sk-container-id-5 div.sk-label label.sk-toggleable__label,\n",
       "#sk-container-id-5 div.sk-label label {\n",
       "  /* The background is the default theme color */\n",
       "  color: var(--sklearn-color-text-on-default-background);\n",
       "}\n",
       "\n",
       "/* On hover, darken the color of the background */\n",
       "#sk-container-id-5 div.sk-label:hover label.sk-toggleable__label {\n",
       "  color: var(--sklearn-color-text);\n",
       "  background-color: var(--sklearn-color-unfitted-level-2);\n",
       "}\n",
       "\n",
       "/* Label box, darken color on hover, fitted */\n",
       "#sk-container-id-5 div.sk-label.fitted:hover label.sk-toggleable__label.fitted {\n",
       "  color: var(--sklearn-color-text);\n",
       "  background-color: var(--sklearn-color-fitted-level-2);\n",
       "}\n",
       "\n",
       "/* Estimator label */\n",
       "\n",
       "#sk-container-id-5 div.sk-label label {\n",
       "  font-family: monospace;\n",
       "  font-weight: bold;\n",
       "  display: inline-block;\n",
       "  line-height: 1.2em;\n",
       "}\n",
       "\n",
       "#sk-container-id-5 div.sk-label-container {\n",
       "  text-align: center;\n",
       "}\n",
       "\n",
       "/* Estimator-specific */\n",
       "#sk-container-id-5 div.sk-estimator {\n",
       "  font-family: monospace;\n",
       "  border: 1px dotted var(--sklearn-color-border-box);\n",
       "  border-radius: 0.25em;\n",
       "  box-sizing: border-box;\n",
       "  margin-bottom: 0.5em;\n",
       "  /* unfitted */\n",
       "  background-color: var(--sklearn-color-unfitted-level-0);\n",
       "}\n",
       "\n",
       "#sk-container-id-5 div.sk-estimator.fitted {\n",
       "  /* fitted */\n",
       "  background-color: var(--sklearn-color-fitted-level-0);\n",
       "}\n",
       "\n",
       "/* on hover */\n",
       "#sk-container-id-5 div.sk-estimator:hover {\n",
       "  /* unfitted */\n",
       "  background-color: var(--sklearn-color-unfitted-level-2);\n",
       "}\n",
       "\n",
       "#sk-container-id-5 div.sk-estimator.fitted:hover {\n",
       "  /* fitted */\n",
       "  background-color: var(--sklearn-color-fitted-level-2);\n",
       "}\n",
       "\n",
       "/* Specification for estimator info (e.g. \"i\" and \"?\") */\n",
       "\n",
       "/* Common style for \"i\" and \"?\" */\n",
       "\n",
       ".sk-estimator-doc-link,\n",
       "a:link.sk-estimator-doc-link,\n",
       "a:visited.sk-estimator-doc-link {\n",
       "  float: right;\n",
       "  font-size: smaller;\n",
       "  line-height: 1em;\n",
       "  font-family: monospace;\n",
       "  background-color: var(--sklearn-color-background);\n",
       "  border-radius: 1em;\n",
       "  height: 1em;\n",
       "  width: 1em;\n",
       "  text-decoration: none !important;\n",
       "  margin-left: 1ex;\n",
       "  /* unfitted */\n",
       "  border: var(--sklearn-color-unfitted-level-1) 1pt solid;\n",
       "  color: var(--sklearn-color-unfitted-level-1);\n",
       "}\n",
       "\n",
       ".sk-estimator-doc-link.fitted,\n",
       "a:link.sk-estimator-doc-link.fitted,\n",
       "a:visited.sk-estimator-doc-link.fitted {\n",
       "  /* fitted */\n",
       "  border: var(--sklearn-color-fitted-level-1) 1pt solid;\n",
       "  color: var(--sklearn-color-fitted-level-1);\n",
       "}\n",
       "\n",
       "/* On hover */\n",
       "div.sk-estimator:hover .sk-estimator-doc-link:hover,\n",
       ".sk-estimator-doc-link:hover,\n",
       "div.sk-label-container:hover .sk-estimator-doc-link:hover,\n",
       ".sk-estimator-doc-link:hover {\n",
       "  /* unfitted */\n",
       "  background-color: var(--sklearn-color-unfitted-level-3);\n",
       "  color: var(--sklearn-color-background);\n",
       "  text-decoration: none;\n",
       "}\n",
       "\n",
       "div.sk-estimator.fitted:hover .sk-estimator-doc-link.fitted:hover,\n",
       ".sk-estimator-doc-link.fitted:hover,\n",
       "div.sk-label-container:hover .sk-estimator-doc-link.fitted:hover,\n",
       ".sk-estimator-doc-link.fitted:hover {\n",
       "  /* fitted */\n",
       "  background-color: var(--sklearn-color-fitted-level-3);\n",
       "  color: var(--sklearn-color-background);\n",
       "  text-decoration: none;\n",
       "}\n",
       "\n",
       "/* Span, style for the box shown on hovering the info icon */\n",
       ".sk-estimator-doc-link span {\n",
       "  display: none;\n",
       "  z-index: 9999;\n",
       "  position: relative;\n",
       "  font-weight: normal;\n",
       "  right: .2ex;\n",
       "  padding: .5ex;\n",
       "  margin: .5ex;\n",
       "  width: min-content;\n",
       "  min-width: 20ex;\n",
       "  max-width: 50ex;\n",
       "  color: var(--sklearn-color-text);\n",
       "  box-shadow: 2pt 2pt 4pt #999;\n",
       "  /* unfitted */\n",
       "  background: var(--sklearn-color-unfitted-level-0);\n",
       "  border: .5pt solid var(--sklearn-color-unfitted-level-3);\n",
       "}\n",
       "\n",
       ".sk-estimator-doc-link.fitted span {\n",
       "  /* fitted */\n",
       "  background: var(--sklearn-color-fitted-level-0);\n",
       "  border: var(--sklearn-color-fitted-level-3);\n",
       "}\n",
       "\n",
       ".sk-estimator-doc-link:hover span {\n",
       "  display: block;\n",
       "}\n",
       "\n",
       "/* \"?\"-specific style due to the `<a>` HTML tag */\n",
       "\n",
       "#sk-container-id-5 a.estimator_doc_link {\n",
       "  float: right;\n",
       "  font-size: 1rem;\n",
       "  line-height: 1em;\n",
       "  font-family: monospace;\n",
       "  background-color: var(--sklearn-color-background);\n",
       "  border-radius: 1rem;\n",
       "  height: 1rem;\n",
       "  width: 1rem;\n",
       "  text-decoration: none;\n",
       "  /* unfitted */\n",
       "  color: var(--sklearn-color-unfitted-level-1);\n",
       "  border: var(--sklearn-color-unfitted-level-1) 1pt solid;\n",
       "}\n",
       "\n",
       "#sk-container-id-5 a.estimator_doc_link.fitted {\n",
       "  /* fitted */\n",
       "  border: var(--sklearn-color-fitted-level-1) 1pt solid;\n",
       "  color: var(--sklearn-color-fitted-level-1);\n",
       "}\n",
       "\n",
       "/* On hover */\n",
       "#sk-container-id-5 a.estimator_doc_link:hover {\n",
       "  /* unfitted */\n",
       "  background-color: var(--sklearn-color-unfitted-level-3);\n",
       "  color: var(--sklearn-color-background);\n",
       "  text-decoration: none;\n",
       "}\n",
       "\n",
       "#sk-container-id-5 a.estimator_doc_link.fitted:hover {\n",
       "  /* fitted */\n",
       "  background-color: var(--sklearn-color-fitted-level-3);\n",
       "}\n",
       "</style><div id=\"sk-container-id-5\" class=\"sk-top-container\"><div class=\"sk-text-repr-fallback\"><pre>Pipeline(steps=[(&#x27;columnkernelizer&#x27;,\n",
       "                 ColumnKernelizer(transformers=[(&#x27;space 0&#x27;, Kernelizer(),\n",
       "                                                 slice(np.int64(0), np.int64(1000), None)),\n",
       "                                                (&#x27;space 1&#x27;, Kernelizer(),\n",
       "                                                 slice(np.int64(1000), np.int64(2000), None))])),\n",
       "                (&#x27;multiplekernelridgecv&#x27;,\n",
       "                 MultipleKernelRidgeCV(kernels=&#x27;precomputed&#x27;, random_state=42,\n",
       "                                       solver_params={&#x27;alphas&#x27;: array([1.00000000e-10, 3.16227766e-10, 1.000...\n",
       "       1.00000000e-02, 3.16227766e-02, 1.00000000e-01, 3.16227766e-01,\n",
       "       1.00000000e+00, 3.16227766e+00, 1.00000000e+01, 3.16227766e+01,\n",
       "       1.00000000e+02, 3.16227766e+02, 1.00000000e+03, 3.16227766e+03,\n",
       "       1.00000000e+04, 3.16227766e+04, 1.00000000e+05, 3.16227766e+05,\n",
       "       1.00000000e+06, 3.16227766e+06, 1.00000000e+07, 3.16227766e+07,\n",
       "       1.00000000e+08, 3.16227766e+08, 1.00000000e+09, 3.16227766e+09,\n",
       "       1.00000000e+10]),\n",
       "                                                      &#x27;n_iter&#x27;: 5}))])</pre><b>In a Jupyter environment, please rerun this cell to show the HTML representation or trust the notebook. <br />On GitHub, the HTML representation is unable to render, please try loading this page with nbviewer.org.</b></div><div class=\"sk-container\" hidden><div class=\"sk-item sk-dashed-wrapped\"><div class=\"sk-label-container\"><div class=\"sk-label fitted sk-toggleable\"><input class=\"sk-toggleable__control sk-hidden--visually\" id=\"sk-estimator-id-29\" type=\"checkbox\" ><label for=\"sk-estimator-id-29\" class=\"sk-toggleable__label fitted sk-toggleable__label-arrow fitted\">&nbsp;&nbsp;Pipeline<a class=\"sk-estimator-doc-link fitted\" rel=\"noreferrer\" target=\"_blank\" href=\"https://scikit-learn.org/1.5/modules/generated/sklearn.pipeline.Pipeline.html\">?<span>Documentation for Pipeline</span></a><span class=\"sk-estimator-doc-link fitted\">i<span>Fitted</span></span></label><div class=\"sk-toggleable__content fitted\"><pre>Pipeline(steps=[(&#x27;columnkernelizer&#x27;,\n",
       "                 ColumnKernelizer(transformers=[(&#x27;space 0&#x27;, Kernelizer(),\n",
       "                                                 slice(np.int64(0), np.int64(1000), None)),\n",
       "                                                (&#x27;space 1&#x27;, Kernelizer(),\n",
       "                                                 slice(np.int64(1000), np.int64(2000), None))])),\n",
       "                (&#x27;multiplekernelridgecv&#x27;,\n",
       "                 MultipleKernelRidgeCV(kernels=&#x27;precomputed&#x27;, random_state=42,\n",
       "                                       solver_params={&#x27;alphas&#x27;: array([1.00000000e-10, 3.16227766e-10, 1.000...\n",
       "       1.00000000e-02, 3.16227766e-02, 1.00000000e-01, 3.16227766e-01,\n",
       "       1.00000000e+00, 3.16227766e+00, 1.00000000e+01, 3.16227766e+01,\n",
       "       1.00000000e+02, 3.16227766e+02, 1.00000000e+03, 3.16227766e+03,\n",
       "       1.00000000e+04, 3.16227766e+04, 1.00000000e+05, 3.16227766e+05,\n",
       "       1.00000000e+06, 3.16227766e+06, 1.00000000e+07, 3.16227766e+07,\n",
       "       1.00000000e+08, 3.16227766e+08, 1.00000000e+09, 3.16227766e+09,\n",
       "       1.00000000e+10]),\n",
       "                                                      &#x27;n_iter&#x27;: 5}))])</pre></div> </div></div><div class=\"sk-serial\"><div class=\"sk-item sk-dashed-wrapped\"><div class=\"sk-label-container\"><div class=\"sk-label fitted sk-toggleable\"><input class=\"sk-toggleable__control sk-hidden--visually\" id=\"sk-estimator-id-30\" type=\"checkbox\" ><label for=\"sk-estimator-id-30\" class=\"sk-toggleable__label fitted sk-toggleable__label-arrow fitted\">columnkernelizer: ColumnKernelizer</label><div class=\"sk-toggleable__content fitted\"><pre>ColumnKernelizer(transformers=[(&#x27;space 0&#x27;, Kernelizer(),\n",
       "                                slice(np.int64(0), np.int64(1000), None)),\n",
       "                               (&#x27;space 1&#x27;, Kernelizer(),\n",
       "                                slice(np.int64(1000), np.int64(2000), None))])</pre></div> </div></div><div class=\"sk-parallel\"><div class=\"sk-parallel-item\"><div class=\"sk-item\"><div class=\"sk-label-container\"><div class=\"sk-label fitted sk-toggleable\"><input class=\"sk-toggleable__control sk-hidden--visually\" id=\"sk-estimator-id-31\" type=\"checkbox\" ><label for=\"sk-estimator-id-31\" class=\"sk-toggleable__label fitted sk-toggleable__label-arrow fitted\">space 0</label><div class=\"sk-toggleable__content fitted\"><pre>slice(np.int64(0), np.int64(1000), None)</pre></div> </div></div><div class=\"sk-serial\"><div class=\"sk-item\"><div class=\"sk-estimator fitted sk-toggleable\"><input class=\"sk-toggleable__control sk-hidden--visually\" id=\"sk-estimator-id-32\" type=\"checkbox\" ><label for=\"sk-estimator-id-32\" class=\"sk-toggleable__label fitted sk-toggleable__label-arrow fitted\">Kernelizer</label><div class=\"sk-toggleable__content fitted\"><pre>Kernelizer()</pre></div> </div></div></div></div></div><div class=\"sk-parallel-item\"><div class=\"sk-item\"><div class=\"sk-label-container\"><div class=\"sk-label fitted sk-toggleable\"><input class=\"sk-toggleable__control sk-hidden--visually\" id=\"sk-estimator-id-33\" type=\"checkbox\" ><label for=\"sk-estimator-id-33\" class=\"sk-toggleable__label fitted sk-toggleable__label-arrow fitted\">space 1</label><div class=\"sk-toggleable__content fitted\"><pre>slice(np.int64(1000), np.int64(2000), None)</pre></div> </div></div><div class=\"sk-serial\"><div class=\"sk-item\"><div class=\"sk-estimator fitted sk-toggleable\"><input class=\"sk-toggleable__control sk-hidden--visually\" id=\"sk-estimator-id-34\" type=\"checkbox\" ><label for=\"sk-estimator-id-34\" class=\"sk-toggleable__label fitted sk-toggleable__label-arrow fitted\">Kernelizer</label><div class=\"sk-toggleable__content fitted\"><pre>Kernelizer()</pre></div> </div></div></div></div></div></div></div><div class=\"sk-item\"><div class=\"sk-estimator fitted sk-toggleable\"><input class=\"sk-toggleable__control sk-hidden--visually\" id=\"sk-estimator-id-35\" type=\"checkbox\" ><label for=\"sk-estimator-id-35\" class=\"sk-toggleable__label fitted sk-toggleable__label-arrow fitted\">MultipleKernelRidgeCV</label><div class=\"sk-toggleable__content fitted\"><pre>MultipleKernelRidgeCV(kernels=&#x27;precomputed&#x27;, random_state=42,\n",
       "                      solver_params={&#x27;alphas&#x27;: array([1.00000000e-10, 3.16227766e-10, 1.00000000e-09, 3.16227766e-09,\n",
       "       1.00000000e-08, 3.16227766e-08, 1.00000000e-07, 3.16227766e-07,\n",
       "       1.00000000e-06, 3.16227766e-06, 1.00000000e-05, 3.16227766e-05,\n",
       "       1.00000000e-04, 3.16227766e-04, 1.00000000e-03, 3.16227766e-03,\n",
       "       1.00000000e-02, 3.16...0e-01, 3.16227766e-01,\n",
       "       1.00000000e+00, 3.16227766e+00, 1.00000000e+01, 3.16227766e+01,\n",
       "       1.00000000e+02, 3.16227766e+02, 1.00000000e+03, 3.16227766e+03,\n",
       "       1.00000000e+04, 3.16227766e+04, 1.00000000e+05, 3.16227766e+05,\n",
       "       1.00000000e+06, 3.16227766e+06, 1.00000000e+07, 3.16227766e+07,\n",
       "       1.00000000e+08, 3.16227766e+08, 1.00000000e+09, 3.16227766e+09,\n",
       "       1.00000000e+10]),\n",
       "                                     &#x27;n_iter&#x27;: 5})</pre></div> </div></div></div></div></div></div>"
      ]
     },
     "execution_count": 61,
     "metadata": {},
     "output_type": "execute_result"
    }
   ],
   "execution_count": 61
  },
  {
   "cell_type": "markdown",
   "metadata": {
    "editable": true,
    "slideshow": {
     "slide_type": ""
    },
    "tags": []
   },
   "source": [
    "### Define the gradient-descent model"
   ]
  },
  {
   "cell_type": "code",
   "metadata": {
    "collapsed": false,
    "jupyter": {
     "outputs_hidden": false
    },
    "ExecuteTime": {
     "end_time": "2024-12-17T13:23:20.712483Z",
     "start_time": "2024-12-17T13:23:20.710456Z"
    }
   },
   "source": [
    "solver_params = dict(max_iter=10, hyper_gradient_method=\"direct\",\n",
    "                     max_iter_inner_hyper=10,\n",
    "                     initial_deltas=\"here_will_go_the_previous_deltas\")\n",
    "\n",
    "model_gradient = MultipleKernelRidgeCV(kernels=\"precomputed\", solver=\"hyper_gradient\",\n",
    "                                       solver_params=solver_params)\n",
    "pipe_gradient = make_pipeline(column_kernelizer, model_gradient)"
   ],
   "outputs": [],
   "execution_count": 62
  },
  {
   "cell_type": "markdown",
   "metadata": {
    "editable": true,
    "slideshow": {
     "slide_type": ""
    },
    "tags": []
   },
   "source": [
    "### Use the random-search to initialize the gradient-descent"
   ]
  },
  {
   "cell_type": "code",
   "metadata": {
    "collapsed": false,
    "jupyter": {
     "outputs_hidden": false
    },
    "ExecuteTime": {
     "end_time": "2024-12-17T13:23:25.186275Z",
     "start_time": "2024-12-17T13:23:20.918062Z"
    }
   },
   "source": [
    "# We might want to refine only the best predicting targets, since the\n",
    "# hyperparameter gradient descent is less efficient over many targets.\n",
    "top = 100  # top 60%\n",
    "best_cv_scores = backend.to_numpy(pipe_random[-1].cv_scores_.max(0))\n",
    "mask = best_cv_scores > np.percentile(best_cv_scores, 100 - top)\n",
    "\n",
    "deltas = pipe_random[-1].deltas_\n",
    "# deltas = deltas[:, mask]\n",
    "\n",
    "pipe_gradient[-1].solver_params['initial_deltas'] = deltas\n",
    "# pipe_2.fit(X_train, Y_train[:, mask])\n",
    "pipe_gradient.fit(X_train, Y_train)"
   ],
   "outputs": [
    {
     "name": "stdout",
     "output_type": "stream",
     "text": [
      "[........................................] 100% | 4.23 sec | hypergradient_direct | \n"
     ]
    },
    {
     "data": {
      "text/plain": [
       "Pipeline(steps=[('columnkernelizer',\n",
       "                 ColumnKernelizer(transformers=[('space 0', Kernelizer(),\n",
       "                                                 slice(np.int64(0), np.int64(1000), None)),\n",
       "                                                ('space 1', Kernelizer(),\n",
       "                                                 slice(np.int64(1000), np.int64(2000), None))])),\n",
       "                ('multiplekernelridgecv',\n",
       "                 MultipleKernelRidgeCV(kernels='precomputed',\n",
       "                                       solver='hyper_gradient',\n",
       "                                       solver_params={'hyper_gradient_method': 'direct',\n",
       "                                                      'initial_deltas': array([[-1.2767011 , -1.2767011 , -1.8444397 , ..., -1.2767011 ,\n",
       "        -0.12540857,  0.45814538],\n",
       "       [-3.2895198 , -3.2895198 , -1.8444397 , ..., -3.2895198 ,\n",
       "        -2.1382272 ,  0.45814538]], dtype=float32),\n",
       "                                                      'max_iter': 10,\n",
       "                                                      'max_iter_inner_hyper': 10}))])"
      ],
      "text/html": [
       "<style>#sk-container-id-6 {\n",
       "  /* Definition of color scheme common for light and dark mode */\n",
       "  --sklearn-color-text: black;\n",
       "  --sklearn-color-line: gray;\n",
       "  /* Definition of color scheme for unfitted estimators */\n",
       "  --sklearn-color-unfitted-level-0: #fff5e6;\n",
       "  --sklearn-color-unfitted-level-1: #f6e4d2;\n",
       "  --sklearn-color-unfitted-level-2: #ffe0b3;\n",
       "  --sklearn-color-unfitted-level-3: chocolate;\n",
       "  /* Definition of color scheme for fitted estimators */\n",
       "  --sklearn-color-fitted-level-0: #f0f8ff;\n",
       "  --sklearn-color-fitted-level-1: #d4ebff;\n",
       "  --sklearn-color-fitted-level-2: #b3dbfd;\n",
       "  --sklearn-color-fitted-level-3: cornflowerblue;\n",
       "\n",
       "  /* Specific color for light theme */\n",
       "  --sklearn-color-text-on-default-background: var(--sg-text-color, var(--theme-code-foreground, var(--jp-content-font-color1, black)));\n",
       "  --sklearn-color-background: var(--sg-background-color, var(--theme-background, var(--jp-layout-color0, white)));\n",
       "  --sklearn-color-border-box: var(--sg-text-color, var(--theme-code-foreground, var(--jp-content-font-color1, black)));\n",
       "  --sklearn-color-icon: #696969;\n",
       "\n",
       "  @media (prefers-color-scheme: dark) {\n",
       "    /* Redefinition of color scheme for dark theme */\n",
       "    --sklearn-color-text-on-default-background: var(--sg-text-color, var(--theme-code-foreground, var(--jp-content-font-color1, white)));\n",
       "    --sklearn-color-background: var(--sg-background-color, var(--theme-background, var(--jp-layout-color0, #111)));\n",
       "    --sklearn-color-border-box: var(--sg-text-color, var(--theme-code-foreground, var(--jp-content-font-color1, white)));\n",
       "    --sklearn-color-icon: #878787;\n",
       "  }\n",
       "}\n",
       "\n",
       "#sk-container-id-6 {\n",
       "  color: var(--sklearn-color-text);\n",
       "}\n",
       "\n",
       "#sk-container-id-6 pre {\n",
       "  padding: 0;\n",
       "}\n",
       "\n",
       "#sk-container-id-6 input.sk-hidden--visually {\n",
       "  border: 0;\n",
       "  clip: rect(1px 1px 1px 1px);\n",
       "  clip: rect(1px, 1px, 1px, 1px);\n",
       "  height: 1px;\n",
       "  margin: -1px;\n",
       "  overflow: hidden;\n",
       "  padding: 0;\n",
       "  position: absolute;\n",
       "  width: 1px;\n",
       "}\n",
       "\n",
       "#sk-container-id-6 div.sk-dashed-wrapped {\n",
       "  border: 1px dashed var(--sklearn-color-line);\n",
       "  margin: 0 0.4em 0.5em 0.4em;\n",
       "  box-sizing: border-box;\n",
       "  padding-bottom: 0.4em;\n",
       "  background-color: var(--sklearn-color-background);\n",
       "}\n",
       "\n",
       "#sk-container-id-6 div.sk-container {\n",
       "  /* jupyter's `normalize.less` sets `[hidden] { display: none; }`\n",
       "     but bootstrap.min.css set `[hidden] { display: none !important; }`\n",
       "     so we also need the `!important` here to be able to override the\n",
       "     default hidden behavior on the sphinx rendered scikit-learn.org.\n",
       "     See: https://github.com/scikit-learn/scikit-learn/issues/21755 */\n",
       "  display: inline-block !important;\n",
       "  position: relative;\n",
       "}\n",
       "\n",
       "#sk-container-id-6 div.sk-text-repr-fallback {\n",
       "  display: none;\n",
       "}\n",
       "\n",
       "div.sk-parallel-item,\n",
       "div.sk-serial,\n",
       "div.sk-item {\n",
       "  /* draw centered vertical line to link estimators */\n",
       "  background-image: linear-gradient(var(--sklearn-color-text-on-default-background), var(--sklearn-color-text-on-default-background));\n",
       "  background-size: 2px 100%;\n",
       "  background-repeat: no-repeat;\n",
       "  background-position: center center;\n",
       "}\n",
       "\n",
       "/* Parallel-specific style estimator block */\n",
       "\n",
       "#sk-container-id-6 div.sk-parallel-item::after {\n",
       "  content: \"\";\n",
       "  width: 100%;\n",
       "  border-bottom: 2px solid var(--sklearn-color-text-on-default-background);\n",
       "  flex-grow: 1;\n",
       "}\n",
       "\n",
       "#sk-container-id-6 div.sk-parallel {\n",
       "  display: flex;\n",
       "  align-items: stretch;\n",
       "  justify-content: center;\n",
       "  background-color: var(--sklearn-color-background);\n",
       "  position: relative;\n",
       "}\n",
       "\n",
       "#sk-container-id-6 div.sk-parallel-item {\n",
       "  display: flex;\n",
       "  flex-direction: column;\n",
       "}\n",
       "\n",
       "#sk-container-id-6 div.sk-parallel-item:first-child::after {\n",
       "  align-self: flex-end;\n",
       "  width: 50%;\n",
       "}\n",
       "\n",
       "#sk-container-id-6 div.sk-parallel-item:last-child::after {\n",
       "  align-self: flex-start;\n",
       "  width: 50%;\n",
       "}\n",
       "\n",
       "#sk-container-id-6 div.sk-parallel-item:only-child::after {\n",
       "  width: 0;\n",
       "}\n",
       "\n",
       "/* Serial-specific style estimator block */\n",
       "\n",
       "#sk-container-id-6 div.sk-serial {\n",
       "  display: flex;\n",
       "  flex-direction: column;\n",
       "  align-items: center;\n",
       "  background-color: var(--sklearn-color-background);\n",
       "  padding-right: 1em;\n",
       "  padding-left: 1em;\n",
       "}\n",
       "\n",
       "\n",
       "/* Toggleable style: style used for estimator/Pipeline/ColumnTransformer box that is\n",
       "clickable and can be expanded/collapsed.\n",
       "- Pipeline and ColumnTransformer use this feature and define the default style\n",
       "- Estimators will overwrite some part of the style using the `sk-estimator` class\n",
       "*/\n",
       "\n",
       "/* Pipeline and ColumnTransformer style (default) */\n",
       "\n",
       "#sk-container-id-6 div.sk-toggleable {\n",
       "  /* Default theme specific background. It is overwritten whether we have a\n",
       "  specific estimator or a Pipeline/ColumnTransformer */\n",
       "  background-color: var(--sklearn-color-background);\n",
       "}\n",
       "\n",
       "/* Toggleable label */\n",
       "#sk-container-id-6 label.sk-toggleable__label {\n",
       "  cursor: pointer;\n",
       "  display: block;\n",
       "  width: 100%;\n",
       "  margin-bottom: 0;\n",
       "  padding: 0.5em;\n",
       "  box-sizing: border-box;\n",
       "  text-align: center;\n",
       "}\n",
       "\n",
       "#sk-container-id-6 label.sk-toggleable__label-arrow:before {\n",
       "  /* Arrow on the left of the label */\n",
       "  content: \"▸\";\n",
       "  float: left;\n",
       "  margin-right: 0.25em;\n",
       "  color: var(--sklearn-color-icon);\n",
       "}\n",
       "\n",
       "#sk-container-id-6 label.sk-toggleable__label-arrow:hover:before {\n",
       "  color: var(--sklearn-color-text);\n",
       "}\n",
       "\n",
       "/* Toggleable content - dropdown */\n",
       "\n",
       "#sk-container-id-6 div.sk-toggleable__content {\n",
       "  max-height: 0;\n",
       "  max-width: 0;\n",
       "  overflow: hidden;\n",
       "  text-align: left;\n",
       "  /* unfitted */\n",
       "  background-color: var(--sklearn-color-unfitted-level-0);\n",
       "}\n",
       "\n",
       "#sk-container-id-6 div.sk-toggleable__content.fitted {\n",
       "  /* fitted */\n",
       "  background-color: var(--sklearn-color-fitted-level-0);\n",
       "}\n",
       "\n",
       "#sk-container-id-6 div.sk-toggleable__content pre {\n",
       "  margin: 0.2em;\n",
       "  border-radius: 0.25em;\n",
       "  color: var(--sklearn-color-text);\n",
       "  /* unfitted */\n",
       "  background-color: var(--sklearn-color-unfitted-level-0);\n",
       "}\n",
       "\n",
       "#sk-container-id-6 div.sk-toggleable__content.fitted pre {\n",
       "  /* unfitted */\n",
       "  background-color: var(--sklearn-color-fitted-level-0);\n",
       "}\n",
       "\n",
       "#sk-container-id-6 input.sk-toggleable__control:checked~div.sk-toggleable__content {\n",
       "  /* Expand drop-down */\n",
       "  max-height: 200px;\n",
       "  max-width: 100%;\n",
       "  overflow: auto;\n",
       "}\n",
       "\n",
       "#sk-container-id-6 input.sk-toggleable__control:checked~label.sk-toggleable__label-arrow:before {\n",
       "  content: \"▾\";\n",
       "}\n",
       "\n",
       "/* Pipeline/ColumnTransformer-specific style */\n",
       "\n",
       "#sk-container-id-6 div.sk-label input.sk-toggleable__control:checked~label.sk-toggleable__label {\n",
       "  color: var(--sklearn-color-text);\n",
       "  background-color: var(--sklearn-color-unfitted-level-2);\n",
       "}\n",
       "\n",
       "#sk-container-id-6 div.sk-label.fitted input.sk-toggleable__control:checked~label.sk-toggleable__label {\n",
       "  background-color: var(--sklearn-color-fitted-level-2);\n",
       "}\n",
       "\n",
       "/* Estimator-specific style */\n",
       "\n",
       "/* Colorize estimator box */\n",
       "#sk-container-id-6 div.sk-estimator input.sk-toggleable__control:checked~label.sk-toggleable__label {\n",
       "  /* unfitted */\n",
       "  background-color: var(--sklearn-color-unfitted-level-2);\n",
       "}\n",
       "\n",
       "#sk-container-id-6 div.sk-estimator.fitted input.sk-toggleable__control:checked~label.sk-toggleable__label {\n",
       "  /* fitted */\n",
       "  background-color: var(--sklearn-color-fitted-level-2);\n",
       "}\n",
       "\n",
       "#sk-container-id-6 div.sk-label label.sk-toggleable__label,\n",
       "#sk-container-id-6 div.sk-label label {\n",
       "  /* The background is the default theme color */\n",
       "  color: var(--sklearn-color-text-on-default-background);\n",
       "}\n",
       "\n",
       "/* On hover, darken the color of the background */\n",
       "#sk-container-id-6 div.sk-label:hover label.sk-toggleable__label {\n",
       "  color: var(--sklearn-color-text);\n",
       "  background-color: var(--sklearn-color-unfitted-level-2);\n",
       "}\n",
       "\n",
       "/* Label box, darken color on hover, fitted */\n",
       "#sk-container-id-6 div.sk-label.fitted:hover label.sk-toggleable__label.fitted {\n",
       "  color: var(--sklearn-color-text);\n",
       "  background-color: var(--sklearn-color-fitted-level-2);\n",
       "}\n",
       "\n",
       "/* Estimator label */\n",
       "\n",
       "#sk-container-id-6 div.sk-label label {\n",
       "  font-family: monospace;\n",
       "  font-weight: bold;\n",
       "  display: inline-block;\n",
       "  line-height: 1.2em;\n",
       "}\n",
       "\n",
       "#sk-container-id-6 div.sk-label-container {\n",
       "  text-align: center;\n",
       "}\n",
       "\n",
       "/* Estimator-specific */\n",
       "#sk-container-id-6 div.sk-estimator {\n",
       "  font-family: monospace;\n",
       "  border: 1px dotted var(--sklearn-color-border-box);\n",
       "  border-radius: 0.25em;\n",
       "  box-sizing: border-box;\n",
       "  margin-bottom: 0.5em;\n",
       "  /* unfitted */\n",
       "  background-color: var(--sklearn-color-unfitted-level-0);\n",
       "}\n",
       "\n",
       "#sk-container-id-6 div.sk-estimator.fitted {\n",
       "  /* fitted */\n",
       "  background-color: var(--sklearn-color-fitted-level-0);\n",
       "}\n",
       "\n",
       "/* on hover */\n",
       "#sk-container-id-6 div.sk-estimator:hover {\n",
       "  /* unfitted */\n",
       "  background-color: var(--sklearn-color-unfitted-level-2);\n",
       "}\n",
       "\n",
       "#sk-container-id-6 div.sk-estimator.fitted:hover {\n",
       "  /* fitted */\n",
       "  background-color: var(--sklearn-color-fitted-level-2);\n",
       "}\n",
       "\n",
       "/* Specification for estimator info (e.g. \"i\" and \"?\") */\n",
       "\n",
       "/* Common style for \"i\" and \"?\" */\n",
       "\n",
       ".sk-estimator-doc-link,\n",
       "a:link.sk-estimator-doc-link,\n",
       "a:visited.sk-estimator-doc-link {\n",
       "  float: right;\n",
       "  font-size: smaller;\n",
       "  line-height: 1em;\n",
       "  font-family: monospace;\n",
       "  background-color: var(--sklearn-color-background);\n",
       "  border-radius: 1em;\n",
       "  height: 1em;\n",
       "  width: 1em;\n",
       "  text-decoration: none !important;\n",
       "  margin-left: 1ex;\n",
       "  /* unfitted */\n",
       "  border: var(--sklearn-color-unfitted-level-1) 1pt solid;\n",
       "  color: var(--sklearn-color-unfitted-level-1);\n",
       "}\n",
       "\n",
       ".sk-estimator-doc-link.fitted,\n",
       "a:link.sk-estimator-doc-link.fitted,\n",
       "a:visited.sk-estimator-doc-link.fitted {\n",
       "  /* fitted */\n",
       "  border: var(--sklearn-color-fitted-level-1) 1pt solid;\n",
       "  color: var(--sklearn-color-fitted-level-1);\n",
       "}\n",
       "\n",
       "/* On hover */\n",
       "div.sk-estimator:hover .sk-estimator-doc-link:hover,\n",
       ".sk-estimator-doc-link:hover,\n",
       "div.sk-label-container:hover .sk-estimator-doc-link:hover,\n",
       ".sk-estimator-doc-link:hover {\n",
       "  /* unfitted */\n",
       "  background-color: var(--sklearn-color-unfitted-level-3);\n",
       "  color: var(--sklearn-color-background);\n",
       "  text-decoration: none;\n",
       "}\n",
       "\n",
       "div.sk-estimator.fitted:hover .sk-estimator-doc-link.fitted:hover,\n",
       ".sk-estimator-doc-link.fitted:hover,\n",
       "div.sk-label-container:hover .sk-estimator-doc-link.fitted:hover,\n",
       ".sk-estimator-doc-link.fitted:hover {\n",
       "  /* fitted */\n",
       "  background-color: var(--sklearn-color-fitted-level-3);\n",
       "  color: var(--sklearn-color-background);\n",
       "  text-decoration: none;\n",
       "}\n",
       "\n",
       "/* Span, style for the box shown on hovering the info icon */\n",
       ".sk-estimator-doc-link span {\n",
       "  display: none;\n",
       "  z-index: 9999;\n",
       "  position: relative;\n",
       "  font-weight: normal;\n",
       "  right: .2ex;\n",
       "  padding: .5ex;\n",
       "  margin: .5ex;\n",
       "  width: min-content;\n",
       "  min-width: 20ex;\n",
       "  max-width: 50ex;\n",
       "  color: var(--sklearn-color-text);\n",
       "  box-shadow: 2pt 2pt 4pt #999;\n",
       "  /* unfitted */\n",
       "  background: var(--sklearn-color-unfitted-level-0);\n",
       "  border: .5pt solid var(--sklearn-color-unfitted-level-3);\n",
       "}\n",
       "\n",
       ".sk-estimator-doc-link.fitted span {\n",
       "  /* fitted */\n",
       "  background: var(--sklearn-color-fitted-level-0);\n",
       "  border: var(--sklearn-color-fitted-level-3);\n",
       "}\n",
       "\n",
       ".sk-estimator-doc-link:hover span {\n",
       "  display: block;\n",
       "}\n",
       "\n",
       "/* \"?\"-specific style due to the `<a>` HTML tag */\n",
       "\n",
       "#sk-container-id-6 a.estimator_doc_link {\n",
       "  float: right;\n",
       "  font-size: 1rem;\n",
       "  line-height: 1em;\n",
       "  font-family: monospace;\n",
       "  background-color: var(--sklearn-color-background);\n",
       "  border-radius: 1rem;\n",
       "  height: 1rem;\n",
       "  width: 1rem;\n",
       "  text-decoration: none;\n",
       "  /* unfitted */\n",
       "  color: var(--sklearn-color-unfitted-level-1);\n",
       "  border: var(--sklearn-color-unfitted-level-1) 1pt solid;\n",
       "}\n",
       "\n",
       "#sk-container-id-6 a.estimator_doc_link.fitted {\n",
       "  /* fitted */\n",
       "  border: var(--sklearn-color-fitted-level-1) 1pt solid;\n",
       "  color: var(--sklearn-color-fitted-level-1);\n",
       "}\n",
       "\n",
       "/* On hover */\n",
       "#sk-container-id-6 a.estimator_doc_link:hover {\n",
       "  /* unfitted */\n",
       "  background-color: var(--sklearn-color-unfitted-level-3);\n",
       "  color: var(--sklearn-color-background);\n",
       "  text-decoration: none;\n",
       "}\n",
       "\n",
       "#sk-container-id-6 a.estimator_doc_link.fitted:hover {\n",
       "  /* fitted */\n",
       "  background-color: var(--sklearn-color-fitted-level-3);\n",
       "}\n",
       "</style><div id=\"sk-container-id-6\" class=\"sk-top-container\"><div class=\"sk-text-repr-fallback\"><pre>Pipeline(steps=[(&#x27;columnkernelizer&#x27;,\n",
       "                 ColumnKernelizer(transformers=[(&#x27;space 0&#x27;, Kernelizer(),\n",
       "                                                 slice(np.int64(0), np.int64(1000), None)),\n",
       "                                                (&#x27;space 1&#x27;, Kernelizer(),\n",
       "                                                 slice(np.int64(1000), np.int64(2000), None))])),\n",
       "                (&#x27;multiplekernelridgecv&#x27;,\n",
       "                 MultipleKernelRidgeCV(kernels=&#x27;precomputed&#x27;,\n",
       "                                       solver=&#x27;hyper_gradient&#x27;,\n",
       "                                       solver_params={&#x27;hyper_gradient_method&#x27;: &#x27;direct&#x27;,\n",
       "                                                      &#x27;initial_deltas&#x27;: array([[-1.2767011 , -1.2767011 , -1.8444397 , ..., -1.2767011 ,\n",
       "        -0.12540857,  0.45814538],\n",
       "       [-3.2895198 , -3.2895198 , -1.8444397 , ..., -3.2895198 ,\n",
       "        -2.1382272 ,  0.45814538]], dtype=float32),\n",
       "                                                      &#x27;max_iter&#x27;: 10,\n",
       "                                                      &#x27;max_iter_inner_hyper&#x27;: 10}))])</pre><b>In a Jupyter environment, please rerun this cell to show the HTML representation or trust the notebook. <br />On GitHub, the HTML representation is unable to render, please try loading this page with nbviewer.org.</b></div><div class=\"sk-container\" hidden><div class=\"sk-item sk-dashed-wrapped\"><div class=\"sk-label-container\"><div class=\"sk-label fitted sk-toggleable\"><input class=\"sk-toggleable__control sk-hidden--visually\" id=\"sk-estimator-id-36\" type=\"checkbox\" ><label for=\"sk-estimator-id-36\" class=\"sk-toggleable__label fitted sk-toggleable__label-arrow fitted\">&nbsp;&nbsp;Pipeline<a class=\"sk-estimator-doc-link fitted\" rel=\"noreferrer\" target=\"_blank\" href=\"https://scikit-learn.org/1.5/modules/generated/sklearn.pipeline.Pipeline.html\">?<span>Documentation for Pipeline</span></a><span class=\"sk-estimator-doc-link fitted\">i<span>Fitted</span></span></label><div class=\"sk-toggleable__content fitted\"><pre>Pipeline(steps=[(&#x27;columnkernelizer&#x27;,\n",
       "                 ColumnKernelizer(transformers=[(&#x27;space 0&#x27;, Kernelizer(),\n",
       "                                                 slice(np.int64(0), np.int64(1000), None)),\n",
       "                                                (&#x27;space 1&#x27;, Kernelizer(),\n",
       "                                                 slice(np.int64(1000), np.int64(2000), None))])),\n",
       "                (&#x27;multiplekernelridgecv&#x27;,\n",
       "                 MultipleKernelRidgeCV(kernels=&#x27;precomputed&#x27;,\n",
       "                                       solver=&#x27;hyper_gradient&#x27;,\n",
       "                                       solver_params={&#x27;hyper_gradient_method&#x27;: &#x27;direct&#x27;,\n",
       "                                                      &#x27;initial_deltas&#x27;: array([[-1.2767011 , -1.2767011 , -1.8444397 , ..., -1.2767011 ,\n",
       "        -0.12540857,  0.45814538],\n",
       "       [-3.2895198 , -3.2895198 , -1.8444397 , ..., -3.2895198 ,\n",
       "        -2.1382272 ,  0.45814538]], dtype=float32),\n",
       "                                                      &#x27;max_iter&#x27;: 10,\n",
       "                                                      &#x27;max_iter_inner_hyper&#x27;: 10}))])</pre></div> </div></div><div class=\"sk-serial\"><div class=\"sk-item sk-dashed-wrapped\"><div class=\"sk-label-container\"><div class=\"sk-label fitted sk-toggleable\"><input class=\"sk-toggleable__control sk-hidden--visually\" id=\"sk-estimator-id-37\" type=\"checkbox\" ><label for=\"sk-estimator-id-37\" class=\"sk-toggleable__label fitted sk-toggleable__label-arrow fitted\">columnkernelizer: ColumnKernelizer</label><div class=\"sk-toggleable__content fitted\"><pre>ColumnKernelizer(transformers=[(&#x27;space 0&#x27;, Kernelizer(),\n",
       "                                slice(np.int64(0), np.int64(1000), None)),\n",
       "                               (&#x27;space 1&#x27;, Kernelizer(),\n",
       "                                slice(np.int64(1000), np.int64(2000), None))])</pre></div> </div></div><div class=\"sk-parallel\"><div class=\"sk-parallel-item\"><div class=\"sk-item\"><div class=\"sk-label-container\"><div class=\"sk-label fitted sk-toggleable\"><input class=\"sk-toggleable__control sk-hidden--visually\" id=\"sk-estimator-id-38\" type=\"checkbox\" ><label for=\"sk-estimator-id-38\" class=\"sk-toggleable__label fitted sk-toggleable__label-arrow fitted\">space 0</label><div class=\"sk-toggleable__content fitted\"><pre>slice(np.int64(0), np.int64(1000), None)</pre></div> </div></div><div class=\"sk-serial\"><div class=\"sk-item\"><div class=\"sk-estimator fitted sk-toggleable\"><input class=\"sk-toggleable__control sk-hidden--visually\" id=\"sk-estimator-id-39\" type=\"checkbox\" ><label for=\"sk-estimator-id-39\" class=\"sk-toggleable__label fitted sk-toggleable__label-arrow fitted\">Kernelizer</label><div class=\"sk-toggleable__content fitted\"><pre>Kernelizer()</pre></div> </div></div></div></div></div><div class=\"sk-parallel-item\"><div class=\"sk-item\"><div class=\"sk-label-container\"><div class=\"sk-label fitted sk-toggleable\"><input class=\"sk-toggleable__control sk-hidden--visually\" id=\"sk-estimator-id-40\" type=\"checkbox\" ><label for=\"sk-estimator-id-40\" class=\"sk-toggleable__label fitted sk-toggleable__label-arrow fitted\">space 1</label><div class=\"sk-toggleable__content fitted\"><pre>slice(np.int64(1000), np.int64(2000), None)</pre></div> </div></div><div class=\"sk-serial\"><div class=\"sk-item\"><div class=\"sk-estimator fitted sk-toggleable\"><input class=\"sk-toggleable__control sk-hidden--visually\" id=\"sk-estimator-id-41\" type=\"checkbox\" ><label for=\"sk-estimator-id-41\" class=\"sk-toggleable__label fitted sk-toggleable__label-arrow fitted\">Kernelizer</label><div class=\"sk-toggleable__content fitted\"><pre>Kernelizer()</pre></div> </div></div></div></div></div></div></div><div class=\"sk-item\"><div class=\"sk-estimator fitted sk-toggleable\"><input class=\"sk-toggleable__control sk-hidden--visually\" id=\"sk-estimator-id-42\" type=\"checkbox\" ><label for=\"sk-estimator-id-42\" class=\"sk-toggleable__label fitted sk-toggleable__label-arrow fitted\">MultipleKernelRidgeCV</label><div class=\"sk-toggleable__content fitted\"><pre>MultipleKernelRidgeCV(kernels=&#x27;precomputed&#x27;, solver=&#x27;hyper_gradient&#x27;,\n",
       "                      solver_params={&#x27;hyper_gradient_method&#x27;: &#x27;direct&#x27;,\n",
       "                                     &#x27;initial_deltas&#x27;: array([[-1.2767011 , -1.2767011 , -1.8444397 , ..., -1.2767011 ,\n",
       "        -0.12540857,  0.45814538],\n",
       "       [-3.2895198 , -3.2895198 , -1.8444397 , ..., -3.2895198 ,\n",
       "        -2.1382272 ,  0.45814538]], dtype=float32),\n",
       "                                     &#x27;max_iter&#x27;: 10,\n",
       "                                     &#x27;max_iter_inner_hyper&#x27;: 10})</pre></div> </div></div></div></div></div></div>"
      ]
     },
     "execution_count": 63,
     "metadata": {},
     "output_type": "execute_result"
    }
   ],
   "execution_count": 63
  },
  {
   "cell_type": "markdown",
   "metadata": {
    "editable": true,
    "slideshow": {
     "slide_type": ""
    },
    "tags": []
   },
   "source": [
    "### Compute predictions on a test set"
   ]
  },
  {
   "cell_type": "code",
   "metadata": {
    "collapsed": false,
    "editable": true,
    "jupyter": {
     "outputs_hidden": false
    },
    "scrolled": true,
    "slideshow": {
     "slide_type": ""
    },
    "tags": [],
    "ExecuteTime": {
     "end_time": "2024-12-17T13:23:25.208669Z",
     "start_time": "2024-12-17T13:23:25.192071Z"
    }
   },
   "source": [
    "import matplotlib.pyplot as plt\n",
    "\n",
    "# use the first model for all targets\n",
    "test_scores_random = pipe_random.score(X_test, Y_test)\n",
    "\n",
    "# use the second model for the refined targets\n",
    "# test_scores_2 = backend.copy(test_scores_1)\n",
    "# test_scores_2[mask] = pipe_2.score(X_test, Y_test[:, mask])\n",
    "test_scores_refined = pipe_gradient.score(X_test, Y_test)\n",
    "\n",
    "test_scores_random = backend.to_numpy(test_scores_random)\n",
    "test_scores_refined = backend.to_numpy(test_scores_refined)"
   ],
   "outputs": [],
   "execution_count": 64
  },
  {
   "cell_type": "code",
   "metadata": {
    "collapsed": false,
    "editable": true,
    "jupyter": {
     "outputs_hidden": false
    },
    "scrolled": true,
    "slideshow": {
     "slide_type": ""
    },
    "tags": [],
    "ExecuteTime": {
     "end_time": "2024-12-17T13:23:25.378381Z",
     "start_time": "2024-12-17T13:23:25.278562Z"
    }
   },
   "source": [
    "plt.figure(figsize=(4, 4))\n",
    "plt.scatter(test_scores_random, test_scores_refined, alpha=0.3)\n",
    "plt.xlim(0, 1)\n",
    "plt.plot(plt.xlim(), plt.xlim(), color='k', lw=1)\n",
    "plt.xlabel(r\"Base model\")\n",
    "plt.ylabel(r\"Refined model\")\n",
    "plt.title(\"$R^2$ generalization score\")\n",
    "plt.grid()\n",
    "plt.tight_layout()\n",
    "plt.show()"
   ],
   "outputs": [
    {
     "data": {
      "text/plain": [
       "<Figure size 400x400 with 1 Axes>"
      ],
      "image/png": "[encoded data removed]"
     },
     "metadata": {},
     "output_type": "display_data"
    }
   ],
   "execution_count": 65
  },
  {
   "cell_type": "markdown",
   "metadata": {},
   "source": [
    "## Model comparison"
   ]
  },
  {
   "cell_type": "code",
   "metadata": {
    "ExecuteTime": {
     "end_time": "2024-12-17T13:23:25.660681Z",
     "start_time": "2024-12-17T13:23:25.464493Z"
    }
   },
   "source": [
    "maximum = 0\n",
    "for score in test_scores:\n",
    "    maximum = max(maximum, score.max())\n",
    "\n",
    "bins = np.linspace(0, maximum, 50)\n",
    "for score, feature in zip(test_scores, feature_names):\n",
    "    plt.hist(score, bins, alpha=0.7, label=feature)\n",
    "plt.hist(test_scores_refined, bins, alpha=.7, label=\"Joint Model\")\n",
    "\n",
    "plt.xlabel(r\"$R^2$ generalization score\")\n",
    "plt.title(\"Histogram over targets\")\n",
    "plt.legend()\n",
    "plt.show()"
   ],
   "outputs": [
    {
     "data": {
      "text/plain": [
       "<Figure size 640x480 with 1 Axes>"
      ],
      "image/png": "[encoded data removed]"
     },
     "metadata": {},
     "output_type": "display_data"
    }
   ],
   "execution_count": 66
  },
  {
   "cell_type": "code",
   "metadata": {
    "ExecuteTime": {
     "end_time": "2024-12-17T13:23:25.888179Z",
     "start_time": "2024-12-17T13:23:25.729561Z"
    }
   },
   "source": [
    "import matplotlib.pyplot as plt\n",
    "\n",
    "# Create a figure with subplots\n",
    "fig, axs = plt.subplots(1, len(test_scores), figsize=(4 * len(test_scores), 4))\n",
    "\n",
    "# Loop through each score and corresponding subplot\n",
    "for i, score in enumerate(test_scores):\n",
    "    ax = axs[i]\n",
    "    ax.scatter(score, test_scores_refined, alpha=0.3)\n",
    "    ax.set_xlim(0, 1)\n",
    "    ax.plot(ax.get_xlim(), ax.get_xlim(), color='k', lw=1)\n",
    "    ax.set_xlabel(f\"{feature_names[i]}\")\n",
    "    ax.set_ylabel(r\"Joint model\")\n",
    "    ax.set_title(\"$R^2$ generalization score\")\n",
    "    ax.grid()\n",
    "\n",
    "# Adjust layout\n",
    "plt.tight_layout()\n",
    "plt.show()"
   ],
   "outputs": [
    {
     "data": {
      "text/plain": [
       "<Figure size 800x400 with 2 Axes>"
      ],
      "image/png": "[encoded data removed]"
     },
     "metadata": {},
     "output_type": "display_data"
    }
   ],
   "execution_count": 67
  },
  {
   "cell_type": "markdown",
   "metadata": {},
   "source": [
    "## Variance partitioning"
   ]
  },
  {
   "cell_type": "markdown",
   "metadata": {},
   "source": [
    "Create predictions"
   ]
  },
  {
   "cell_type": "code",
   "metadata": {
    "ExecuteTime": {
     "end_time": "2024-12-17T13:23:27.306127Z",
     "start_time": "2024-12-17T13:23:25.958040Z"
    }
   },
   "source": [
    "# single model predictions\n",
    "corrs_single = []\n",
    "for i, pipeline in enumerate(single_pipelines):\n",
    "    prediction = pipeline.predict(Xs_test[i])\n",
    "    \n",
    "    correlation = backend.asarray([np.corrcoef(prediction[:, ii].ravel(), Y_test[:, ii])[0, 1]\n",
    "                          for ii in range(Y_test.shape[1])])\n",
    "    correlation = backend.to_numpy(correlation)\n",
    "    corrs_single.append(correlation)\n",
    "\n",
    "prediction = pipe_gradient.predict(X_test)\n",
    "corr_joint = backend.asarray([np.corrcoef(prediction[:, ii].ravel(), Y_test[:, ii])[0, 1]\n",
    "                          for ii in range(Y_test.shape[1])])\n",
    "corr_joint = backend.to_numpy(corr_joint)"
   ],
   "outputs": [],
   "execution_count": 68
  },
  {
   "cell_type": "code",
   "metadata": {
    "ExecuteTime": {
     "end_time": "2024-12-17T13:23:27.568196Z",
     "start_time": "2024-12-17T13:23:27.372716Z"
    }
   },
   "source": [
    "bins = np.linspace(0, 1, 50)\n",
    "\n",
    "for corr, feature in zip(corrs_single, feature_names):\n",
    "    plt.hist(corr, bins, alpha=.7, label=feature)\n",
    "\n",
    "plt.hist(corr_joint, bins, alpha=.7, label=\"Joint Model\")\n",
    "\n",
    "plt.xlabel(r\"$\\rho$ prediction correlation\")\n",
    "plt.title(\"Histogram over targets\")\n",
    "plt.legend()\n",
    "plt.tight_layout()\n",
    "plt.show()"
   ],
   "outputs": [
    {
     "data": {
      "text/plain": [
       "<Figure size 640x480 with 1 Axes>"
      ],
      "image/png": "[encoded data removed]"
     },
     "metadata": {},
     "output_type": "display_data"
    }
   ],
   "execution_count": 69
  },
  {
   "metadata": {},
   "cell_type": "markdown",
   "source": "### Compute unique and shared variance using R^2"
  },
  {
   "metadata": {
    "ExecuteTime": {
     "end_time": "2024-12-17T13:23:27.636949Z",
     "start_time": "2024-12-17T13:23:27.635570Z"
    }
   },
   "cell_type": "code",
   "source": [
    "zero_minus_one = test_scores_refined - test_scores[1]\n",
    "one_minus_zero = test_scores_refined - test_scores[0]"
   ],
   "outputs": [],
   "execution_count": null
  },
  {
   "metadata": {},
   "cell_type": "markdown",
   "source": "### compute unique and shared variance using correlation"
  },
  {
   "metadata": {
    "ExecuteTime": {
     "end_time": "2024-12-17T13:23:27.706702Z",
     "start_time": "2024-12-17T13:23:27.704740Z"
    }
   },
   "cell_type": "code",
   "source": [
    "def ssc(data: np.array):\n",
    "    \"\"\"\n",
    "    Calculate the signed squared correlation of a matrix\n",
    "    :param data: np.array\n",
    "    :return: np.array\n",
    "    \"\"\"\n",
    "    # return data ** 2\n",
    "    return (data ** 2) * np.sign(data)"
   ],
   "outputs": [],
   "execution_count": 70
  },
  {
   "cell_type": "code",
   "metadata": {
    "ExecuteTime": {
     "end_time": "2024-12-17T13:23:27.841281Z",
     "start_time": "2024-12-17T13:23:27.838622Z"
    }
   },
   "source": [
    "# estimate the explained variance of each model using signed squared correlation\n",
    "squared_intersection = ssc(corrs_single[0]) + ssc(corrs_single[1]) - ssc(corr_joint)\n",
    "squared_variance_a_minus_b = ssc(corrs_single[0]) - squared_intersection\n",
    "squared_variance_b_minus_a = ssc(corrs_single[1]) - squared_intersection\n",
    "\n",
    "# take roots of the squared values\n",
    "intersection = np.sqrt(squared_intersection)\n",
    "variance_a_minus_b = np.sqrt(squared_variance_a_minus_b)\n",
    "variance_b_minus_a = np.sqrt(squared_variance_b_minus_a)"
   ],
   "outputs": [
    {
     "name": "stderr",
     "output_type": "stream",
     "text": [
      "/tmp/ipykernel_105430/2662518546.py:7: RuntimeWarning: invalid value encountered in sqrt\n",
      "  intersection = np.sqrt(squared_intersection)\n",
      "/tmp/ipykernel_105430/2662518546.py:9: RuntimeWarning: invalid value encountered in sqrt\n",
      "  variance_b_minus_a = np.sqrt(squared_variance_b_minus_a)\n"
     ]
    }
   ],
   "execution_count": 71
  },
  {
   "metadata": {
    "ExecuteTime": {
     "end_time": "2024-12-17T13:23:28.038445Z",
     "start_time": "2024-12-17T13:23:27.844662Z"
    }
   },
   "cell_type": "code",
   "source": [
    "bins = np.linspace(0, 1, 50)\n",
    "\n",
    "plt.hist(variance_a_minus_b, bins, alpha=.7, label=\"Feature space 0 \\\\ Feature space 1\")\n",
    "plt.hist(variance_b_minus_a, bins, alpha=.7, label=\"Feature space 1 \\\\ Feature space 0\")\n",
    "plt.hist(intersection, bins, alpha=.7, label=\"Intersection\")\n",
    "\n",
    "plt.xlabel(r\"$\\rho$ prediction correlation\")\n",
    "plt.title(\"Histogram over targets\")\n",
    "plt.legend()\n",
    "plt.tight_layout()\n",
    "plt.show()"
   ],
   "outputs": [
    {
     "data": {
      "text/plain": [
       "<Figure size 640x480 with 1 Axes>"
      ],
      "image/png": "[encoded data removed]"
     },
     "metadata": {},
     "output_type": "display_data"
    }
   ],
   "execution_count": 72
  },
  {
   "metadata": {
    "ExecuteTime": {
     "end_time": "2024-12-17T13:23:28.110639Z",
     "start_time": "2024-12-17T13:23:28.109292Z"
    }
   },
   "cell_type": "code",
   "source": "",
   "outputs": [],
   "execution_count": null
  }
 ],
 "metadata": {
  "kernelspec": {
   "display_name": "Python 3 (ipykernel)",
   "language": "python",
   "name": "python3"
  },
  "language_info": {
   "codemirror_mode": {
    "name": "ipython",
    "version": 3
   },
   "file_extension": ".py",
   "mimetype": "text/x-python",
   "name": "python",
   "nbconvert_exporter": "python",
   "pygments_lexer": "ipython3",
   "version": "3.10.12"
  }
 },
 "nbformat": 4,
 "nbformat_minor": 4
}
