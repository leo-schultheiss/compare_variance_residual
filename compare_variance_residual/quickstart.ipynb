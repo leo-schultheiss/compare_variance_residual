{
 "cells": [
  {
   "metadata": {},
   "cell_type": "markdown",
   "source": [
    "# Simulation\n",
    "\n",
    "Here we generate a simulated set of features, `Xs`, with the corresponding 'brain' response `Y`"
   ],
   "id": "273b4989277115d4"
  },
  {
   "metadata": {},
   "cell_type": "markdown",
   "source": "If you have torch installed with a NVIDIA GPU with cuda enabled, you will be able to run things a lot more quickly (though here we use a low sample size and it won't matter much)",
   "id": "e89b11d5cad827c2"
  },
  {
   "metadata": {
    "ExecuteTime": {
     "end_time": "2025-04-24T14:36:59.621780Z",
     "start_time": "2025-04-24T14:36:59.618124Z"
    }
   },
   "cell_type": "code",
   "source": [
    "from himalaya.backend import set_backend\n",
    "\n",
    "set_backend('torch', on_error='warn')"
   ],
   "id": "7f0495238c135936",
   "outputs": [
    {
     "data": {
      "text/plain": [
       "<module 'himalaya.backend.torch' from '/home/leo/git/compare_variance_residual/.venv/lib/python3.13/site-packages/himalaya/backend/torch.py'>"
      ]
     },
     "execution_count": 19,
     "metadata": {},
     "output_type": "execute_result"
    }
   ],
   "execution_count": 19
  },
  {
   "cell_type": "code",
   "id": "initial_id",
   "metadata": {
    "collapsed": true,
    "ExecuteTime": {
     "end_time": "2025-04-24T14:37:01.406550Z",
     "start_time": "2025-04-24T14:36:59.661853Z"
    }
   },
   "source": [
    "from compare_variance_residual.simulation.dataset import generate_dataset\n",
    "\n",
    "Xs, Y = generate_dataset(d_list=[10, 10, 10], n_samples=1000)"
   ],
   "outputs": [],
   "execution_count": 20
  },
  {
   "metadata": {},
   "cell_type": "markdown",
   "source": "note that the size of each feature X corresponds to summing up d_list times two, due to the way the hidden correlations between features are constructed (at least with the way the feature spaces are made to be orthogonal)",
   "id": "a70bf285f2484532"
  },
  {
   "metadata": {
    "ExecuteTime": {
     "end_time": "2025-04-24T14:37:01.431914Z",
     "start_time": "2025-04-24T14:37:01.428791Z"
    }
   },
   "cell_type": "code",
   "source": "Xs[0].shape",
   "id": "8ea24019cca9f13c",
   "outputs": [
    {
     "data": {
      "text/plain": [
       "torch.Size([1000, 60])"
      ]
     },
     "execution_count": 21,
     "metadata": {},
     "output_type": "execute_result"
    }
   ],
   "execution_count": 21
  },
  {
   "metadata": {},
   "cell_type": "markdown",
   "source": "now we can use the residual method and variance partitioning to deduce how much each variance each feature explains uniquely",
   "id": "7542ee5e41415a53"
  },
  {
   "metadata": {
    "ExecuteTime": {
     "end_time": "2025-04-24T14:37:01.496153Z",
     "start_time": "2025-04-24T14:37:01.493476Z"
    }
   },
   "cell_type": "code",
   "source": "n_samples_train = 900  # here we use 90 samples as training, and the remaining 10 as test samples",
   "id": "10ed495e7dad64bc",
   "outputs": [],
   "execution_count": 22
  },
  {
   "metadata": {
    "ExecuteTime": {
     "end_time": "2025-04-24T14:37:13.602071Z",
     "start_time": "2025-04-24T14:37:01.552604Z"
    }
   },
   "cell_type": "code",
   "source": [
    "from compare_variance_residual.simulation.residual_method import residual_method\n",
    "from compare_variance_residual.simulation.variance_partitioning import variance_partitioning\n",
    "\n",
    "residual_method_results = residual_method(Xs, Y, n_samples_train)\n",
    "variance_partitioning_results = variance_partitioning(Xs, Y, n_samples_train)"
   ],
   "id": "3a40ce874de2bbc6",
   "outputs": [],
   "execution_count": 23
  },
  {
   "metadata": {},
   "cell_type": "markdown",
   "source": "These results contain a bit more information, which we will not use here (mostly used for sanity checks)",
   "id": "afe2554a6c6f1dc9"
  },
  {
   "metadata": {
    "ExecuteTime": {
     "end_time": "2025-04-24T14:37:13.626953Z",
     "start_time": "2025-04-24T14:37:13.623829Z"
    }
   },
   "cell_type": "code",
   "source": [
    "_, _, rm_pred_x0, rm_pred_x1 = residual_method_results\n",
    "_, _, _, _, vp_pred_x0, vp_pred_x1 = variance_partitioning_results"
   ],
   "id": "c4a35127a1a97d0c",
   "outputs": [],
   "execution_count": 24
  },
  {
   "metadata": {},
   "cell_type": "markdown",
   "source": "Now we can plot the predicted unique contributions for feature space 0 and 1",
   "id": "2f038cff73f45e8e"
  },
  {
   "metadata": {
    "ExecuteTime": {
     "end_time": "2025-04-24T14:37:13.822002Z",
     "start_time": "2025-04-24T14:37:13.685494Z"
    }
   },
   "cell_type": "code",
   "source": [
    "from matplotlib import pyplot as plt\n",
    "import seaborn as sns\n",
    "import pandas as pd\n",
    "\n",
    "data = pd.DataFrame({\n",
    "    \"Feature Space\": [r\"$X_0$\", r\"$X_1$\", r\"$X_0$\", r\"$X_1$\"],\n",
    "    \"Method\": [\"Residual Method\", \"Residual Method\", \"Variance Partitioning\", \"Variance Partitioning\"],\n",
    "    \"Result\": [rm_pred_x0.mean(), rm_pred_x1.mean(), vp_pred_x0.mean(), vp_pred_x1.mean()],\n",
    "})\n",
    "\n",
    "sns.barplot(data = data, x=\"Feature Space\", y=\"Result\", hue=\"Method\")"
   ],
   "id": "27c17507af2eb2e9",
   "outputs": [
    {
     "data": {
      "text/plain": [
       "<Axes: xlabel='Feature Space', ylabel='Result'>"
      ]
     },
     "execution_count": 25,
     "metadata": {},
     "output_type": "execute_result"
    },
    {
     "data": {
      "text/plain": [
       "<Figure size 640x480 with 1 Axes>"
      ],
      "image/png": "[encoded data removed]"
     },
     "metadata": {},
     "output_type": "display_data"
    }
   ],
   "execution_count": 25
  },
  {
   "metadata": {},
   "cell_type": "markdown",
   "source": [
    "# FMRI\n",
    "\n",
    "Here we will apply variance partitioning and the residual method to the actual brain data of subject 7. For this you will need at least\n",
    "\n",
    "- The [features_trn_NEW.hdf](https://gin.g-node.org/denizenslab/narratives_reading_listening_fmri/src/master/features/features_trn_NEW.hdf) and [features_val_NEW.hdf](https://gin.g-node.org/denizenslab/narratives_reading_listening_fmri/src/master/features/features_val_NEW.hdf) files\n",
    "- The subject's [mapper](https://gin.g-node.org/denizenslab/narratives_reading_listening_fmri/src/master/mappers/subject07_mappers.hdf) file\n",
    "- The subject's brain response during reading for [training](https://gin.g-node.org/denizenslab/narratives_reading_listening_fmri/src/master/responses/subject07_reading_fmri_data_trn.hdf) and [testing](https://gin.g-node.org/denizenslab/narratives_reading_listening_fmri/src/master/responses/subject07_reading_fmri_data_val.hdf)\n",
    "\n",
    "arranged as described in the [readme](../Readme.md)."
   ],
   "id": "793310cbed9e7372"
  },
  {
   "metadata": {
    "ExecuteTime": {
     "end_time": "2025-04-27T10:59:46.525197Z",
     "start_time": "2025-04-27T10:59:46.520638Z"
    }
   },
   "cell_type": "code",
   "source": [
    "subject = 7\n",
    "modality = \"reading\"\n",
    "data_dir = \"../data\""
   ],
   "id": "3079581228b9837c",
   "outputs": [],
   "execution_count": 2
  },
  {
   "metadata": {},
   "cell_type": "markdown",
   "source": "We implicitly analyze the impact of low level features on the semantic feature, which is why we only have to declare that here.",
   "id": "5dcd0abcfbdfe2d"
  },
  {
   "metadata": {},
   "cell_type": "code",
   "outputs": [],
   "execution_count": null,
   "source": "low_level_feature = \"letters\"",
   "id": "cc9a8c392cd59963"
  },
  {
   "metadata": {},
   "cell_type": "markdown",
   "source": "Now to apply the methods lets load the features and brain data. These methods only store the results in a csv file (not very intuitive but it was very practical at the time) in a folder called results in the current working directory.",
   "id": "46d23f0c1d9585c8"
  },
  {
   "metadata": {},
   "cell_type": "code",
   "outputs": [],
   "execution_count": null,
   "source": [
    "from compare_variance_residual.fmri.residual_method import residual_method\n",
    "from compare_variance_residual.fmri.variance_partitioning import variance_partitioning\n",
    "\n",
    "residual_method(data_dir, subject, modality, low_level_feature)\n",
    "variance_partitioning(data_dir, subject, modality, low_level_feature)"
   ],
   "id": "cfbc0d70eb9387e8"
  },
  {
   "metadata": {},
   "cell_type": "markdown",
   "source": "Now we can load those results and display them.",
   "id": "13c849fbcddcf6a0"
  },
  {
   "metadata": {
    "ExecuteTime": {
     "end_time": "2025-04-27T10:59:47.849187Z",
     "start_time": "2025-04-27T10:59:47.843Z"
    }
   },
   "cell_type": "code",
   "source": [
    "import os\n",
    "from compare_variance_residual.fmri.results import get_result_path\n",
    "\n",
    "mapper_file = os.path.join(data_dir, \"mappers\", f\"subject{subject:02}_mappers.hdf\")\n",
    "result_path = get_result_path(modality, subject)"
   ],
   "id": "fbb373d2306acca7",
   "outputs": [],
   "execution_count": 3
  },
  {
   "metadata": {},
   "cell_type": "code",
   "outputs": [],
   "execution_count": null,
   "source": [
    "from voxelwise_tutorials.viz import plot_flatmap_from_mapper\n",
    "import pandas as pd\n",
    "\n",
    "residual_method_results = pd.read_csv(os.path.join(result_path, f\"residual_{low_level_feature}_english1000_scores.csv\"))\n",
    "variance_partitioning_results = pd.read_csv(os.path.join(result_path, f\"vp_english1000_{low_level_feature}_scores.csv\"))"
   ],
   "id": "71699f9d9b6fb082"
  },
  {
   "metadata": {},
   "cell_type": "code",
   "outputs": [],
   "execution_count": null,
   "source": "plot_flatmap_from_mapper(residual_method_results, mapper_file)",
   "id": "586cf404a79a35ae"
  },
  {
   "metadata": {},
   "cell_type": "code",
   "outputs": [],
   "execution_count": null,
   "source": "plot_flatmap_from_mapper(variance_partitioning_results, mapper_file)",
   "id": "90d6037941f7713e"
  }
 ],
 "metadata": {
  "kernelspec": {
   "display_name": "Python 3",
   "language": "python",
   "name": "python3"
  },
  "language_info": {
   "codemirror_mode": {
    "name": "ipython",
    "version": 2
   },
   "file_extension": ".py",
   "mimetype": "text/x-python",
   "name": "python",
   "nbconvert_exporter": "python",
   "pygments_lexer": "ipython2",
   "version": "2.7.6"
  }
 },
 "nbformat": 4,
 "nbformat_minor": 5
}
