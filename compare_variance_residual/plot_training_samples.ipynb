{
 "cells": [
  {
   "metadata": {},
   "cell_type": "code",
   "outputs": [],
   "execution_count": null,
   "source": [
    "import os\n",
    "import random\n",
    "import warnings\n",
    "\n",
    "import matplotlib.pyplot as plt\n",
    "import simplstyles\n",
    "import numpy as np\n",
    "import pandas as pd\n",
    "import seaborn as sns\n",
    "from himalaya.backend import set_backend\n",
    "\n",
    "from compare_variance_residual.residual import residual_method\n",
    "from compare_variance_residual.simulation import generate_dataset\n",
    "from compare_variance_residual.variance_partitioning import variance_partitioning"
   ],
   "id": "a9ea27e8da929eb1"
  },
  {
   "metadata": {},
   "cell_type": "code",
   "outputs": [],
   "execution_count": null,
   "source": [
    "def get_path(alphas, cv, n_targets):\n",
    "    path = os.path.join(\"results\", f\"targets={n_targets}\", f\"cv={cv}\",\n",
    "                        f\"alphas={alphas.min()},{alphas.max()},{len(alphas)}\", \"varying training samples\")\n",
    "    os.makedirs(path, exist_ok=True)\n",
    "    return path"
   ],
   "id": "11bd91c4138a9f77"
  },
  {
   "metadata": {},
   "cell_type": "code",
   "outputs": [],
   "execution_count": null,
   "source": [
    "def save_scores(samples_train, d_list, scalars, n_targets, n_samples_test, noise_target, cv, alphas):\n",
    "    path = get_path(alphas, cv, n_targets)\n",
    "    for n_samples_train in samples_train:\n",
    "        print(n_samples_train)\n",
    "        csv_path = os.path.join(path, f\"scores_{n_samples_train}.csv\")\n",
    "        scores = pd.DataFrame()\n",
    "        if os.path.exists(csv_path):\n",
    "            print(\"skipping, already exists\")\n",
    "            continue\n",
    "        Xs, Y = generate_dataset(d_list, scalars, n_targets, n_samples_train + n_samples_test, noise_target)\n",
    "        print(\"data generated\")\n",
    "        x1_score, x2_score, joint_score, x1_and_x2_score, vp_x1_unique_score, vp_x2_unique_score = variance_partitioning(\n",
    "            Xs, Y, n_samples_train, alphas, cv)\n",
    "        print(\"variance partitioning done\")\n",
    "\n",
    "        scores[\"x1_score\"] = x1_score\n",
    "        scores[\"x2_score\"] = x2_score\n",
    "        scores[\"vp_joint_score\"] = joint_score\n",
    "        scores[\"vp_shared_score\"] = x1_and_x2_score\n",
    "        scores[\"vp_x1_unique_score\"] = vp_x1_unique_score\n",
    "        scores[\"vp_x2_unique_score\"] = vp_x2_unique_score\n",
    "        del x1_score, x2_score, joint_score, x1_and_x2_score, vp_x1_unique_score, vp_x2_unique_score\n",
    "\n",
    "        x2_to_x1_score, x1_to_x2_score, rm_x1_unique_score, rm_x2_unique_score = residual_method(\n",
    "            Xs, Y, n_samples_train, alphas, cv)\n",
    "        print(\"residual method done\")\n",
    "        scores[\"rm_x2_to_x1_score\"] = np.concatenate(\n",
    "            [x2_to_x1_score, np.full(len(rm_x1_unique_score) - len(x2_to_x1_score), np.nan)])\n",
    "        scores[\"rm_x1_to_x2_score\"] = np.concatenate(\n",
    "            [x1_to_x2_score, np.full(len(rm_x1_unique_score) - len(x1_to_x2_score), np.nan)])\n",
    "        scores[\"rm_x1_unique_score\"] = rm_x1_unique_score\n",
    "        scores[\"rm_x2_unique_score\"] = rm_x2_unique_score\n",
    "        print(scores.head())\n",
    "        del x2_to_x1_score, x1_to_x2_score, rm_x1_unique_score, rm_x2_unique_score\n",
    "        del Xs, Y\n",
    "        scores.to_csv(csv_path, index=False)"
   ],
   "id": "51929c010eec76ce"
  },
  {
   "metadata": {},
   "cell_type": "markdown",
   "source": "# Save scores for varying training samples",
   "id": "3fbaccb59e4b9d41"
  },
  {
   "metadata": {},
   "cell_type": "code",
   "outputs": [],
   "execution_count": null,
   "source": [
    "backend = set_backend(\"cupy\", on_error=\"warn\")\n",
    "warnings.filterwarnings(\"ignore\")\n",
    "random.seed(42)\n",
    "plt.style.use('nord-light-talk')"
   ],
   "id": "4f2c8bbdac227383"
  },
  {
   "metadata": {},
   "cell_type": "code",
   "outputs": [],
   "execution_count": null,
   "source": [
    "d_list = [100, 100, 100]\n",
    "n_targets = 10000\n",
    "n_samples_test = 100\n",
    "scalars = [1 / 3, 1 / 3, 1 / 3]\n",
    "noise_target = 0.1\n",
    "\n",
    "cv = 10\n",
    "alphas = np.logspace(-5, 5, 10)"
   ],
   "id": "6b68aac6125592be"
  },
  {
   "metadata": {},
   "cell_type": "code",
   "outputs": [],
   "execution_count": null,
   "source": [
    "import math\n",
    "\n",
    "numsteps = 10\n",
    "samples_train = np.logspace(math.log(301, 10), math.log(15000.5, 10), numsteps).astype(int)\n",
    "samples_train"
   ],
   "id": "f82df9ab20326da7"
  },
  {
   "metadata": {},
   "cell_type": "code",
   "outputs": [],
   "execution_count": null,
   "source": "save_scores(samples_train, d_list, scalars, n_targets, n_samples_test, noise_target, cv, alphas)",
   "id": "1b85937291ece6dd"
  },
  {
   "metadata": {},
   "cell_type": "markdown",
   "source": "# Load scores",
   "id": "8f54c12c821c66ff"
  },
  {
   "metadata": {},
   "cell_type": "code",
   "outputs": [],
   "execution_count": null,
   "source": [
    "vp = pd.DataFrame()\n",
    "rm = pd.DataFrame()\n",
    "\n",
    "for i, n_samples_train in enumerate(samples_train):\n",
    "    scores = pd.read_csv(os.path.join(get_path(alphas, cv, n_targets), f\"scores_{n_samples_train}.csv\"))\n",
    "    vp_scores = pd.DataFrame({\n",
    "        'n_samples_train': [n_samples_train] * len(scores),\n",
    "        'vp_x1_unique_score': scores['vp_x1_unique_score'],\n",
    "    }, index=range(len(scores)))\n",
    "\n",
    "    rm_scores = pd.DataFrame({\n",
    "        'n_samples_train': [n_samples_train] * len(scores),\n",
    "        'rm_x1_unique_score': scores['rm_x1_unique_score'],\n",
    "    }, index=range(len(scores)))\n",
    "\n",
    "    vp = pd.concat([vp, vp_scores], ignore_index=True)\n",
    "    rm = pd.concat([rm, rm_scores], ignore_index=True)\n",
    "vp.head()\n",
    "rm.head()"
   ],
   "id": "696e88c07d7731a9"
  },
  {
   "metadata": {},
   "cell_type": "code",
   "outputs": [],
   "execution_count": null,
   "source": [
    "hue_order = ['Residual Method', 'Variance Partitioning', ]\n",
    "sns.lineplot(data=vp, x='n_samples_train', y='vp_x1_unique_score', label='Variance Partitioning', errorbar='sd')\n",
    "sns.lineplot(data=rm, x='n_samples_train', y='rm_x1_unique_score', label='Residual Method', errorbar='sd')\n",
    "plt.axhline(scalars[1], linestyle='--', label='true unique variance')\n",
    "plt.xlabel(r\"Numer of Training Samples\")\n",
    "plt.ylabel(r\"$R^2$\")\n",
    "plt.xscale('log')\n",
    "plt.legend()\n",
    "xtick_labels = [str(int(x)) for x in samples_train]\n",
    "xticks = [int(x) for x in samples_train]\n",
    "plt.xticks(xticks, xtick_labels, rotation=45, ha='right')\n",
    "plt.gca().set_xticklabels(xtick_labels)"
   ],
   "id": "35ad5489ba379ef7"
  },
  {
   "metadata": {},
   "cell_type": "code",
   "outputs": [],
   "execution_count": null,
   "source": "",
   "id": "9bafa4988f61ab24"
  }
 ],
 "metadata": {
  "kernelspec": {
   "display_name": "Python 3",
   "language": "python",
   "name": "python3"
  },
  "language_info": {
   "codemirror_mode": {
    "name": "ipython",
    "version": 2
   },
   "file_extension": ".py",
   "mimetype": "text/x-python",
   "name": "python",
   "nbconvert_exporter": "python",
   "pygments_lexer": "ipython2",
   "version": "2.7.6"
  }
 },
 "nbformat": 4,
 "nbformat_minor": 5
}
