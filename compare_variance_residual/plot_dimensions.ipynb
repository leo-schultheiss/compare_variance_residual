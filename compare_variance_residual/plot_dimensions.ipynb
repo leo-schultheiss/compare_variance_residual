{
 "cells": [
  {
   "metadata": {},
   "cell_type": "code",
   "outputs": [],
   "execution_count": null,
   "source": [
    "import os\n",
    "import random\n",
    "import warnings\n",
    "\n",
    "import numpy as np\n",
    "import pandas as pd\n",
    "import seaborn as sns\n",
    "from himalaya.backend import set_backend\n",
    "from matplotlib import pyplot as plt\n",
    "\n",
    "from compare_variance_residual.residual import residual_method\n",
    "from compare_variance_residual.simulation import generate_dataset\n",
    "from compare_variance_residual.variance_partitioning import variance_partitioning"
   ],
   "id": "9cc7732a4c3d0188"
  },
  {
   "metadata": {},
   "cell_type": "code",
   "outputs": [],
   "execution_count": null,
   "source": [
    "def get_path(alphas, cv, n_targets):\n",
    "    path = os.path.join(\"results\", f\"targets={n_targets}\", f\"cv={cv}\",\n",
    "                        f\"alphas={alphas.min()},{alphas.max()},{len(alphas)}\", \"varying dimensions\")\n",
    "    os.makedirs(path, exist_ok=True)\n",
    "    return path"
   ],
   "id": "c149532f1762a83d"
  },
  {
   "metadata": {},
   "cell_type": "code",
   "outputs": [],
   "execution_count": null,
   "source": [
    "def save_scores(d_list_list, scalars, n_targets, n_samples, noise_target, cv, alphas):\n",
    "    path = get_path(alphas, cv, n_targets)\n",
    "    for d_list in d_list_list:\n",
    "        print(d_list)\n",
    "        csv_path = os.path.join(path, f\"scores_{d_list}.csv\")\n",
    "        scores = pd.DataFrame()\n",
    "        if os.path.exists(csv_path):\n",
    "            print(\"skipping, already exists\")\n",
    "            continue\n",
    "        Xs, Y = generate_dataset(d_list, scalars, n_targets, n_samples, noise_target)\n",
    "        print(\"data generated\")\n",
    "        x1_score, x2_score, joint_score, x1_and_x2_score, vp_x1_unique_score, vp_x2_unique_score = variance_partitioning(\n",
    "            Xs, Y, n_samples_train, alphas, cv)\n",
    "        print(\"variance partitioning done\")\n",
    "\n",
    "        scores[\"x1_score\"] = x1_score\n",
    "        scores[\"x2_score\"] = x2_score\n",
    "        scores[\"vp_joint_score\"] = joint_score\n",
    "        scores[\"vp_shared_score\"] = x1_and_x2_score\n",
    "        scores[\"vp_x1_unique_score\"] = vp_x1_unique_score\n",
    "        scores[\"vp_x2_unique_score\"] = vp_x2_unique_score\n",
    "        del x1_score, x2_score, joint_score, x1_and_x2_score, vp_x1_unique_score, vp_x2_unique_score\n",
    "\n",
    "        _, _, x2_to_x1_score, x1_to_x2_score, rm_x1_unique_score, rm_x2_unique_score = residual_method(\n",
    "            Xs, Y, n_samples_train, alphas, cv)\n",
    "        print(\"residual method done\")\n",
    "        scores[\"rm_x2_to_x1_score\"] = np.concatenate(\n",
    "            [x2_to_x1_score, np.full(len(rm_x1_unique_score) - len(x2_to_x1_score), np.nan)])\n",
    "        scores[\"rm_x1_to_x2_score\"] = np.concatenate(\n",
    "            [x1_to_x2_score, np.full(len(rm_x1_unique_score) - len(x1_to_x2_score), np.nan)])\n",
    "        scores[\"rm_x1_unique_score\"] = rm_x1_unique_score\n",
    "        scores[\"rm_x2_unique_score\"] = rm_x2_unique_score\n",
    "        del x2_to_x1_score, x1_to_x2_score, rm_x1_unique_score, rm_x2_unique_score\n",
    "        del Xs, Y\n",
    "        scores.to_csv(csv_path, index=False)"
   ],
   "id": "5d329298d8e5528e"
  },
  {
   "metadata": {},
   "cell_type": "markdown",
   "source": "# Save scores for varying Dimensions",
   "id": "a78eab0e1b2e2c70"
  },
  {
   "metadata": {},
   "cell_type": "code",
   "outputs": [],
   "execution_count": null,
   "source": [
    "backend = set_backend(\"cupy\", on_error=\"warn\")\n",
    "warnings.filterwarnings(\"ignore\")\n",
    "random.seed(42)"
   ],
   "id": "b495eef069583f6f"
  },
  {
   "metadata": {},
   "cell_type": "code",
   "outputs": [],
   "execution_count": null,
   "source": [
    "d_list = [100, 100, 100]\n",
    "n_targets = 10000\n",
    "n_samples_train = 10000\n",
    "n_samples_test = 100\n",
    "n_samples = n_samples_train + n_samples_test\n",
    "noise_target = 0.1\n",
    "scalars = [1 / 3, 1 / 3, 1 / 3]\n",
    "\n",
    "cv = 10\n",
    "alphas = np.logspace(-5, 5, 10)"
   ],
   "id": "747e7f9097d271cf"
  },
  {
   "metadata": {},
   "cell_type": "code",
   "outputs": [],
   "execution_count": null,
   "source": "varying_dim = np.logspace(1, 3, 10, dtype=int)",
   "id": "1f5683ceb99c0fec"
  },
  {
   "metadata": {},
   "cell_type": "markdown",
   "source": "## Shared dimension",
   "id": "1e536ae7801ad2fa"
  },
  {
   "metadata": {},
   "cell_type": "code",
   "outputs": [],
   "execution_count": null,
   "source": "d_list_list = [[int(dim), d_list[1], d_list[2]] for dim in varying_dim]",
   "id": "e05a7805fe6c7bd9"
  },
  {
   "metadata": {},
   "cell_type": "code",
   "outputs": [],
   "execution_count": null,
   "source": "save_scores(d_list_list, scalars, n_targets, n_samples, noise_target, cv, alphas)",
   "id": "8e9b5c5f6ae8ed83"
  },
  {
   "metadata": {},
   "cell_type": "markdown",
   "source": "## Unique dimension",
   "id": "d888062c667430ba"
  },
  {
   "metadata": {},
   "cell_type": "code",
   "outputs": [],
   "execution_count": null,
   "source": "d_list_list = [[d_list[0], int(dim), d_list[2]] for dim in varying_dim]",
   "id": "10fffb81ab9b49a7"
  },
  {
   "metadata": {},
   "cell_type": "code",
   "outputs": [],
   "execution_count": null,
   "source": "save_scores(d_list_list, d_list, n_targets, n_samples, noise_target, cv, alphas)",
   "id": "514f77c740364629"
  },
  {
   "metadata": {},
   "cell_type": "markdown",
   "source": "# Plot scores",
   "id": "d20060498bac6f2f"
  },
  {
   "metadata": {},
   "cell_type": "markdown",
   "source": "## Shared dimension",
   "id": "7372820312233f56"
  },
  {
   "metadata": {},
   "cell_type": "code",
   "outputs": [],
   "execution_count": null,
   "source": [
    "vp = pd.DataFrame()\n",
    "rm = pd.DataFrame()\n",
    "\n",
    "for i, dim in enumerate(varying_dim):\n",
    "    shared_dims = [dim, d_list[1], d_list[2]]\n",
    "    scores = pd.read_csv(os.path.join(get_path(alphas, cv, n_targets), f\"scores_{shared_dims}.csv\"))\n",
    "\n",
    "    vp_scores = pd.DataFrame({\n",
    "        'shared_dim': dim,\n",
    "        'vp_x1_unique_score': scores['vp_x1_unique_score'],\n",
    "    }, index=[i])\n",
    "\n",
    "    rm_scores = pd.DataFrame({\n",
    "        'shared_dim': dim,\n",
    "        'rm_x1_unique_score': scores['rm_x1_unique_score'],\n",
    "    }, index=[i])\n",
    "\n",
    "    vp = pd.concat([vp, vp_scores], ignore_index=True)\n",
    "    rm = pd.concat([rm, rm_scores], ignore_index=True)\n",
    "vp.head()\n",
    "rm.head()"
   ],
   "id": "baf87054fa7d953a"
  },
  {
   "metadata": {},
   "cell_type": "code",
   "outputs": [],
   "execution_count": null,
   "source": [
    "sns.lineplot(data=vp, x='shared_dim', y='vp_x1_unique_score', label='Variance Partitioning', palette='C2')\n",
    "plt.fill_between(vp['shared_dim'], vp['vp_x1_lower_se'], vp['vp_x1_upper_se'], alpha=0.3)\n",
    "sns.lineplot(data=rm, x='shared_dim', y='rm_x1_unique_score', label='Residual Method')\n",
    "plt.fill_between(rm['shared_dim'], rm['rm_x1_lower_se'], rm['rm_x1_upper_se'], alpha=0.3)\n",
    "plt.axhline(scalars[1], linestyle='--', label='true unique variance')\n",
    "plt.xlabel(r\"$d_\\mathbf{A}$\")\n",
    "plt.ylabel(r\"Predicted Unique Variance (avg. $R^2$)\")\n",
    "plt.xscale('log')"
   ],
   "id": "a6ebf098751ae35"
  },
  {
   "metadata": {},
   "cell_type": "markdown",
   "source": "## Unique dimension",
   "id": "da1a17aacfe72a36"
  },
  {
   "metadata": {},
   "cell_type": "code",
   "outputs": [],
   "execution_count": null,
   "source": [
    "vp = pd.DataFrame()\n",
    "rm = pd.DataFrame()\n",
    "\n",
    "for i, dim in enumerate(varying_dim):\n",
    "    unique_dims = [d_list[0], dim, d_list[2]]\n",
    "    scores_unique = pd.read_csv(os.path.join(get_path(alphas, cv, n_targets), f\"scores_{unique_dims}.csv\"))\n",
    "\n",
    "    vp_scores = pd.DataFrame({\n",
    "        'unique_dim': dim,\n",
    "        'vp_x1_unique_score': scores_unique['vp_x1_unique_score'],\n",
    "    }, index=[i])\n",
    "\n",
    "    rm_scores = pd.DataFrame({\n",
    "        'unique_dim': dim,\n",
    "        'rm_x1_unique_score': scores_unique['rm_x1_unique_score'],\n",
    "    }, index=[i])\n",
    "\n",
    "    vp = pd.concat([vp, vp_scores], ignore_index=True)\n",
    "    rm = pd.concat([rm, rm_scores], ignore_index=True)"
   ],
   "id": "f5982bfe30f455d1"
  },
  {
   "metadata": {},
   "cell_type": "code",
   "outputs": [],
   "execution_count": null,
   "source": [
    "sns.lineplot(data=vp, x='unique_dim', y='vp_x1_unique_score', label='Variance Partitioning')\n",
    "plt.fill_between(vp['unique_dim'], vp['vp_x1_lower_se'], vp['vp_x1_upper_se'], alpha=0.3)\n",
    "sns.lineplot(data=rm, x='unique_dim', y='rm_x1_unique_score', label='Residual Method')\n",
    "plt.fill_between(rm['unique_dim'], rm['rm_x1_lower_se'], rm['rm_x1_upper_se'], alpha=0.3)\n",
    "plt.axhline(scalars[1], linestyle='--', label='true unique variance')\n",
    "plt.xlabel(r\"$d_\\mathbf{B}$\")\n",
    "plt.ylabel(r\"Predicted Unique Variance (avg. $R^2$)\")\n",
    "plt.xscale('log')"
   ],
   "id": "976eed807f7969be"
  }
 ],
 "metadata": {
  "kernelspec": {
   "display_name": "Python 3",
   "language": "python",
   "name": "python3"
  },
  "language_info": {
   "codemirror_mode": {
    "name": "ipython",
    "version": 2
   },
   "file_extension": ".py",
   "mimetype": "text/x-python",
   "name": "python",
   "nbconvert_exporter": "python",
   "pygments_lexer": "ipython2",
   "version": "2.7.6"
  }
 },
 "nbformat": 4,
 "nbformat_minor": 5
}
