{
 "cells": [
  {
   "metadata": {
    "ExecuteTime": {
     "end_time": "2025-02-19T19:38:16.794856Z",
     "start_time": "2025-02-19T19:38:16.702123Z"
    }
   },
   "cell_type": "code",
   "source": [
    "import os\n",
    "import random\n",
    "import warnings\n",
    "\n",
    "import numpy as np\n",
    "import pandas as pd\n",
    "import seaborn as sns\n",
    "from himalaya.backend import set_backend\n",
    "\n",
    "from compare_variance_residual.residual import residual_method\n",
    "from compare_variance_residual.simulation import generate_dataset\n",
    "from compare_variance_residual.variance_partitioning import variance_partitioning\n",
    "\n",
    "\n",
    "def get_path(alphas, cv, n_targets):\n",
    "    path = os.path.join(\"results\", f\"targets={n_targets}\", f\"cv={cv}\",\n",
    "                        f\"alphas={alphas.min()},{alphas.max()},{len(alphas)}\", \"varying dimensions\")\n",
    "    os.makedirs(path, exist_ok=True)\n",
    "    return path"
   ],
   "id": "7214bbfbd22e42b9",
   "outputs": [],
   "execution_count": 1
  },
  {
   "metadata": {
    "ExecuteTime": {
     "end_time": "2025-02-19T19:38:16.803775Z",
     "start_time": "2025-02-19T19:38:16.798801Z"
    }
   },
   "cell_type": "code",
   "source": [
    "def save_scores(d_list_list, scalars, n_targets, n_samples, noise_target, cv, alphas):\n",
    "    path = get_path(alphas, cv, n_targets)\n",
    "    for d_list in d_list_list:\n",
    "        print(d_list)\n",
    "        csv_path = os.path.join(path, f\"scores_{d_list}.csv\")\n",
    "        scores = pd.DataFrame()\n",
    "        if os.path.exists(csv_path):\n",
    "            print(\"skipping, already exists\")\n",
    "            continue\n",
    "        Xs, Y = generate_dataset(d_list, scalars, n_targets, n_samples, noise_target)\n",
    "        print(\"data generated\")\n",
    "        x1_score, x2_score, joint_score, x1_and_x2_score, vp_x1_unique_score, vp_x2_unique_score = variance_partitioning(\n",
    "            Xs, Y, n_samples_train, alphas, cv)\n",
    "        print(\"variance partitioning done\")\n",
    "\n",
    "        scores[\"x1_score\"] = x1_score\n",
    "        scores[\"x2_score\"] = x2_score\n",
    "        scores[\"vp_joint_score\"] = joint_score\n",
    "        scores[\"vp_shared_score\"] = x1_and_x2_score\n",
    "        scores[\"vp_x1_unique_score\"] = vp_x1_unique_score\n",
    "        scores[\"vp_x2_unique_score\"] = vp_x2_unique_score\n",
    "        del x1_score, x2_score, joint_score, x1_and_x2_score, vp_x1_unique_score, vp_x2_unique_score\n",
    "\n",
    "        _, _, x2_to_x1_score, x1_to_x2_score, rm_x1_unique_score, rm_x2_unique_score = residual_method(\n",
    "            Xs, Y, n_samples_train, alphas, cv)\n",
    "        print(\"residual method done\")\n",
    "        scores[\"rm_x2_to_x1_score\"] = np.concatenate(\n",
    "            [x2_to_x1_score, np.full(len(rm_x1_unique_score) - len(x2_to_x1_score), np.nan)])\n",
    "        scores[\"rm_x1_to_x2_score\"] = np.concatenate(\n",
    "            [x1_to_x2_score, np.full(len(rm_x1_unique_score) - len(x1_to_x2_score), np.nan)])\n",
    "        scores[\"rm_x1_unique_score\"] = rm_x1_unique_score\n",
    "        scores[\"rm_x2_unique_score\"] = rm_x2_unique_score\n",
    "        del x2_to_x1_score, x1_to_x2_score, rm_x1_unique_score, rm_x2_unique_score\n",
    "        del Xs, Y\n",
    "        scores.to_csv(csv_path, index=False)"
   ],
   "id": "e892fc1cda6d373f",
   "outputs": [],
   "execution_count": 2
  },
  {
   "metadata": {},
   "cell_type": "markdown",
   "source": "# Save scores for varying Dimensions",
   "id": "29652e5a7524e7c8"
  },
  {
   "metadata": {
    "ExecuteTime": {
     "end_time": "2025-02-19T19:38:17.060070Z",
     "start_time": "2025-02-19T19:38:16.887746Z"
    }
   },
   "cell_type": "code",
   "source": [
    "backend = set_backend(\"cupy\", on_error=\"warn\")\n",
    "warnings.filterwarnings(\"ignore\")\n",
    "random.seed(42)"
   ],
   "id": "d88dce6a0ca359b5",
   "outputs": [],
   "execution_count": 3
  },
  {
   "metadata": {
    "ExecuteTime": {
     "end_time": "2025-02-19T19:38:17.068519Z",
     "start_time": "2025-02-19T19:38:17.065973Z"
    }
   },
   "cell_type": "code",
   "source": [
    "d_list = [100, 100, 100]\n",
    "n_targets = 10000\n",
    "n_samples_train = 10000\n",
    "n_samples_test = 100\n",
    "n_samples = n_samples_train + n_samples_test\n",
    "noise_target = 0.1\n",
    "scalars = [1 / 3, 1 / 3, 1 / 3]\n",
    "\n",
    "cv = 10\n",
    "alphas = np.logspace(-5, 5, 10)"
   ],
   "id": "7d22e5e47c2bd337",
   "outputs": [],
   "execution_count": 4
  },
  {
   "metadata": {
    "ExecuteTime": {
     "end_time": "2025-02-19T19:38:17.111761Z",
     "start_time": "2025-02-19T19:38:17.109082Z"
    }
   },
   "cell_type": "code",
   "source": "varying_dim = np.logspace(1, 3, 3, dtype=int)",
   "id": "d13ef57f64a8417f",
   "outputs": [],
   "execution_count": 5
  },
  {
   "metadata": {},
   "cell_type": "markdown",
   "source": "## Shared dimension",
   "id": "b806e6a9da8060c1"
  },
  {
   "metadata": {
    "ExecuteTime": {
     "end_time": "2025-02-19T19:38:17.158419Z",
     "start_time": "2025-02-19T19:38:17.155885Z"
    }
   },
   "cell_type": "code",
   "source": "d_list_list = [[dim, d_list[1], d_list[2]] for dim in varying_dim]",
   "id": "f06754f09aab7974",
   "outputs": [],
   "execution_count": 6
  },
  {
   "metadata": {
    "ExecuteTime": {
     "end_time": "2025-02-19T19:54:35.118250Z",
     "start_time": "2025-02-19T19:38:17.204286Z"
    }
   },
   "cell_type": "code",
   "source": "save_scores(d_list_list, scalars, n_targets, n_samples, noise_target, cv, alphas)",
   "id": "5115fc2bfda7cdc5",
   "outputs": [
    {
     "name": "stdout",
     "output_type": "stream",
     "text": [
      "[np.int64(10), 100, 100]\n",
      "skipping, already exists\n",
      "[np.int64(100), 100, 100]\n",
      "skipping, already exists\n",
      "[np.int64(1000), 100, 100]\n",
      "data generated\n",
      "variance partitioning done\n",
      "   x1_score  x2_score  vp_joint_score  vp_shared_score  vp_x1_unique_score  \\\n",
      "0  0.461371  0.459514        0.874169         0.046716            0.414655   \n",
      "1  0.535339  0.573399        0.895665         0.213072            0.322267   \n",
      "2  0.568278  0.554833        0.878547         0.244565            0.323714   \n",
      "3  0.375521  0.464975        0.875263        -0.034768            0.410289   \n",
      "4  0.588965  0.537196        0.908395         0.217765            0.371200   \n",
      "\n",
      "   vp_x2_unique_score  \n",
      "0            0.412797  \n",
      "1            0.360327  \n",
      "2            0.310269  \n",
      "3            0.499742  \n",
      "4            0.319430  \n",
      "residual method done\n"
     ]
    }
   ],
   "execution_count": 7
  },
  {
   "metadata": {},
   "cell_type": "markdown",
   "source": "## Unique dimension",
   "id": "b61808a59caffdcf"
  },
  {
   "metadata": {
    "ExecuteTime": {
     "end_time": "2025-02-19T19:54:35.173887Z",
     "start_time": "2025-02-19T19:54:35.170868Z"
    }
   },
   "cell_type": "code",
   "source": "d_list_list = [[d_list[0], dim, d_list[2]] for dim in varying_dim]",
   "id": "de452254c43fe0aa",
   "outputs": [],
   "execution_count": 8
  },
  {
   "metadata": {
    "ExecuteTime": {
     "end_time": "2025-02-19T20:16:27.446844Z",
     "start_time": "2025-02-19T19:54:35.627484Z"
    }
   },
   "cell_type": "code",
   "source": "save_scores(d_list_list, d_list, n_targets, n_samples, noise_target, cv, alphas)",
   "id": "8fdfb1e255f5218a",
   "outputs": [
    {
     "name": "stdout",
     "output_type": "stream",
     "text": [
      "[100, np.int64(10), 100]\n",
      "data generated\n",
      "variance partitioning done\n",
      "   x1_score  x2_score  vp_joint_score  vp_shared_score  vp_x1_unique_score  \\\n",
      "0  0.549256  0.611021        0.922585         0.237692            0.311564   \n",
      "1  0.540532  0.537617        0.883811         0.194338            0.346194   \n",
      "2  0.642491  0.637364        0.913167         0.366688            0.275803   \n",
      "3  0.615331  0.616610        0.894938         0.337003            0.278328   \n",
      "4  0.535285  0.491975        0.880579         0.146682            0.388603   \n",
      "\n",
      "   vp_x2_unique_score  \n",
      "0            0.373329  \n",
      "1            0.343279  \n",
      "2            0.270676  \n",
      "3            0.279607  \n",
      "4            0.345293  \n",
      "residual method done\n",
      "[100, np.int64(100), 100]\n",
      "data generated\n",
      "variance partitioning done\n",
      "   x1_score  x2_score  vp_joint_score  vp_shared_score  vp_x1_unique_score  \\\n",
      "0  0.563241  0.566870        0.897115         0.232996            0.330245   \n",
      "1  0.551462  0.590797        0.876583         0.265676            0.285786   \n",
      "2  0.621309  0.682612        0.939508         0.364414            0.256896   \n",
      "3  0.580009  0.637032        0.901428         0.315613            0.264396   \n",
      "4  0.525270  0.539063        0.902167         0.162166            0.363104   \n",
      "\n",
      "   vp_x2_unique_score  \n",
      "0            0.333874  \n",
      "1            0.325121  \n",
      "2            0.318199  \n",
      "3            0.321419  \n",
      "4            0.376897  \n",
      "residual method done\n",
      "[100, np.int64(1000), 100]\n",
      "data generated\n",
      "variance partitioning done\n",
      "   x1_score  x2_score  vp_joint_score  vp_shared_score  vp_x1_unique_score  \\\n",
      "0  0.441943  0.668070        0.869136         0.240876            0.201066   \n",
      "1  0.529722  0.550098        0.889764         0.190056            0.339666   \n",
      "2  0.693975  0.599499        0.910822         0.382652            0.311323   \n",
      "3  0.319445  0.525297        0.868745        -0.024003            0.343448   \n",
      "4  0.555353  0.656792        0.909098         0.303048            0.252305   \n",
      "\n",
      "   vp_x2_unique_score  \n",
      "0            0.427194  \n",
      "1            0.360042  \n",
      "2            0.216847  \n",
      "3            0.549300  \n",
      "4            0.353745  \n",
      "residual method done\n"
     ]
    }
   ],
   "execution_count": 9
  },
  {
   "metadata": {},
   "cell_type": "markdown",
   "source": "# Plot scores",
   "id": "63f6300da18ff5af"
  },
  {
   "metadata": {
    "ExecuteTime": {
     "end_time": "2025-02-19T20:16:27.522548Z",
     "start_time": "2025-02-19T20:16:27.499330Z"
    }
   },
   "cell_type": "code",
   "source": [
    "vp_x1_unique_predicted = []\n",
    "vp_x2_unique_predicted = []\n",
    "rm_x1_unique_predicted = []\n",
    "rm_x2_unique_predicted = []\n",
    "\n",
    "for d_list in d_list_list:\n",
    "    scores = pd.read_csv(os.path.join(get_path(alphas, cv, n_targets), f\"scores_{d_list}.csv\"))\n",
    "    vp_x1_unique_predicted.append(scores[\"vp_x1_unique_score\"])\n",
    "    vp_x2_unique_predicted.append(scores[\"vp_x2_unique_score\"])\n",
    "    rm_x1_unique_predicted.append(scores[\"rm_x1_unique_score\"])\n",
    "    rm_x2_unique_predicted.append(scores[\"rm_x2_unique_score\"])"
   ],
   "id": "5d1b00874386e234",
   "outputs": [],
   "execution_count": 10
  },
  {
   "metadata": {
    "ExecuteTime": {
     "end_time": "2025-02-19T20:16:28.731199Z",
     "start_time": "2025-02-19T20:16:27.542105Z"
    }
   },
   "cell_type": "code",
   "source": "sns.catplot(data=pd.DataFrame(vp_x1_unique_predicted).T)",
   "id": "584dbe676ed596d1",
   "outputs": [
    {
     "data": {
      "text/plain": [
       "<seaborn.axisgrid.FacetGrid at 0x7b59808429c0>"
      ]
     },
     "execution_count": 11,
     "metadata": {},
     "output_type": "execute_result"
    },
    {
     "data": {
      "text/plain": [
       "<Figure size 500x500 with 1 Axes>"
      ],
      "image/png": "[encoded data removed]"
     },
     "metadata": {},
     "output_type": "display_data"
    }
   ],
   "execution_count": 11
  }
 ],
 "metadata": {
  "kernelspec": {
   "display_name": "Python 3",
   "language": "python",
   "name": "python3"
  },
  "language_info": {
   "codemirror_mode": {
    "name": "ipython",
    "version": 2
   },
   "file_extension": ".py",
   "mimetype": "text/x-python",
   "name": "python",
   "nbconvert_exporter": "python",
   "pygments_lexer": "ipython2",
   "version": "2.7.6"
  }
 },
 "nbformat": 4,
 "nbformat_minor": 5
}
