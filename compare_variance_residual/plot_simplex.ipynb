{
 "cells": [
  {
   "cell_type": "code",
   "id": "initial_id",
   "metadata": {
    "collapsed": true,
    "ExecuteTime": {
     "end_time": "2025-02-12T18:45:48.383013Z",
     "start_time": "2025-02-12T18:45:48.380204Z"
    }
   },
   "source": [
    "import os\n",
    "import random\n",
    "import warnings\n",
    "\n",
    "import numpy as np\n",
    "import matplotlib.pyplot as plt\n",
    "import matplotlib\n",
    "import pandas as pd\n",
    "from himalaya.backend import set_backend\n",
    "from scipy.interpolate import griddata, CloughTocher2DInterpolator\n",
    "\n",
    "from compare_variance_residual.residual import residual_method\n",
    "from compare_variance_residual.simulation import generate_dataset\n",
    "from compare_variance_residual.variance_partitioning import variance_partitioning\n",
    "\n",
    "matplotlib.interactive(True)"
   ],
   "outputs": [],
   "execution_count": 10
  },
  {
   "metadata": {},
   "cell_type": "markdown",
   "source": "# Generate scalar points",
   "id": "c19c29f9ee382bd4"
  },
  {
   "metadata": {
    "ExecuteTime": {
     "end_time": "2025-02-12T18:45:48.429600Z",
     "start_time": "2025-02-12T18:45:48.427462Z"
    }
   },
   "cell_type": "code",
   "source": "SUBDIVISIONS = 1",
   "id": "f4e09533763f54d0",
   "outputs": [],
   "execution_count": 11
  },
  {
   "metadata": {
    "ExecuteTime": {
     "end_time": "2025-02-12T18:45:48.482227Z",
     "start_time": "2025-02-12T18:45:48.477776Z"
    }
   },
   "cell_type": "code",
   "source": [
    "scalars_list = [[1,0,0], [0,1,0], [0,0,1]]\n",
    "scalars_list = np.array(scalars_list)\n",
    "for i in range(SUBDIVISIONS):\n",
    "    _scalars_list = []\n",
    "    for point_1 in range(len(scalars_list)):\n",
    "        for point_2 in range(point_1, len(scalars_list)):\n",
    "            interpolation = (scalars_list[point_1] + scalars_list[point_2]) / 2\n",
    "            _scalars_list.append(interpolation)\n",
    "    scalars_list = _scalars_list\n",
    "scalars_list"
   ],
   "id": "45d20ad0b0bf5a48",
   "outputs": [
    {
     "data": {
      "text/plain": [
       "[array([1., 0., 0.]),\n",
       " array([0.5, 0.5, 0. ]),\n",
       " array([0.5, 0. , 0.5]),\n",
       " array([0., 1., 0.]),\n",
       " array([0. , 0.5, 0.5]),\n",
       " array([0., 0., 1.])]"
      ]
     },
     "execution_count": 12,
     "metadata": {},
     "output_type": "execute_result"
    }
   ],
   "execution_count": 12
  },
  {
   "metadata": {},
   "cell_type": "markdown",
   "source": "# Generate data",
   "id": "fd75272f4abba270"
  },
  {
   "metadata": {
    "ExecuteTime": {
     "end_time": "2025-02-12T18:45:48.528027Z",
     "start_time": "2025-02-12T18:45:48.525700Z"
    }
   },
   "cell_type": "code",
   "source": [
    "backend = set_backend(\"cupy\", on_error=\"warn\")\n",
    "warnings.filterwarnings(\"ignore\")\n",
    "random.seed(42)"
   ],
   "id": "faae66fd03d87fee",
   "outputs": [],
   "execution_count": 13
  },
  {
   "metadata": {
    "ExecuteTime": {
     "end_time": "2025-02-12T18:45:48.573669Z",
     "start_time": "2025-02-12T18:45:48.570867Z"
    }
   },
   "cell_type": "code",
   "source": [
    "d_list = [100, 100, 100]\n",
    "n_targets = 10000\n",
    "n_samples_train = 10000\n",
    "n_samples_test = 100\n",
    "n_samples = n_samples_train + n_samples_test\n",
    "noise_scalar = 0.1\n",
    "\n",
    "cv = 10\n",
    "alphas = np.logspace(-5, 5, 10)"
   ],
   "id": "a5aa802b5b48e63c",
   "outputs": [],
   "execution_count": 14
  },
  {
   "metadata": {
    "ExecuteTime": {
     "end_time": "2025-02-12T18:45:48.620639Z",
     "start_time": "2025-02-12T18:45:48.617511Z"
    }
   },
   "cell_type": "code",
   "source": [
    "path = os.path.join(\"results\", f\"targets={n_targets}\", f\"samples={n_samples}\", f\"noise={noise_scalar}\", f\"cv={cv}\",\n",
    "                    f\"alphas={alphas.min()},{alphas.max()},{len(alphas)}\", \"varying scalars\")\n",
    "os.makedirs(path, exist_ok=True)"
   ],
   "id": "5468feeeb9512d2e",
   "outputs": [],
   "execution_count": 15
  },
  {
   "metadata": {
    "jupyter": {
     "is_executing": true
    },
    "ExecuteTime": {
     "start_time": "2025-02-12T18:45:48.665422Z"
    }
   },
   "cell_type": "code",
   "source": [
    "for scalars in scalars_list:\n",
    "    print(scalars)\n",
    "    csv_path = os.path.join(path, f\"scores_{scalars}.csv\")\n",
    "    if  os.path.exists(csv_path):\n",
    "        print(\"skipping, already exists\")\n",
    "        continue\n",
    "    Xs, Y = generate_dataset(d_list, scalars, n_targets, n_samples, noise_scalar)\n",
    "    x1_score, x2_score, joint_score, x1_and_x2_score, vp_x1_unique_score, vp_x2_unique_score = variance_partitioning(\n",
    "        Xs, Y, n_samples_train, alphas, cv)\n",
    "    print(\"variance partitioning done\")\n",
    "    _, _, x2_to_x1_score, x1_to_x2_score, rm_x1_unique_score, rm_x2_unique_score = residual_method(\n",
    "        Xs, Y, n_samples_train, alphas, cv)\n",
    "    print(\"residual method done\")\n",
    "    scores = pd.DataFrame()\n",
    "    scores[\"x1_score\"] = x1_score\n",
    "    scores[\"x2_score\"] = x2_score\n",
    "    scores[\"vp_joint_score\"] = joint_score\n",
    "    scores[\"vp_shared_score\"] = x1_and_x2_score\n",
    "    scores[\"vp_x1_unique_score\"] = vp_x1_unique_score\n",
    "    scores[\"vp_x2_unique_score\"] = vp_x2_unique_score\n",
    "\n",
    "    scores[\"rm_x2_to_x1_score\"] = np.concatenate(\n",
    "        [x2_to_x1_score, np.full(len(x1_score) - len(x2_to_x1_score), np.nan)])\n",
    "    scores[\"rm_x1_to_x2_score\"] = np.concatenate(\n",
    "        [x1_to_x2_score, np.full(len(x2_score) - len(x1_to_x2_score), np.nan)])\n",
    "    scores[\"rm_x1_unique_score\"] = rm_x1_unique_score\n",
    "    scores[\"rm_x2_unique_score\"] = rm_x2_unique_score\n",
    "    print(scores.head())\n",
    "\n",
    "    scores.to_csv(csv_path, index=False)"
   ],
   "id": "2de8d13542299b06",
   "outputs": [
    {
     "name": "stdout",
     "output_type": "stream",
     "text": [
      "[1. 0. 0.]\n"
     ]
    }
   ],
   "execution_count": null
  },
  {
   "metadata": {},
   "cell_type": "markdown",
   "source": "plot points on triangle simplex",
   "id": "2603f2026a881f5f"
  },
  {
   "metadata": {
    "ExecuteTime": {
     "end_time": "2025-02-12T18:44:42.951278884Z",
     "start_time": "2025-02-12T18:38:56.539648Z"
    }
   },
   "cell_type": "code",
   "source": [
    "def plot_simplex(metric_values, interp_type='linear'):\n",
    "    \"\"\"Plots a simplex heatmap based on provided metric values.\n",
    "\n",
    "    Args:\n",
    "        metric_values: A list or numpy array of metric values corresponding to each point in the simplex.\n",
    "                      The length must match the number of generated scalar points.\n",
    "        interp_type: Type of interpolation to use. Can be 'linear', 'clough_tocher', or 'cubic'. Defaults to 'linear'.\n",
    "    \"\"\"\n",
    "    if len(metric_values) != len(scalars):\n",
    "        raise ValueError(\"Length of metric_values must match the number of scalar points.\")\n",
    "\n",
    "    if interp_type not in ['linear', 'clough_tocher', 'cubic']:\n",
    "        raise ValueError(\"Invalid interpolation type. Choose 'linear', 'clough_tocher', or 'cubic'.\")\n",
    "\n",
    "    # Convert to barycentric coordinates\n",
    "    barycentric_coords = scalars\n",
    "\n",
    "    # Create the simplex plot\n",
    "    fig, ax = plt.subplots()\n",
    "\n",
    "    # Define simplex corners\n",
    "    corners = np.array([[0, 0], [1, 0], [0.5, np.sqrt(3) / 2]])\n",
    "\n",
    "    # Transform barycentric coordinates to Cartesian\n",
    "    cartesian_coords = np.dot(barycentric_coords, corners)\n",
    "\n",
    "    # Create a colormap\n",
    "    cmap = plt.get_cmap('seismic')  # You can change the colormap as needed\n",
    "\n",
    "    # Create grid for interpolation\n",
    "    resolution = 100  # Adjust resolution as needed\n",
    "    x = np.linspace(0, 1, resolution)\n",
    "    y = np.linspace(0, np.sqrt(3) / 2, resolution)\n",
    "    xx, yy = np.meshgrid(x, y)\n",
    "    grid_points = np.c_[xx.ravel(), yy.ravel()]\n",
    "\n",
    "    # Filter grid points that are outside the triangle\n",
    "    triangle = matplotlib.patches.Polygon(corners, closed=True)\n",
    "    mask = triangle.contains_points(grid_points)\n",
    "    grid_points_filtered = grid_points[mask]\n",
    "\n",
    "    # Interpolate values on the grid\n",
    "    if interp_type == 'linear':\n",
    "        interp_values = griddata(cartesian_coords, metric_values, grid_points_filtered, method='linear')\n",
    "    elif interp_type == 'clough_tocher':\n",
    "        interp = CloughTocher2DInterpolator(cartesian_coords, metric_values)\n",
    "        interp_values = interp(grid_points_filtered)\n",
    "    elif interp_type == 'cubic':\n",
    "        interp_values = griddata(cartesian_coords, metric_values, grid_points_filtered, method='cubic')\n",
    "\n",
    "    # Reshape interpolated values\n",
    "    zz = np.full_like(xx.ravel(), np.nan)\n",
    "    zz[mask] = interp_values\n",
    "    zz = zz.reshape(xx.shape)\n",
    "\n",
    "    # Plot the colored triangle\n",
    "    im = ax.imshow(zz, extent=[0, 1, 0, np.sqrt(3) / 2], origin='lower', cmap=cmap, aspect='auto')\n",
    "\n",
    "    # Add a colorbar\n",
    "    cbar = fig.colorbar(im, ax=ax)\n",
    "    cbar.set_label('Metric Value')\n",
    "\n",
    "    # Draw the triangle boundaries (optional, if you want to highlight them)\n",
    "    ax.plot([corners[0, 0], corners[1, 0]], [corners[0, 1], corners[1, 1]], 'k-')\n",
    "    ax.plot([corners[1, 0], corners[2, 0]], [corners[1, 1], corners[2, 1]], 'k-')\n",
    "    ax.plot([corners[2, 0], corners[0, 0]], [corners[2, 1], corners[0, 1]], 'k-')\n",
    "\n",
    "    # Set axis labels and title\n",
    "    ax.set_xlabel('x')\n",
    "    ax.set_ylabel('y')\n",
    "    ax.set_title('Simplex Heatmap')\n",
    "\n",
    "    # Show plot\n",
    "    plt.show()\n"
   ],
   "id": "34770666588ee253",
   "outputs": [],
   "execution_count": 17
  },
  {
   "metadata": {
    "ExecuteTime": {
     "end_time": "2025-02-12T18:44:42.953434549Z",
     "start_time": "2025-02-12T18:38:56.790549Z"
    }
   },
   "cell_type": "code",
   "source": "plot_simplex(np.random.rand(len(scalars)))",
   "id": "1fafc6eee8738642",
   "outputs": [
    {
     "data": {
      "text/plain": [
       "<Figure size 640x480 with 2 Axes>"
      ],
      "image/png": "[encoded data removed]"
     },
     "metadata": {},
     "output_type": "display_data"
    }
   ],
   "execution_count": 18
  },
  {
   "metadata": {
    "ExecuteTime": {
     "end_time": "2025-02-12T18:44:42.953696996Z",
     "start_time": "2025-02-12T18:38:49.803016Z"
    }
   },
   "cell_type": "code",
   "source": "",
   "id": "9f0a12e18ce96188",
   "outputs": [],
   "execution_count": null
  }
 ],
 "metadata": {
  "kernelspec": {
   "display_name": "Python 3",
   "language": "python",
   "name": "python3"
  },
  "language_info": {
   "codemirror_mode": {
    "name": "ipython",
    "version": 2
   },
   "file_extension": ".py",
   "mimetype": "text/x-python",
   "name": "python",
   "nbconvert_exporter": "python",
   "pygments_lexer": "ipython2",
   "version": "2.7.6"
  }
 },
 "nbformat": 4,
 "nbformat_minor": 5
}
