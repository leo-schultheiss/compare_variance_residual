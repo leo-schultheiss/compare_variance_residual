{
 "cells": [
  {
   "metadata": {
    "ExecuteTime": {
     "end_time": "2025-02-26T20:14:46.132963Z",
     "start_time": "2025-02-26T20:14:45.975946Z"
    }
   },
   "cell_type": "code",
   "source": [
    "import os\n",
    "\n",
    "import himalaya\n",
    "import numpy as np\n",
    "import pandas as pd\n",
    "from himalaya.backend import set_backend\n",
    "from himalaya.ridge import RidgeCV\n",
    "from matplotlib import pyplot as plt\n",
    "import seaborn as sns\n",
    "import simplstyles\n",
    "from sklearn.pipeline import make_pipeline\n",
    "from voxelwise_tutorials.delayer import Delayer\n",
    "\n",
    "from fmri.features import load_brain_data, load_feature"
   ],
   "id": "bfff375e5309c59f",
   "outputs": [],
   "execution_count": 1
  },
  {
   "metadata": {
    "ExecuteTime": {
     "end_time": "2025-02-26T20:14:47.378706Z",
     "start_time": "2025-02-26T20:14:46.136051Z"
    }
   },
   "cell_type": "code",
   "source": [
    "backend = set_backend(\"torch_cuda\", on_error='throw')\n",
    "plt.style.use('nord-light-talk')\n",
    "data_dir = \"../../data\""
   ],
   "id": "9f527bdf0fb89006",
   "outputs": [],
   "execution_count": 2
  },
  {
   "metadata": {
    "ExecuteTime": {
     "end_time": "2025-02-26T20:14:47.470381Z",
     "start_time": "2025-02-26T20:14:47.468494Z"
    }
   },
   "cell_type": "code",
   "source": [
    "subject = 1\n",
    "modality = \"reading\"\n",
    "trim = 5"
   ],
   "id": "72617e2abcd86445",
   "outputs": [],
   "execution_count": 3
  },
  {
   "metadata": {
    "ExecuteTime": {
     "end_time": "2025-02-26T20:14:47.513556Z",
     "start_time": "2025-02-26T20:14:47.511398Z"
    }
   },
   "cell_type": "code",
   "source": [
    "n_alphas_batch = 3\n",
    "n_targets_batch = 100\n",
    "n_targets_batch_refit = 50"
   ],
   "id": "36f8dff93992152c",
   "outputs": [],
   "execution_count": 4
  },
  {
   "metadata": {
    "ExecuteTime": {
     "end_time": "2025-02-26T20:14:47.559614Z",
     "start_time": "2025-02-26T20:14:47.557303Z"
    }
   },
   "cell_type": "code",
   "source": [
    "number_of_delays = 4\n",
    "alphas = np.logspace(-5, 20, 10)\n",
    "n_iter = 25\n",
    "cv = 5"
   ],
   "id": "609247230299f1a0",
   "outputs": [],
   "execution_count": 5
  },
  {
   "metadata": {
    "ExecuteTime": {
     "end_time": "2025-02-26T20:14:47.606538Z",
     "start_time": "2025-02-26T20:14:47.603936Z"
    }
   },
   "cell_type": "code",
   "source": [
    "def result_path(subject, modality, ridge_type, param_name, param_range):\n",
    "    dir = f\"results/brain_maps_validation_curves/{modality}/{subject}/{ridge_type}\"\n",
    "    os.makedirs(dir, exist_ok=True)\n",
    "    path = os.path.join(dir, f\"{param_name}_{param_range}.csv\")\n",
    "    return path"
   ],
   "id": "e6e5296666b80981",
   "outputs": [],
   "execution_count": 6
  },
  {
   "metadata": {},
   "cell_type": "markdown",
   "source": "# Load features",
   "id": "48a87412e9034f76"
  },
  {
   "metadata": {
    "ExecuteTime": {
     "end_time": "2025-02-26T20:14:47.817214Z",
     "start_time": "2025-02-26T20:14:47.650897Z"
    }
   },
   "cell_type": "code",
   "source": "X, n_samples_train = load_feature(data_dir, \"english1000\")",
   "id": "8eca69ca747aee30",
   "outputs": [],
   "execution_count": 7
  },
  {
   "metadata": {},
   "cell_type": "markdown",
   "source": "# Load brain data",
   "id": "8cc08748c05f2306"
  },
  {
   "metadata": {
    "ExecuteTime": {
     "end_time": "2025-02-26T20:15:05.010542Z",
     "start_time": "2025-02-26T20:14:47.823190Z"
    }
   },
   "cell_type": "code",
   "source": "Y, n_samples_train = load_brain_data(data_dir, subject, modality, trim)",
   "id": "91f2aae5f1e602d1",
   "outputs": [
    {
     "name": "stderr",
     "output_type": "stream",
     "text": [
      "/home/leo/PycharmProjects/compare_variance_residual/compare_variance_residual/fmri/features.py:16: RuntimeWarning: Precision loss occurred in moment calculation due to catastrophic cancellation. This occurs when the data are nearly identical. Results may be unreliable.\n",
      "  Y_train = np.vstack([zscore(Y_train[story][:-trim]) for story in Y_train.keys()])\n",
      "/home/leo/PycharmProjects/compare_variance_residual/compare_variance_residual/fmri/features.py:16: RuntimeWarning: Precision loss occurred in moment calculation due to catastrophic cancellation. This occurs when the data are nearly identical. Results may be unreliable.\n",
      "  Y_train = np.vstack([zscore(Y_train[story][:-trim]) for story in Y_train.keys()])\n",
      "/home/leo/PycharmProjects/compare_variance_residual/compare_variance_residual/fmri/features.py:16: RuntimeWarning: Precision loss occurred in moment calculation due to catastrophic cancellation. This occurs when the data are nearly identical. Results may be unreliable.\n",
      "  Y_train = np.vstack([zscore(Y_train[story][:-trim]) for story in Y_train.keys()])\n",
      "/home/leo/PycharmProjects/compare_variance_residual/compare_variance_residual/fmri/features.py:16: RuntimeWarning: Precision loss occurred in moment calculation due to catastrophic cancellation. This occurs when the data are nearly identical. Results may be unreliable.\n",
      "  Y_train = np.vstack([zscore(Y_train[story][:-trim]) for story in Y_train.keys()])\n",
      "/home/leo/PycharmProjects/compare_variance_residual/compare_variance_residual/fmri/features.py:16: RuntimeWarning: Precision loss occurred in moment calculation due to catastrophic cancellation. This occurs when the data are nearly identical. Results may be unreliable.\n",
      "  Y_train = np.vstack([zscore(Y_train[story][:-trim]) for story in Y_train.keys()])\n",
      "/home/leo/PycharmProjects/compare_variance_residual/compare_variance_residual/fmri/features.py:16: RuntimeWarning: Precision loss occurred in moment calculation due to catastrophic cancellation. This occurs when the data are nearly identical. Results may be unreliable.\n",
      "  Y_train = np.vstack([zscore(Y_train[story][:-trim]) for story in Y_train.keys()])\n",
      "/home/leo/PycharmProjects/compare_variance_residual/compare_variance_residual/fmri/features.py:16: RuntimeWarning: Precision loss occurred in moment calculation due to catastrophic cancellation. This occurs when the data are nearly identical. Results may be unreliable.\n",
      "  Y_train = np.vstack([zscore(Y_train[story][:-trim]) for story in Y_train.keys()])\n",
      "/home/leo/PycharmProjects/compare_variance_residual/compare_variance_residual/fmri/features.py:16: RuntimeWarning: Precision loss occurred in moment calculation due to catastrophic cancellation. This occurs when the data are nearly identical. Results may be unreliable.\n",
      "  Y_train = np.vstack([zscore(Y_train[story][:-trim]) for story in Y_train.keys()])\n",
      "/home/leo/PycharmProjects/compare_variance_residual/compare_variance_residual/fmri/features.py:16: RuntimeWarning: Precision loss occurred in moment calculation due to catastrophic cancellation. This occurs when the data are nearly identical. Results may be unreliable.\n",
      "  Y_train = np.vstack([zscore(Y_train[story][:-trim]) for story in Y_train.keys()])\n",
      "/home/leo/PycharmProjects/compare_variance_residual/compare_variance_residual/fmri/features.py:16: RuntimeWarning: Precision loss occurred in moment calculation due to catastrophic cancellation. This occurs when the data are nearly identical. Results may be unreliable.\n",
      "  Y_train = np.vstack([zscore(Y_train[story][:-trim]) for story in Y_train.keys()])\n",
      "/home/leo/PycharmProjects/compare_variance_residual/compare_variance_residual/fmri/features.py:18: RuntimeWarning: Precision loss occurred in moment calculation due to catastrophic cancellation. This occurs when the data are nearly identical. Results may be unreliable.\n",
      "  Y_test = [np.vstack([zscore(Y_test[story][i][:-trim]) for story in Y_test.keys()]) for i in range(2)]\n",
      "/home/leo/PycharmProjects/compare_variance_residual/compare_variance_residual/fmri/features.py:18: RuntimeWarning: Precision loss occurred in moment calculation due to catastrophic cancellation. This occurs when the data are nearly identical. Results may be unreliable.\n",
      "  Y_test = [np.vstack([zscore(Y_test[story][i][:-trim]) for story in Y_test.keys()]) for i in range(2)]\n"
     ]
    }
   ],
   "execution_count": 8
  },
  {
   "metadata": {},
   "cell_type": "markdown",
   "source": "# CV",
   "id": "fe8ba9b564464d47"
  },
  {
   "metadata": {
    "ExecuteTime": {
     "end_time": "2025-02-26T20:15:05.021977Z",
     "start_time": "2025-02-26T20:15:05.016635Z"
    }
   },
   "cell_type": "code",
   "source": [
    "import math\n",
    "\n",
    "cv_range = np.logspace(math.log(2.1, 10), math.log(50.1, 10), 9).astype(int)\n",
    "cv_range"
   ],
   "id": "923ffdbe716a1c0f",
   "outputs": [
    {
     "data": {
      "text/plain": [
       "array([ 2,  3,  4,  6, 10, 15, 22, 33, 50])"
      ]
     },
     "execution_count": 9,
     "metadata": {},
     "output_type": "execute_result"
    }
   ],
   "execution_count": 9
  },
  {
   "metadata": {
    "ExecuteTime": {
     "end_time": "2025-02-26T20:33:58.031987Z",
     "start_time": "2025-02-26T20:15:05.069820Z"
    }
   },
   "cell_type": "code",
   "source": [
    "cv_scores = pd.DataFrame()\n",
    "for _cv in cv_range:\n",
    "    print(_cv)\n",
    "    path = result_path(subject, modality, \"ridge\", \"cv\", _cv)\n",
    "    if not os.path.exists(path):\n",
    "        print(\"File does not exist\")\n",
    "        delayer = Delayer(delays=range(1, number_of_delays + 1))\n",
    "        solver_params = dict(\n",
    "            n_targets_batch=n_targets_batch,\n",
    "            n_targets_batch_refit=n_targets_batch_refit,\n",
    "            score_func=himalaya.scoring.r2_score\n",
    "        )\n",
    "        ridge_cv = RidgeCV(alphas=alphas, cv=_cv, solver_params=solver_params)\n",
    "        pipeline = make_pipeline(\n",
    "            delayer,\n",
    "            ridge_cv\n",
    "        )\n",
    "        pipeline.fit(X[:n_samples_train], Y[:n_samples_train])\n",
    "        cv_score = pipeline[-1].cv_scores_\n",
    "        prediction = pipeline.predict(X[n_samples_train:])\n",
    "        prediction = backend.to_numpy(prediction)\n",
    "\n",
    "        correlation = np.array([np.corrcoef(Y[n_samples_train:, i], prediction[:, i])[0, 1] for i in range(Y.shape[1])])\n",
    "\n",
    "        r2 = himalaya.scoring.r2_score(Y[n_samples_train:], prediction)\n",
    "        r2 = backend.to_numpy(r2)\n",
    "\n",
    "        result = pd.DataFrame(\n",
    "            {\n",
    "                'cv_score': cv_score,\n",
    "                'r2_score': r2,\n",
    "                'correlation_score': correlation\n",
    "            }\n",
    "        )\n",
    "        result.to_csv(path)\n",
    "        cv_scores[f'cv_{_cv}'] = result['r2_score']\n",
    "    else:\n",
    "        print(\"File exists\")\n",
    "        result = pd.read_csv(path)\n",
    "        # add new colum with _cv\n",
    "        cv_scores[f'cv_{_cv}'] = result['r2_score']\n",
    "cv_scores.head()"
   ],
   "id": "874628fdd3c59d37",
   "outputs": [
    {
     "name": "stdout",
     "output_type": "stream",
     "text": [
      "2\n",
      "File exists\n",
      "3\n",
      "File exists\n",
      "4\n",
      "File exists\n",
      "6\n",
      "File exists\n",
      "10\n",
      "File exists\n",
      "15\n",
      "File exists\n",
      "22\n",
      "File exists\n",
      "33\n",
      "File does not exist\n"
     ]
    },
    {
     "name": "stderr",
     "output_type": "stream",
     "text": [
      "/home/leo/PycharmProjects/compare_variance_residual/.venv/lib/python3.12/site-packages/sklearn/base.py:474: FutureWarning: `BaseEstimator._validate_data` is deprecated in 1.6 and will be removed in 1.7. Use `sklearn.utils.validation.validate_data` instead. This function becomes public and is part of the scikit-learn developer API.\n",
      "  warnings.warn(\n",
      "/home/leo/PycharmProjects/compare_variance_residual/.venv/lib/python3.12/site-packages/himalaya/ridge/_random_search.py:491: UserWarning: Solving ridge is slower than solving kernel ridge when n_samples < n_features (here 3887 < 3940). Using a linear kernel in himalaya.kernel_ridge.KernelRidgeCV or himalaya.kernel_ridge.solve_kernel_ridge_cv_eigenvalues would be faster. Use warn=False to silence this warning.\n",
      "  warnings.warn(\n",
      "/home/leo/PycharmProjects/compare_variance_residual/.venv/lib/python3.12/site-packages/numpy/lib/_function_base_impl.py:3045: RuntimeWarning: invalid value encountered in divide\n",
      "  c /= stddev[:, None]\n",
      "/home/leo/PycharmProjects/compare_variance_residual/.venv/lib/python3.12/site-packages/numpy/lib/_function_base_impl.py:3046: RuntimeWarning: invalid value encountered in divide\n",
      "  c /= stddev[None, :]\n"
     ]
    },
    {
     "name": "stdout",
     "output_type": "stream",
     "text": [
      "50\n",
      "File does not exist\n"
     ]
    },
    {
     "name": "stderr",
     "output_type": "stream",
     "text": [
      "/home/leo/PycharmProjects/compare_variance_residual/.venv/lib/python3.12/site-packages/sklearn/base.py:474: FutureWarning: `BaseEstimator._validate_data` is deprecated in 1.6 and will be removed in 1.7. Use `sklearn.utils.validation.validate_data` instead. This function becomes public and is part of the scikit-learn developer API.\n",
      "  warnings.warn(\n",
      "/home/leo/PycharmProjects/compare_variance_residual/.venv/lib/python3.12/site-packages/himalaya/ridge/_random_search.py:491: UserWarning: Solving ridge is slower than solving kernel ridge when n_samples < n_features (here 3887 < 3940). Using a linear kernel in himalaya.kernel_ridge.KernelRidgeCV or himalaya.kernel_ridge.solve_kernel_ridge_cv_eigenvalues would be faster. Use warn=False to silence this warning.\n",
      "  warnings.warn(\n",
      "/home/leo/PycharmProjects/compare_variance_residual/.venv/lib/python3.12/site-packages/numpy/lib/_function_base_impl.py:3045: RuntimeWarning: invalid value encountered in divide\n",
      "  c /= stddev[:, None]\n",
      "/home/leo/PycharmProjects/compare_variance_residual/.venv/lib/python3.12/site-packages/numpy/lib/_function_base_impl.py:3046: RuntimeWarning: invalid value encountered in divide\n",
      "  c /= stddev[None, :]\n"
     ]
    },
    {
     "data": {
      "text/plain": [
       "           cv_2          cv_3          cv_4          cv_6         cv_10  \\\n",
       "0          -inf          -inf          -inf -5.795455e+14 -5.795455e+14   \n",
       "1 -2.444727e+14 -1.655397e+35 -2.444727e+14 -2.444727e+14 -2.444727e+14   \n",
       "2  0.000000e+00  0.000000e+00  0.000000e+00  0.000000e+00  0.000000e+00   \n",
       "3  0.000000e+00  0.000000e+00  0.000000e+00  0.000000e+00  0.000000e+00   \n",
       "4 -1.768217e+14 -1.768217e+14 -1.768217e+14 -1.768217e+14 -1.768217e+14   \n",
       "\n",
       "          cv_15         cv_22         cv_33         cv_50  \n",
       "0 -5.795455e+14 -5.795455e+14 -5.984398e+36 -5.795455e+14  \n",
       "1 -2.444727e+14 -2.444727e+14 -2.444727e+14 -2.444727e+14  \n",
       "2  0.000000e+00  0.000000e+00  0.000000e+00  0.000000e+00  \n",
       "3  0.000000e+00  0.000000e+00  0.000000e+00  0.000000e+00  \n",
       "4 -1.768217e+14 -1.768217e+14 -1.768217e+14 -1.768217e+14  "
      ],
      "text/html": [
       "<div>\n",
       "<style scoped>\n",
       "    .dataframe tbody tr th:only-of-type {\n",
       "        vertical-align: middle;\n",
       "    }\n",
       "\n",
       "    .dataframe tbody tr th {\n",
       "        vertical-align: top;\n",
       "    }\n",
       "\n",
       "    .dataframe thead th {\n",
       "        text-align: right;\n",
       "    }\n",
       "</style>\n",
       "<table border=\"1\" class=\"dataframe\">\n",
       "  <thead>\n",
       "    <tr style=\"text-align: right;\">\n",
       "      <th></th>\n",
       "      <th>cv_2</th>\n",
       "      <th>cv_3</th>\n",
       "      <th>cv_4</th>\n",
       "      <th>cv_6</th>\n",
       "      <th>cv_10</th>\n",
       "      <th>cv_15</th>\n",
       "      <th>cv_22</th>\n",
       "      <th>cv_33</th>\n",
       "      <th>cv_50</th>\n",
       "    </tr>\n",
       "  </thead>\n",
       "  <tbody>\n",
       "    <tr>\n",
       "      <th>0</th>\n",
       "      <td>-inf</td>\n",
       "      <td>-inf</td>\n",
       "      <td>-inf</td>\n",
       "      <td>-5.795455e+14</td>\n",
       "      <td>-5.795455e+14</td>\n",
       "      <td>-5.795455e+14</td>\n",
       "      <td>-5.795455e+14</td>\n",
       "      <td>-5.984398e+36</td>\n",
       "      <td>-5.795455e+14</td>\n",
       "    </tr>\n",
       "    <tr>\n",
       "      <th>1</th>\n",
       "      <td>-2.444727e+14</td>\n",
       "      <td>-1.655397e+35</td>\n",
       "      <td>-2.444727e+14</td>\n",
       "      <td>-2.444727e+14</td>\n",
       "      <td>-2.444727e+14</td>\n",
       "      <td>-2.444727e+14</td>\n",
       "      <td>-2.444727e+14</td>\n",
       "      <td>-2.444727e+14</td>\n",
       "      <td>-2.444727e+14</td>\n",
       "    </tr>\n",
       "    <tr>\n",
       "      <th>2</th>\n",
       "      <td>0.000000e+00</td>\n",
       "      <td>0.000000e+00</td>\n",
       "      <td>0.000000e+00</td>\n",
       "      <td>0.000000e+00</td>\n",
       "      <td>0.000000e+00</td>\n",
       "      <td>0.000000e+00</td>\n",
       "      <td>0.000000e+00</td>\n",
       "      <td>0.000000e+00</td>\n",
       "      <td>0.000000e+00</td>\n",
       "    </tr>\n",
       "    <tr>\n",
       "      <th>3</th>\n",
       "      <td>0.000000e+00</td>\n",
       "      <td>0.000000e+00</td>\n",
       "      <td>0.000000e+00</td>\n",
       "      <td>0.000000e+00</td>\n",
       "      <td>0.000000e+00</td>\n",
       "      <td>0.000000e+00</td>\n",
       "      <td>0.000000e+00</td>\n",
       "      <td>0.000000e+00</td>\n",
       "      <td>0.000000e+00</td>\n",
       "    </tr>\n",
       "    <tr>\n",
       "      <th>4</th>\n",
       "      <td>-1.768217e+14</td>\n",
       "      <td>-1.768217e+14</td>\n",
       "      <td>-1.768217e+14</td>\n",
       "      <td>-1.768217e+14</td>\n",
       "      <td>-1.768217e+14</td>\n",
       "      <td>-1.768217e+14</td>\n",
       "      <td>-1.768217e+14</td>\n",
       "      <td>-1.768217e+14</td>\n",
       "      <td>-1.768217e+14</td>\n",
       "    </tr>\n",
       "  </tbody>\n",
       "</table>\n",
       "</div>"
      ]
     },
     "execution_count": 10,
     "metadata": {},
     "output_type": "execute_result"
    }
   ],
   "execution_count": 10
  },
  {
   "metadata": {
    "ExecuteTime": {
     "end_time": "2025-02-26T20:33:59.731676Z",
     "start_time": "2025-02-26T20:33:58.082201Z"
    }
   },
   "cell_type": "code",
   "source": [
    "sns.catplot(data=cv_scores, kind='box', showfliers=False)\n",
    "plt.xticks(np.arange(len(cv_range)),cv_range)"
   ],
   "id": "4fc5e1dc0136a785",
   "outputs": [
    {
     "data": {
      "text/plain": [
       "([<matplotlib.axis.XTick at 0x732d92341850>,\n",
       "  <matplotlib.axis.XTick at 0x732d92341400>,\n",
       "  <matplotlib.axis.XTick at 0x732d922debd0>,\n",
       "  <matplotlib.axis.XTick at 0x732d92360b00>,\n",
       "  <matplotlib.axis.XTick at 0x732d923610a0>,\n",
       "  <matplotlib.axis.XTick at 0x732d92361c40>,\n",
       "  <matplotlib.axis.XTick at 0x732d945d9e80>,\n",
       "  <matplotlib.axis.XTick at 0x732d923673b0>,\n",
       "  <matplotlib.axis.XTick at 0x732d82da0770>],\n",
       " [Text(0, 0, '2'),\n",
       "  Text(1, 0, '3'),\n",
       "  Text(2, 0, '4'),\n",
       "  Text(3, 0, '6'),\n",
       "  Text(4, 0, '10'),\n",
       "  Text(5, 0, '15'),\n",
       "  Text(6, 0, '22'),\n",
       "  Text(7, 0, '33'),\n",
       "  Text(8, 0, '50')])"
      ]
     },
     "execution_count": 11,
     "metadata": {},
     "output_type": "execute_result"
    },
    {
     "data": {
      "text/plain": [
       "<Figure size 500x500 with 1 Axes>"
      ],
      "image/png": "[encoded data removed]"
     },
     "metadata": {},
     "output_type": "display_data"
    }
   ],
   "execution_count": 11
  }
 ],
 "metadata": {
  "kernelspec": {
   "display_name": "Python 3",
   "language": "python",
   "name": "python3"
  },
  "language_info": {
   "codemirror_mode": {
    "name": "ipython",
    "version": 2
   },
   "file_extension": ".py",
   "mimetype": "text/x-python",
   "name": "python",
   "nbconvert_exporter": "python",
   "pygments_lexer": "ipython2",
   "version": "2.7.6"
  }
 },
 "nbformat": 4,
 "nbformat_minor": 5
}
