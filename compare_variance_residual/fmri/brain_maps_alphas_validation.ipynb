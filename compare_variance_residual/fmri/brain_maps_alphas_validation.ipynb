{
 "cells": [
  {
   "metadata": {
    "ExecuteTime": {
     "end_time": "2025-02-26T14:55:55.077517Z",
     "start_time": "2025-02-26T14:55:54.910086Z"
    }
   },
   "cell_type": "code",
   "source": [
    "import os\n",
    "\n",
    "import h5py\n",
    "import himalaya.scoring\n",
    "import numpy as np\n",
    "import pandas as pd\n",
    "from himalaya.backend import set_backend\n",
    "from himalaya.ridge import RidgeCV\n",
    "from matplotlib import pyplot as plt\n",
    "import seaborn as sns\n",
    "import simplstyles\n",
    "from scipy.stats import zscore\n",
    "from sklearn.pipeline import make_pipeline\n",
    "from voxelwise_tutorials.delayer import Delayer\n",
    "from voxelwise_tutorials.io import load_hdf5_array\n",
    "\n",
    "from fmri.features import load_brain_data, load_feature"
   ],
   "id": "bfff375e5309c59f",
   "outputs": [],
   "execution_count": 1
  },
  {
   "metadata": {
    "ExecuteTime": {
     "end_time": "2025-02-26T14:55:56.423709Z",
     "start_time": "2025-02-26T14:55:55.080352Z"
    }
   },
   "cell_type": "code",
   "source": [
    "backend = set_backend(\"torch_cuda\", on_error='throw')\n",
    "plt.style.use('nord-light-talk')\n",
    "data_dir = \"../../data\""
   ],
   "id": "9f527bdf0fb89006",
   "outputs": [],
   "execution_count": 2
  },
  {
   "metadata": {
    "ExecuteTime": {
     "end_time": "2025-02-26T14:55:56.513860Z",
     "start_time": "2025-02-26T14:55:56.511917Z"
    }
   },
   "cell_type": "code",
   "source": [
    "subject = 1\n",
    "modality = \"reading\"\n",
    "trim = 5"
   ],
   "id": "72617e2abcd86445",
   "outputs": [],
   "execution_count": 3
  },
  {
   "metadata": {
    "ExecuteTime": {
     "end_time": "2025-02-26T14:55:56.555171Z",
     "start_time": "2025-02-26T14:55:56.553127Z"
    }
   },
   "cell_type": "code",
   "source": [
    "n_alphas_batch = 3\n",
    "n_targets_batch = 100\n",
    "n_targets_batch_refit = 50"
   ],
   "id": "36f8dff93992152c",
   "outputs": [],
   "execution_count": 4
  },
  {
   "metadata": {
    "ExecuteTime": {
     "end_time": "2025-02-26T14:55:56.604714Z",
     "start_time": "2025-02-26T14:55:56.602588Z"
    }
   },
   "cell_type": "code",
   "source": [
    "number_of_delays = 4\n",
    "cv = 5"
   ],
   "id": "609247230299f1a0",
   "outputs": [],
   "execution_count": 5
  },
  {
   "metadata": {
    "ExecuteTime": {
     "end_time": "2025-02-26T14:55:56.652184Z",
     "start_time": "2025-02-26T14:55:56.649468Z"
    }
   },
   "cell_type": "code",
   "source": [
    "def result_path(subject, modality, ridge_type, param_name, param_range):\n",
    "    dir = f\"results/brain_maps_validation_curves/{modality}/{subject}/{ridge_type}\"\n",
    "    os.makedirs(dir, exist_ok=True)\n",
    "    path = os.path.join(dir, f\"{param_name}_{param_range}.csv\")\n",
    "    return path"
   ],
   "id": "e6e5296666b80981",
   "outputs": [],
   "execution_count": 6
  },
  {
   "metadata": {},
   "cell_type": "markdown",
   "source": "# Load features",
   "id": "48a87412e9034f76"
  },
  {
   "metadata": {
    "ExecuteTime": {
     "end_time": "2025-02-26T14:55:56.877542Z",
     "start_time": "2025-02-26T14:55:56.698845Z"
    }
   },
   "cell_type": "code",
   "source": "X, n_samples_train = load_feature(data_dir, \"english1000\")",
   "id": "8eca69ca747aee30",
   "outputs": [],
   "execution_count": 7
  },
  {
   "metadata": {},
   "cell_type": "markdown",
   "source": "# Load brain data",
   "id": "8cc08748c05f2306"
  },
  {
   "metadata": {
    "ExecuteTime": {
     "end_time": "2025-02-26T14:56:16.099418Z",
     "start_time": "2025-02-26T14:55:56.884999Z"
    }
   },
   "cell_type": "code",
   "source": "Y, n_samples_train = load_brain_data(data_dir, subject, modality, trim)",
   "id": "91f2aae5f1e602d1",
   "outputs": [
    {
     "name": "stderr",
     "output_type": "stream",
     "text": [
      "/home/leo/PycharmProjects/compare_variance_residual/compare_variance_residual/fmri/features.py:16: RuntimeWarning: Precision loss occurred in moment calculation due to catastrophic cancellation. This occurs when the data are nearly identical. Results may be unreliable.\n",
      "  Y_train = np.vstack([zscore(Y_train[story][:-trim]) for story in Y_train.keys()])\n",
      "/home/leo/PycharmProjects/compare_variance_residual/compare_variance_residual/fmri/features.py:16: RuntimeWarning: Precision loss occurred in moment calculation due to catastrophic cancellation. This occurs when the data are nearly identical. Results may be unreliable.\n",
      "  Y_train = np.vstack([zscore(Y_train[story][:-trim]) for story in Y_train.keys()])\n",
      "/home/leo/PycharmProjects/compare_variance_residual/compare_variance_residual/fmri/features.py:16: RuntimeWarning: Precision loss occurred in moment calculation due to catastrophic cancellation. This occurs when the data are nearly identical. Results may be unreliable.\n",
      "  Y_train = np.vstack([zscore(Y_train[story][:-trim]) for story in Y_train.keys()])\n",
      "/home/leo/PycharmProjects/compare_variance_residual/compare_variance_residual/fmri/features.py:16: RuntimeWarning: Precision loss occurred in moment calculation due to catastrophic cancellation. This occurs when the data are nearly identical. Results may be unreliable.\n",
      "  Y_train = np.vstack([zscore(Y_train[story][:-trim]) for story in Y_train.keys()])\n",
      "/home/leo/PycharmProjects/compare_variance_residual/compare_variance_residual/fmri/features.py:16: RuntimeWarning: Precision loss occurred in moment calculation due to catastrophic cancellation. This occurs when the data are nearly identical. Results may be unreliable.\n",
      "  Y_train = np.vstack([zscore(Y_train[story][:-trim]) for story in Y_train.keys()])\n",
      "/home/leo/PycharmProjects/compare_variance_residual/compare_variance_residual/fmri/features.py:16: RuntimeWarning: Precision loss occurred in moment calculation due to catastrophic cancellation. This occurs when the data are nearly identical. Results may be unreliable.\n",
      "  Y_train = np.vstack([zscore(Y_train[story][:-trim]) for story in Y_train.keys()])\n",
      "/home/leo/PycharmProjects/compare_variance_residual/compare_variance_residual/fmri/features.py:16: RuntimeWarning: Precision loss occurred in moment calculation due to catastrophic cancellation. This occurs when the data are nearly identical. Results may be unreliable.\n",
      "  Y_train = np.vstack([zscore(Y_train[story][:-trim]) for story in Y_train.keys()])\n",
      "/home/leo/PycharmProjects/compare_variance_residual/compare_variance_residual/fmri/features.py:16: RuntimeWarning: Precision loss occurred in moment calculation due to catastrophic cancellation. This occurs when the data are nearly identical. Results may be unreliable.\n",
      "  Y_train = np.vstack([zscore(Y_train[story][:-trim]) for story in Y_train.keys()])\n",
      "/home/leo/PycharmProjects/compare_variance_residual/compare_variance_residual/fmri/features.py:16: RuntimeWarning: Precision loss occurred in moment calculation due to catastrophic cancellation. This occurs when the data are nearly identical. Results may be unreliable.\n",
      "  Y_train = np.vstack([zscore(Y_train[story][:-trim]) for story in Y_train.keys()])\n",
      "/home/leo/PycharmProjects/compare_variance_residual/compare_variance_residual/fmri/features.py:16: RuntimeWarning: Precision loss occurred in moment calculation due to catastrophic cancellation. This occurs when the data are nearly identical. Results may be unreliable.\n",
      "  Y_train = np.vstack([zscore(Y_train[story][:-trim]) for story in Y_train.keys()])\n",
      "/home/leo/PycharmProjects/compare_variance_residual/compare_variance_residual/fmri/features.py:18: RuntimeWarning: Precision loss occurred in moment calculation due to catastrophic cancellation. This occurs when the data are nearly identical. Results may be unreliable.\n",
      "  Y_test = np.vstack([np.vstack([zscore(Y_test[story][i][:-trim]) for story in Y_test.keys()]) for i in range(2)])\n",
      "/home/leo/PycharmProjects/compare_variance_residual/compare_variance_residual/fmri/features.py:18: RuntimeWarning: Precision loss occurred in moment calculation due to catastrophic cancellation. This occurs when the data are nearly identical. Results may be unreliable.\n",
      "  Y_test = np.vstack([np.vstack([zscore(Y_test[story][i][:-trim]) for story in Y_test.keys()]) for i in range(2)])\n"
     ]
    }
   ],
   "execution_count": 8
  },
  {
   "metadata": {},
   "cell_type": "markdown",
   "source": "# Alphas",
   "id": "6ed8a9478fbe6eab"
  },
  {
   "metadata": {
    "ExecuteTime": {
     "end_time": "2025-02-26T14:56:16.112257Z",
     "start_time": "2025-02-26T14:56:16.107709Z"
    }
   },
   "cell_type": "code",
   "source": [
    "alpha_range = np.logspace(-5, 30, 6)\n",
    "alpha_range"
   ],
   "id": "e157d2860879e972",
   "outputs": [
    {
     "data": {
      "text/plain": [
       "array([1.e-05, 1.e+02, 1.e+09, 1.e+16, 1.e+23, 1.e+30])"
      ]
     },
     "execution_count": 9,
     "metadata": {},
     "output_type": "execute_result"
    }
   ],
   "execution_count": 9
  },
  {
   "metadata": {
    "ExecuteTime": {
     "end_time": "2025-02-26T14:56:16.153491Z",
     "start_time": "2025-02-26T14:56:16.150945Z"
    }
   },
   "cell_type": "code",
   "source": "path = result_path(subject, modality, \"ridge\", \"alpha\", alpha_range)",
   "id": "a4f77a705e63e2ec",
   "outputs": [],
   "execution_count": 10
  },
  {
   "metadata": {
    "ExecuteTime": {
     "end_time": "2025-02-26T14:56:16.227796Z",
     "start_time": "2025-02-26T14:56:16.197090Z"
    }
   },
   "cell_type": "code",
   "source": [
    "if not os.path.exists(path):\n",
    "    print(\"File does not exist\")\n",
    "    delayer = Delayer(delays=range(1, number_of_delays + 1))\n",
    "\n",
    "    solver_params = dict(\n",
    "        n_targets_batch=n_targets_batch,\n",
    "        n_targets_batch_refit=n_targets_batch_refit,\n",
    "        n_alphas_batch=n_alphas_batch,\n",
    "        score_func=himalaya.scoring.r2_score\n",
    "    )\n",
    "    ridge_cv = RidgeCV(alphas=alpha_range, cv=cv, solver_params=solver_params)\n",
    "    pipeline = make_pipeline(\n",
    "        delayer,\n",
    "        ridge_cv\n",
    "    )\n",
    "\n",
    "    pipeline.fit(X[:n_samples_train], Y[:n_samples_train])\n",
    "\n",
    "    score = pipeline.score(X[n_samples_train:], Y[n_samples_train:])\n",
    "\n",
    "    best_alphas = pd.DataFrame(\n",
    "        {\n",
    "            'best_alphas': backend.to_numpy(pipeline[-1].best_alphas_),\n",
    "            'score': backend.to_numpy(score)\n",
    "        }\n",
    "    )\n",
    "    best_alphas.to_csv(path)\n",
    "else:\n",
    "    print(\"File exists\")\n",
    "    best_alphas = pd.read_csv(path)"
   ],
   "id": "6a41569cd1496054",
   "outputs": [
    {
     "name": "stdout",
     "output_type": "stream",
     "text": [
      "File exists\n"
     ]
    }
   ],
   "execution_count": 11
  },
  {
   "metadata": {
    "ExecuteTime": {
     "end_time": "2025-02-26T14:56:16.591580Z",
     "start_time": "2025-02-26T14:56:16.250337Z"
    }
   },
   "cell_type": "code",
   "source": [
    "fig, ax = plt.subplots()\n",
    "sns.histplot(best_alphas['best_alphas'], bins=20, log_scale=True, ax=ax)\n",
    "plt.xlabel(r\"Best $\\alpha$\")\n",
    "plt.xticks(alpha_range)\n",
    "labels_formatted = [label.get_text() if i % 2 == 0 else '\\n' + label.get_text() for i, label in\n",
    "                    enumerate(ax.xaxis.get_majorticklabels())]\n",
    "plt.xticks(alpha_range, labels=labels_formatted, fontsize=12)\n",
    "plt.show()"
   ],
   "id": "60ea4cadce71acca",
   "outputs": [
    {
     "data": {
      "text/plain": [
       "<Figure size 640x480 with 1 Axes>"
      ],
      "image/png": "[encoded data removed]"
     },
     "metadata": {},
     "output_type": "display_data"
    }
   ],
   "execution_count": 12
  },
  {
   "metadata": {
    "ExecuteTime": {
     "end_time": "2025-02-26T14:56:16.603757Z",
     "start_time": "2025-02-26T14:56:16.600635Z"
    }
   },
   "cell_type": "code",
   "source": "f\"{best_alphas['score'].min():.2e}\"",
   "id": "1db76c8f16df818f",
   "outputs": [
    {
     "data": {
      "text/plain": [
       "'-2.31e+14'"
      ]
     },
     "execution_count": 13,
     "metadata": {},
     "output_type": "execute_result"
    }
   ],
   "execution_count": 13
  },
  {
   "metadata": {
    "ExecuteTime": {
     "end_time": "2025-02-26T14:56:16.656110Z",
     "start_time": "2025-02-26T14:56:16.650493Z"
    }
   },
   "cell_type": "code",
   "source": [
    "# plot scores for voxels with largest alpha\n",
    "scores_largest_alpha = best_alphas[best_alphas['best_alphas'] == 9.9999994e+29]['score']\n",
    "scores_largest_alpha"
   ],
   "id": "6b912337b530b2b5",
   "outputs": [
    {
     "data": {
      "text/plain": [
       "3        0.000000e+00\n",
       "4        0.000000e+00\n",
       "5       -9.505903e+13\n",
       "7        0.000000e+00\n",
       "8       -1.255396e+14\n",
       "             ...     \n",
       "81126    0.000000e+00\n",
       "81127    0.000000e+00\n",
       "81130    0.000000e+00\n",
       "81131   -1.769068e+14\n",
       "81132    0.000000e+00\n",
       "Name: score, Length: 17470, dtype: float64"
      ]
     },
     "execution_count": 14,
     "metadata": {},
     "output_type": "execute_result"
    }
   ],
   "execution_count": 14
  },
  {
   "metadata": {
    "ExecuteTime": {
     "end_time": "2025-02-26T14:56:16.988268Z",
     "start_time": "2025-02-26T14:56:16.732073Z"
    }
   },
   "cell_type": "code",
   "source": [
    "sns.histplot(scores_largest_alpha)\n",
    "plt.yscale('log')"
   ],
   "id": "e0e0a84d4592fb3b",
   "outputs": [
    {
     "data": {
      "text/plain": [
       "<Figure size 640x480 with 1 Axes>"
      ],
      "image/png": "[encoded data removed]"
     },
     "metadata": {},
     "output_type": "display_data"
    }
   ],
   "execution_count": 15
  },
  {
   "metadata": {},
   "cell_type": "markdown",
   "source": "# Repeat for lower alpha Range",
   "id": "e0d6eadce002de40"
  },
  {
   "metadata": {
    "ExecuteTime": {
     "end_time": "2025-02-26T14:56:17.082123Z",
     "start_time": "2025-02-26T14:56:17.078785Z"
    }
   },
   "cell_type": "code",
   "source": [
    "alpha_range = np.logspace(-5, 20, 26)\n",
    "alpha_range"
   ],
   "id": "bcc2556a93deaaf1",
   "outputs": [
    {
     "data": {
      "text/plain": [
       "array([1.e-05, 1.e-04, 1.e-03, 1.e-02, 1.e-01, 1.e+00, 1.e+01, 1.e+02,\n",
       "       1.e+03, 1.e+04, 1.e+05, 1.e+06, 1.e+07, 1.e+08, 1.e+09, 1.e+10,\n",
       "       1.e+11, 1.e+12, 1.e+13, 1.e+14, 1.e+15, 1.e+16, 1.e+17, 1.e+18,\n",
       "       1.e+19, 1.e+20])"
      ]
     },
     "execution_count": 16,
     "metadata": {},
     "output_type": "execute_result"
    }
   ],
   "execution_count": 16
  },
  {
   "metadata": {
    "ExecuteTime": {
     "end_time": "2025-02-26T14:56:17.142088Z",
     "start_time": "2025-02-26T14:56:17.139379Z"
    }
   },
   "cell_type": "code",
   "source": "path = result_path(subject, modality, \"ridge\", \"alpha\", alpha_range)",
   "id": "364980965b742b0b",
   "outputs": [],
   "execution_count": 17
  },
  {
   "metadata": {
    "ExecuteTime": {
     "end_time": "2025-02-26T14:56:17.217373Z",
     "start_time": "2025-02-26T14:56:17.191954Z"
    }
   },
   "cell_type": "code",
   "source": [
    "if not os.path.exists(path):\n",
    "    print(\"File does not exist\")\n",
    "    delayer = Delayer(delays=range(1, number_of_delays + 1))\n",
    "\n",
    "    solver_params = dict(\n",
    "        n_targets_batch=n_targets_batch,\n",
    "        n_targets_batch_refit=n_targets_batch_refit,\n",
    "        n_alphas_batch=n_alphas_batch,\n",
    "        score_func=himalaya.scoring.r2_score\n",
    "    )\n",
    "    ridge_cv = RidgeCV(alphas=alpha_range, cv=cv, solver_params=solver_params)\n",
    "    pipeline = make_pipeline(\n",
    "        delayer,\n",
    "        ridge_cv\n",
    "    )\n",
    "\n",
    "    pipeline.fit(X[:n_samples_train], Y[:n_samples_train])\n",
    "\n",
    "    score = pipeline.score(X[n_samples_train:], Y[n_samples_train:])\n",
    "\n",
    "    best_alphas = pd.DataFrame(\n",
    "        {\n",
    "            'best_alphas': backend.to_numpy(pipeline[-1].best_alphas_),\n",
    "            'score': backend.to_numpy(score)\n",
    "        }\n",
    "    )\n",
    "    best_alphas.to_csv(path)\n",
    "else:\n",
    "    print(\"File exists\")\n",
    "    best_alphas = pd.read_csv(path)"
   ],
   "id": "669e8bafcf3761ed",
   "outputs": [
    {
     "name": "stdout",
     "output_type": "stream",
     "text": [
      "File exists\n"
     ]
    }
   ],
   "execution_count": 18
  },
  {
   "metadata": {
    "ExecuteTime": {
     "end_time": "2025-02-26T14:56:42.102122Z",
     "start_time": "2025-02-26T14:56:41.781120Z"
    }
   },
   "cell_type": "code",
   "source": [
    "fig, ax = plt.subplots()\n",
    "sns.histplot(best_alphas['best_alphas'], bins=20, log_scale=True, ax=ax)\n",
    "plt.xlabel(r\"Best $\\alpha$\")\n",
    "plt.xticks(alpha_range)\n",
    "labels_formatted = [label.get_text() if i % 2 == 0 else '\\n' + label.get_text() for i, label in\n",
    "                    enumerate(ax.xaxis.get_majorticklabels())]\n",
    "plt.xticks(alpha_range, labels=labels_formatted, fontsize=12)\n",
    "plt.show()"
   ],
   "id": "b6e8343db9825a6",
   "outputs": [
    {
     "data": {
      "text/plain": [
       "<Figure size 640x480 with 1 Axes>"
      ],
      "image/png": "[encoded data removed]"
     },
     "metadata": {},
     "output_type": "display_data"
    }
   ],
   "execution_count": 23
  },
  {
   "metadata": {
    "ExecuteTime": {
     "end_time": "2025-02-26T14:56:17.363415Z",
     "start_time": "2025-02-26T14:56:17.360155Z"
    }
   },
   "cell_type": "code",
   "source": "f\"{best_alphas['score'].min():.2e}\"",
   "id": "fd515b43592c8766",
   "outputs": [
    {
     "data": {
      "text/plain": [
       "'-3.06e+14'"
      ]
     },
     "execution_count": 20,
     "metadata": {},
     "output_type": "execute_result"
    }
   ],
   "execution_count": 20
  },
  {
   "metadata": {
    "ExecuteTime": {
     "end_time": "2025-02-26T14:56:17.430455Z",
     "start_time": "2025-02-26T14:56:17.422147Z"
    }
   },
   "cell_type": "code",
   "source": [
    "# plot scores for voxels with largest alpha\n",
    "scores_largest_alpha = pd.DataFrame(best_alphas[best_alphas['best_alphas'] == 9.999987e+19]['score'])\n",
    "scores_largest_alpha"
   ],
   "id": "27a2e03da47d2b3c",
   "outputs": [
    {
     "data": {
      "text/plain": [
       "              score\n",
       "4      0.000000e+00\n",
       "5     -2.958785e+14\n",
       "6      0.000000e+00\n",
       "7      0.000000e+00\n",
       "8     -2.440184e+14\n",
       "...             ...\n",
       "81127  0.000000e+00\n",
       "81128  0.000000e+00\n",
       "81130  0.000000e+00\n",
       "81131 -1.792125e+14\n",
       "81132  0.000000e+00\n",
       "\n",
       "[11499 rows x 1 columns]"
      ],
      "text/html": [
       "<div>\n",
       "<style scoped>\n",
       "    .dataframe tbody tr th:only-of-type {\n",
       "        vertical-align: middle;\n",
       "    }\n",
       "\n",
       "    .dataframe tbody tr th {\n",
       "        vertical-align: top;\n",
       "    }\n",
       "\n",
       "    .dataframe thead th {\n",
       "        text-align: right;\n",
       "    }\n",
       "</style>\n",
       "<table border=\"1\" class=\"dataframe\">\n",
       "  <thead>\n",
       "    <tr style=\"text-align: right;\">\n",
       "      <th></th>\n",
       "      <th>score</th>\n",
       "    </tr>\n",
       "  </thead>\n",
       "  <tbody>\n",
       "    <tr>\n",
       "      <th>4</th>\n",
       "      <td>0.000000e+00</td>\n",
       "    </tr>\n",
       "    <tr>\n",
       "      <th>5</th>\n",
       "      <td>-2.958785e+14</td>\n",
       "    </tr>\n",
       "    <tr>\n",
       "      <th>6</th>\n",
       "      <td>0.000000e+00</td>\n",
       "    </tr>\n",
       "    <tr>\n",
       "      <th>7</th>\n",
       "      <td>0.000000e+00</td>\n",
       "    </tr>\n",
       "    <tr>\n",
       "      <th>8</th>\n",
       "      <td>-2.440184e+14</td>\n",
       "    </tr>\n",
       "    <tr>\n",
       "      <th>...</th>\n",
       "      <td>...</td>\n",
       "    </tr>\n",
       "    <tr>\n",
       "      <th>81127</th>\n",
       "      <td>0.000000e+00</td>\n",
       "    </tr>\n",
       "    <tr>\n",
       "      <th>81128</th>\n",
       "      <td>0.000000e+00</td>\n",
       "    </tr>\n",
       "    <tr>\n",
       "      <th>81130</th>\n",
       "      <td>0.000000e+00</td>\n",
       "    </tr>\n",
       "    <tr>\n",
       "      <th>81131</th>\n",
       "      <td>-1.792125e+14</td>\n",
       "    </tr>\n",
       "    <tr>\n",
       "      <th>81132</th>\n",
       "      <td>0.000000e+00</td>\n",
       "    </tr>\n",
       "  </tbody>\n",
       "</table>\n",
       "<p>11499 rows × 1 columns</p>\n",
       "</div>"
      ]
     },
     "execution_count": 21,
     "metadata": {},
     "output_type": "execute_result"
    }
   ],
   "execution_count": 21
  },
  {
   "metadata": {
    "ExecuteTime": {
     "end_time": "2025-02-26T14:57:47.329857Z",
     "start_time": "2025-02-26T14:57:47.089626Z"
    }
   },
   "cell_type": "code",
   "source": [
    "# log scale y axis\n",
    "sns.histplot(scores_largest_alpha)\n",
    "plt.yscale('log')\n",
    "plt.xlabel('r2 score for largest alphas')"
   ],
   "id": "fcfb208f08eb6d0d",
   "outputs": [
    {
     "data": {
      "text/plain": [
       "Text(0.5, 0, 'r2 score for largest alphas')"
      ]
     },
     "execution_count": 24,
     "metadata": {},
     "output_type": "execute_result"
    },
    {
     "data": {
      "text/plain": [
       "<Figure size 640x480 with 1 Axes>"
      ],
      "image/png": "[encoded data removed]"
     },
     "metadata": {},
     "output_type": "display_data"
    }
   ],
   "execution_count": 24
  },
  {
   "metadata": {},
   "cell_type": "code",
   "outputs": [],
   "execution_count": null,
   "source": "",
   "id": "234325bb1be98f24"
  }
 ],
 "metadata": {
  "kernelspec": {
   "display_name": "Python 3",
   "language": "python",
   "name": "python3"
  },
  "language_info": {
   "codemirror_mode": {
    "name": "ipython",
    "version": 2
   },
   "file_extension": ".py",
   "mimetype": "text/x-python",
   "name": "python",
   "nbconvert_exporter": "python",
   "pygments_lexer": "ipython2",
   "version": "2.7.6"
  }
 },
 "nbformat": 4,
 "nbformat_minor": 5
}
