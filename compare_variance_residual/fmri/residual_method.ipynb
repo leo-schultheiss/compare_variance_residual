{
 "cells": [
  {
   "metadata": {},
   "cell_type": "code",
   "outputs": [],
   "execution_count": null,
   "source": [
    "import os\n",
    "\n",
    "import numpy as np\n",
    "from himalaya.backend import set_backend\n",
    "from matplotlib import pyplot as plt\n",
    "from voxelwise_tutorials.utils import generate_leave_one_run_out\n",
    "\n",
    "from compare_variance_residual.fmri.features import load_feature, load_brain_data"
   ],
   "id": "223cb444196c9c94"
  },
  {
   "metadata": {},
   "cell_type": "code",
   "outputs": [],
   "execution_count": null,
   "source": [
    "data_dir = \"../../data\"\n",
    "backend = set_backend(\"torch_cuda\")"
   ],
   "id": "163164baabe231df"
  },
  {
   "metadata": {},
   "cell_type": "code",
   "outputs": [],
   "execution_count": null,
   "source": [
    "subject = 7\n",
    "modality = 'listening'\n",
    "low_level_feature = \"moten\""
   ],
   "id": "a42db8c49cf161ec"
  },
  {
   "metadata": {},
   "cell_type": "code",
   "outputs": [],
   "execution_count": null,
   "source": [
    "alphas = np.logspace(-5, 15, 21)\n",
    "number_of_delays = 4\n",
    "n_targets_batch = 100\n",
    "n_alphas_batch = 3\n",
    "n_targets_batch_refit = 50"
   ],
   "id": "f0189cbe4c834a23"
  },
  {
   "metadata": {},
   "cell_type": "markdown",
   "source": "# Load data",
   "id": "8e7e780d4ee2d327"
  },
  {
   "metadata": {},
   "cell_type": "code",
   "outputs": [],
   "execution_count": null,
   "source": [
    "mapper_path = os.path.join(\"../../data\", 'mappers', f\"subject{subject:02}_mappers.hdf\")\n",
    "Y, n_samples_train, run_onsets, ev = load_brain_data(data_dir, subject, modality)\n",
    "print(Y.shape)\n",
    "print(n_samples_train)\n",
    "print(Y.shape[0] - n_samples_train)"
   ],
   "id": "f33125cb31903179"
  },
  {
   "metadata": {},
   "cell_type": "code",
   "outputs": [],
   "execution_count": null,
   "source": [
    "X_low, n_samples_train = load_feature(data_dir, low_level_feature)\n",
    "print(X_low.shape)\n",
    "print(n_samples_train)\n",
    "print(X_low.shape[0] - n_samples_train)"
   ],
   "id": "cfc69020581bf428"
  },
  {
   "metadata": {},
   "cell_type": "code",
   "outputs": [],
   "execution_count": null,
   "source": [
    "X_high, n_samples_train = load_feature(data_dir, 'english1000')\n",
    "print(X_high.shape)\n",
    "print(n_samples_train)\n",
    "print(X_high.shape[0] - n_samples_train)"
   ],
   "id": "30b0540b242f7402"
  },
  {
   "metadata": {},
   "cell_type": "markdown",
   "source": "# Run cross-feature model",
   "id": "2e68868a6dcfc488"
  },
  {
   "metadata": {},
   "cell_type": "code",
   "outputs": [],
   "execution_count": null,
   "source": [
    "from himalaya.ridge import RidgeCV\n",
    "\n",
    "# powspec 6 best\n",
    "\n",
    "# moten\n",
    "# 5 np.float32(0.0054762564)\n",
    "# 6 np.float32(0.0055091255)\n",
    "cross_model = RidgeCV(cv=5, alphas=alphas,\n",
    "                      solver_params=dict(n_targets_batch=n_targets_batch, n_alphas_batch=n_alphas_batch,\n",
    "                                         n_targets_batch_refit=n_targets_batch_refit))\n",
    "cross_model.fit(X_low[:n_samples_train], X_high[:n_samples_train])\n",
    "cross_model"
   ],
   "id": "8edd332f3ef2fe4d"
  },
  {
   "metadata": {},
   "cell_type": "code",
   "outputs": [],
   "execution_count": null,
   "source": [
    "import seaborn as sns\n",
    "\n",
    "sns.histplot(backend.to_numpy(cross_model.best_alphas_), log_scale=(True))\n",
    "plt.yscale(\"log\")"
   ],
   "id": "4beb672554e544c6"
  },
  {
   "metadata": {},
   "cell_type": "code",
   "outputs": [],
   "execution_count": null,
   "source": [
    "score = cross_model.score(X_low[n_samples_train:], X_high[n_samples_train:])\n",
    "score = backend.to_numpy(score)\n",
    "score.mean()"
   ],
   "id": "b25940acd23a1094"
  },
  {
   "metadata": {},
   "cell_type": "code",
   "outputs": [],
   "execution_count": null,
   "source": "sns.histplot(score)",
   "id": "6b4bafd9be60197f"
  },
  {
   "metadata": {},
   "cell_type": "code",
   "outputs": [],
   "execution_count": null,
   "source": [
    "for _cv in [7, 8, 9, 10, generate_leave_one_run_out(n_samples_train, run_onsets)]:\n",
    "    cross_model = RidgeCV(cv=_cv, alphas=alphas,\n",
    "                          solver_params=dict(n_targets_batch=n_targets_batch, n_alphas_batch=n_alphas_batch,\n",
    "                                             n_targets_batch_refit=n_targets_batch_refit))\n",
    "    cross_model.fit(X_low[:n_samples_train], X_high[:n_samples_train])\n",
    "    score = cross_model.score(X_low[n_samples_train:], X_high[n_samples_train:])\n",
    "    score = backend.to_numpy(score)\n",
    "    print(_cv, score.mean())"
   ],
   "id": "43f8340817bb20f3"
  }
 ],
 "metadata": {
  "kernelspec": {
   "name": "python3",
   "language": "python",
   "display_name": "Python 3 (ipykernel)"
  }
 },
 "nbformat": 5,
 "nbformat_minor": 9
}
