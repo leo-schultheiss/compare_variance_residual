{
 "cells": [
  {
   "cell_type": "code",
   "id": "initial_id",
   "metadata": {
    "collapsed": true,
    "ExecuteTime": {
     "end_time": "2025-04-06T10:02:07.168850Z",
     "start_time": "2025-04-06T10:02:07.164164Z"
    }
   },
   "source": [
    "from himalaya.ridge import Ridge, RidgeCV\n",
    "import numpy as np\n",
    "from compare_variance_residual.fmri.features import load_feature, get_pretty_feature_name\n",
    "from himalaya.scoring import r2_score, correlation_score\n",
    "import os\n",
    "import pandas as pd"
   ],
   "outputs": [],
   "execution_count": 64
  },
  {
   "metadata": {
    "ExecuteTime": {
     "end_time": "2025-04-06T10:02:07.218406Z",
     "start_time": "2025-04-06T10:02:07.215182Z"
    }
   },
   "cell_type": "code",
   "source": [
    "ridge_model = RidgeCV(alphas=np.logspace(-5, 15, 21), cv=5, solver_params=dict(n_alphas_batch=1))\n",
    "ols_model = Ridge(alpha=1)"
   ],
   "id": "589627bfa23dd87c",
   "outputs": [],
   "execution_count": 65
  },
  {
   "metadata": {
    "ExecuteTime": {
     "end_time": "2025-04-06T10:02:07.273885Z",
     "start_time": "2025-04-06T10:02:07.266066Z"
    }
   },
   "cell_type": "code",
   "source": "low_level_feature = 'phonemes'",
   "id": "54b73f097b8dd0aa",
   "outputs": [],
   "execution_count": 66
  },
  {
   "metadata": {
    "ExecuteTime": {
     "end_time": "2025-04-06T10:02:07.416245Z",
     "start_time": "2025-04-06T10:02:07.321257Z"
    }
   },
   "cell_type": "code",
   "source": [
    "semantic, _ = load_feature(\"../../data\", \"english1000\")\n",
    "low_level, n_samples_train = load_feature(\"../../data\", low_level_feature)"
   ],
   "id": "274754727b3e20fc",
   "outputs": [],
   "execution_count": 67
  },
  {
   "metadata": {
    "ExecuteTime": {
     "end_time": "2025-04-06T10:02:13.203678Z",
     "start_time": "2025-04-06T10:02:07.443809Z"
    }
   },
   "cell_type": "code",
   "source": [
    "ridge_model.fit(low_level[:n_samples_train], semantic[:n_samples_train]), ols_model.fit(low_level[:n_samples_train], semantic[:n_samples_train])\n",
    "low_level_ridge_prediction, low_level_ols_prediction = ridge_model.predict(low_level[n_samples_train:]), ols_model.predict(low_level[n_samples_train:])"
   ],
   "id": "3547c968a4e55a10",
   "outputs": [],
   "execution_count": 68
  },
  {
   "metadata": {
    "ExecuteTime": {
     "end_time": "2025-04-06T10:02:13.937821Z",
     "start_time": "2025-04-06T10:02:13.292295Z"
    }
   },
   "cell_type": "code",
   "source": [
    "# save the predictions\n",
    "def save_predictions(prediction, name):\n",
    "    path = os.path.join(\"results\", \"predictions\")\n",
    "    os.makedirs(path, exist_ok=True)\n",
    "    prediction_path = os.path.join(path, f\"{name}_predictions.csv\")\n",
    "    if not os.path.exists(prediction_path):\n",
    "        prediction_df = pd.DataFrame(prediction)\n",
    "        prediction_df.to_csv(prediction_path, index=False)\n",
    "save_predictions(low_level_ols_prediction, f\"{low_level_feature}_ols\")\n",
    "save_predictions(low_level_ridge_prediction, f\"{low_level_feature}_ridge\")"
   ],
   "id": "897013919a9ad467",
   "outputs": [],
   "execution_count": 69
  },
  {
   "metadata": {
    "ExecuteTime": {
     "end_time": "2025-04-06T10:02:14.085776Z",
     "start_time": "2025-04-06T10:02:13.969166Z"
    }
   },
   "cell_type": "code",
   "source": [
    "# load the predictions\n",
    "def load_predictions(name):\n",
    "    path = os.path.join(\"results\", \"predictions\")\n",
    "    prediction_path = os.path.join(path, f\"{name}_predictions.csv\")\n",
    "    if os.path.exists(prediction_path):\n",
    "        prediction_df = pd.read_csv(prediction_path)\n",
    "        return prediction_df.to_numpy()\n",
    "    else:\n",
    "        raise FileNotFoundError(f\"{prediction_path} not found\")\n",
    "low_level_ols_prediction = load_predictions(f\"{low_level_feature}_ols\")\n",
    "low_level_ridge_prediction = load_predictions(f\"{low_level_feature}_ridge\")"
   ],
   "id": "e2c832aab694991f",
   "outputs": [],
   "execution_count": 70
  },
  {
   "metadata": {
    "ExecuteTime": {
     "end_time": "2025-04-06T10:02:14.146065Z",
     "start_time": "2025-04-06T10:02:14.133493Z"
    }
   },
   "cell_type": "code",
   "source": [
    "low_level_ols_corr = correlation_score(low_level_ols_prediction, semantic[n_samples_train:])\n",
    "low_level_ridge_corr = correlation_score(low_level_ridge_prediction, semantic[n_samples_train:])"
   ],
   "id": "2c600a6bf08b67d2",
   "outputs": [],
   "execution_count": 71
  },
  {
   "metadata": {
    "ExecuteTime": {
     "end_time": "2025-04-06T10:02:14.161395Z",
     "start_time": "2025-04-06T10:02:14.157741Z"
    }
   },
   "cell_type": "code",
   "source": [
    "import matplotlib.pyplot as plt\n",
    "import seaborn as sns\n",
    "import simplstyles"
   ],
   "id": "2ff37edfe08964c6",
   "outputs": [],
   "execution_count": 72
  },
  {
   "metadata": {
    "ExecuteTime": {
     "end_time": "2025-04-06T10:02:14.208091Z",
     "start_time": "2025-04-06T10:02:14.205242Z"
    }
   },
   "cell_type": "code",
   "source": "plt.style.use('nord-light-talk')",
   "id": "c066d0458e1f8a09",
   "outputs": [],
   "execution_count": 73
  },
  {
   "metadata": {
    "ExecuteTime": {
     "end_time": "2025-04-06T10:02:14.519424Z",
     "start_time": "2025-04-06T10:02:14.253198Z"
    }
   },
   "cell_type": "code",
   "source": [
    "fig, ax = plt.subplots(figsize=(4, 4))\n",
    "sns.barplot(x=[\"OLS\", \"Ridge\"], y=[low_level_ols_corr.mean(), low_level_ridge_corr.mean()])\n",
    "plt.title(fr\"$f(${get_pretty_feature_name(low_level_feature)}$)\\approx$Semantic\")\n",
    "plt.ylim(0,1)\n",
    "plt.ylabel(r\"$r$\")\n",
    "# write the mean of the correlation\n",
    "plt.text(0, low_level_ols_corr.mean(), f\"{low_level_ols_corr.mean():.2f}\", ha='center', va='bottom')\n",
    "plt.text(1, low_level_ridge_corr.mean(), f\"{low_level_ridge_corr.mean():.2f}\", ha='center', va='bottom')"
   ],
   "id": "1138fce2a6ada107",
   "outputs": [
    {
     "data": {
      "text/plain": [
       "Text(1, 0.6046902932702095, '0.60')"
      ]
     },
     "execution_count": 74,
     "metadata": {},
     "output_type": "execute_result"
    },
    {
     "data": {
      "text/plain": [
       "<Figure size 400x400 with 1 Axes>"
      ],
      "image/png": "[encoded data removed]"
     },
     "metadata": {},
     "output_type": "display_data"
    }
   ],
   "execution_count": 74
  },
  {
   "metadata": {},
   "cell_type": "markdown",
   "source": "$R^2$ scores",
   "id": "7de8f58c6b6689d3"
  },
  {
   "metadata": {
    "ExecuteTime": {
     "end_time": "2025-04-06T10:02:14.565381Z",
     "start_time": "2025-04-06T10:02:14.554095Z"
    }
   },
   "cell_type": "code",
   "source": [
    "low_level_ols_r2 = r2_score(low_level_ols_prediction, semantic[n_samples_train:])\n",
    "low_level_ridge_r2 = r2_score(low_level_ridge_prediction, semantic[n_samples_train:])"
   ],
   "id": "ad1b49164e771ee",
   "outputs": [],
   "execution_count": 75
  },
  {
   "metadata": {
    "ExecuteTime": {
     "end_time": "2025-04-06T10:02:14.835833Z",
     "start_time": "2025-04-06T10:02:14.652693Z"
    }
   },
   "cell_type": "code",
   "source": [
    "fig, ax = plt.subplots(figsize=(3, 3))\n",
    "sns.barplot(x=[\"OLS\", \"Ridge\"], y=[low_level_ols_r2.mean(), low_level_ridge_r2.mean()])\n",
    "plt.title(get_pretty_feature_name(low_level_feature))\n",
    "# plt.ylim(0,1)\n",
    "plt.ylabel(r\"$R^2$\")\n",
    "# write the mean of the correlation\n",
    "plt.text(0, low_level_ols_r2.mean(), f\"{low_level_ols_r2.mean():.2f}\", ha='center', va='bottom')\n",
    "plt.text(1, low_level_ridge_r2.mean(), f\"{low_level_ridge_r2.mean():.2f}\", ha='center', va='bottom')"
   ],
   "id": "a75f841a75fc9067",
   "outputs": [
    {
     "data": {
      "text/plain": [
       "Text(1, -1.8939990411941965, '-1.89')"
      ]
     },
     "execution_count": 76,
     "metadata": {},
     "output_type": "execute_result"
    },
    {
     "data": {
      "text/plain": [
       "<Figure size 300x300 with 1 Axes>"
      ],
      "image/png": "[encoded data removed]"
     },
     "metadata": {},
     "output_type": "display_data"
    }
   ],
   "execution_count": 76
  }
 ],
 "metadata": {
  "kernelspec": {
   "display_name": "Python 3",
   "language": "python",
   "name": "python3"
  },
  "language_info": {
   "codemirror_mode": {
    "name": "ipython",
    "version": 2
   },
   "file_extension": ".py",
   "mimetype": "text/x-python",
   "name": "python",
   "nbconvert_exporter": "python",
   "pygments_lexer": "ipython2",
   "version": "2.7.6"
  }
 },
 "nbformat": 4,
 "nbformat_minor": 5
}
