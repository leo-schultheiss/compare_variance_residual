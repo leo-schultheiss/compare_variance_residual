{
 "cells": [
  {
   "cell_type": "code",
   "id": "initial_id",
   "metadata": {
    "collapsed": true,
    "ExecuteTime": {
     "end_time": "2025-04-04T14:01:23.295817Z",
     "start_time": "2025-04-04T14:01:22.999454Z"
    }
   },
   "source": [
    "from himalaya.ridge import Ridge, RidgeCV\n",
    "import numpy as np\n",
    "from compare_variance_residual.fmri.features import load_feature\n",
    "from himalaya.scoring import r2_score, correlation_score"
   ],
   "outputs": [],
   "execution_count": 1
  },
  {
   "metadata": {
    "ExecuteTime": {
     "end_time": "2025-04-04T14:01:23.311045Z",
     "start_time": "2025-04-04T14:01:23.306730Z"
    }
   },
   "cell_type": "code",
   "source": [
    "ridge_model = RidgeCV(alphas=np.logspace(-5, 15, 21), cv=5, solver_params=dict(n_alphas_batch=1))\n",
    "ols_model = Ridge(alpha=1)"
   ],
   "id": "589627bfa23dd87c",
   "outputs": [],
   "execution_count": 2
  },
  {
   "metadata": {
    "ExecuteTime": {
     "end_time": "2025-04-04T14:01:41.128224Z",
     "start_time": "2025-04-04T14:01:40.438739Z"
    }
   },
   "cell_type": "code",
   "source": [
    "semantic, _ = load_feature(\"../../data\", \"english1000\")\n",
    "letters, _ = load_feature(\"../../data\", \"letters\")\n",
    "moten, n_samples_train = load_feature(\"../../data\", \"moten\")"
   ],
   "id": "274754727b3e20fc",
   "outputs": [],
   "execution_count": 4
  },
  {
   "metadata": {
    "ExecuteTime": {
     "end_time": "2025-04-04T14:01:49.327678Z",
     "start_time": "2025-04-04T14:01:41.133782Z"
    }
   },
   "cell_type": "code",
   "source": [
    "ridge_model.fit(letters[:n_samples_train], semantic[:n_samples_train]), ols_model.fit(letters[:n_samples_train], semantic[:n_samples_train])\n",
    "letters_ridge_prediction, letters_ols_prediction = ridge_model.predict(letters[n_samples_train:]), ols_model.predict(letters[n_samples_train:])"
   ],
   "id": "3547c968a4e55a10",
   "outputs": [],
   "execution_count": 5
  },
  {
   "metadata": {
    "ExecuteTime": {
     "end_time": "2025-04-04T14:06:45.240808Z",
     "start_time": "2025-04-04T14:01:49.369292Z"
    }
   },
   "cell_type": "code",
   "source": [
    "ridge_model.fit(moten[:n_samples_train], semantic[:n_samples_train]), ols_model.fit(moten[:n_samples_train], semantic[:n_samples_train])\n",
    "moten_ridge_prediction, moten_ols_prediction = ridge_model.predict(moten[n_samples_train:]), ols_model.predict(moten[n_samples_train:])"
   ],
   "id": "f04ddfe7bfad5abf",
   "outputs": [
    {
     "name": "stderr",
     "output_type": "stream",
     "text": [
      "/home/leo/PycharmProjects/compare_variance_residual/venv/lib/python3.12/site-packages/himalaya/ridge/_random_search.py:491: UserWarning: Solving ridge is slower than solving kernel ridge when n_samples < n_features (here 3737 < 6555). Using a linear kernel in himalaya.kernel_ridge.KernelRidgeCV or himalaya.kernel_ridge.solve_kernel_ridge_cv_eigenvalues would be faster. Use warn=False to silence this warning.\n",
      "  warnings.warn(\n",
      "/home/leo/PycharmProjects/compare_variance_residual/venv/lib/python3.12/site-packages/himalaya/ridge/_solvers.py:59: UserWarning: Solving ridge is slower than solving kernel ridge when n_samples < n_features (here 3737 < 6555). Using a linear kernel in himalaya.kernel_ridge.KernelRidge or himalaya.kernel_ridge.solve_kernel_ridge_eigenvalues would be faster. Use warn=False to silence this warning.\n",
      "  warnings.warn(\n"
     ]
    }
   ],
   "execution_count": 6
  },
  {
   "metadata": {
    "ExecuteTime": {
     "end_time": "2025-04-04T14:06:45.432129Z",
     "start_time": "2025-04-04T14:06:45.395745Z"
    }
   },
   "cell_type": "code",
   "source": [
    "letters_ols_corr = correlation_score(letters_ols_prediction, semantic[n_samples_train:])\n",
    "letters_ridge_corr = correlation_score(letters_ridge_prediction, semantic[n_samples_train:])\n",
    "moten_ols_corr = correlation_score(moten_ols_prediction, semantic[n_samples_train:])\n",
    "moten_ridge_corr = correlation_score(moten_ridge_prediction, semantic[n_samples_train:])"
   ],
   "id": "2c600a6bf08b67d2",
   "outputs": [],
   "execution_count": 7
  },
  {
   "metadata": {
    "ExecuteTime": {
     "end_time": "2025-04-04T14:07:09.221165Z",
     "start_time": "2025-04-04T14:07:09.201994Z"
    }
   },
   "cell_type": "code",
   "source": [
    "import matplotlib.pyplot as plt\n",
    "import seaborn as sns\n",
    "import simplstyles"
   ],
   "id": "2ff37edfe08964c6",
   "outputs": [],
   "execution_count": 8
  },
  {
   "metadata": {
    "ExecuteTime": {
     "end_time": "2025-04-04T14:07:53.236568Z",
     "start_time": "2025-04-04T14:07:53.231856Z"
    }
   },
   "cell_type": "code",
   "source": "plt.style.use('nord-light-talk')",
   "id": "c066d0458e1f8a09",
   "outputs": [],
   "execution_count": 11
  },
  {
   "metadata": {
    "ExecuteTime": {
     "end_time": "2025-04-04T14:09:04.194850Z",
     "start_time": "2025-04-04T14:09:04.073069Z"
    }
   },
   "cell_type": "code",
   "source": [
    "fig, ax = plt.subplots(figsize=(3, 3))\n",
    "sns.barplot(x=[\"OLS\", \"Ridge\"], y=[letters_ols_corr.mean(), letters_ridge_corr.mean()])\n",
    "plt.title(\"Letters\")\n",
    "plt.ylim(0,1)\n",
    "plt.ylabel(r\"$r$\")"
   ],
   "id": "1138fce2a6ada107",
   "outputs": [
    {
     "data": {
      "text/plain": [
       "Text(0, 0.5, '$r$')"
      ]
     },
     "execution_count": 18,
     "metadata": {},
     "output_type": "execute_result"
    },
    {
     "data": {
      "text/plain": [
       "<Figure size 300x300 with 1 Axes>"
      ],
      "image/png": "[encoded data removed]"
     },
     "metadata": {},
     "output_type": "display_data"
    }
   ],
   "execution_count": 18
  },
  {
   "metadata": {
    "ExecuteTime": {
     "end_time": "2025-04-04T14:09:49.051423Z",
     "start_time": "2025-04-04T14:09:48.921502Z"
    }
   },
   "cell_type": "code",
   "source": [
    "fig, ax = plt.subplots(figsize=(3, 3))\n",
    "sns.barplot(x=[\"OLS\", \"Ridge\"], y=[moten_ols_corr.mean(), moten_ridge_corr.mean()])\n",
    "plt.title(\"Moten\")\n",
    "plt.ylim(0,1)\n",
    "plt.ylabel(r\"$r$\")"
   ],
   "id": "b143673882ea0bdf",
   "outputs": [
    {
     "data": {
      "text/plain": [
       "Text(0, 0.5, '$r$')"
      ]
     },
     "execution_count": 20,
     "metadata": {},
     "output_type": "execute_result"
    },
    {
     "data": {
      "text/plain": [
       "<Figure size 300x300 with 1 Axes>"
      ],
      "image/png": "[encoded data removed]"
     },
     "metadata": {},
     "output_type": "display_data"
    }
   ],
   "execution_count": 20
  }
 ],
 "metadata": {
  "kernelspec": {
   "display_name": "Python 3",
   "language": "python",
   "name": "python3"
  },
  "language_info": {
   "codemirror_mode": {
    "name": "ipython",
    "version": 2
   },
   "file_extension": ".py",
   "mimetype": "text/x-python",
   "name": "python",
   "nbconvert_exporter": "python",
   "pygments_lexer": "ipython2",
   "version": "2.7.6"
  }
 },
 "nbformat": 4,
 "nbformat_minor": 5
}
