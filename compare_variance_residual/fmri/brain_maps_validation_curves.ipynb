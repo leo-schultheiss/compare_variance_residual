{
 "cells": [
  {
   "metadata": {
    "ExecuteTime": {
     "end_time": "2025-02-24T11:02:14.330140Z",
     "start_time": "2025-02-24T11:02:14.069780Z"
    }
   },
   "cell_type": "code",
   "source": [
    "import os\n",
    "\n",
    "import h5py\n",
    "import numpy as np\n",
    "from himalaya.backend import set_backend\n",
    "from himalaya.ridge import ColumnTransformerNoStack, BandedRidgeCV\n",
    "from matplotlib import pyplot as plt\n",
    "from scipy.stats import zscore\n",
    "from sklearn import config_context\n",
    "from sklearn.base import BaseEstimator, RegressorMixin\n",
    "from sklearn.model_selection import ValidationCurveDisplay\n",
    "from sklearn.pipeline import make_pipeline\n",
    "from voxelwise_tutorials.delayer import Delayer\n",
    "from voxelwise_tutorials.io import load_hdf5_array"
   ],
   "id": "bfff375e5309c59f",
   "outputs": [],
   "execution_count": 1
  },
  {
   "metadata": {
    "jupyter": {
     "is_executing": true
    },
    "ExecuteTime": {
     "start_time": "2025-02-24T11:02:14.333345Z"
    }
   },
   "cell_type": "code",
   "source": [
    "backend = set_backend(\"torch_cuda\", on_error='throw')\n",
    "plt.style.use('nord-light-talk')\n",
    "os.environ[\"SCIPY_ARRAY_API\"] = \"1\"\n",
    "data_dir = \"../../data\"\n",
    "subject = 1\n",
    "modality = \"reading\"\n",
    "trim = 5\n",
    "number_of_delays = 4"
   ],
   "id": "36f8dff93992152c",
   "outputs": [],
   "execution_count": null
  },
  {
   "metadata": {},
   "cell_type": "code",
   "outputs": [],
   "execution_count": null,
   "source": [
    "alphas = np.logspace(-5, 5, 10)\n",
    "n_iter = 25\n",
    "cv = 5"
   ],
   "id": "609247230299f1a0"
  },
  {
   "metadata": {},
   "cell_type": "markdown",
   "source": "# Load features",
   "id": "48a87412e9034f76"
  },
  {
   "metadata": {},
   "cell_type": "code",
   "outputs": [],
   "execution_count": null,
   "source": [
    "features_train = h5py.File(os.path.join(data_dir, 'features', 'features_trn_NEW.hdf'), 'r')\n",
    "features_val = h5py.File(os.path.join(data_dir, 'features', 'features_val_NEW.hdf'), 'r')"
   ],
   "id": "9a65bc7142bc5c4f"
  },
  {
   "metadata": {},
   "cell_type": "code",
   "outputs": [],
   "execution_count": null,
   "source": [
    "semantic_train = np.vstack([zscore(features_train[story]['english1000']) for story in features_train.keys()])\n",
    "semantic_val = np.vstack([zscore(features_val[story]['english1000']) for story in features_val.keys()])\n",
    "\n",
    "semantic_train = semantic_train.astype(np.float32)\n",
    "semantic_val = semantic_val.astype(np.float32)"
   ],
   "id": "b36d6360419a53ec"
  },
  {
   "metadata": {},
   "cell_type": "markdown",
   "source": "# Load brain data",
   "id": "8cc08748c05f2306"
  },
  {
   "metadata": {},
   "cell_type": "code",
   "outputs": [],
   "execution_count": null,
   "source": [
    "Y_train_filename = os.path.join(data_dir, 'responses', f'subject{subject:02}_{modality}_fmri_data_trn.hdf')\n",
    "Y_train = load_hdf5_array(Y_train_filename)\n",
    "\n",
    "Y_test_filename = os.path.join(data_dir, 'responses', f'subject{subject:02}_{modality}_fmri_data_val.hdf')\n",
    "Y_test = load_hdf5_array(Y_test_filename)\n",
    "\n",
    "Y_train = np.vstack([zscore(Y_train[story][:-trim]) for story in Y_train.keys()])\n",
    "Ys_test = [np.vstack([zscore(Y_test[story][i][:-trim]) for story in Y_test.keys()]) for i in range(2)]\n",
    "\n",
    "Y_train, Ys_test = np.nan_to_num(Y_train), np.nan_to_num(Ys_test)\n",
    "Y_train = Y_train.astype(np.float32)\n",
    "Ys_test = [Y_test.astype(np.float32) for Y_test in Ys_test]"
   ],
   "id": "91f2aae5f1e602d1"
  },
  {
   "metadata": {},
   "cell_type": "markdown",
   "source": "# Plot validation curves",
   "id": "6502b4d9d4a527cc"
  },
  {
   "metadata": {},
   "cell_type": "code",
   "outputs": [],
   "execution_count": null,
   "source": [
    "class CustomEstimator(BaseEstimator, RegressorMixin):\n",
    "    def __init__(self, alphas, n_iter, cv, n_targets_batch, n_alphas_batch, n_targets_batch_refit, score_func, number_of_delays=4):\n",
    "        self.alphas = alphas\n",
    "        self.n_iter = n_iter\n",
    "        self.cv = cv\n",
    "        self.n_targets_batch = n_targets_batch\n",
    "        self.n_alphas_batch = n_alphas_batch\n",
    "        self.n_targets_batch_refit = n_targets_batch_refit\n",
    "        self.score_func = score_func\n",
    "        self.number_of_delays = number_of_delays\n",
    "\n",
    "    def fit(self, X, y):\n",
    "        delayer = Delayer(delays=range(1, self.number_of_delays + 1))\n",
    "\n",
    "        start_and_end = [0, X.shape[1]]\n",
    "        slices = [\n",
    "            slice(start, end)\n",
    "            for start, end in zip(start_and_end[:-1], start_and_end[1:])\n",
    "        ]\n",
    "        ct = ColumnTransformerNoStack(transformers=[(f'feature_{i}', delayer, s) for i, s in enumerate(slices)])\n",
    "        print(ct)\n",
    "\n",
    "        solver_params = dict(\n",
    "            alphas=self.alphas,\n",
    "            n_iter=self.n_iter,\n",
    "            n_targets_batch=self.n_targets_batch,\n",
    "            n_alphas_batch=self.n_alphas_batch,\n",
    "            n_targets_batch_refit=self.n_targets_batch_refit,\n",
    "            score_func=self.score_func\n",
    "        )\n",
    "        banded_ridge_cv = BandedRidgeCV(cv=self.cv, groups=\"input\", solver_params=solver_params)\n",
    "\n",
    "        self.pipeline = make_pipeline(\n",
    "            ct,\n",
    "            banded_ridge_cv\n",
    "        )\n",
    "        self.pipeline.fit(X, y)\n",
    "        return self\n",
    "\n",
    "    def predict(self, X):\n",
    "        return self.pipeline.predict(X)"
   ],
   "id": "78508d2a0d577ed5"
  },
  {
   "metadata": {},
   "cell_type": "code",
   "outputs": [],
   "execution_count": null,
   "source": [
    "with config_context(array_api_dispatch=True):\n",
    "    ValidationCurveDisplay.from_estimator(\n",
    "        CustomEstimator, semantic_train, Y_train, param_name=\"n_iter\", param_range=[1, 2, 4, 8, 16],\n",
    "        score_name=r\"$R^2$\", cv=cv\n",
    "    )"
   ],
   "id": "583fb64c7f302f89"
  }
 ],
 "metadata": {
  "kernelspec": {
   "display_name": "Python 3",
   "language": "python",
   "name": "python3"
  },
  "language_info": {
   "codemirror_mode": {
    "name": "ipython",
    "version": 2
   },
   "file_extension": ".py",
   "mimetype": "text/x-python",
   "name": "python",
   "nbconvert_exporter": "python",
   "pygments_lexer": "ipython2",
   "version": "2.7.6"
  }
 },
 "nbformat": 4,
 "nbformat_minor": 5
}
