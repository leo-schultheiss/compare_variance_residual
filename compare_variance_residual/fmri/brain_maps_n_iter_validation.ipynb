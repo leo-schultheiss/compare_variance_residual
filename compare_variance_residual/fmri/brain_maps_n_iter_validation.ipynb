{
 "cells": [
  {
   "metadata": {
    "ExecuteTime": {
     "end_time": "2025-02-26T12:13:09.825673Z",
     "start_time": "2025-02-26T12:13:09.647659Z"
    }
   },
   "cell_type": "code",
   "source": [
    "import os\n",
    "\n",
    "import himalaya.scoring\n",
    "import numpy as np\n",
    "import pandas as pd\n",
    "import seaborn as sns\n",
    "from himalaya.backend import set_backend\n",
    "from himalaya.ridge import BandedRidgeCV, ColumnTransformerNoStack\n",
    "from matplotlib import pyplot as plt\n",
    "from sklearn.pipeline import make_pipeline\n",
    "from voxelwise_tutorials.delayer import Delayer\n",
    "\n",
    "from fmri.features import load_brain_data, load_feature"
   ],
   "id": "bfff375e5309c59f",
   "outputs": [],
   "execution_count": 1
  },
  {
   "metadata": {
    "ExecuteTime": {
     "end_time": "2025-02-26T12:13:11.229380Z",
     "start_time": "2025-02-26T12:13:09.836040Z"
    }
   },
   "cell_type": "code",
   "source": [
    "backend = set_backend(\"torch_cuda\", on_error='throw')\n",
    "plt.style.use('nord-light-talk')\n",
    "data_dir = \"../../data\""
   ],
   "id": "9f527bdf0fb89006",
   "outputs": [],
   "execution_count": 2
  },
  {
   "metadata": {
    "ExecuteTime": {
     "end_time": "2025-02-26T12:13:11.326477Z",
     "start_time": "2025-02-26T12:13:11.324437Z"
    }
   },
   "cell_type": "code",
   "source": [
    "subject = 1\n",
    "modality = \"reading\""
   ],
   "id": "72617e2abcd86445",
   "outputs": [],
   "execution_count": 3
  },
  {
   "metadata": {
    "ExecuteTime": {
     "end_time": "2025-02-26T12:13:11.348311Z",
     "start_time": "2025-02-26T12:13:11.345929Z"
    }
   },
   "cell_type": "code",
   "source": [
    "n_alphas_batch = 3\n",
    "n_targets_batch = 100\n",
    "n_targets_batch_refit = 50"
   ],
   "id": "36f8dff93992152c",
   "outputs": [],
   "execution_count": 4
  },
  {
   "metadata": {
    "ExecuteTime": {
     "end_time": "2025-02-26T12:13:11.383335Z",
     "start_time": "2025-02-26T12:13:11.380911Z"
    }
   },
   "cell_type": "code",
   "source": [
    "number_of_delays = 4\n",
    "alphas = np.logspace(-5, 20, 10)\n",
    "cv = 5"
   ],
   "id": "609247230299f1a0",
   "outputs": [],
   "execution_count": 5
  },
  {
   "metadata": {
    "ExecuteTime": {
     "end_time": "2025-02-26T12:13:11.405578Z",
     "start_time": "2025-02-26T12:13:11.402754Z"
    }
   },
   "cell_type": "code",
   "source": [
    "def result_path(subject, modality, ridge_type, param_name, param_range):\n",
    "    dir = f\"results/brain_maps_validation_curves/{modality}/{subject}/{ridge_type}\"\n",
    "    os.makedirs(dir, exist_ok=True)\n",
    "    path = os.path.join(dir, f\"{param_name}_{param_range}.csv\")\n",
    "    return path"
   ],
   "id": "e6e5296666b80981",
   "outputs": [],
   "execution_count": 6
  },
  {
   "metadata": {},
   "cell_type": "markdown",
   "source": "# Load features",
   "id": "48a87412e9034f76"
  },
  {
   "metadata": {
    "ExecuteTime": {
     "end_time": "2025-02-26T12:13:11.642203Z",
     "start_time": "2025-02-26T12:13:11.426698Z"
    }
   },
   "cell_type": "code",
   "source": [
    "X_semantic, n_samples_train = load_feature(data_dir, \"english1000\")\n",
    "X_low_level, n_samples_train = load_feature(data_dir, \"letters\")\n",
    "X = np.concatenate([X_semantic, X_low_level], axis=1)"
   ],
   "id": "8eca69ca747aee30",
   "outputs": [],
   "execution_count": 7
  },
  {
   "metadata": {},
   "cell_type": "markdown",
   "source": "# Load brain data",
   "id": "8cc08748c05f2306"
  },
  {
   "metadata": {
    "jupyter": {
     "is_executing": true
    },
    "ExecuteTime": {
     "start_time": "2025-02-26T12:13:11.657723Z"
    }
   },
   "cell_type": "code",
   "source": "Y, n_samples_train = load_brain_data(data_dir, subject, modality)",
   "id": "91f2aae5f1e602d1",
   "outputs": [
    {
     "name": "stderr",
     "output_type": "stream",
     "text": [
      "/home/leo/PycharmProjects/compare_variance_residual/compare_variance_residual/fmri/features.py:16: RuntimeWarning: Precision loss occurred in moment calculation due to catastrophic cancellation. This occurs when the data are nearly identical. Results may be unreliable.\n",
      "  Y_train = np.vstack([zscore(Y_train[story][:-trim]) for story in Y_train.keys()])\n",
      "/home/leo/PycharmProjects/compare_variance_residual/compare_variance_residual/fmri/features.py:16: RuntimeWarning: Precision loss occurred in moment calculation due to catastrophic cancellation. This occurs when the data are nearly identical. Results may be unreliable.\n",
      "  Y_train = np.vstack([zscore(Y_train[story][:-trim]) for story in Y_train.keys()])\n"
     ]
    }
   ],
   "execution_count": null
  },
  {
   "metadata": {},
   "cell_type": "markdown",
   "source": "# Iterations",
   "id": "fe8ba9b564464d47"
  },
  {
   "metadata": {
    "ExecuteTime": {
     "end_time": "2025-02-26T12:07:56.156330Z",
     "start_time": "2025-02-26T12:07:56.153073Z"
    }
   },
   "cell_type": "code",
   "source": [
    "n_iter_range = np.linspace(1, 100, 10).astype(int)\n",
    "n_iter_range"
   ],
   "id": "923ffdbe716a1c0f",
   "outputs": [
    {
     "data": {
      "text/plain": [
       "array([ 2,  3,  4,  6, 10, 15, 22, 33, 50])"
      ]
     },
     "execution_count": 67,
     "metadata": {},
     "output_type": "execute_result"
    }
   ],
   "execution_count": 67
  },
  {
   "metadata": {
    "ExecuteTime": {
     "end_time": "2025-02-26T12:08:51.891567Z",
     "start_time": "2025-02-26T12:08:51.703816Z"
    }
   },
   "cell_type": "code",
   "source": [
    "from sklearn.metrics import r2_score\n",
    "\n",
    "cv_scores = pd.DataFrame()\n",
    "for _n_iter in n_iter_range:\n",
    "    print(_n_iter)\n",
    "    path = result_path(subject, modality, \"ridge\", \"n_iter\", _n_iter)\n",
    "    if not os.path.exists(path):\n",
    "        print(\"File does not exist\")\n",
    "        delayer = Delayer(delays=range(1, number_of_delays + 1))\n",
    "        start_and_end = np.concatenate([[0], np.cumsum([X_semantic.shape[1], X_low_level.shape[1]])])\n",
    "        slices = [slice(start, end) for start, end in zip(start_and_end[:-1], start_and_end[1:])]\n",
    "        ct = ColumnTransformerNoStack(transformers=[(f'feature_{i}', delayer, s) for i, s in enumerate(slices)])\n",
    "\n",
    "        solver_params = dict(\n",
    "            alphas=alphas, n_iter=_n_iter, n_targets_batch=n_targets_batch,\n",
    "            n_alphas_batch=n_alphas_batch, n_targets_batch_refit=n_targets_batch_refit,\n",
    "            score_func=himalaya.scoring.r2_score)\n",
    "        banded_ridge_cv = BandedRidgeCV(cv=cv, groups=\"input\", solver_params=solver_params)\n",
    "\n",
    "        pipeline = make_pipeline(\n",
    "            ct,\n",
    "            banded_ridge_cv\n",
    "        )\n",
    "\n",
    "        pipeline.fit(X[:n_samples_train], Y[:n_samples_train])\n",
    "        cv_score = pipeline[-1].cv_scores_\n",
    "        prediction = pipeline.predict(X[n_samples_train:])\n",
    "        prediction = backend.to_numpy(prediction)\n",
    "        test_score = r2_score(Y[n_samples_train:], prediction, multioutput='raw_values')\n",
    "        result = pd.DataFrame(\n",
    "            {\n",
    "                'cv_score': cv_score,\n",
    "                'test_score': test_score\n",
    "            }\n",
    "        )\n",
    "        result.to_csv(path)\n",
    "        cv_scores = pd.concat([cv_scores, result])\n",
    "    else:\n",
    "        print(\"File exists\")\n",
    "        result = pd.read_csv(path)\n",
    "        cv_scores = pd.concat([cv_scores, result])"
   ],
   "id": "874628fdd3c59d37",
   "outputs": [
    {
     "name": "stdout",
     "output_type": "stream",
     "text": [
      "2\n",
      "File does not exist\n"
     ]
    },
    {
     "name": "stderr",
     "output_type": "stream",
     "text": [
      "/home/leo/PycharmProjects/compare_variance_residual/.venv/lib/python3.12/site-packages/sklearn/base.py:474: FutureWarning: `BaseEstimator._validate_data` is deprecated in 1.6 and will be removed in 1.7. Use `sklearn.utils.validation.validate_data` instead. This function becomes public and is part of the scikit-learn developer API.\n",
      "  warnings.warn(\n"
     ]
    },
    {
     "ename": "OutOfMemoryError",
     "evalue": "CUDA out of memory. Tried to allocate 1.18 GiB. GPU 0 has a total capacity of 5.92 GiB of which 1.02 GiB is free. Including non-PyTorch memory, this process has 3.23 GiB memory in use. Of the allocated memory 2.95 GiB is allocated by PyTorch, and 164.42 MiB is reserved by PyTorch but unallocated. If reserved but unallocated memory is large try setting PYTORCH_CUDA_ALLOC_CONF=expandable_segments:True to avoid fragmentation.  See documentation for Memory Management  (https://pytorch.org/docs/stable/notes/cuda.html#environment-variables)",
     "output_type": "error",
     "traceback": [
      "\u001B[0;31m---------------------------------------------------------------------------\u001B[0m",
      "\u001B[0;31mOutOfMemoryError\u001B[0m                          Traceback (most recent call last)",
      "File \u001B[0;32m~/PycharmProjects/compare_variance_residual/.venv/lib/python3.12/site-packages/himalaya/backend/torch_cuda.py:46\u001B[0m, in \u001B[0;36masarray\u001B[0;34m(x, dtype, device)\u001B[0m\n\u001B[1;32m     45\u001B[0m \u001B[38;5;28;01mtry\u001B[39;00m:\n\u001B[0;32m---> 46\u001B[0m     tensor \u001B[38;5;241m=\u001B[39m \u001B[43mtorch\u001B[49m\u001B[38;5;241;43m.\u001B[39;49m\u001B[43mas_tensor\u001B[49m\u001B[43m(\u001B[49m\u001B[43mx\u001B[49m\u001B[43m,\u001B[49m\u001B[43m \u001B[49m\u001B[43mdtype\u001B[49m\u001B[38;5;241;43m=\u001B[39;49m\u001B[43mdtype\u001B[49m\u001B[43m,\u001B[49m\u001B[43m \u001B[49m\u001B[43mdevice\u001B[49m\u001B[38;5;241;43m=\u001B[39;49m\u001B[43mdevice\u001B[49m\u001B[43m)\u001B[49m\n\u001B[1;32m     47\u001B[0m \u001B[38;5;28;01mexcept\u001B[39;00m \u001B[38;5;167;01mException\u001B[39;00m:\n",
      "\u001B[0;31mOutOfMemoryError\u001B[0m: CUDA out of memory. Tried to allocate 1.18 GiB. GPU 0 has a total capacity of 5.92 GiB of which 1.02 GiB is free. Including non-PyTorch memory, this process has 3.23 GiB memory in use. Of the allocated memory 2.95 GiB is allocated by PyTorch, and 164.42 MiB is reserved by PyTorch but unallocated. If reserved but unallocated memory is large try setting PYTORCH_CUDA_ALLOC_CONF=expandable_segments:True to avoid fragmentation.  See documentation for Memory Management  (https://pytorch.org/docs/stable/notes/cuda.html#environment-variables)",
      "\nDuring handling of the above exception, another exception occurred:\n",
      "\u001B[0;31mOutOfMemoryError\u001B[0m                          Traceback (most recent call last)",
      "Cell \u001B[0;32mIn[69], line 20\u001B[0m\n\u001B[1;32m     15\u001B[0m ridge_cv \u001B[38;5;241m=\u001B[39m RidgeCV(alphas\u001B[38;5;241m=\u001B[39malphas, cv\u001B[38;5;241m=\u001B[39m_cv, solver_params\u001B[38;5;241m=\u001B[39msolver_params)\n\u001B[1;32m     16\u001B[0m pipeline \u001B[38;5;241m=\u001B[39m make_pipeline(\n\u001B[1;32m     17\u001B[0m     delayer,\n\u001B[1;32m     18\u001B[0m     ridge_cv\n\u001B[1;32m     19\u001B[0m )\n\u001B[0;32m---> 20\u001B[0m \u001B[43mpipeline\u001B[49m\u001B[38;5;241;43m.\u001B[39;49m\u001B[43mfit\u001B[49m\u001B[43m(\u001B[49m\u001B[43mX\u001B[49m\u001B[43m[\u001B[49m\u001B[43m:\u001B[49m\u001B[43mn_samples_train\u001B[49m\u001B[43m]\u001B[49m\u001B[43m,\u001B[49m\u001B[43m \u001B[49m\u001B[43mY\u001B[49m\u001B[43m[\u001B[49m\u001B[43m:\u001B[49m\u001B[43mn_samples_train\u001B[49m\u001B[43m]\u001B[49m\u001B[43m)\u001B[49m\n\u001B[1;32m     21\u001B[0m cv_score \u001B[38;5;241m=\u001B[39m pipeline[\u001B[38;5;241m-\u001B[39m\u001B[38;5;241m1\u001B[39m]\u001B[38;5;241m.\u001B[39mcv_scores_\n\u001B[1;32m     22\u001B[0m prediction \u001B[38;5;241m=\u001B[39m pipeline\u001B[38;5;241m.\u001B[39mpredict(X[n_samples_train:])\n",
      "File \u001B[0;32m~/PycharmProjects/compare_variance_residual/.venv/lib/python3.12/site-packages/sklearn/base.py:1389\u001B[0m, in \u001B[0;36m_fit_context.<locals>.decorator.<locals>.wrapper\u001B[0;34m(estimator, *args, **kwargs)\u001B[0m\n\u001B[1;32m   1382\u001B[0m     estimator\u001B[38;5;241m.\u001B[39m_validate_params()\n\u001B[1;32m   1384\u001B[0m \u001B[38;5;28;01mwith\u001B[39;00m config_context(\n\u001B[1;32m   1385\u001B[0m     skip_parameter_validation\u001B[38;5;241m=\u001B[39m(\n\u001B[1;32m   1386\u001B[0m         prefer_skip_nested_validation \u001B[38;5;129;01mor\u001B[39;00m global_skip_validation\n\u001B[1;32m   1387\u001B[0m     )\n\u001B[1;32m   1388\u001B[0m ):\n\u001B[0;32m-> 1389\u001B[0m     \u001B[38;5;28;01mreturn\u001B[39;00m \u001B[43mfit_method\u001B[49m\u001B[43m(\u001B[49m\u001B[43mestimator\u001B[49m\u001B[43m,\u001B[49m\u001B[43m \u001B[49m\u001B[38;5;241;43m*\u001B[39;49m\u001B[43margs\u001B[49m\u001B[43m,\u001B[49m\u001B[43m \u001B[49m\u001B[38;5;241;43m*\u001B[39;49m\u001B[38;5;241;43m*\u001B[39;49m\u001B[43mkwargs\u001B[49m\u001B[43m)\u001B[49m\n",
      "File \u001B[0;32m~/PycharmProjects/compare_variance_residual/.venv/lib/python3.12/site-packages/sklearn/pipeline.py:662\u001B[0m, in \u001B[0;36mPipeline.fit\u001B[0;34m(self, X, y, **params)\u001B[0m\n\u001B[1;32m    656\u001B[0m     \u001B[38;5;28;01mif\u001B[39;00m \u001B[38;5;28mself\u001B[39m\u001B[38;5;241m.\u001B[39m_final_estimator \u001B[38;5;241m!=\u001B[39m \u001B[38;5;124m\"\u001B[39m\u001B[38;5;124mpassthrough\u001B[39m\u001B[38;5;124m\"\u001B[39m:\n\u001B[1;32m    657\u001B[0m         last_step_params \u001B[38;5;241m=\u001B[39m \u001B[38;5;28mself\u001B[39m\u001B[38;5;241m.\u001B[39m_get_metadata_for_step(\n\u001B[1;32m    658\u001B[0m             step_idx\u001B[38;5;241m=\u001B[39m\u001B[38;5;28mlen\u001B[39m(\u001B[38;5;28mself\u001B[39m) \u001B[38;5;241m-\u001B[39m \u001B[38;5;241m1\u001B[39m,\n\u001B[1;32m    659\u001B[0m             step_params\u001B[38;5;241m=\u001B[39mrouted_params[\u001B[38;5;28mself\u001B[39m\u001B[38;5;241m.\u001B[39msteps[\u001B[38;5;241m-\u001B[39m\u001B[38;5;241m1\u001B[39m][\u001B[38;5;241m0\u001B[39m]],\n\u001B[1;32m    660\u001B[0m             all_params\u001B[38;5;241m=\u001B[39mparams,\n\u001B[1;32m    661\u001B[0m         )\n\u001B[0;32m--> 662\u001B[0m         \u001B[38;5;28;43mself\u001B[39;49m\u001B[38;5;241;43m.\u001B[39;49m\u001B[43m_final_estimator\u001B[49m\u001B[38;5;241;43m.\u001B[39;49m\u001B[43mfit\u001B[49m\u001B[43m(\u001B[49m\u001B[43mXt\u001B[49m\u001B[43m,\u001B[49m\u001B[43m \u001B[49m\u001B[43my\u001B[49m\u001B[43m,\u001B[49m\u001B[43m \u001B[49m\u001B[38;5;241;43m*\u001B[39;49m\u001B[38;5;241;43m*\u001B[39;49m\u001B[43mlast_step_params\u001B[49m\u001B[43m[\u001B[49m\u001B[38;5;124;43m\"\u001B[39;49m\u001B[38;5;124;43mfit\u001B[39;49m\u001B[38;5;124;43m\"\u001B[39;49m\u001B[43m]\u001B[49m\u001B[43m)\u001B[49m\n\u001B[1;32m    664\u001B[0m \u001B[38;5;28;01mreturn\u001B[39;00m \u001B[38;5;28mself\u001B[39m\n",
      "File \u001B[0;32m~/PycharmProjects/compare_variance_residual/.venv/lib/python3.12/site-packages/himalaya/backend/_utils.py:97\u001B[0m, in \u001B[0;36mforce_cpu_backend.<locals>.wrapper\u001B[0;34m(*args, **kwargs)\u001B[0m\n\u001B[1;32m     93\u001B[0m \u001B[38;5;129m@wraps\u001B[39m(func)\n\u001B[1;32m     94\u001B[0m \u001B[38;5;28;01mdef\u001B[39;00m\u001B[38;5;250m \u001B[39m\u001B[38;5;21mwrapper\u001B[39m(\u001B[38;5;241m*\u001B[39margs, \u001B[38;5;241m*\u001B[39m\u001B[38;5;241m*\u001B[39mkwargs):\n\u001B[1;32m     95\u001B[0m     \u001B[38;5;66;03m# skip if the object does not force cpu use\u001B[39;00m\n\u001B[1;32m     96\u001B[0m     \u001B[38;5;28;01mif\u001B[39;00m \u001B[38;5;129;01mnot\u001B[39;00m \u001B[38;5;28mhasattr\u001B[39m(args[\u001B[38;5;241m0\u001B[39m], \u001B[38;5;124m\"\u001B[39m\u001B[38;5;124mforce_cpu\u001B[39m\u001B[38;5;124m\"\u001B[39m) \u001B[38;5;129;01mor\u001B[39;00m \u001B[38;5;129;01mnot\u001B[39;00m args[\u001B[38;5;241m0\u001B[39m]\u001B[38;5;241m.\u001B[39mforce_cpu:\n\u001B[0;32m---> 97\u001B[0m         \u001B[38;5;28;01mreturn\u001B[39;00m \u001B[43mfunc\u001B[49m\u001B[43m(\u001B[49m\u001B[38;5;241;43m*\u001B[39;49m\u001B[43margs\u001B[49m\u001B[43m,\u001B[49m\u001B[43m \u001B[49m\u001B[38;5;241;43m*\u001B[39;49m\u001B[38;5;241;43m*\u001B[39;49m\u001B[43mkwargs\u001B[49m\u001B[43m)\u001B[49m\n\u001B[1;32m     99\u001B[0m     \u001B[38;5;66;03m# set corresponding cpu backend\u001B[39;00m\n\u001B[1;32m    100\u001B[0m     original_backend \u001B[38;5;241m=\u001B[39m get_backend()\u001B[38;5;241m.\u001B[39mname\n",
      "File \u001B[0;32m~/PycharmProjects/compare_variance_residual/.venv/lib/python3.12/site-packages/himalaya/ridge/_sklearn_api.py:306\u001B[0m, in \u001B[0;36mRidgeCV.fit\u001B[0;34m(self, X, y)\u001B[0m\n\u001B[1;32m    304\u001B[0m \u001B[38;5;28mself\u001B[39m\u001B[38;5;241m.\u001B[39mdtype_ \u001B[38;5;241m=\u001B[39m _get_string_dtype(X)\n\u001B[1;32m    305\u001B[0m device \u001B[38;5;241m=\u001B[39m \u001B[38;5;124m\"\u001B[39m\u001B[38;5;124mcpu\u001B[39m\u001B[38;5;124m\"\u001B[39m \u001B[38;5;28;01mif\u001B[39;00m \u001B[38;5;28mself\u001B[39m\u001B[38;5;241m.\u001B[39mY_in_cpu \u001B[38;5;28;01melse\u001B[39;00m \u001B[38;5;28;01mNone\u001B[39;00m\n\u001B[0;32m--> 306\u001B[0m y \u001B[38;5;241m=\u001B[39m \u001B[43mcheck_array\u001B[49m\u001B[43m(\u001B[49m\u001B[43my\u001B[49m\u001B[43m,\u001B[49m\u001B[43m \u001B[49m\u001B[43mdtype\u001B[49m\u001B[38;5;241;43m=\u001B[39;49m\u001B[38;5;28;43mself\u001B[39;49m\u001B[38;5;241;43m.\u001B[39;49m\u001B[43mdtype_\u001B[49m\u001B[43m,\u001B[49m\u001B[43m \u001B[49m\u001B[43mndim\u001B[49m\u001B[38;5;241;43m=\u001B[39;49m\u001B[43m[\u001B[49m\u001B[38;5;241;43m1\u001B[39;49m\u001B[43m,\u001B[49m\u001B[43m \u001B[49m\u001B[38;5;241;43m2\u001B[39;49m\u001B[43m]\u001B[49m\u001B[43m,\u001B[49m\u001B[43m \u001B[49m\u001B[43mdevice\u001B[49m\u001B[38;5;241;43m=\u001B[39;49m\u001B[43mdevice\u001B[49m\u001B[43m)\u001B[49m\n\u001B[1;32m    307\u001B[0m \u001B[38;5;28;01mif\u001B[39;00m X\u001B[38;5;241m.\u001B[39mshape[\u001B[38;5;241m0\u001B[39m] \u001B[38;5;241m!=\u001B[39m y\u001B[38;5;241m.\u001B[39mshape[\u001B[38;5;241m0\u001B[39m]:\n\u001B[1;32m    308\u001B[0m     \u001B[38;5;28;01mraise\u001B[39;00m \u001B[38;5;167;01mValueError\u001B[39;00m(\u001B[38;5;124m\"\u001B[39m\u001B[38;5;124mInconsistent number of samples.\u001B[39m\u001B[38;5;124m\"\u001B[39m)\n",
      "File \u001B[0;32m~/PycharmProjects/compare_variance_residual/.venv/lib/python3.12/site-packages/himalaya/validation.py:181\u001B[0m, in \u001B[0;36mcheck_array\u001B[0;34m(array, accept_sparse, dtype, copy, force_all_finite, ndim, ensure_min_samples, ensure_min_features, device)\u001B[0m\n\u001B[1;32m    179\u001B[0m     warnings\u001B[38;5;241m.\u001B[39msimplefilter(\u001B[38;5;124m'\u001B[39m\u001B[38;5;124merror\u001B[39m\u001B[38;5;124m'\u001B[39m, ComplexWarning)\n\u001B[1;32m    180\u001B[0m     \u001B[38;5;66;03m################\u001B[39;00m\n\u001B[0;32m--> 181\u001B[0m     array \u001B[38;5;241m=\u001B[39m \u001B[43mbackend\u001B[49m\u001B[38;5;241;43m.\u001B[39;49m\u001B[43masarray\u001B[49m\u001B[43m(\u001B[49m\u001B[43marray\u001B[49m\u001B[43m,\u001B[49m\u001B[43m \u001B[49m\u001B[43mdtype\u001B[49m\u001B[38;5;241;43m=\u001B[39;49m\u001B[43mdtype\u001B[49m\u001B[43m,\u001B[49m\u001B[43m \u001B[49m\u001B[38;5;241;43m*\u001B[39;49m\u001B[38;5;241;43m*\u001B[39;49m\u001B[43mkwargs\u001B[49m\u001B[43m)\u001B[49m\n\u001B[1;32m    182\u001B[0m     \u001B[38;5;66;03m################\u001B[39;00m\n\u001B[1;32m    183\u001B[0m \u001B[38;5;28;01mexcept\u001B[39;00m ComplexWarning:\n",
      "File \u001B[0;32m~/PycharmProjects/compare_variance_residual/.venv/lib/python3.12/site-packages/himalaya/backend/torch_cuda.py:50\u001B[0m, in \u001B[0;36masarray\u001B[0;34m(x, dtype, device)\u001B[0m\n\u001B[1;32m     48\u001B[0m     \u001B[38;5;28;01mimport\u001B[39;00m\u001B[38;5;250m \u001B[39m\u001B[38;5;21;01mnumpy\u001B[39;00m\u001B[38;5;250m \u001B[39m\u001B[38;5;28;01mas\u001B[39;00m\u001B[38;5;250m \u001B[39m\u001B[38;5;21;01mnp\u001B[39;00m\n\u001B[1;32m     49\u001B[0m     array \u001B[38;5;241m=\u001B[39m np\u001B[38;5;241m.\u001B[39masarray(x, dtype\u001B[38;5;241m=\u001B[39m_dtype_to_str(dtype))\n\u001B[0;32m---> 50\u001B[0m     tensor \u001B[38;5;241m=\u001B[39m \u001B[43mtorch\u001B[49m\u001B[38;5;241;43m.\u001B[39;49m\u001B[43mas_tensor\u001B[49m\u001B[43m(\u001B[49m\u001B[43marray\u001B[49m\u001B[43m,\u001B[49m\u001B[43m \u001B[49m\u001B[43mdtype\u001B[49m\u001B[38;5;241;43m=\u001B[39;49m\u001B[43mdtype\u001B[49m\u001B[43m,\u001B[49m\u001B[43m \u001B[49m\u001B[43mdevice\u001B[49m\u001B[38;5;241;43m=\u001B[39;49m\u001B[43mdevice\u001B[49m\u001B[43m)\u001B[49m\n\u001B[1;32m     51\u001B[0m \u001B[38;5;28;01mreturn\u001B[39;00m tensor\n",
      "\u001B[0;31mOutOfMemoryError\u001B[0m: CUDA out of memory. Tried to allocate 1.18 GiB. GPU 0 has a total capacity of 5.92 GiB of which 1.02 GiB is free. Including non-PyTorch memory, this process has 3.23 GiB memory in use. Of the allocated memory 2.95 GiB is allocated by PyTorch, and 164.42 MiB is reserved by PyTorch but unallocated. If reserved but unallocated memory is large try setting PYTORCH_CUDA_ALLOC_CONF=expandable_segments:True to avoid fragmentation.  See documentation for Memory Management  (https://pytorch.org/docs/stable/notes/cuda.html#environment-variables)"
     ]
    }
   ],
   "execution_count": 69
  },
  {
   "metadata": {
    "ExecuteTime": {
     "end_time": "2025-02-26T11:03:48.632312800Z",
     "start_time": "2025-02-25T15:02:54.732017Z"
    }
   },
   "cell_type": "code",
   "source": "sns.catplot(data=result, kind='box')",
   "id": "4fc5e1dc0136a785",
   "outputs": [
    {
     "data": {
      "text/plain": [
       "Text(0.5, 0, 'CV')"
      ]
     },
     "execution_count": 26,
     "metadata": {},
     "output_type": "execute_result"
    },
    {
     "data": {
      "text/plain": [
       "<Figure size 640x480 with 1 Axes>"
      ],
      "image/png": "[encoded data removed]"
     },
     "metadata": {},
     "output_type": "display_data"
    }
   ],
   "execution_count": 26
  }
 ],
 "metadata": {
  "kernelspec": {
   "display_name": "Python 3",
   "language": "python",
   "name": "python3"
  },
  "language_info": {
   "codemirror_mode": {
    "name": "ipython",
    "version": 2
   },
   "file_extension": ".py",
   "mimetype": "text/x-python",
   "name": "python",
   "nbconvert_exporter": "python",
   "pygments_lexer": "ipython2",
   "version": "2.7.6"
  }
 },
 "nbformat": 4,
 "nbformat_minor": 5
}
