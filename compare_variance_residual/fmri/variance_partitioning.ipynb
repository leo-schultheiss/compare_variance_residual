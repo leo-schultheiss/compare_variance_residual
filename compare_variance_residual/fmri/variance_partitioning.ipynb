{
 "cells": [
  {
   "cell_type": "code",
   "id": "83018031b57daa4e",
   "metadata": {
    "ExecuteTime": {
     "end_time": "2025-03-07T17:11:48.286597Z",
     "start_time": "2025-03-07T17:11:48.098670Z"
    }
   },
   "source": [
    "import os\n",
    "\n",
    "import numpy as np\n",
    "import pandas as pd\n",
    "\n",
    "from compare_variance_residual.fmri.features import load_feature, load_brain_data\n",
    "from compare_variance_residual.fmri.results import get_result_path\n",
    "from compare_variance_residual.fmri.ridge import run_ridge_pipeline"
   ],
   "outputs": [],
   "execution_count": 1
  },
  {
   "metadata": {
    "ExecuteTime": {
     "end_time": "2025-03-07T17:11:48.298710Z",
     "start_time": "2025-03-07T17:11:48.295817Z"
    }
   },
   "cell_type": "code",
   "source": "data_dir = \"../../data\"",
   "id": "91cfb998971a2020",
   "outputs": [],
   "execution_count": 2
  },
  {
   "metadata": {
    "collapsed": true,
    "ExecuteTime": {
     "end_time": "2025-03-07T17:11:48.472239Z",
     "start_time": "2025-03-07T17:11:48.468765Z"
    }
   },
   "cell_type": "code",
   "source": [
    "subject = 7\n",
    "modality = 'listening'\n",
    "low_level_feature = \"powspec\""
   ],
   "id": "initial_id",
   "outputs": [],
   "execution_count": 3
  },
  {
   "metadata": {
    "ExecuteTime": {
     "end_time": "2025-03-07T17:11:48.516291Z",
     "start_time": "2025-03-07T17:11:48.512988Z"
    }
   },
   "cell_type": "code",
   "source": [
    "alphas = np.logspace(-5, 20, 26)\n",
    "number_of_delays = 4\n",
    "n_targets_batch = 100\n",
    "n_alphas_batch = 3\n",
    "n_targets_batch_refit = 50"
   ],
   "id": "41747c914fbcb518",
   "outputs": [],
   "execution_count": 4
  },
  {
   "metadata": {},
   "cell_type": "markdown",
   "source": "# Load brain data",
   "id": "9243a5bb45084417"
  },
  {
   "metadata": {
    "ExecuteTime": {
     "end_time": "2025-03-07T17:11:48.962803Z",
     "start_time": "2025-03-07T17:11:48.561454Z"
    }
   },
   "cell_type": "code",
   "source": "Y, n_samples_train, run_onsets = load_brain_data(data_dir, subject, modality)",
   "id": "28fbd87b2dc5c769",
   "outputs": [
    {
     "ename": "FileNotFoundError",
     "evalue": "[Errno 2] Unable to synchronously open file (unable to open file: name = '../../data/responses/subject07_listening_fmri_data_trn.hdf', errno = 2, error message = 'No such file or directory', flags = 0, o_flags = 0)",
     "output_type": "error",
     "traceback": [
      "\u001B[31m---------------------------------------------------------------------------\u001B[39m",
      "\u001B[31mFileNotFoundError\u001B[39m                         Traceback (most recent call last)",
      "\u001B[36mCell\u001B[39m\u001B[36m \u001B[39m\u001B[32mIn[5]\u001B[39m\u001B[32m, line 1\u001B[39m\n\u001B[32m----> \u001B[39m\u001B[32m1\u001B[39m Y, n_samples_train, run_onsets = \u001B[43mload_brain_data\u001B[49m\u001B[43m(\u001B[49m\u001B[43mdata_dir\u001B[49m\u001B[43m,\u001B[49m\u001B[43m \u001B[49m\u001B[43msubject\u001B[49m\u001B[43m,\u001B[49m\u001B[43m \u001B[49m\u001B[43mmodality\u001B[49m\u001B[43m)\u001B[49m\n",
      "\u001B[36mFile \u001B[39m\u001B[32m~/PycharmProjects/compare_variance_residual/compare_variance_residual/fmri/features.py:14\u001B[39m, in \u001B[36mload_brain_data\u001B[39m\u001B[34m(data_dir, subject, modality, trim)\u001B[39m\n\u001B[32m     12\u001B[39m Y_train_filename = os.path.join(data_dir, \u001B[33m'\u001B[39m\u001B[33mresponses\u001B[39m\u001B[33m'\u001B[39m, \u001B[33mf\u001B[39m\u001B[33m'\u001B[39m\u001B[33msubject\u001B[39m\u001B[38;5;132;01m{\u001B[39;00msubject\u001B[38;5;132;01m:\u001B[39;00m\u001B[33m02\u001B[39m\u001B[38;5;132;01m}\u001B[39;00m\u001B[33m_\u001B[39m\u001B[38;5;132;01m{\u001B[39;00mmodality\u001B[38;5;132;01m}\u001B[39;00m\u001B[33m_fmri_data_trn.hdf\u001B[39m\u001B[33m'\u001B[39m)\n\u001B[32m     13\u001B[39m Y_test_filename = os.path.join(data_dir, \u001B[33m'\u001B[39m\u001B[33mresponses\u001B[39m\u001B[33m'\u001B[39m, \u001B[33mf\u001B[39m\u001B[33m'\u001B[39m\u001B[33msubject\u001B[39m\u001B[38;5;132;01m{\u001B[39;00msubject\u001B[38;5;132;01m:\u001B[39;00m\u001B[33m02\u001B[39m\u001B[38;5;132;01m}\u001B[39;00m\u001B[33m_\u001B[39m\u001B[38;5;132;01m{\u001B[39;00mmodality\u001B[38;5;132;01m}\u001B[39;00m\u001B[33m_fmri_data_val.hdf\u001B[39m\u001B[33m'\u001B[39m)\n\u001B[32m---> \u001B[39m\u001B[32m14\u001B[39m Y_train_hdf = \u001B[43mload_hdf5_array\u001B[49m\u001B[43m(\u001B[49m\u001B[43mY_train_filename\u001B[49m\u001B[43m)\u001B[49m\n\u001B[32m     15\u001B[39m Y_test_hdf = load_hdf5_array(Y_test_filename)\n\u001B[32m     17\u001B[39m run_onsets = [\u001B[32m0\u001B[39m]\n",
      "\u001B[36mFile \u001B[39m\u001B[32m~/PycharmProjects/compare_variance_residual/venv/lib/python3.12/site-packages/voxelwise_tutorials/io.py:157\u001B[39m, in \u001B[36mload_hdf5_array\u001B[39m\u001B[34m(file_name, key, slice)\u001B[39m\n\u001B[32m    139\u001B[39m \u001B[38;5;28;01mdef\u001B[39;00m\u001B[38;5;250m \u001B[39m\u001B[34mload_hdf5_array\u001B[39m(file_name, key=\u001B[38;5;28;01mNone\u001B[39;00m, \u001B[38;5;28mslice\u001B[39m=\u001B[38;5;28mslice\u001B[39m(\u001B[32m0\u001B[39m, \u001B[38;5;28;01mNone\u001B[39;00m)):\n\u001B[32m    140\u001B[39m \u001B[38;5;250m    \u001B[39m\u001B[33;03m\"\"\"Function to load data from an hdf file.\u001B[39;00m\n\u001B[32m    141\u001B[39m \n\u001B[32m    142\u001B[39m \u001B[33;03m    Parameters\u001B[39;00m\n\u001B[32m   (...)\u001B[39m\u001B[32m    155\u001B[39m \u001B[33;03m        Array, or dictionary of arrays (if `key` is None).\u001B[39;00m\n\u001B[32m    156\u001B[39m \u001B[33;03m    \"\"\"\u001B[39;00m\n\u001B[32m--> \u001B[39m\u001B[32m157\u001B[39m     \u001B[38;5;28;01mwith\u001B[39;00m \u001B[43mh5py\u001B[49m\u001B[43m.\u001B[49m\u001B[43mFile\u001B[49m\u001B[43m(\u001B[49m\u001B[43mfile_name\u001B[49m\u001B[43m,\u001B[49m\u001B[43m \u001B[49m\u001B[43mmode\u001B[49m\u001B[43m=\u001B[49m\u001B[33;43m'\u001B[39;49m\u001B[33;43mr\u001B[39;49m\u001B[33;43m'\u001B[39;49m\u001B[43m)\u001B[49m \u001B[38;5;28;01mas\u001B[39;00m hf:\n\u001B[32m    158\u001B[39m         \u001B[38;5;28;01mif\u001B[39;00m key \u001B[38;5;129;01mis\u001B[39;00m \u001B[38;5;28;01mNone\u001B[39;00m:\n\u001B[32m    159\u001B[39m             data = \u001B[38;5;28mdict\u001B[39m()\n",
      "\u001B[36mFile \u001B[39m\u001B[32m~/PycharmProjects/compare_variance_residual/venv/lib/python3.12/site-packages/h5py/_hl/files.py:564\u001B[39m, in \u001B[36mFile.__init__\u001B[39m\u001B[34m(self, name, mode, driver, libver, userblock_size, swmr, rdcc_nslots, rdcc_nbytes, rdcc_w0, track_order, fs_strategy, fs_persist, fs_threshold, fs_page_size, page_buf_size, min_meta_keep, min_raw_keep, locking, alignment_threshold, alignment_interval, meta_block_size, **kwds)\u001B[39m\n\u001B[32m    555\u001B[39m     fapl = make_fapl(driver, libver, rdcc_nslots, rdcc_nbytes, rdcc_w0,\n\u001B[32m    556\u001B[39m                      locking, page_buf_size, min_meta_keep, min_raw_keep,\n\u001B[32m    557\u001B[39m                      alignment_threshold=alignment_threshold,\n\u001B[32m    558\u001B[39m                      alignment_interval=alignment_interval,\n\u001B[32m    559\u001B[39m                      meta_block_size=meta_block_size,\n\u001B[32m    560\u001B[39m                      **kwds)\n\u001B[32m    561\u001B[39m     fcpl = make_fcpl(track_order=track_order, fs_strategy=fs_strategy,\n\u001B[32m    562\u001B[39m                      fs_persist=fs_persist, fs_threshold=fs_threshold,\n\u001B[32m    563\u001B[39m                      fs_page_size=fs_page_size)\n\u001B[32m--> \u001B[39m\u001B[32m564\u001B[39m     fid = \u001B[43mmake_fid\u001B[49m\u001B[43m(\u001B[49m\u001B[43mname\u001B[49m\u001B[43m,\u001B[49m\u001B[43m \u001B[49m\u001B[43mmode\u001B[49m\u001B[43m,\u001B[49m\u001B[43m \u001B[49m\u001B[43muserblock_size\u001B[49m\u001B[43m,\u001B[49m\u001B[43m \u001B[49m\u001B[43mfapl\u001B[49m\u001B[43m,\u001B[49m\u001B[43m \u001B[49m\u001B[43mfcpl\u001B[49m\u001B[43m,\u001B[49m\u001B[43m \u001B[49m\u001B[43mswmr\u001B[49m\u001B[43m=\u001B[49m\u001B[43mswmr\u001B[49m\u001B[43m)\u001B[49m\n\u001B[32m    566\u001B[39m \u001B[38;5;28;01mif\u001B[39;00m \u001B[38;5;28misinstance\u001B[39m(libver, \u001B[38;5;28mtuple\u001B[39m):\n\u001B[32m    567\u001B[39m     \u001B[38;5;28mself\u001B[39m._libver = libver\n",
      "\u001B[36mFile \u001B[39m\u001B[32m~/PycharmProjects/compare_variance_residual/venv/lib/python3.12/site-packages/h5py/_hl/files.py:238\u001B[39m, in \u001B[36mmake_fid\u001B[39m\u001B[34m(name, mode, userblock_size, fapl, fcpl, swmr)\u001B[39m\n\u001B[32m    236\u001B[39m     \u001B[38;5;28;01mif\u001B[39;00m swmr \u001B[38;5;129;01mand\u001B[39;00m swmr_support:\n\u001B[32m    237\u001B[39m         flags |= h5f.ACC_SWMR_READ\n\u001B[32m--> \u001B[39m\u001B[32m238\u001B[39m     fid = \u001B[43mh5f\u001B[49m\u001B[43m.\u001B[49m\u001B[43mopen\u001B[49m\u001B[43m(\u001B[49m\u001B[43mname\u001B[49m\u001B[43m,\u001B[49m\u001B[43m \u001B[49m\u001B[43mflags\u001B[49m\u001B[43m,\u001B[49m\u001B[43m \u001B[49m\u001B[43mfapl\u001B[49m\u001B[43m=\u001B[49m\u001B[43mfapl\u001B[49m\u001B[43m)\u001B[49m\n\u001B[32m    239\u001B[39m \u001B[38;5;28;01melif\u001B[39;00m mode == \u001B[33m'\u001B[39m\u001B[33mr+\u001B[39m\u001B[33m'\u001B[39m:\n\u001B[32m    240\u001B[39m     fid = h5f.open(name, h5f.ACC_RDWR, fapl=fapl)\n",
      "\u001B[36mFile \u001B[39m\u001B[32mh5py/_objects.pyx:54\u001B[39m, in \u001B[36mh5py._objects.with_phil.wrapper\u001B[39m\u001B[34m()\u001B[39m\n",
      "\u001B[36mFile \u001B[39m\u001B[32mh5py/_objects.pyx:55\u001B[39m, in \u001B[36mh5py._objects.with_phil.wrapper\u001B[39m\u001B[34m()\u001B[39m\n",
      "\u001B[36mFile \u001B[39m\u001B[32mh5py/h5f.pyx:102\u001B[39m, in \u001B[36mh5py.h5f.open\u001B[39m\u001B[34m()\u001B[39m\n",
      "\u001B[31mFileNotFoundError\u001B[39m: [Errno 2] Unable to synchronously open file (unable to open file: name = '../../data/responses/subject07_listening_fmri_data_trn.hdf', errno = 2, error message = 'No such file or directory', flags = 0, o_flags = 0)"
     ]
    }
   ],
   "execution_count": 5
  },
  {
   "metadata": {},
   "cell_type": "markdown",
   "source": "# Low level",
   "id": "7f3b7c06d7aad35"
  },
  {
   "metadata": {},
   "cell_type": "code",
   "outputs": [],
   "execution_count": null,
   "source": "low_level_path = os.path.join(get_result_path(modality, subject), f\"{low_level_feature}_scores.csv\")",
   "id": "1eceb5abb521d517"
  },
  {
   "metadata": {},
   "cell_type": "code",
   "outputs": [],
   "execution_count": null,
   "source": [
    "if not os.path.exists(low_level_path):\n",
    "    print(\"Running low level\")\n",
    "    X_low, n_samples_train = load_feature(data_dir, low_level_feature)\n",
    "    low_level_scores = run_ridge_pipeline(X_low, Y, n_samples_train, run_onsets, alphas,\n",
    "                                          number_of_delays, n_targets_batch, n_alphas_batch,\n",
    "                                          n_targets_batch_refit)\n",
    "    low_level_scores.to_csv(low_level_path, index=False)\n",
    "else:\n",
    "    print(\"Loading low level\")\n",
    "    low_level_scores = pd.read_csv(low_level_path)"
   ],
   "id": "2621e999c2c000e2"
  }
 ],
 "metadata": {
  "kernelspec": {
   "display_name": "Python 3",
   "language": "python",
   "name": "python3"
  },
  "language_info": {
   "codemirror_mode": {
    "name": "ipython",
    "version": 2
   },
   "file_extension": ".py",
   "mimetype": "text/x-python",
   "name": "python",
   "nbconvert_exporter": "python",
   "pygments_lexer": "ipython2",
   "version": "2.7.6"
  }
 },
 "nbformat": 4,
 "nbformat_minor": 5
}
