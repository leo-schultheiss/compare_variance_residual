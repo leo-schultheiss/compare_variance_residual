{
 "cells": [
  {
   "metadata": {},
   "cell_type": "code",
   "outputs": [],
   "execution_count": null,
   "source": [
    "import os\n",
    "\n",
    "import numpy as np\n",
    "import pandas as pd\n",
    "from himalaya.backend import set_backend\n",
    "from matplotlib import pyplot as plt\n",
    "from voxelwise_tutorials.viz import plot_flatmap_from_mapper\n",
    "\n",
    "from compare_variance_residual.fmri.features import load_feature, load_brain_data\n",
    "from compare_variance_residual.fmri.results import get_result_path\n",
    "from compare_variance_residual.fmri.ridge import run_ridge_pipeline"
   ],
   "id": "1dc50899e445c985"
  },
  {
   "metadata": {},
   "cell_type": "code",
   "outputs": [],
   "execution_count": null,
   "source": [
    "data_dir = \"../../data\"\n",
    "backend = set_backend(\"torch_cuda\")"
   ],
   "id": "2b5150801541dad1"
  },
  {
   "metadata": {},
   "cell_type": "code",
   "outputs": [],
   "execution_count": null,
   "source": [
    "subject = 5\n",
    "modality = 'reading'\n",
    "low_level_feature = \"moten\""
   ],
   "id": "977987e4f33b7fa6"
  },
  {
   "metadata": {},
   "cell_type": "code",
   "outputs": [],
   "execution_count": null,
   "source": [
    "alphas = np.logspace(-5, 20, 26)\n",
    "number_of_delays = 4\n",
    "n_targets_batch = 100\n",
    "n_alphas_batch = 3\n",
    "n_targets_batch_refit = 50"
   ],
   "id": "95cbe87b5192fe40"
  },
  {
   "metadata": {},
   "cell_type": "markdown",
   "source": "# Load brain data",
   "id": "95580d73fc63ae65"
  },
  {
   "metadata": {},
   "cell_type": "code",
   "outputs": [],
   "execution_count": null,
   "source": "mapper_path = os.path.join(\"../../data\", 'mappers', f\"subject{subject:02}_mappers.hdf\")",
   "id": "9bdb7878e62497fe"
  },
  {
   "metadata": {},
   "cell_type": "code",
   "outputs": [],
   "execution_count": null,
   "source": [
    "Y, n_samples_train, run_onsets, ev = load_brain_data(data_dir, subject, modality)\n",
    "print(Y.shape)\n",
    "print(n_samples_train)\n",
    "print(Y.shape[0] - n_samples_train)"
   ],
   "id": "89b5822d8a932abf"
  },
  {
   "metadata": {},
   "cell_type": "markdown",
   "source": "# Low level",
   "id": "b390df968c7e9349"
  },
  {
   "metadata": {},
   "cell_type": "code",
   "outputs": [],
   "execution_count": null,
   "source": [
    "X_low, n_samples_train = load_feature(data_dir, low_level_feature)\n",
    "print(X_low.shape)\n",
    "print(n_samples_train)\n",
    "print(X_low.shape[0] - n_samples_train)"
   ],
   "id": "8eecf5fd4e3bd06f"
  },
  {
   "metadata": {},
   "cell_type": "code",
   "outputs": [],
   "execution_count": null,
   "source": "low_level_path = os.path.join(get_result_path(modality, subject), f\"{low_level_feature}_scores.csv\")",
   "id": "bb435f01e84a38b8"
  },
  {
   "metadata": {},
   "cell_type": "code",
   "outputs": [],
   "execution_count": null,
   "source": [
    "if not os.path.exists(low_level_path):\n",
    "    low_level_scores = run_ridge_pipeline(X_low, Y, n_samples_train, run_onsets, alphas,\n",
    "                                          number_of_delays, n_targets_batch, n_alphas_batch,\n",
    "                                          n_targets_batch_refit)\n",
    "    low_level_scores.to_csv(low_level_path, index=False)\n",
    "else:\n",
    "    print(\"Loading low level\")\n",
    "    low_level_scores = pd.read_csv(low_level_path)"
   ],
   "id": "a7ff139c7efd54be"
  },
  {
   "metadata": {},
   "cell_type": "code",
   "outputs": [],
   "execution_count": null,
   "source": [
    "corr = low_level_scores['correlation_score']\n",
    "corr = np.nan_to_num(corr)\n",
    "plot_flatmap_from_mapper(corr, mapper_path, with_curvature=True, vmin=0,\n",
    "                         vmax=np.max(corr), colorbar_location=[0.75, 0.05, 0.2, 0.05], cmap='magma')\n",
    "plt.show()"
   ],
   "id": "de665f9c4898f4e4"
  },
  {
   "metadata": {},
   "cell_type": "code",
   "outputs": [],
   "execution_count": null,
   "source": "",
   "id": "ce10c330ca73348b"
  }
 ],
 "metadata": {
  "kernelspec": {
   "display_name": "Python 3",
   "language": "python",
   "name": "python3"
  },
  "language_info": {
   "codemirror_mode": {
    "name": "ipython",
    "version": 2
   },
   "file_extension": ".py",
   "mimetype": "text/x-python",
   "name": "python",
   "nbconvert_exporter": "python",
   "pygments_lexer": "ipython2",
   "version": "2.7.6"
  }
 },
 "nbformat": 4,
 "nbformat_minor": 5
}
