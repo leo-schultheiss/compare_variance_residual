{
 "cells": [
  {
   "metadata": {},
   "cell_type": "code",
   "outputs": [],
   "execution_count": null,
   "source": [
    "import numpy as np\n",
    "from matplotlib import pyplot as plt\n",
    "import simplstyles"
   ],
   "id": "1496e1a92294730e"
  },
  {
   "metadata": {},
   "cell_type": "code",
   "outputs": [],
   "execution_count": null,
   "source": "plt.style.use('nord-light-talk')",
   "id": "1e826182f4ebab46"
  },
  {
   "metadata": {},
   "cell_type": "code",
   "outputs": [],
   "execution_count": null,
   "source": [
    "noise_target = 0.1\n",
    "scalars = [1 / 3, 1 / 3, 1 / 3]"
   ],
   "id": "ab36c406909516e4"
  },
  {
   "metadata": {},
   "cell_type": "code",
   "outputs": [],
   "execution_count": null,
   "source": [
    "theoretical_scores = np.array(scalars) * (1 - noise_target)\n",
    "\n",
    "theoretical_scores_cum = np.cumsum(theoretical_scores)\n",
    "\n",
    "alphas_labels = [f\"Alpha {i + 1}\" for i in range(len(scalars))]\n",
    "\n",
    "# Plot the third set of bars stacked on top\n",
    "bars3 = plt.barh([r\"Variance Explained by $X_2$\"], theoretical_scores / sum(theoretical_scores),\n",
    "                 left=[0] + list(theoretical_scores_cum[:-1] / 1.1),\n",
    "                 color=[\"C3\", \"C6\", \"C4\", \"C0\"], alpha=0.7)\n",
    "for i, (bar, n) in enumerate(zip(bars3, (theoretical_scores / sum(theoretical_scores)))):\n",
    "    plt.text(bar.get_x() + bar.get_width() / 2, bar.get_y() + bar.get_height() / 2,\n",
    "             f\"{scalar:.2f}\\n({[r\"$\\mathbf{A}$\", r\"$\\mathbf{B}$\", r\"$\\mathbf{C}$\", 'Noise'][i]})\",\n",
    "             ha='center', va='center', fontsize=10)\n",
    "\n",
    "# Plot the second set of bars stacked on top\n",
    "bars2 = plt.barh([\"After Adding Noise\"], theoretical_scores, left=[0] + list(theoretical_scores_cum[:-1]),\n",
    "                 color=[\"C3\", \"C6\", \"C4\", \"C0\"], alpha=0.7)\n",
    "for i, (bar, scalar) in enumerate(zip(bars2, theoretical_scores)):\n",
    "    plt.text(bar.get_x() + bar.get_width() / 2, bar.get_y() + bar.get_height() / 2,\n",
    "             f\"{scalar:.2f}\\n({[r\"$\\mathbf{A}$\", r\"$\\mathbf{B}$\", r\"$\\mathbf{C}$\", 'Noise'][i]})\",\n",
    "             ha='center', va='center', fontsize=10)\n",
    "\n",
    "# Plot the first set of bars\n",
    "bars1 = plt.barh([\"True variance Explained\"], theoretical_scores, left=[0] + list(theoretical_scores_cum[:-1]), color=[\"C3\", \"C6\", \"C4\"],\n",
    "                 alpha=0.7)\n",
    "for i, (bar, theoretical_scores) in enumerate(zip(bars1, scalars)):\n",
    "    plt.text(bar.get_x() + bar.get_width() / 2, bar.get_y() + bar.get_height() / 2,\n",
    "             f\"{scalar:.2f}\\n({[r\"$\\mathbf{A}$\", r\"$\\mathbf{B}$\", r\"$\\mathbf{C}$\"][i]})\",\n",
    "             ha='center', va='center', fontsize=10)\n",
    "\n",
    "# plt.title(r\"Cumulative Contributions to Variance of $Y$\")\n",
    "plt.xlabel(\"Variance Explained\")\n",
    "plt.show()"
   ],
   "id": "ff13eb38db8ee7a0"
  }
 ],
 "metadata": {
  "kernelspec": {
   "display_name": "Python 3",
   "language": "python",
   "name": "python3"
  },
  "language_info": {
   "codemirror_mode": {
    "name": "ipython",
    "version": 2
   },
   "file_extension": ".py",
   "mimetype": "text/x-python",
   "name": "python",
   "nbconvert_exporter": "python",
   "pygments_lexer": "ipython2",
   "version": "2.7.6"
  }
 },
 "nbformat": 4,
 "nbformat_minor": 5
}
