{
 "cells": [
  {
   "metadata": {},
   "cell_type": "code",
   "outputs": [],
   "execution_count": null,
   "source": [
    "import os\n",
    "import random\n",
    "import warnings\n",
    "\n",
    "import numpy as np\n",
    "import pandas as pd\n",
    "import seaborn as sns\n",
    "from himalaya.backend import set_backend\n",
    "from matplotlib import pyplot as plt\n",
    "import simplstyles\n",
    "\n",
    "from compare_variance_residual.residual import residual_method\n",
    "from compare_variance_residual.simulation import generate_dataset\n",
    "from compare_variance_residual.variance_partitioning import variance_partitioning"
   ],
   "id": "25a89634e3c05e08"
  },
  {
   "metadata": {},
   "cell_type": "code",
   "outputs": [],
   "execution_count": null,
   "source": [
    "def get_path(alphas, cv, n_targets):\n",
    "    path = os.path.join(\"results\", f\"targets={n_targets}\", f\"cv={cv}\",\n",
    "                        f\"alphas={alphas.min()},{alphas.max()},{len(alphas)}\", \"varying dimensions\")\n",
    "    os.makedirs(path, exist_ok=True)\n",
    "    return path"
   ],
   "id": "88228efeef274d57"
  },
  {
   "metadata": {},
   "cell_type": "code",
   "outputs": [],
   "execution_count": null,
   "source": [
    "def save_scores(d_list_list, scalars, n_targets, n_samples, noise_target, cv, alphas):\n",
    "    path = get_path(alphas, cv, n_targets)\n",
    "    for d_list in d_list_list:\n",
    "        print(d_list)\n",
    "        csv_path = os.path.join(path, f\"scores_{d_list}.csv\")\n",
    "        scores = pd.DataFrame()\n",
    "        if os.path.exists(csv_path):\n",
    "            print(\"skipping, already exists\")\n",
    "            continue\n",
    "        Xs, Y = generate_dataset(d_list, scalars, n_targets, n_samples, noise_target)\n",
    "        print(\"data generated\")\n",
    "        x1_score, x2_score, joint_score, x1_and_x2_score, vp_x1_unique_score, vp_x2_unique_score = variance_partitioning(\n",
    "            Xs, Y, n_samples_train, alphas, cv)\n",
    "        print(\"variance partitioning done\")\n",
    "\n",
    "        scores[\"x1_score\"] = x1_score\n",
    "        scores[\"x2_score\"] = x2_score\n",
    "        scores[\"vp_joint_score\"] = joint_score\n",
    "        scores[\"vp_shared_score\"] = x1_and_x2_score\n",
    "        scores[\"vp_x1_unique_score\"] = vp_x1_unique_score\n",
    "        scores[\"vp_x2_unique_score\"] = vp_x2_unique_score\n",
    "        del x1_score, x2_score, joint_score, x1_and_x2_score, vp_x1_unique_score, vp_x2_unique_score\n",
    "\n",
    "        x2_to_x1_score, x1_to_x2_score, rm_x1_unique_score, rm_x2_unique_score = residual_method(\n",
    "            Xs, Y, n_samples_train, alphas, cv)\n",
    "        print(\"residual method done\")\n",
    "        scores[\"rm_x2_to_x1_score\"] = np.concatenate(\n",
    "            [x2_to_x1_score, np.full(len(rm_x1_unique_score) - len(x2_to_x1_score), np.nan)])\n",
    "        scores[\"rm_x1_to_x2_score\"] = np.concatenate(\n",
    "            [x1_to_x2_score, np.full(len(rm_x1_unique_score) - len(x1_to_x2_score), np.nan)])\n",
    "        scores[\"rm_x1_unique_score\"] = rm_x1_unique_score\n",
    "        scores[\"rm_x2_unique_score\"] = rm_x2_unique_score\n",
    "        del x2_to_x1_score, x1_to_x2_score, rm_x1_unique_score, rm_x2_unique_score\n",
    "        del Xs, Y\n",
    "        scores.to_csv(csv_path, index=False)"
   ],
   "id": "7eda0a66ac04f834"
  },
  {
   "metadata": {},
   "cell_type": "markdown",
   "source": "# Save scores for varying Dimensions",
   "id": "d2321a434f69ad5f"
  },
  {
   "metadata": {},
   "cell_type": "code",
   "outputs": [],
   "execution_count": null,
   "source": [
    "backend = set_backend(\"cupy\", on_error=\"warn\")\n",
    "warnings.filterwarnings(\"ignore\")\n",
    "random.seed(42)\n",
    "plt.style.use('nord-light-talk')"
   ],
   "id": "79aff4547e4eeb3a"
  },
  {
   "metadata": {},
   "cell_type": "code",
   "outputs": [],
   "execution_count": null,
   "source": [
    "d_list = [100, 100, 100]\n",
    "n_targets = 10000\n",
    "n_samples_train = 10000\n",
    "n_samples_test = 100\n",
    "n_samples = n_samples_train + n_samples_test\n",
    "noise_target = 0.1\n",
    "scalars = [1 / 3, 1 / 3, 1 / 3]\n",
    "\n",
    "cv = 10\n",
    "alphas = np.logspace(-5, 5, 10)"
   ],
   "id": "8b88cba9b45cc80d"
  },
  {
   "metadata": {},
   "cell_type": "code",
   "outputs": [],
   "execution_count": null,
   "source": [
    "varying_dim = np.logspace(1, 3, 10, dtype=int)\n",
    "varying_dim = list(map(int, varying_dim))"
   ],
   "id": "e9c94b9f7b2b446e"
  },
  {
   "metadata": {},
   "cell_type": "markdown",
   "source": "## Shared dimension",
   "id": "63665ae6be05ef85"
  },
  {
   "metadata": {},
   "cell_type": "code",
   "outputs": [],
   "execution_count": null,
   "source": "d_list_list = [[dim, d_list[1], d_list[2]] for dim in varying_dim]",
   "id": "8160beda56eb04cb"
  },
  {
   "metadata": {},
   "cell_type": "code",
   "outputs": [],
   "execution_count": null,
   "source": "save_scores(d_list_list, scalars, n_targets, n_samples, noise_target, cv, alphas)",
   "id": "10237d2db1720c13"
  },
  {
   "metadata": {},
   "cell_type": "markdown",
   "source": "## Unique dimension",
   "id": "53a32cd6d08be1e4"
  },
  {
   "metadata": {},
   "cell_type": "code",
   "outputs": [],
   "execution_count": null,
   "source": "d_list_list = [[d_list[0], int(dim), d_list[2]] for dim in varying_dim]",
   "id": "1c9fc2713867885"
  },
  {
   "metadata": {},
   "cell_type": "code",
   "outputs": [],
   "execution_count": null,
   "source": "save_scores(d_list_list, d_list, n_targets, n_samples, noise_target, cv, alphas)",
   "id": "68ea08572fdebe38"
  },
  {
   "metadata": {},
   "cell_type": "markdown",
   "source": "# Plot scores",
   "id": "cb683186950dbaf9"
  },
  {
   "metadata": {},
   "cell_type": "markdown",
   "source": "## Shared dimension",
   "id": "c97a7f509a01af3f"
  },
  {
   "metadata": {},
   "cell_type": "code",
   "outputs": [],
   "execution_count": null,
   "source": [
    "vp = pd.DataFrame()\n",
    "rm = pd.DataFrame()\n",
    "\n",
    "for i, dim in enumerate(varying_dim):\n",
    "    shared_dims = [dim, d_list[1], d_list[2]]\n",
    "    scores = pd.read_csv(os.path.join(get_path(alphas, cv, n_targets), f\"scores_{shared_dims}.csv\"))\n",
    "\n",
    "    vp_scores = pd.DataFrame({\n",
    "        'shared_dim': [dim] * len(scores),\n",
    "        'vp_x1_unique_score': scores['vp_x1_unique_score'],\n",
    "    }, index=range(len(scores)))\n",
    "\n",
    "    rm_scores = pd.DataFrame({\n",
    "        'shared_dim': [dim] * len(scores),\n",
    "        'rm_x1_unique_score': scores['rm_x1_unique_score'],\n",
    "    }, index=range(len(scores)))\n",
    "\n",
    "    vp = pd.concat([vp, vp_scores], ignore_index=True)\n",
    "    rm = pd.concat([rm, rm_scores], ignore_index=True)\n",
    "rm"
   ],
   "id": "66d7d07735913c6a"
  },
  {
   "metadata": {},
   "cell_type": "code",
   "outputs": [],
   "execution_count": null,
   "source": [
    "sns.lineplot(data=vp, x='shared_dim', y='vp_x1_unique_score', label='Variance Partitioning', errorbar='sd')\n",
    "sns.lineplot(data=rm, x='shared_dim', y='rm_x1_unique_score', label='Residual Method', errorbar='sd')\n",
    "plt.axhline(scalars[1], linestyle='--', label='True Variance')\n",
    "plt.xlabel(r\"$d_\\mathbf{A}$\")\n",
    "plt.ylabel(r\"$R^2$\")\n",
    "plt.xscale('log')\n",
    "plt.legend()"
   ],
   "id": "43fa2b61f891ff61"
  },
  {
   "metadata": {},
   "cell_type": "markdown",
   "source": "## Unique dimension",
   "id": "1d63efc59c63f8d2"
  },
  {
   "metadata": {},
   "cell_type": "code",
   "outputs": [],
   "execution_count": null,
   "source": [
    "vp = pd.DataFrame()\n",
    "rm = pd.DataFrame()\n",
    "\n",
    "for i, dim in enumerate(varying_dim):\n",
    "    unique_dims = [d_list[0], dim, d_list[2]]\n",
    "    scores = pd.read_csv(os.path.join(get_path(alphas, cv, n_targets), f\"scores_{unique_dims}.csv\"))\n",
    "\n",
    "\n",
    "    vp_scores = pd.DataFrame({\n",
    "        'unique_dim': [dim] * len(scores),\n",
    "        'vp_x1_unique_score': scores['vp_x1_unique_score'],\n",
    "    }, index=range(len(scores)))\n",
    "\n",
    "    rm_scores = pd.DataFrame({\n",
    "        'unique_dim': [dim]* len(scores),\n",
    "        'rm_x1_unique_score': scores['rm_x1_unique_score'],\n",
    "    }, index=range(len(scores)))\n",
    "\n",
    "    vp = pd.concat([vp, vp_scores], ignore_index=True)\n",
    "    rm = pd.concat([rm, rm_scores], ignore_index=True)"
   ],
   "id": "b4e25c02aa702e20"
  },
  {
   "metadata": {},
   "cell_type": "code",
   "outputs": [],
   "execution_count": null,
   "source": [
    "sns.lineplot(data=vp, x='unique_dim', y='vp_x1_unique_score', label='Variance Partitioning', errorbar='sd')\n",
    "sns.lineplot(data=rm, x='unique_dim', y='rm_x1_unique_score', label='Residual Method', errorbar='sd')\n",
    "plt.axhline(scalars[1], linestyle='--', label='True Variance')\n",
    "plt.xlabel(r\"$d_\\mathbf{B}$\")\n",
    "plt.ylabel(r\"$R^2$\")\n",
    "plt.xscale('log')\n",
    "plt.legend()"
   ],
   "id": "8c77ba05c7a2718"
  }
 ],
 "metadata": {
  "kernelspec": {
   "display_name": "Python 3",
   "language": "python",
   "name": "python3"
  },
  "language_info": {
   "codemirror_mode": {
    "name": "ipython",
    "version": 2
   },
   "file_extension": ".py",
   "mimetype": "text/x-python",
   "name": "python",
   "nbconvert_exporter": "python",
   "pygments_lexer": "ipython2",
   "version": "2.7.6"
  }
 },
 "nbformat": 4,
 "nbformat_minor": 5
}
