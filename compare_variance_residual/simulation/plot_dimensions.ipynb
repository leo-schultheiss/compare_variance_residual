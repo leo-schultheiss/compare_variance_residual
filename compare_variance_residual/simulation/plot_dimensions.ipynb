{
 "cells": [
  {
   "metadata": {
    "ExecuteTime": {
     "end_time": "2025-03-21T10:55:44.573106Z",
     "start_time": "2025-03-21T10:55:44.440695Z"
    }
   },
   "cell_type": "code",
   "source": [
    "import os\n",
    "import random\n",
    "import warnings\n",
    "\n",
    "import numpy as np\n",
    "import pandas as pd\n",
    "import seaborn as sns\n",
    "from himalaya.backend import set_backend\n",
    "from matplotlib import pyplot as plt\n",
    "import simplstyles\n",
    "\n",
    "from residual_method import residual_method\n",
    "from dataset import generate_dataset\n",
    "from variance_partitioning import variance_partitioning"
   ],
   "id": "4bed5994b7434607",
   "outputs": [],
   "execution_count": 1
  },
  {
   "metadata": {
    "ExecuteTime": {
     "end_time": "2025-03-21T10:55:44.782507Z",
     "start_time": "2025-03-21T10:55:44.779247Z"
    }
   },
   "cell_type": "code",
   "source": [
    "def get_path():\n",
    "    path = os.path.join(\"results\", \"varying dimensions\")\n",
    "    os.makedirs(path, exist_ok=True)\n",
    "    return path"
   ],
   "id": "bef0a18e84d89542",
   "outputs": [],
   "execution_count": 2
  },
  {
   "metadata": {
    "ExecuteTime": {
     "end_time": "2025-03-21T10:55:44.931174Z",
     "start_time": "2025-03-21T10:55:44.925113Z"
    }
   },
   "cell_type": "code",
   "source": [
    "def save_scores(d_list_list, n_samples=20000, n_samples_train=10000):\n",
    "    path = get_path()\n",
    "    for d_list in d_list_list:\n",
    "        print(d_list)\n",
    "        csv_path = os.path.join(path, f\"scores_{d_list}.csv\")\n",
    "        scores = pd.DataFrame()\n",
    "        if os.path.exists(csv_path):\n",
    "            print(\"skipping, already exists\")\n",
    "            continue\n",
    "        Xs, Y = generate_dataset(d_list=d_list, n_samples=n_samples)\n",
    "        print(\"data generated\")\n",
    "        x1_score, x2_score, joint_score, x1_and_x2_score, vp_x1_unique_score, vp_x2_unique_score = variance_partitioning(\n",
    "            Xs, Y, n_samples_train)\n",
    "        print(\"variance partitioning done\")\n",
    "\n",
    "        scores[\"x1_score\"] = x1_score\n",
    "        scores[\"x2_score\"] = x2_score\n",
    "        scores[\"vp_joint_score\"] = joint_score\n",
    "        scores[\"vp_shared_score\"] = x1_and_x2_score\n",
    "        scores[\"vp_x1_unique_score\"] = vp_x1_unique_score\n",
    "        scores[\"vp_x2_unique_score\"] = vp_x2_unique_score\n",
    "        del x1_score, x2_score, joint_score, x1_and_x2_score, vp_x1_unique_score, vp_x2_unique_score\n",
    "\n",
    "        x2_to_x1_score, x1_to_x2_score, rm_x1_unique_score, rm_x2_unique_score = residual_method(\n",
    "            Xs, Y, n_samples_train)\n",
    "        print(\"residual method done\")\n",
    "        scores[\"rm_x2_to_x1_score\"] = np.concatenate(\n",
    "            [x2_to_x1_score, np.full(len(rm_x1_unique_score) - len(x2_to_x1_score), np.nan)])\n",
    "        scores[\"rm_x1_to_x2_score\"] = np.concatenate(\n",
    "            [x1_to_x2_score, np.full(len(rm_x1_unique_score) - len(x1_to_x2_score), np.nan)])\n",
    "        scores[\"rm_x1_unique_score\"] = rm_x1_unique_score\n",
    "        scores[\"rm_x2_unique_score\"] = rm_x2_unique_score\n",
    "        del x2_to_x1_score, x1_to_x2_score, rm_x1_unique_score, rm_x2_unique_score\n",
    "\n",
    "        # ridge residual\n",
    "        x2_to_x1_ridge_score, x1_to_x2_ridge_score, rm_ridge_x1_unique_score, rm_ridge_x2_unique_score = residual_method(\n",
    "            Xs, Y, n_samples_train, use_ols=False)\n",
    "        print(\"residual method done\")\n",
    "        scores[\"rm_ridge_x2_to_x1_score\"] = np.concatenate(\n",
    "            [x2_to_x1_ridge_score, np.full(len(rm_ridge_x1_unique_score) - len(x2_to_x1_ridge_score), np.nan)])\n",
    "        scores[\"rm_ridge_x1_to_x2_score\"] = np.concatenate(\n",
    "            [x1_to_x2_ridge_score, np.full(len(rm_ridge_x1_unique_score) - len(x1_to_x2_ridge_score), np.nan)])\n",
    "        scores[\"rm_ridge_x1_unique_score\"] = rm_ridge_x1_unique_score\n",
    "        scores[\"rm_ridge_x2_unique_score\"] = rm_ridge_x2_unique_score\n",
    "        del x2_to_x1_ridge_score, x1_to_x2_ridge_score, rm_ridge_x1_unique_score, rm_ridge_x2_unique_score\n",
    "\n",
    "        del Xs, Y\n",
    "        scores.to_csv(csv_path, index=False)"
   ],
   "id": "6d3e2c9ec8a32d02",
   "outputs": [],
   "execution_count": 3
  },
  {
   "metadata": {},
   "cell_type": "markdown",
   "source": "# Save scores for varying Dimensions",
   "id": "526a328bd0075b9f"
  },
  {
   "metadata": {
    "ExecuteTime": {
     "end_time": "2025-03-21T10:55:48.438980Z",
     "start_time": "2025-03-21T10:55:46.700648Z"
    }
   },
   "cell_type": "code",
   "source": [
    "backend = set_backend(\"torch_cuda\", on_error=\"warn\")\n",
    "warnings.filterwarnings(\"ignore\")\n",
    "random.seed(42)\n",
    "plt.style.use('nord-light-talk')"
   ],
   "id": "fcba841de6abb55a",
   "outputs": [],
   "execution_count": 4
  },
  {
   "metadata": {
    "ExecuteTime": {
     "end_time": "2025-03-21T10:55:48.443678Z",
     "start_time": "2025-03-21T10:55:48.440459Z"
    }
   },
   "cell_type": "code",
   "source": "d_list = [100, 100, 100]",
   "id": "2202753b02de636f",
   "outputs": [],
   "execution_count": 5
  },
  {
   "metadata": {
    "ExecuteTime": {
     "end_time": "2025-03-21T10:55:48.516323Z",
     "start_time": "2025-03-21T10:55:48.445055Z"
    }
   },
   "cell_type": "code",
   "source": [
    "varying_dim = np.logspace(1, 3, 20, dtype=int)\n",
    "varying_dim = list(map(int, varying_dim))"
   ],
   "id": "2e161f27aed0b36f",
   "outputs": [],
   "execution_count": 6
  },
  {
   "metadata": {},
   "cell_type": "markdown",
   "source": "# Shared dimension",
   "id": "6bd6124efb190b05"
  },
  {
   "metadata": {
    "ExecuteTime": {
     "end_time": "2025-03-21T10:55:53.223345Z",
     "start_time": "2025-03-21T10:55:53.220829Z"
    }
   },
   "cell_type": "code",
   "source": "d_list_list = [[dim, d_list[1], d_list[2]] for dim in varying_dim]",
   "id": "f8b1ebd6b349da6a",
   "outputs": [],
   "execution_count": 7
  },
  {
   "metadata": {
    "ExecuteTime": {
     "start_time": "2025-03-21T09:29:11.412286Z"
    }
   },
   "cell_type": "code",
   "source": "save_scores(d_list_list)",
   "id": "35b5ace844d8183c",
   "outputs": [
    {
     "name": "stdout",
     "output_type": "stream",
     "text": [
      "[10, 100, 100]\n",
      "data generated\n",
      "variance partitioning done\n",
      "residual method done\n",
      "residual method done\n",
      "[12, 100, 100]\n",
      "data generated\n",
      "variance partitioning done\n",
      "residual method done\n",
      "residual method done\n",
      "[16, 100, 100]\n",
      "data generated\n",
      "variance partitioning done\n",
      "residual method done\n",
      "residual method done\n",
      "[20, 100, 100]\n",
      "data generated\n",
      "variance partitioning done\n",
      "residual method done\n",
      "residual method done\n",
      "[26, 100, 100]\n",
      "data generated\n",
      "variance partitioning done\n",
      "residual method done\n",
      "residual method done\n",
      "[33, 100, 100]\n",
      "data generated\n",
      "variance partitioning done\n",
      "residual method done\n",
      "residual method done\n",
      "[42, 100, 100]\n",
      "data generated\n",
      "variance partitioning done\n",
      "residual method done\n",
      "residual method done\n",
      "[54, 100, 100]\n",
      "data generated\n",
      "variance partitioning done\n",
      "residual method done\n",
      "residual method done\n",
      "[69, 100, 100]\n",
      "data generated\n",
      "variance partitioning done\n",
      "residual method done\n",
      "residual method done\n",
      "[88, 100, 100]\n",
      "data generated\n",
      "variance partitioning done\n",
      "residual method done\n",
      "residual method done\n",
      "[112, 100, 100]\n",
      "data generated\n",
      "variance partitioning done\n",
      "residual method done\n",
      "residual method done\n",
      "[143, 100, 100]\n",
      "data generated\n",
      "variance partitioning done\n",
      "residual method done\n",
      "residual method done\n",
      "[183, 100, 100]\n",
      "data generated\n",
      "variance partitioning done\n",
      "residual method done\n",
      "residual method done\n",
      "[233, 100, 100]\n",
      "data generated\n",
      "variance partitioning done\n",
      "residual method done\n",
      "residual method done\n",
      "[297, 100, 100]\n",
      "data generated\n",
      "variance partitioning done\n",
      "residual method done\n",
      "residual method done\n",
      "[379, 100, 100]\n",
      "data generated\n",
      "variance partitioning done\n",
      "residual method done\n",
      "residual method done\n",
      "[483, 100, 100]\n",
      "data generated\n",
      "variance partitioning done\n",
      "residual method done\n",
      "residual method done\n",
      "[615, 100, 100]\n",
      "data generated\n",
      "variance partitioning done\n",
      "residual method done\n",
      "residual method done\n",
      "[784, 100, 100]\n",
      "data generated\n",
      "variance partitioning done\n",
      "residual method done\n",
      "residual method done\n",
      "[1000, 100, 100]\n",
      "data generated\n"
     ]
    }
   ],
   "execution_count": null
  },
  {
   "metadata": {
    "ExecuteTime": {
     "end_time": "2025-03-21T10:55:55.547012Z",
     "start_time": "2025-03-21T10:55:54.802707Z"
    }
   },
   "cell_type": "code",
   "source": [
    "vp_shared = pd.DataFrame()\n",
    "rm_shared = pd.DataFrame()\n",
    "rm_shared_ridge = pd.DataFrame()\n",
    "\n",
    "for i, dim in enumerate(varying_dim):\n",
    "    shared_dims = [dim, d_list[1], d_list[2]]\n",
    "    csv_path = os.path.join(get_path(), f\"scores_{shared_dims}.csv\")\n",
    "    if not os.path.exists(csv_path):\n",
    "        print(\"skipping, file does not exist\")\n",
    "        continue\n",
    "\n",
    "    scores = pd.read_csv(os.path.join(get_path(), f\"scores_{shared_dims}.csv\"))\n",
    "\n",
    "    vp_shared_scores = pd.DataFrame({\n",
    "        'shared_dim': [dim] * len(scores),\n",
    "        'vp_x1_unique_score': scores['vp_x1_unique_score'],\n",
    "    }, index=range(len(scores)))\n",
    "    rm_shared_scores = pd.DataFrame({\n",
    "        'shared_dim': [dim] * len(scores),\n",
    "        'rm_x1_unique_score': scores['rm_x1_unique_score'],\n",
    "    }, index=range(len(scores)))\n",
    "    rm_shared_ridge_scores = pd.DataFrame({\n",
    "        'shared_dim': [dim] * len(scores),\n",
    "        'rm_ridge_x1_unique_score': scores['rm_ridge_x1_unique_score'],\n",
    "    })\n",
    "\n",
    "    vp_shared = pd.concat([vp_shared, vp_shared_scores], ignore_index=True)\n",
    "    rm_shared = pd.concat([rm_shared, rm_shared_scores], ignore_index=True)\n",
    "    rm_shared_ridge = pd.concat([rm_shared_ridge, rm_shared_ridge_scores], ignore_index=True)\n",
    "rm_shared"
   ],
   "id": "29838487d6974cb4",
   "outputs": [
    {
     "name": "stdout",
     "output_type": "stream",
     "text": [
      "skipping, file does not exist\n"
     ]
    },
    {
     "data": {
      "text/plain": [
       "        shared_dim  rm_x1_unique_score\n",
       "0               10            0.501629\n",
       "1               10            0.505654\n",
       "2               10            0.515285\n",
       "3               10            0.515219\n",
       "4               10            0.511804\n",
       "...            ...                 ...\n",
       "189995         784            0.608991\n",
       "189996         784            0.587522\n",
       "189997         784            0.593155\n",
       "189998         784            0.577666\n",
       "189999         784            0.597224\n",
       "\n",
       "[190000 rows x 2 columns]"
      ],
      "text/html": [
       "<div>\n",
       "<style scoped>\n",
       "    .dataframe tbody tr th:only-of-type {\n",
       "        vertical-align: middle;\n",
       "    }\n",
       "\n",
       "    .dataframe tbody tr th {\n",
       "        vertical-align: top;\n",
       "    }\n",
       "\n",
       "    .dataframe thead th {\n",
       "        text-align: right;\n",
       "    }\n",
       "</style>\n",
       "<table border=\"1\" class=\"dataframe\">\n",
       "  <thead>\n",
       "    <tr style=\"text-align: right;\">\n",
       "      <th></th>\n",
       "      <th>shared_dim</th>\n",
       "      <th>rm_x1_unique_score</th>\n",
       "    </tr>\n",
       "  </thead>\n",
       "  <tbody>\n",
       "    <tr>\n",
       "      <th>0</th>\n",
       "      <td>10</td>\n",
       "      <td>0.501629</td>\n",
       "    </tr>\n",
       "    <tr>\n",
       "      <th>1</th>\n",
       "      <td>10</td>\n",
       "      <td>0.505654</td>\n",
       "    </tr>\n",
       "    <tr>\n",
       "      <th>2</th>\n",
       "      <td>10</td>\n",
       "      <td>0.515285</td>\n",
       "    </tr>\n",
       "    <tr>\n",
       "      <th>3</th>\n",
       "      <td>10</td>\n",
       "      <td>0.515219</td>\n",
       "    </tr>\n",
       "    <tr>\n",
       "      <th>4</th>\n",
       "      <td>10</td>\n",
       "      <td>0.511804</td>\n",
       "    </tr>\n",
       "    <tr>\n",
       "      <th>...</th>\n",
       "      <td>...</td>\n",
       "      <td>...</td>\n",
       "    </tr>\n",
       "    <tr>\n",
       "      <th>189995</th>\n",
       "      <td>784</td>\n",
       "      <td>0.608991</td>\n",
       "    </tr>\n",
       "    <tr>\n",
       "      <th>189996</th>\n",
       "      <td>784</td>\n",
       "      <td>0.587522</td>\n",
       "    </tr>\n",
       "    <tr>\n",
       "      <th>189997</th>\n",
       "      <td>784</td>\n",
       "      <td>0.593155</td>\n",
       "    </tr>\n",
       "    <tr>\n",
       "      <th>189998</th>\n",
       "      <td>784</td>\n",
       "      <td>0.577666</td>\n",
       "    </tr>\n",
       "    <tr>\n",
       "      <th>189999</th>\n",
       "      <td>784</td>\n",
       "      <td>0.597224</td>\n",
       "    </tr>\n",
       "  </tbody>\n",
       "</table>\n",
       "<p>190000 rows × 2 columns</p>\n",
       "</div>"
      ]
     },
     "execution_count": 8,
     "metadata": {},
     "output_type": "execute_result"
    }
   ],
   "execution_count": 8
  },
  {
   "metadata": {
    "ExecuteTime": {
     "end_time": "2025-03-21T10:55:57.889528Z",
     "start_time": "2025-03-21T10:55:57.316149Z"
    }
   },
   "cell_type": "code",
   "source": [
    "sns.lineplot(data=rm_shared_ridge, x='shared_dim', y='rm_ridge_x1_unique_score', label='Residual Method (Ridge)',\n",
    "             errorbar='sd')\n",
    "sns.lineplot(data=rm_shared, x='shared_dim', y='rm_x1_unique_score', label='Residual Method (OLS)', errorbar='sd')\n",
    "sns.lineplot(data=vp_shared, x='shared_dim', y='vp_x1_unique_score', label='Variance Partitioning', errorbar='sd')\n",
    "plt.axhline(0.3, linestyle='--', label='Expected Value', color=\"C3\")\n",
    "plt.xlabel(r\"$d_\\mathbf{A}$\")\n",
    "plt.ylabel(r\"$R^2$ (mean and sd)\")\n",
    "plt.xscale('log')\n",
    "plt.legend()"
   ],
   "id": "a2b2ccafe93e09cf",
   "outputs": [
    {
     "data": {
      "text/plain": [
       "<matplotlib.legend.Legend at 0x7f1af7e7fd70>"
      ]
     },
     "execution_count": 9,
     "metadata": {},
     "output_type": "execute_result"
    },
    {
     "data": {
      "text/plain": [
       "<Figure size 640x480 with 1 Axes>"
      ],
      "image/png": "[encoded data removed]"
     },
     "metadata": {},
     "output_type": "display_data"
    }
   ],
   "execution_count": 9
  },
  {
   "metadata": {},
   "cell_type": "markdown",
   "source": "# Unique dimension",
   "id": "61f9184e6620a8f8"
  },
  {
   "metadata": {},
   "cell_type": "code",
   "outputs": [],
   "execution_count": null,
   "source": "d_list_list = [[d_list[0], int(dim), d_list[2]] for dim in varying_dim]",
   "id": "bf0dbe4a2e087840"
  },
  {
   "metadata": {},
   "cell_type": "code",
   "outputs": [],
   "execution_count": null,
   "source": "save_scores(d_list_list)",
   "id": "7dcfa567df3cae45"
  },
  {
   "metadata": {},
   "cell_type": "code",
   "source": [
    "vp_unique = pd.DataFrame()\n",
    "rm_unique = pd.DataFrame()\n",
    "rm_unique_ridge = pd.DataFrame()\n",
    "\n",
    "for i, dim in enumerate(varying_dim):\n",
    "    unique_dims = [d_list[0], dim, d_list[2]]\n",
    "    scores = pd.read_csv(os.path.join(get_path(), f\"scores_{unique_dims}.csv\"))\n",
    "\n",
    "    vp_unique_scores = pd.DataFrame({\n",
    "        'unique_dim': [dim] * len(scores),\n",
    "        'vp_x1_unique_score': scores['vp_x1_unique_score'],\n",
    "    }, index=range(len(scores)))\n",
    "\n",
    "    rm_unique_scores = pd.DataFrame({\n",
    "        'unique_dim': [dim] * len(scores),\n",
    "        'rm_x1_unique_score': scores['rm_x1_unique_score'],\n",
    "    }, index=range(len(scores)))\n",
    "\n",
    "    rm_unique_ridge_scores = pd.DataFrame({\n",
    "        'unique_dim': [dim] * len(scores),\n",
    "        'rm_ridge_x1_unique_score': scores['rm_ridge_x1_unique_score'],\n",
    "    }, index=range(len(scores)))\n",
    "\n",
    "    vp_unique = pd.concat([vp_unique, vp_unique_scores], ignore_index=True)\n",
    "    rm_unique = pd.concat([rm_unique, rm_unique_scores], ignore_index=True)\n",
    "    rm_unique_ridge = pd.concat([rm_unique_ridge, rm_unique_ridge_scores], ignore_index=True)"
   ],
   "id": "66258bf6cf60f9eb",
   "outputs": [],
   "execution_count": null
  },
  {
   "metadata": {},
   "cell_type": "markdown",
   "source": "# combine shared and unique dimensions",
   "id": "9203c48cc3469b7d"
  },
  {
   "metadata": {},
   "cell_type": "code",
   "source": [
    "sns.lineplot(data=rm_unique_ridge, x='unique_dim', y='rm_ridge_x1_unique_score', label='Residual Method (Ridge)',\n",
    "             errorbar='sd')\n",
    "sns.lineplot(data=rm_unique, x='unique_dim', y='rm_x1_unique_score', label='Residual Method (OLS)', errorbar='sd')\n",
    "sns.lineplot(data=vp_unique, x='unique_dim', y='vp_x1_unique_score', label='Variance Partitioning', errorbar='sd')\n",
    "plt.axhline(0.3, linestyle='--', label='Expected Value', color=\"C3\")\n",
    "plt.xlabel(r\"$d_\\mathbf{B}$\")\n",
    "plt.ylabel(r\"$R^2$ (mean and sd)\")\n",
    "plt.xscale('log')\n",
    "plt.legend()"
   ],
   "id": "4c89b4b47be68e39",
   "outputs": [],
   "execution_count": null
  },
  {
   "metadata": {},
   "cell_type": "code",
   "source": [
    "# add label for dotted lines\n",
    "plt.plot([], [], linestyle='-', label=r'$d_\\mathbf{A}$', color='black')\n",
    "plt.plot([], [], linestyle=':', label=r'$d_\\mathbf{B}$', color='black')\n",
    "\n",
    "sns.lineplot(data=rm_shared_ridge, x='shared_dim', y='rm_ridge_x1_unique_score', label='Residual Method (Ridge)',\n",
    "             errorbar='sd', color=\"C0\")\n",
    "sns.lineplot(data=rm_unique_ridge, x='unique_dim', y='rm_ridge_x1_unique_score', errorbar='sd', color=\"C0\",\n",
    "             linestyle=':')\n",
    "sns.lineplot(data=rm_shared, x='shared_dim', y='rm_x1_unique_score', label='Residual Method (OLS)', errorbar='sd',\n",
    "             color=\"C1\")\n",
    "sns.lineplot(data=rm_unique, x='unique_dim', y='rm_x1_unique_score', errorbar='sd', color=\"C1\", linestyle=':')\n",
    "sns.lineplot(data=vp_shared, x='shared_dim', y='vp_x1_unique_score', label='Variance Partitioning', errorbar='sd',\n",
    "             color=\"C2\", )\n",
    "sns.lineplot(data=vp_unique, x='unique_dim', y='vp_x1_unique_score', errorbar='sd', color=\"C2\", linestyle=':')\n",
    "\n",
    "\n",
    "plt.axhline(0.3, linestyle='--', label='Expected Value', color=\"C3\")\n",
    "plt.xlabel(r\"$d_\\mathbf{A/B}$\")\n",
    "plt.ylabel(r\"$R^2$ (mean and sd)\")\n",
    "plt.xscale('log')\n",
    "plt.legend()"
   ],
   "id": "c00d2a83a9a46607",
   "outputs": [],
   "execution_count": null
  }
 ],
 "metadata": {
  "kernelspec": {
   "display_name": "Python 3",
   "language": "python",
   "name": "python3"
  },
  "language_info": {
   "codemirror_mode": {
    "name": "ipython",
    "version": 2
   },
   "file_extension": ".py",
   "mimetype": "text/x-python",
   "name": "python",
   "nbconvert_exporter": "python",
   "pygments_lexer": "ipython2",
   "version": "2.7.6"
  }
 },
 "nbformat": 4,
 "nbformat_minor": 5
}
