{
 "cells": [
  {
   "metadata": {
    "ExecuteTime": {
     "end_time": "2025-03-21T11:40:25.540273Z",
     "start_time": "2025-03-21T11:40:25.537241Z"
    }
   },
   "cell_type": "code",
   "source": [
    "import random\n",
    "\n",
    "import himalaya.scoring\n",
    "import matplotlib.pyplot as plt\n",
    "import numpy as np\n",
    "import seaborn as sns\n",
    "import simplstyles\n",
    "from himalaya.backend import set_backend, get_backend\n",
    "from himalaya.ridge import RidgeCV, Ridge\n",
    "\n",
    "from dataset import generate_dataset"
   ],
   "id": "5cd2bf3daf44f48b",
   "outputs": [],
   "execution_count": 22
  },
  {
   "metadata": {
    "ExecuteTime": {
     "end_time": "2025-03-21T11:40:25.651026Z",
     "start_time": "2025-03-21T11:40:25.648090Z"
    }
   },
   "cell_type": "code",
   "source": [
    "set_backend('torch_cuda')\n",
    "backend = get_backend()\n",
    "simplstyles._\n",
    "plt.style.use('nord-light-talk')\n",
    "random.seed(42)"
   ],
   "id": "2ea5b9204a3e028d",
   "outputs": [],
   "execution_count": 23
  },
  {
   "metadata": {
    "ExecuteTime": {
     "end_time": "2025-03-21T11:40:25.655806Z",
     "start_time": "2025-03-21T11:40:25.652777Z"
    }
   },
   "cell_type": "code",
   "source": [
    "d_list = [100, 100, 100]\n",
    "# scalars = [1 / 3, 1 / 2, 1 / 6]\n",
    "scalars = [1 / 3, 1 / 3, 1 / 3]\n",
    "n_targets = 10000\n",
    "n_samples_train = 10000\n",
    "n_samples_test = 10000\n",
    "n_samples = n_samples_train + n_samples_test\n",
    "noise_target = 0.1\n",
    "noise_feature = 0.0"
   ],
   "id": "5e7113f7963bf951",
   "outputs": [],
   "execution_count": 24
  },
  {
   "metadata": {
    "ExecuteTime": {
     "end_time": "2025-03-21T11:40:25.667344Z",
     "start_time": "2025-03-21T11:40:25.664607Z"
    }
   },
   "cell_type": "code",
   "source": [
    "alphas = np.logspace(-4, 4, 10)\n",
    "cv = 2\n",
    "score_func = himalaya.scoring.r2_score\n",
    "use_ols = False"
   ],
   "id": "cbc22f5400178a87",
   "outputs": [],
   "execution_count": 25
  },
  {
   "metadata": {
    "ExecuteTime": {
     "end_time": "2025-03-21T11:40:42.173383Z",
     "start_time": "2025-03-21T11:40:25.669256Z"
    }
   },
   "cell_type": "code",
   "source": "Xs, Y = generate_dataset(d_list, scalars, n_targets, n_samples, noise_target, noise_feature)",
   "id": "a9e3d73b311ae948",
   "outputs": [
    {
     "name": "stdout",
     "output_type": "stream",
     "text": [
      "1.0000000000000007\n",
      "1.0000000000000007\n"
     ]
    }
   ],
   "execution_count": 26
  },
  {
   "metadata": {},
   "cell_type": "markdown",
   "source": "first of all lets verify that Ridge regression with $\\alpha = 1$ indeed is equivalent to linear regression",
   "id": "f7943057364a7eef"
  },
  {
   "metadata": {
    "ExecuteTime": {
     "end_time": "2025-03-21T11:40:42.177832Z",
     "start_time": "2025-03-21T11:40:42.174905Z"
    }
   },
   "cell_type": "code",
   "source": [
    "# ridge = Ridge(alpha=1, solver_params=dict(warn=False, n_targets_batch=1000))\n",
    "# ridge.fit(Xs[0][:n_samples_train], Y[:n_samples_train])\n",
    "# ridge_coef = ridge.coef_  # (n_features, n_targets)"
   ],
   "id": "f332f3550fcdcaef",
   "outputs": [],
   "execution_count": 27
  },
  {
   "metadata": {
    "ExecuteTime": {
     "end_time": "2025-03-21T11:40:42.181977Z",
     "start_time": "2025-03-21T11:40:42.179186Z"
    }
   },
   "cell_type": "code",
   "source": [
    "# linear = LinearRegression()\n",
    "# linear.fit(backend.to_numpy(Xs[0][:n_samples_train]), backend.to_numpy(Y[:n_samples_train]))\n",
    "# linear_coef = linear.coef_  # (n_targets, n_features)\n",
    "# # swap rows and columns\n",
    "# linear_coef = linear_coef.T"
   ],
   "id": "9eb10d6e15b72a51",
   "outputs": [],
   "execution_count": 28
  },
  {
   "metadata": {
    "ExecuteTime": {
     "end_time": "2025-03-21T11:40:42.186865Z",
     "start_time": "2025-03-21T11:40:42.183792Z"
    }
   },
   "cell_type": "code",
   "source": [
    "# print((backend.to_numpy(ridge_coef) - np.array(linear_coef)).mean())\n",
    "# print((backend.to_numpy(ridge_coef) - np.array(linear_coef)).max())\n",
    "# print((backend.to_numpy(ridge_coef) - np.array(linear_coef)).min())\n",
    "# sns.displot(backend.to_numpy(linear_coef) - backend.to_numpy(ridge_coef))"
   ],
   "id": "b8395308a8d94ee2",
   "outputs": [],
   "execution_count": 29
  },
  {
   "metadata": {},
   "cell_type": "markdown",
   "source": [
    "\n",
    "compute on full feature sets for comparison"
   ],
   "id": "e9620f86f551ba35"
  },
  {
   "metadata": {
    "ExecuteTime": {
     "end_time": "2025-03-21T11:40:44.691734Z",
     "start_time": "2025-03-21T11:40:42.188200Z"
    }
   },
   "cell_type": "code",
   "source": [
    "full_scores = []\n",
    "for i in range(len(Xs)):\n",
    "    full_model = RidgeCV(alphas=alphas, cv=cv,\n",
    "                         solver_params=dict(warn=False, score_func=score_func, n_targets_batch=1000))\n",
    "    full_model.fit(Xs[i][:n_samples_train], Y[:n_samples_train])\n",
    "    full_score = full_model.score(Xs[i][n_samples_train:], Y[n_samples_train:])\n",
    "    full_score = backend.to_numpy(full_score)\n",
    "    print(full_score.mean())\n",
    "    sns.histplot(full_score)\n",
    "    full_scores.append(full_score)"
   ],
   "id": "899c541ef438882f",
   "outputs": [
    {
     "name": "stdout",
     "output_type": "stream",
     "text": [
      "0.5775918\n",
      "0.57704\n"
     ]
    },
    {
     "data": {
      "text/plain": [
       "<Figure size 640x480 with 1 Axes>"
      ],
      "image/png": "[encoded data removed]"
     },
     "metadata": {},
     "output_type": "display_data"
    }
   ],
   "execution_count": 30
  },
  {
   "metadata": {},
   "cell_type": "markdown",
   "source": "# Feature to feature regression",
   "id": "384988e171ea8edb"
  },
  {
   "metadata": {},
   "cell_type": "markdown",
   "source": "### OLS",
   "id": "7fd285d1fd71e48a"
  },
  {
   "metadata": {
    "ExecuteTime": {
     "end_time": "2025-03-21T11:40:44.696177Z",
     "start_time": "2025-03-21T11:40:44.693095Z"
    }
   },
   "cell_type": "code",
   "source": "ols_model = Ridge(alpha=1, solver_params=dict(warn=False, n_targets_batch=1000))",
   "id": "73be7065e29b6c91",
   "outputs": [],
   "execution_count": 31
  },
  {
   "metadata": {
    "ExecuteTime": {
     "end_time": "2025-03-21T11:40:45.209079Z",
     "start_time": "2025-03-21T11:40:44.697502Z"
    }
   },
   "cell_type": "code",
   "source": [
    "ols_feature_scores = []\n",
    "Xs_predict = []\n",
    "for i in range(len(Xs)):\n",
    "    i_from = (i + 1) % len(Xs)\n",
    "    i_to = i\n",
    "    ols_model.fit(Xs[i_from][:n_samples_train], Xs[i_to][:n_samples_train])\n",
    "\n",
    "    X_predict = ols_model.predict(Xs[i_from])\n",
    "    X_predict = backend.asarray(X_predict)\n",
    "    Xs_predict.append(X_predict)\n",
    "    feature_score = ols_model.score(Xs[i_from][n_samples_train:], Xs[i_to][n_samples_train:])\n",
    "    feature_score = backend.to_numpy(feature_score)\n",
    "    ols_feature_scores.append(feature_score)"
   ],
   "id": "1358d0c2fb84f354",
   "outputs": [],
   "execution_count": 32
  },
  {
   "metadata": {
    "ExecuteTime": {
     "end_time": "2025-03-21T11:40:45.344559Z",
     "start_time": "2025-03-21T11:40:45.210747Z"
    }
   },
   "cell_type": "code",
   "source": [
    "fig, ax = plt.subplots(1, 1, figsize=(4, 4))\n",
    "for i, score in enumerate(ols_feature_scores):\n",
    "    sns.histplot(score, label=rf'$X_{(i + 1) % 2}$ predicting $X_{i}$')\n",
    "\n",
    "plt.xlabel(r\"$R^2$\")\n",
    "plt.ylabel(\"Number of targets\")\n",
    "sns.despine()\n",
    "# plot legend to the top right\n",
    "plt.legend(bbox_to_anchor=(1, 1))"
   ],
   "id": "576cb2b0bcaede4c",
   "outputs": [
    {
     "data": {
      "text/plain": [
       "<matplotlib.legend.Legend at 0x7fc819e00770>"
      ]
     },
     "execution_count": 33,
     "metadata": {},
     "output_type": "execute_result"
    },
    {
     "data": {
      "text/plain": [
       "<Figure size 400x400 with 1 Axes>"
      ],
      "image/png": "[encoded data removed]"
     },
     "metadata": {},
     "output_type": "display_data"
    }
   ],
   "execution_count": 33
  },
  {
   "metadata": {},
   "cell_type": "markdown",
   "source": "Compute residuals",
   "id": "417728eb19900133"
  },
  {
   "metadata": {
    "ExecuteTime": {
     "end_time": "2025-03-21T11:40:45.350399Z",
     "start_time": "2025-03-21T11:40:45.346120Z"
    }
   },
   "cell_type": "code",
   "source": [
    "Xs_ols_residual = []\n",
    "for i in range(len(Xs)):\n",
    "    X_residual = Xs[i] - Xs_predict[i]\n",
    "    X_residual = backend.asarray(X_residual)\n",
    "    Xs_ols_residual.append(X_residual)"
   ],
   "id": "8f973efed28ee275",
   "outputs": [],
   "execution_count": 34
  },
  {
   "metadata": {},
   "cell_type": "markdown",
   "source": "### Ridge",
   "id": "ed4da162dd5bbed1"
  },
  {
   "metadata": {
    "ExecuteTime": {
     "end_time": "2025-03-21T11:40:45.357465Z",
     "start_time": "2025-03-21T11:40:45.353751Z"
    }
   },
   "cell_type": "code",
   "source": [
    "ridge_model = RidgeCV(alphas=alphas, cv=cv,\n",
    "                      solver_params=(dict(warn=False, score_func=score_func, n_targets_batch=1000)))"
   ],
   "id": "d53b665075249e75",
   "outputs": [],
   "execution_count": 35
  },
  {
   "metadata": {
    "ExecuteTime": {
     "end_time": "2025-03-21T11:40:46.716369Z",
     "start_time": "2025-03-21T11:40:45.359474Z"
    }
   },
   "cell_type": "code",
   "source": [
    "ridge_feature_scores = []\n",
    "Xs_ridge_predict = []\n",
    "for i in range(len(Xs)):\n",
    "    i_from = (i + 1) % len(Xs)\n",
    "    i_to = i\n",
    "    ridge_model.fit(Xs[i_from][:n_samples_train], Xs[i_to][:n_samples_train])\n",
    "\n",
    "    X_predict = ridge_model.predict(Xs[i_from])\n",
    "    X_predict = backend.asarray(X_predict)\n",
    "    Xs_ridge_predict.append(X_predict)\n",
    "    feature_score = ridge_model.score(Xs[i_from][n_samples_train:], Xs[i_to][n_samples_train:])\n",
    "    feature_score = backend.to_numpy(feature_score)\n",
    "    ridge_feature_scores.append(feature_score)\n",
    "    sns.histplot(x=backend.to_numpy(ridge_model.best_alphas_), log_scale=True,\n",
    "                 label=rf'$X_{(i + 1) % 2}$ predicting $X_{i}$')\n",
    "    plt.yscale('log')\n",
    "    plt.legend()\n",
    "    plt.show()"
   ],
   "id": "6901d6fc636476ba",
   "outputs": [
    {
     "data": {
      "text/plain": [
       "<Figure size 640x480 with 1 Axes>"
      ],
      "image/png": "[encoded data removed]"
     },
     "metadata": {},
     "output_type": "display_data"
    },
    {
     "data": {
      "text/plain": [
       "<Figure size 640x480 with 1 Axes>"
      ],
      "image/png": "[encoded data removed]"
     },
     "metadata": {},
     "output_type": "display_data"
    }
   ],
   "execution_count": 36
  },
  {
   "metadata": {
    "ExecuteTime": {
     "end_time": "2025-03-21T11:40:46.846575Z",
     "start_time": "2025-03-21T11:40:46.717922Z"
    }
   },
   "cell_type": "code",
   "source": [
    "fig, ax = plt.subplots(1, 1, figsize=(4, 4))\n",
    "for i, score in enumerate(ols_feature_scores):\n",
    "    sns.histplot(score, label=rf'$X_{(i + 1) % 2}$ predicting $X_{i}$')\n",
    "\n",
    "plt.xlabel(r\"$R^2$\")\n",
    "plt.ylabel(\"Number of targets\")\n",
    "sns.despine()\n",
    "# plot legend to the top right\n",
    "plt.legend(bbox_to_anchor=(1, 1))"
   ],
   "id": "c4d13a625e6d30c6",
   "outputs": [
    {
     "data": {
      "text/plain": [
       "<matplotlib.legend.Legend at 0x7fc8194ef020>"
      ]
     },
     "execution_count": 37,
     "metadata": {},
     "output_type": "execute_result"
    },
    {
     "data": {
      "text/plain": [
       "<Figure size 400x400 with 1 Axes>"
      ],
      "image/png": "[encoded data removed]"
     },
     "metadata": {},
     "output_type": "display_data"
    }
   ],
   "execution_count": 37
  },
  {
   "metadata": {
    "ExecuteTime": {
     "end_time": "2025-03-21T11:40:46.851865Z",
     "start_time": "2025-03-21T11:40:46.848078Z"
    }
   },
   "cell_type": "code",
   "source": [
    "Xs_ridge_residual = []\n",
    "for i in range(len(Xs)):\n",
    "    X_residual = Xs[i] - Xs_ridge_predict[i]\n",
    "    X_residual = backend.asarray(X_residual)\n",
    "    Xs_ridge_residual.append(X_residual)"
   ],
   "id": "e509ba135554d0d",
   "outputs": [],
   "execution_count": 38
  },
  {
   "metadata": {},
   "cell_type": "markdown",
   "source": "# Compare Variance removed in B/C",
   "id": "f0d86f27bc178495"
  },
  {
   "metadata": {
    "ExecuteTime": {
     "end_time": "2025-03-21T11:40:46.857837Z",
     "start_time": "2025-03-21T11:40:46.853484Z"
    }
   },
   "cell_type": "code",
   "source": "Xs_ridge_residual[0].device",
   "id": "8ac554fc148a87cb",
   "outputs": [
    {
     "data": {
      "text/plain": [
       "device(type='cuda', index=0)"
      ]
     },
     "execution_count": 39,
     "metadata": {},
     "output_type": "execute_result"
    }
   ],
   "execution_count": 39
  },
  {
   "metadata": {
    "ExecuteTime": {
     "end_time": "2025-03-21T11:40:46.907172Z",
     "start_time": "2025-03-21T11:40:46.859436Z"
    }
   },
   "cell_type": "code",
   "source": [
    "residual_variances_ols = np.array([np.var(backend.to_numpy(Xs_ols_residual[i])[:, 300:]) for i in range(len(Xs))])\n",
    "residual_variances_ridge = np.array([np.var(backend.to_numpy(Xs_ridge_residual[i])[:, 300:]) for i in range(len(Xs))])"
   ],
   "id": "d1fb166f38124f78",
   "outputs": [],
   "execution_count": 40
  },
  {
   "metadata": {
    "ExecuteTime": {
     "end_time": "2025-03-21T11:40:47.063251Z",
     "start_time": "2025-03-21T11:40:46.908684Z"
    }
   },
   "cell_type": "code",
   "source": [
    "fig, axs = plt.subplots(1, 2, figsize=(4, 4), sharex=True, sharey=True)\n",
    "\n",
    "for ax, residual_variances, title in zip(axs, [residual_variances_ols, residual_variances_ridge], [\"OLS\", \"Ridge\"]):\n",
    "    sns.barplot(residual_variances, ax=ax, palette=[\"C1\", \"C3\"])\n",
    "    ax.set_title(title)\n",
    "\n",
    "    for idx, column in enumerate(residual_variances):\n",
    "        xmin = idx / len(residual_variances)  # Calculate xmin for each bar\n",
    "        xmax = (idx + 1) / len(residual_variances)  # Calculate xmax for each bar\n",
    "\n",
    "        # Use the mean of the column for positioning text\n",
    "\n",
    "        ax.text(idx, column / 2, f\"{column:.2f}\", ha='center', va='center')\n",
    "axs[0].set_ylabel(\"Variance\")\n",
    "fig.supxlabel(\"Residual Feature Space\", va=\"top\")\n",
    "\n",
    "plt.xticks(range(2), [r\"$\\mathbf{B}'$\", r\"$\\mathbf{C}'$\"])"
   ],
   "id": "d158a36285222a35",
   "outputs": [
    {
     "name": "stderr",
     "output_type": "stream",
     "text": [
      "/tmp/ipykernel_40608/3383702660.py:4: FutureWarning: \n",
      "\n",
      "Passing `palette` without assigning `hue` is deprecated and will be removed in v0.14.0. Assign the `x` variable to `hue` and set `legend=False` for the same effect.\n",
      "\n",
      "  sns.barplot(residual_variances, ax=ax, palette=[\"C1\", \"C3\"])\n",
      "/tmp/ipykernel_40608/3383702660.py:4: FutureWarning: \n",
      "\n",
      "Passing `palette` without assigning `hue` is deprecated and will be removed in v0.14.0. Assign the `x` variable to `hue` and set `legend=False` for the same effect.\n",
      "\n",
      "  sns.barplot(residual_variances, ax=ax, palette=[\"C1\", \"C3\"])\n"
     ]
    },
    {
     "data": {
      "text/plain": [
       "([<matplotlib.axis.XTick at 0x7fc819348b90>,\n",
       "  <matplotlib.axis.XTick at 0x7fc81954daf0>],\n",
       " [Text(0, 0, \"$\\\\mathbf{B}'$\"), Text(1, 0, \"$\\\\mathbf{C}'$\")])"
      ]
     },
     "execution_count": 41,
     "metadata": {},
     "output_type": "execute_result"
    },
    {
     "data": {
      "text/plain": [
       "<Figure size 400x400 with 2 Axes>"
      ],
      "image/png": "[encoded data removed]"
     },
     "metadata": {},
     "output_type": "display_data"
    }
   ],
   "execution_count": 41
  },
  {
   "metadata": {
    "ExecuteTime": {
     "end_time": "2025-03-21T11:40:47.201652Z",
     "start_time": "2025-03-21T11:40:47.064501Z"
    }
   },
   "cell_type": "code",
   "source": "np.var(Xs_ols_residual[0]), np.var(Xs_ridge_residual[0])",
   "id": "f3174ea0d4f5894c",
   "outputs": [
    {
     "ename": "TypeError",
     "evalue": "var() received an invalid combination of arguments - got (ddof=int, dtype=NoneType, out=NoneType, axis=NoneType, ), but expected one of:\n * (tuple of ints dim, bool unbiased = True, bool keepdim = False)\n * (tuple of ints dim = None, *, Number correction = None, bool keepdim = False)\n      didn't match because some of the keywords were incorrect: ddof, dtype, out, axis\n * (bool unbiased = True)\n * (tuple of names dim, bool unbiased = True, bool keepdim = False)\n * (tuple of names dim, *, Number correction = None, bool keepdim = False)\n      didn't match because some of the keywords were incorrect: ddof, dtype, out, axis\n",
     "output_type": "error",
     "traceback": [
      "\u001B[31m---------------------------------------------------------------------------\u001B[39m",
      "\u001B[31mTypeError\u001B[39m                                 Traceback (most recent call last)",
      "\u001B[36mCell\u001B[39m\u001B[36m \u001B[39m\u001B[32mIn[42]\u001B[39m\u001B[32m, line 1\u001B[39m\n\u001B[32m----> \u001B[39m\u001B[32m1\u001B[39m \u001B[43mnp\u001B[49m\u001B[43m.\u001B[49m\u001B[43mvar\u001B[49m\u001B[43m(\u001B[49m\u001B[43mXs_ols_residual\u001B[49m\u001B[43m[\u001B[49m\u001B[32;43m0\u001B[39;49m\u001B[43m]\u001B[49m\u001B[43m)\u001B[49m, np.var(Xs_ridge_residual[\u001B[32m0\u001B[39m])\n",
      "\u001B[36mFile \u001B[39m\u001B[32m~/.virtualenvs/compare_variance_residual/lib/python3.12/site-packages/numpy/_core/fromnumeric.py:4266\u001B[39m, in \u001B[36mvar\u001B[39m\u001B[34m(a, axis, dtype, out, ddof, keepdims, where, mean, correction)\u001B[39m\n\u001B[32m   4264\u001B[39m         \u001B[38;5;28;01mpass\u001B[39;00m\n\u001B[32m   4265\u001B[39m     \u001B[38;5;28;01melse\u001B[39;00m:\n\u001B[32m-> \u001B[39m\u001B[32m4266\u001B[39m         \u001B[38;5;28;01mreturn\u001B[39;00m \u001B[43mvar\u001B[49m\u001B[43m(\u001B[49m\u001B[43maxis\u001B[49m\u001B[43m=\u001B[49m\u001B[43maxis\u001B[49m\u001B[43m,\u001B[49m\u001B[43m \u001B[49m\u001B[43mdtype\u001B[49m\u001B[43m=\u001B[49m\u001B[43mdtype\u001B[49m\u001B[43m,\u001B[49m\u001B[43m \u001B[49m\u001B[43mout\u001B[49m\u001B[43m=\u001B[49m\u001B[43mout\u001B[49m\u001B[43m,\u001B[49m\u001B[43m \u001B[49m\u001B[43mddof\u001B[49m\u001B[43m=\u001B[49m\u001B[43mddof\u001B[49m\u001B[43m,\u001B[49m\u001B[43m \u001B[49m\u001B[43m*\u001B[49m\u001B[43m*\u001B[49m\u001B[43mkwargs\u001B[49m\u001B[43m)\u001B[49m\n\u001B[32m   4268\u001B[39m \u001B[38;5;28;01mreturn\u001B[39;00m _methods._var(a, axis=axis, dtype=dtype, out=out, ddof=ddof,\n\u001B[32m   4269\u001B[39m                      **kwargs)\n",
      "\u001B[31mTypeError\u001B[39m: var() received an invalid combination of arguments - got (ddof=int, dtype=NoneType, out=NoneType, axis=NoneType, ), but expected one of:\n * (tuple of ints dim, bool unbiased = True, bool keepdim = False)\n * (tuple of ints dim = None, *, Number correction = None, bool keepdim = False)\n      didn't match because some of the keywords were incorrect: ddof, dtype, out, axis\n * (bool unbiased = True)\n * (tuple of names dim, bool unbiased = True, bool keepdim = False)\n * (tuple of names dim, *, Number correction = None, bool keepdim = False)\n      didn't match because some of the keywords were incorrect: ddof, dtype, out, axis\n"
     ]
    }
   ],
   "execution_count": 42
  },
  {
   "metadata": {},
   "cell_type": "code",
   "source": "np.var(Xs_ols_residual[0][:, 300:]), np.var(Xs_ridge_residual[0][:, 300:])",
   "id": "f0f32893fea3a2a9",
   "outputs": [],
   "execution_count": null
  },
  {
   "metadata": {},
   "cell_type": "code",
   "source": "np.var(Xs_ols_residual[1][:, 300:]), np.var(Xs_ridge_residual[1][:, 300:])",
   "id": "e20679587d740b74",
   "outputs": [],
   "execution_count": null
  },
  {
   "metadata": {},
   "cell_type": "markdown",
   "source": "# Compare feature to feature regression weights",
   "id": "39c4bcf778e935ef"
  },
  {
   "metadata": {},
   "cell_type": "code",
   "source": [
    "# ols_weights = ols_model.coef_\n",
    "# ridge_weights = backend.to_numpy(ridge_model.coef_)\n",
    "#\n",
    "# fig, ax = plt.subplots(1, 2, figsize=(8, 4), sharey=True)\n",
    "#\n",
    "# for ax_, weights, title in zip(ax, [ols_weights, ridge_weights], ['OLS', 'Ridge']):\n",
    "#     sns.histplot(weights, ax=ax_, bins=50)\n",
    "#     ax_.set_title(title)\n",
    "#     ax_.set_xlabel(\"Weight\")\n",
    "#     ax_.set_ylabel(\"Number of weights\")\n",
    "#     ax_.set_yscale('log')\n",
    "#     ax_.set_xscale('symlog')"
   ],
   "id": "1592f8c2ee932fda",
   "outputs": [],
   "execution_count": null
  },
  {
   "metadata": {},
   "cell_type": "markdown",
   "source": "# Train residual model",
   "id": "59587d6a46a5deec"
  },
  {
   "metadata": {},
   "cell_type": "code",
   "source": [
    "residual_ols_scores = []\n",
    "residual_ridge_scores = []\n",
    "\n",
    "for i in range(len(Xs)):\n",
    "    residual_model = RidgeCV(alphas=alphas, cv=cv,\n",
    "                             solver_params=dict(warn=False, score_func=score_func, n_targets_batch=1000))\n",
    "    residual_model.fit(Xs_ols_residual[i][:n_samples_train], Y[:n_samples_train])\n",
    "    residual_score = residual_model.score(Xs_ols_residual[i][n_samples_train:], Y[n_samples_train:])\n",
    "    residual_score = backend.to_numpy(residual_score)\n",
    "    residual_ols_scores.append(residual_score)\n",
    "\n",
    "    residual_model = RidgeCV(alphas=alphas, cv=cv,\n",
    "                             solver_params=dict(warn=False, score_func=score_func, n_targets_batch=1000))\n",
    "    residual_model.fit(Xs_ridge_residual[i][:n_samples_train], Y[:n_samples_train])\n",
    "    residual_score = residual_model.score(Xs_ridge_residual[i][n_samples_train:], Y[n_samples_train:])\n",
    "    residual_score = backend.to_numpy(residual_score)\n",
    "    residual_ridge_scores.append(residual_score)"
   ],
   "id": "795956fddf2748e2",
   "outputs": [],
   "execution_count": null
  },
  {
   "metadata": {},
   "cell_type": "markdown",
   "source": "# Plot Scores",
   "id": "158cd7e8a8d881f5"
  },
  {
   "metadata": {},
   "cell_type": "code",
   "source": [
    "import pandas as pd\n",
    "import os\n",
    "\n",
    "path = os.path.join('results', f'residual_method_{scalars}.csv')\n",
    "if not os.path.exists(path):\n",
    "    scores = pd.DataFrame()\n",
    "    scores[r\"$X_1$\"] = full_scores[0]\n",
    "    scores[r\"$X_2$\"] = full_scores[1]\n",
    "    scores[r\"$X_1'_{ridge}$\"] = residual_ridge_scores[0]\n",
    "    scores[r\"$X_2'_{ridge}$\"] = residual_ridge_scores[1]\n",
    "    scores[r\"$X_1'_{OLS}$\"] = residual_ols_scores[0]\n",
    "    scores[r\"$X_2'_{OLS}$\"] = residual_ols_scores[1]\n",
    "    scores.to_csv(path)\n",
    "else:\n",
    "    scores = pd.read_csv(path, index_col=0)\n",
    "\n",
    "scores.head()"
   ],
   "id": "cff5a4fe0d693a2f",
   "outputs": [],
   "execution_count": null
  },
  {
   "metadata": {},
   "cell_type": "code",
   "source": [
    "ols_scores = scores[[r\"$X_1'_{OLS}$\", r\"$X_2'_{OLS}$\"]]\n",
    "ridge_scores = scores[[r\"$X_1'_{ridge}$\", r\"$X_2'_{ridge}$\"]]\n",
    "\n",
    "fig, ax = plt.subplots(1, 2, figsize=(4, 4), sharey=True)\n",
    "\n",
    "for ax_, scores_ in zip(ax, [ols_scores, ridge_scores]):\n",
    "    scores_.columns = [r\"$\\mathbf{B}$\", r\"$\\mathbf{C}$\"]\n",
    "\n",
    "    sns.barplot(data=scores_, palette=[\"C1\", \"C3\"], ax=ax_, errorbar='sd')\n",
    "    ax_.set_ylim(0, 1.01)\n",
    "\n",
    "    # Add lines indicating the maximum possible height for each bar\n",
    "    theoretical_scores = np.array([scalars[1], scalars[2]]) * (1 - noise_target)\n",
    "\n",
    "    for idx, column in enumerate(scores_.columns):  # iterate over rows in the DataFrame\n",
    "        # Ensure index compatibility\n",
    "        if column not in scores_:\n",
    "            print(f\"Column '{column}' is not present in DataFrame. Available columns are: {list(ols_scores.columns)}\")\n",
    "            continue\n",
    "\n",
    "        xmin = idx / len(scores_.columns)  # Calculate xmin for each bar\n",
    "        xmax = (idx + 1) / len(scores_.columns)  # Calculate xmax for each bar\n",
    "        ax_.axhline(theoretical_scores[idx], linestyle='--', alpha=0.7, xmin=xmin, xmax=xmax,\n",
    "                    label='Expected Value' if idx == 0 else \"\")\n",
    "\n",
    "        # Use the mean of the column for positioning text\n",
    "        mean_column_value = scores_[column].mean()\n",
    "        ax_.text(idx, mean_column_value / 2, f\"{mean_column_value:.2f}\", ha='center', va='center')\n",
    "\n",
    "ax[0].set_xlabel(r\"OLS\")\n",
    "ax[0].set_ylabel(r\"$R^2$ (avg. and sd)\")\n",
    "ax[1].set_xlabel(r\"Ridge\")\n",
    "plt.legend( loc='upper left', frameon=True)\n",
    "# plt.legend()"
   ],
   "id": "a92f84a23bf446de",
   "outputs": [],
   "execution_count": null
  },
  {
   "metadata": {},
   "cell_type": "code",
   "source": [
    "scores.columns = [\n",
    "    r\"A,B\",\n",
    "    r\"A,C\",\n",
    "    r\"$B_{ridge}$\",\n",
    "    r\"$C_{ridge}$\",\n",
    "    r\"$B_{OLS}$\",\n",
    "    r\"$C_{OLS}$\",\n",
    "]"
   ],
   "id": "3bdbc354e6f3a7c5",
   "outputs": [],
   "execution_count": null
  },
  {
   "metadata": {},
   "cell_type": "code",
   "source": [
    "fig, ax = plt.subplots(figsize=(4, 4))\n",
    "\n",
    "sns.barplot(\n",
    "    data=scores,\n",
    "    ax=ax,\n",
    "    palette=[\"C0\", \"C0\", \"C1\", \"C1\", \"C1\", \"C1\"],\n",
    "    errorbar=\"sd\"\n",
    ")\n",
    "\n",
    "sns.despine()\n",
    "\n",
    "# Add lines indicating the maximum possible height for each bar\n",
    "theoretical_scores = [\n",
    "    (scalars[0] + scalars[1]) * (1 - noise_target),\n",
    "    (scalars[0] + scalars[2]) * (1 - noise_target),\n",
    "    scalars[1] * (1 - noise_target),\n",
    "    scalars[2] * (1 - noise_target),\n",
    "    scalars[1] * (1 - noise_target),\n",
    "    scalars[2] * (1 - noise_target),\n",
    "]\n",
    "\n",
    "for idx, column in enumerate(scores.columns):  # iterate over rows in the DataFrame\n",
    "    # Ensure index compatibility\n",
    "    if column not in scores:\n",
    "        print(f\"Column '{column}' is not present in DataFrame. Available columns are: {list(scores.columns)}\")\n",
    "        continue\n",
    "\n",
    "    xmin = idx / len(scores.columns)  # Calculate xmin for each bar\n",
    "    xmax = (idx + 1) / len(scores.columns)  # Calculate xmax for each bar\n",
    "    plt.axhline(theoretical_scores[idx], linestyle='--', alpha=0.7, xmin=xmin, xmax=xmax,\n",
    "                label='EV' if idx == 0 else \"\")\n",
    "\n",
    "    # Use the mean of the column for positioning text\n",
    "    mean_column_value = scores[column].mean()\n",
    "    plt.text(idx, mean_column_value / 2, f\"{mean_column_value:.2f}\", ha='center', va='center', fontsize=12)\n",
    "\n",
    "# make xtickmarks diagonal\n",
    "plt.xticks(range(len(scores.columns)), scores.columns, va='top')\n",
    "\n",
    "plt.ylim(0, 1)\n",
    "\n",
    "# Ensure the legend is displayed properly\n",
    "plt.legend()\n",
    "plt.ylabel(r\"$R^2$ (avg. and sd)\")\n",
    "plt.xlabel(\"Feature Space(s)\")"
   ],
   "id": "cf61cd52476ae722",
   "outputs": [],
   "execution_count": null
  }
 ],
 "metadata": {
  "kernelspec": {
   "display_name": "Python 3",
   "language": "python",
   "name": "python3"
  },
  "language_info": {
   "codemirror_mode": {
    "name": "ipython",
    "version": 2
   },
   "file_extension": ".py",
   "mimetype": "text/x-python",
   "name": "python",
   "nbconvert_exporter": "python",
   "pygments_lexer": "ipython2",
   "version": "2.7.6"
  }
 },
 "nbformat": 4,
 "nbformat_minor": 5
}
