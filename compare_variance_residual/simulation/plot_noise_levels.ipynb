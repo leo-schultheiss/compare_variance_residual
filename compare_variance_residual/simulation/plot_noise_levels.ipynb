{
 "cells": [
  {
   "metadata": {
    "ExecuteTime": {
     "end_time": "2025-03-10T14:59:41.664181Z",
     "start_time": "2025-03-10T14:59:41.563146Z"
    }
   },
   "cell_type": "code",
   "source": [
    "import os\n",
    "import random\n",
    "import warnings\n",
    "\n",
    "import matplotlib.pyplot as plt\n",
    "import simplstyles\n",
    "import numpy as np\n",
    "import pandas as pd\n",
    "import seaborn as sns\n",
    "from himalaya.backend import set_backend\n",
    "\n",
    "from residual import residual_method\n",
    "from dataset import generate_dataset\n",
    "from variance_partitioning import variance_partitioning"
   ],
   "id": "9ddd33b8ef97bc90",
   "outputs": [],
   "execution_count": 1
  },
  {
   "metadata": {
    "ExecuteTime": {
     "end_time": "2025-03-10T15:47:17.072744Z",
     "start_time": "2025-03-10T15:47:17.070409Z"
    }
   },
   "cell_type": "code",
   "source": "plt.style.use('nord-light-talk')",
   "id": "842bd94f67de4d33",
   "outputs": [],
   "execution_count": 12
  },
  {
   "metadata": {
    "ExecuteTime": {
     "end_time": "2025-03-10T14:59:41.770013Z",
     "start_time": "2025-03-10T14:59:41.766324Z"
    }
   },
   "cell_type": "code",
   "source": [
    "def get_path(alphas, cv, n_targets):\n",
    "    path = os.path.join(\"results\", f\"targets={n_targets}\", f\"cv={cv}\",\n",
    "                        f\"alphas={alphas.min()},{alphas.max()},{len(alphas)}\", \"varying noise\")\n",
    "    os.makedirs(path, exist_ok=True)\n",
    "    return path"
   ],
   "id": "4e578e5db6242f48",
   "outputs": [],
   "execution_count": 3
  },
  {
   "metadata": {
    "ExecuteTime": {
     "end_time": "2025-03-10T14:59:41.817387Z",
     "start_time": "2025-03-10T14:59:41.813222Z"
    }
   },
   "cell_type": "code",
   "source": [
    "def get_experiments(alphas, cv, n_targets):\n",
    "    path = get_path(alphas, cv, n_targets)\n",
    "    experiments = []\n",
    "    for file in os.listdir(path):\n",
    "        if file.endswith(\".csv\"):\n",
    "            variable = file.split(\"_\")[1].split(\".csv\")[0]\n",
    "            # parse variable\n",
    "            noise = float(variable)\n",
    "            experiments.append(noise)\n",
    "    return experiments"
   ],
   "id": "82d3fc24b1a6bb7e",
   "outputs": [],
   "execution_count": 4
  },
  {
   "metadata": {
    "ExecuteTime": {
     "end_time": "2025-03-10T14:59:41.874758Z",
     "start_time": "2025-03-10T14:59:41.866175Z"
    }
   },
   "cell_type": "code",
   "source": [
    "def save_scores(noise_levels, d_list, scalars, n_targets, n_samples, cv, alphas):\n",
    "    path = get_path(alphas, cv, n_targets)\n",
    "    for noise_target in noise_levels:\n",
    "        print(noise_target)\n",
    "        csv_path = os.path.join(path, f\"scores_{noise_target}.csv\")\n",
    "        scores = pd.DataFrame()\n",
    "        if os.path.exists(csv_path):\n",
    "            print(\"skipping, already exists\")\n",
    "            continue\n",
    "        Xs, Y = generate_dataset(d_list, scalars, n_targets, n_samples, noise_target)\n",
    "        print(\"data generated\")\n",
    "        x1_score, x2_score, joint_score, x1_and_x2_score, vp_x1_unique_score, vp_x2_unique_score = variance_partitioning(\n",
    "            Xs, Y, n_samples_train, alphas, cv)\n",
    "        print(\"variance partitioning done\")\n",
    "\n",
    "        scores[\"x1_score\"] = x1_score\n",
    "        scores[\"x2_score\"] = x2_score\n",
    "        scores[\"vp_joint_score\"] = joint_score\n",
    "        scores[\"vp_shared_score\"] = x1_and_x2_score\n",
    "        scores[\"vp_x1_unique_score\"] = vp_x1_unique_score\n",
    "        scores[\"vp_x2_unique_score\"] = vp_x2_unique_score\n",
    "        del x1_score, x2_score, joint_score, x1_and_x2_score, vp_x1_unique_score, vp_x2_unique_score\n",
    "        print(scores.head())\n",
    "\n",
    "        x2_to_x1_score, x1_to_x2_score, rm_x1_unique_score, rm_x2_unique_score = residual_method(\n",
    "            Xs, Y, n_samples_train, alphas, cv)\n",
    "        print(\"residual method done\")\n",
    "        scores[\"rm_x2_to_x1_score\"] = np.concatenate(\n",
    "            [x2_to_x1_score, np.full(len(rm_x1_unique_score) - len(x2_to_x1_score), np.nan)])\n",
    "        scores[\"rm_x1_to_x2_score\"] = np.concatenate(\n",
    "            [x1_to_x2_score, np.full(len(rm_x1_unique_score) - len(x1_to_x2_score), np.nan)])\n",
    "        scores[\"rm_x1_unique_score\"] = rm_x1_unique_score\n",
    "        scores[\"rm_x2_unique_score\"] = rm_x2_unique_score\n",
    "        del x2_to_x1_score, x1_to_x2_score, rm_x1_unique_score, rm_x2_unique_score\n",
    "\n",
    "        # ridge residual\n",
    "        x2_to_x1_ridge_score, x1_to_x2_ridge_score, rm_ridge_x1_unique_score, rm_ridge_x2_unique_score = residual_method(\n",
    "            Xs, Y, n_samples_train, alphas, cv, use_ols=False)\n",
    "        print(\"residual method done\")\n",
    "        scores[\"rm_ridge_x2_to_x1_score\"] = np.concatenate(\n",
    "            [x2_to_x1_ridge_score, np.full(len(rm_ridge_x1_unique_score) - len(x2_to_x1_ridge_score), np.nan)])\n",
    "        scores[\"rm_ridge_x1_to_x2_score\"] = np.concatenate(\n",
    "            [x1_to_x2_ridge_score, np.full(len(rm_ridge_x1_unique_score) - len(x1_to_x2_ridge_score), np.nan)])\n",
    "        scores[\"rm_ridge_x1_unique_score\"] = rm_ridge_x1_unique_score\n",
    "        scores[\"rm_ridge_x2_unique_score\"] = rm_ridge_x2_unique_score\n",
    "        del x2_to_x1_ridge_score, x1_to_x2_ridge_score, rm_ridge_x1_unique_score, rm_ridge_x2_unique_score\n",
    "        del Xs, Y\n",
    "        scores.to_csv(csv_path, index=False)"
   ],
   "id": "881f582c971d5f8a",
   "outputs": [],
   "execution_count": 5
  },
  {
   "metadata": {},
   "cell_type": "markdown",
   "source": "# Save scores for varying noise levels",
   "id": "d00dc772f2ffa917"
  },
  {
   "metadata": {
    "ExecuteTime": {
     "end_time": "2025-03-10T14:59:42.157288Z",
     "start_time": "2025-03-10T14:59:41.914744Z"
    }
   },
   "cell_type": "code",
   "source": [
    "backend = set_backend(\"cupy\", on_error=\"warn\")\n",
    "warnings.filterwarnings(\"ignore\")\n",
    "random.seed(42)\n",
    "plt.style.use('nord-light-talk')"
   ],
   "id": "3ff0a44e33077917",
   "outputs": [],
   "execution_count": 6
  },
  {
   "metadata": {
    "ExecuteTime": {
     "end_time": "2025-03-10T14:59:42.165052Z",
     "start_time": "2025-03-10T14:59:42.162725Z"
    }
   },
   "cell_type": "code",
   "source": [
    "d_list = [100, 100, 100]\n",
    "n_targets = 10000\n",
    "n_samples_train = 10000\n",
    "n_samples_test = 10000\n",
    "n_samples = n_samples_train + n_samples_test\n",
    "scalars = [1 / 3, 1 / 3, 1 / 3]\n",
    "\n",
    "cv = 10\n",
    "alphas = np.logspace(-5, 5, 10)"
   ],
   "id": "b7a438f228379129",
   "outputs": [],
   "execution_count": 7
  },
  {
   "metadata": {
    "ExecuteTime": {
     "end_time": "2025-03-10T14:59:42.213839Z",
     "start_time": "2025-03-10T14:59:42.207398Z"
    }
   },
   "cell_type": "code",
   "source": [
    "nstep = 11\n",
    "noise_levels = np.linspace(0, 1, nstep)\n",
    "noise_levels"
   ],
   "id": "bf5e4a31c09a5330",
   "outputs": [
    {
     "data": {
      "text/plain": [
       "array([0. , 0.1, 0.2, 0.3, 0.4, 0.5, 0.6, 0.7, 0.8, 0.9, 1. ])"
      ]
     },
     "execution_count": 8,
     "metadata": {},
     "output_type": "execute_result"
    }
   ],
   "execution_count": 8
  },
  {
   "metadata": {
    "ExecuteTime": {
     "end_time": "2025-03-10T15:44:42.283294Z",
     "start_time": "2025-03-10T14:59:42.266813Z"
    }
   },
   "cell_type": "code",
   "source": "save_scores(noise_levels, d_list, scalars, n_targets, n_samples, cv, alphas)",
   "id": "f3d311a75f339e77",
   "outputs": [
    {
     "name": "stdout",
     "output_type": "stream",
     "text": [
      "0.0\n",
      "data generated\n",
      "variance partitioning done\n",
      "   x1_score  x2_score  vp_joint_score  vp_shared_score  vp_x1_unique_score  \\\n",
      "0  0.657201  0.658892        0.997041         0.319053            0.338148   \n",
      "1  0.654484  0.659728        0.997079         0.317132            0.337351   \n",
      "2  0.659519  0.656050        0.997101         0.318469            0.341050   \n",
      "3  0.645411  0.659436        0.997002         0.307846            0.337566   \n",
      "4  0.642934  0.653121        0.996912         0.299143            0.343791   \n",
      "\n",
      "   vp_x2_unique_score  \n",
      "0            0.339839  \n",
      "1            0.342595  \n",
      "2            0.337581  \n",
      "3            0.351591  \n",
      "4            0.353978  \n",
      "residual method done\n",
      "residual method done\n",
      "0.1\n",
      "data generated\n",
      "variance partitioning done\n",
      "   x1_score  x2_score  vp_joint_score  vp_shared_score  vp_x1_unique_score  \\\n",
      "0  0.586984  0.592568        0.893800         0.285752            0.301232   \n",
      "1  0.585832  0.592358        0.892366         0.285823            0.300008   \n",
      "2  0.594844  0.583866        0.894523         0.284187            0.310657   \n",
      "3  0.577535  0.591758        0.893157         0.276137            0.301399   \n",
      "4  0.575257  0.581540        0.891328         0.265470            0.309788   \n",
      "\n",
      "   vp_x2_unique_score  \n",
      "0            0.306816  \n",
      "1            0.306534  \n",
      "2            0.299680  \n",
      "3            0.315621  \n",
      "4            0.316071  \n",
      "residual method done\n",
      "residual method done\n",
      "0.2\n",
      "data generated\n",
      "variance partitioning done\n",
      "   x1_score  x2_score  vp_joint_score  vp_shared_score  vp_x1_unique_score  \\\n",
      "0  0.517926  0.524900        0.790968         0.251858            0.266068   \n",
      "1  0.517344  0.524303        0.788811         0.252837            0.264507   \n",
      "2  0.528067  0.514792        0.792669         0.250190            0.277877   \n",
      "3  0.510162  0.523733        0.790223         0.243672            0.266490   \n",
      "4  0.508275  0.512332        0.787637         0.232970            0.275305   \n",
      "\n",
      "   vp_x2_unique_score  \n",
      "0            0.273042  \n",
      "1            0.271466  \n",
      "2            0.264602  \n",
      "3            0.280061  \n",
      "4            0.279362  \n",
      "residual method done\n",
      "residual method done\n",
      "0.30000000000000004\n",
      "data generated\n",
      "variance partitioning done\n",
      "   x1_score  x2_score  vp_joint_score  vp_shared_score  vp_x1_unique_score  \\\n",
      "0  0.448951  0.456790        0.687735         0.218005            0.230946   \n",
      "1  0.449008  0.456222        0.685432         0.219798            0.229210   \n",
      "2  0.460617  0.446137        0.690362         0.216391            0.244225   \n",
      "3  0.442850  0.455590        0.687155         0.211285            0.231565   \n",
      "4  0.441695  0.443881        0.684497         0.201080            0.240615   \n",
      "\n",
      "   vp_x2_unique_score  \n",
      "0            0.238785  \n",
      "1            0.236424  \n",
      "2            0.229745  \n",
      "3            0.244305  \n",
      "4            0.242801  \n",
      "residual method done\n",
      "residual method done\n",
      "0.4\n",
      "data generated\n",
      "variance partitioning done\n",
      "   x1_score  x2_score  vp_joint_score  vp_shared_score  vp_x1_unique_score  \\\n",
      "0  0.380016  0.388383        0.584228         0.184172            0.195844   \n",
      "1  0.380853  0.388209        0.582299         0.186764            0.194090   \n",
      "2  0.392682  0.377700        0.587684         0.182698            0.209984   \n",
      "3  0.375608  0.387403        0.583957         0.179053            0.196555   \n",
      "4  0.375460  0.376002        0.581844         0.169617            0.205842   \n",
      "\n",
      "   vp_x2_unique_score  \n",
      "0            0.204212  \n",
      "1            0.201445  \n",
      "2            0.195002  \n",
      "3            0.208350  \n",
      "4            0.206384  \n",
      "residual method done\n",
      "residual method done\n",
      "0.5\n",
      "data generated\n",
      "variance partitioning done\n",
      "   x1_score  x2_score  vp_joint_score  vp_shared_score  vp_x1_unique_score  \\\n",
      "0  0.311145  0.319767        0.480542         0.150371            0.160775   \n",
      "1  0.312909  0.320314        0.479455         0.153769            0.159141   \n",
      "2  0.324361  0.309449        0.484711         0.149099            0.175262   \n",
      "3  0.308471  0.319229        0.480899         0.146802            0.161670   \n",
      "4  0.309531  0.308612        0.479630         0.138513            0.171018   \n",
      "\n",
      "   vp_x2_unique_score  \n",
      "0            0.169397  \n",
      "1            0.166546  \n",
      "2            0.160350  \n",
      "3            0.172428  \n",
      "4            0.170099  \n",
      "residual method done\n",
      "residual method done\n",
      "0.6000000000000001\n",
      "data generated\n",
      "variance partitioning done\n",
      "   x1_score  x2_score  vp_joint_score  vp_shared_score  vp_x1_unique_score  \\\n",
      "0  0.242393  0.251012        0.376896         0.116509            0.125884   \n",
      "1  0.245209  0.252578        0.376956         0.120832            0.124378   \n",
      "2  0.255723  0.241422        0.381461         0.115684            0.140039   \n",
      "3  0.241491  0.251127        0.377946         0.114672            0.126819   \n",
      "4  0.243876  0.241666        0.377464         0.108078            0.135798   \n",
      "\n",
      "   vp_x2_unique_score  \n",
      "0            0.134503  \n",
      "1            0.131747  \n",
      "2            0.125737  \n",
      "3            0.136455  \n",
      "4            0.133588  \n",
      "residual method done\n",
      "residual method done\n",
      "0.7000000000000001\n",
      "data generated\n",
      "variance partitioning done\n",
      "   x1_score  x2_score  vp_joint_score  vp_shared_score  vp_x1_unique_score  \\\n",
      "0  0.173852  0.182191        0.273197         0.082846            0.091006   \n",
      "1  0.177795  0.185036        0.274862         0.087969            0.089826   \n",
      "2  0.186831  0.173718        0.278261         0.082288            0.104543   \n",
      "3  0.174742  0.183166        0.275024         0.082884            0.091858   \n",
      "4  0.178459  0.175138        0.275997         0.077600            0.100859   \n",
      "\n",
      "   vp_x2_unique_score  \n",
      "0            0.099345  \n",
      "1            0.097068  \n",
      "2            0.091429  \n",
      "3            0.100282  \n",
      "4            0.097538  \n",
      "residual method done\n",
      "residual method done\n",
      "0.8\n",
      "data generated\n",
      "variance partitioning done\n",
      "   x1_score  x2_score  vp_joint_score  vp_shared_score  vp_x1_unique_score  \\\n",
      "0  0.108686  0.115091        0.169706         0.054071            0.054615   \n",
      "1  0.112590  0.117331        0.173423         0.056498            0.056092   \n",
      "2  0.116781  0.107405        0.174779         0.049406            0.067374   \n",
      "3  0.108345  0.114724        0.171825         0.051244            0.057101   \n",
      "4  0.113231  0.110715        0.174786         0.049160            0.064071   \n",
      "\n",
      "   vp_x2_unique_score  \n",
      "0            0.061020  \n",
      "1            0.060833  \n",
      "2            0.057999  \n",
      "3            0.063480  \n",
      "4            0.061555  \n",
      "residual method done\n",
      "residual method done\n",
      "0.9\n",
      "data generated\n",
      "variance partitioning done\n",
      "   x1_score  x2_score  vp_joint_score  vp_shared_score  vp_x1_unique_score  \\\n",
      "0  0.044320  0.049982        0.071700         0.022602            0.021717   \n",
      "1  0.049384  0.053749        0.075803         0.027330            0.022054   \n",
      "2  0.051697  0.044857        0.073692         0.022862            0.028834   \n",
      "3  0.046534  0.050884        0.073273         0.024145            0.022389   \n",
      "4  0.051192  0.048301        0.075695         0.023798            0.027395   \n",
      "\n",
      "   vp_x2_unique_score  \n",
      "0            0.027380  \n",
      "1            0.026420  \n",
      "2            0.021995  \n",
      "3            0.026739  \n",
      "4            0.024503  \n",
      "residual method done\n",
      "residual method done\n",
      "1.0\n",
      "data generated\n",
      "variance partitioning done\n",
      "   x1_score  x2_score  vp_joint_score  vp_shared_score  vp_x1_unique_score  \\\n",
      "0 -0.002528 -0.001407       -0.001407        -0.002528            0.000000   \n",
      "1 -0.001369 -0.000587       -0.001228        -0.000728           -0.000641   \n",
      "2 -0.001244 -0.000985       -0.000894        -0.001335            0.000091   \n",
      "3 -0.001430 -0.000721       -0.001269        -0.000882           -0.000548   \n",
      "4 -0.000732 -0.000856       -0.000636        -0.000953            0.000220   \n",
      "\n",
      "   vp_x2_unique_score  \n",
      "0            0.001121  \n",
      "1            0.000141  \n",
      "2            0.000350  \n",
      "3            0.000161  \n",
      "4            0.000097  \n",
      "residual method done\n",
      "residual method done\n"
     ]
    }
   ],
   "execution_count": 9
  },
  {
   "metadata": {},
   "cell_type": "markdown",
   "source": "# Plot scores",
   "id": "59733bdb308f0cf5"
  },
  {
   "metadata": {
    "ExecuteTime": {
     "end_time": "2025-03-10T15:44:42.508078Z",
     "start_time": "2025-03-10T15:44:42.347169Z"
    }
   },
   "cell_type": "code",
   "source": [
    "vp = pd.DataFrame()\n",
    "rm = pd.DataFrame()\n",
    "rm_ridge = pd.DataFrame()\n",
    "\n",
    "all_levels = get_experiments(alphas, cv, n_targets)\n",
    "print(all_levels)\n",
    "for i, noise_level in enumerate(all_levels):\n",
    "    scores = pd.read_csv(os.path.join(get_path(alphas, cv, n_targets), f\"scores_{noise_level}.csv\"))\n",
    "    vp_x1_unique_predicted = scores['vp_x1_unique_score']\n",
    "    vp_scores = pd.DataFrame({\n",
    "        'noise_target': [noise_level] * len(vp_x1_unique_predicted),\n",
    "        'vp_x1_unique_score': vp_x1_unique_predicted,\n",
    "    }, index=range(len(vp_x1_unique_predicted)))\n",
    "\n",
    "    rm_x1_unique_score = scores['rm_x1_unique_score']\n",
    "    rm_scores = pd.DataFrame({\n",
    "        'noise_target': [noise_level] * len(vp_x1_unique_predicted),\n",
    "        'rm_x1_unique_score': rm_x1_unique_score,\n",
    "    }, index=range(len(vp_x1_unique_predicted)))\n",
    "\n",
    "    rm_ridge_x1_unique_score = scores['rm_ridge_x1_unique_score']\n",
    "    rm_ridge_scores = pd.DataFrame({\n",
    "        'noise_target': [noise_level] * len(vp_x1_unique_predicted),\n",
    "        'rm_ridge_x1_unique_score': rm_ridge_x1_unique_score,\n",
    "    }, index=range(len(vp_x1_unique_predicted)))\n",
    "\n",
    "    vp = pd.concat([vp, vp_scores], ignore_index=True)\n",
    "    rm = pd.concat([rm, rm_scores], ignore_index=True)\n",
    "    rm_ridge = pd.concat([rm_ridge, rm_ridge_scores], ignore_index=True)\n",
    "vp.head()"
   ],
   "id": "351ae4b76c61b15f",
   "outputs": [
    {
     "name": "stdout",
     "output_type": "stream",
     "text": [
      "[0.0, 0.2, 0.4, 0.9, 0.5, 1.0, 0.8, 0.1, 0.6000000000000001, 0.30000000000000004, 0.7000000000000001]\n"
     ]
    },
    {
     "data": {
      "text/plain": [
       "   noise_target  vp_x1_unique_score\n",
       "0           0.0            0.338148\n",
       "1           0.0            0.337351\n",
       "2           0.0            0.341050\n",
       "3           0.0            0.337566\n",
       "4           0.0            0.343791"
      ],
      "text/html": [
       "<div>\n",
       "<style scoped>\n",
       "    .dataframe tbody tr th:only-of-type {\n",
       "        vertical-align: middle;\n",
       "    }\n",
       "\n",
       "    .dataframe tbody tr th {\n",
       "        vertical-align: top;\n",
       "    }\n",
       "\n",
       "    .dataframe thead th {\n",
       "        text-align: right;\n",
       "    }\n",
       "</style>\n",
       "<table border=\"1\" class=\"dataframe\">\n",
       "  <thead>\n",
       "    <tr style=\"text-align: right;\">\n",
       "      <th></th>\n",
       "      <th>noise_target</th>\n",
       "      <th>vp_x1_unique_score</th>\n",
       "    </tr>\n",
       "  </thead>\n",
       "  <tbody>\n",
       "    <tr>\n",
       "      <th>0</th>\n",
       "      <td>0.0</td>\n",
       "      <td>0.338148</td>\n",
       "    </tr>\n",
       "    <tr>\n",
       "      <th>1</th>\n",
       "      <td>0.0</td>\n",
       "      <td>0.337351</td>\n",
       "    </tr>\n",
       "    <tr>\n",
       "      <th>2</th>\n",
       "      <td>0.0</td>\n",
       "      <td>0.341050</td>\n",
       "    </tr>\n",
       "    <tr>\n",
       "      <th>3</th>\n",
       "      <td>0.0</td>\n",
       "      <td>0.337566</td>\n",
       "    </tr>\n",
       "    <tr>\n",
       "      <th>4</th>\n",
       "      <td>0.0</td>\n",
       "      <td>0.343791</td>\n",
       "    </tr>\n",
       "  </tbody>\n",
       "</table>\n",
       "</div>"
      ]
     },
     "execution_count": 10,
     "metadata": {},
     "output_type": "execute_result"
    }
   ],
   "execution_count": 10
  },
  {
   "metadata": {
    "ExecuteTime": {
     "end_time": "2025-03-10T15:49:25.548675Z",
     "start_time": "2025-03-10T15:49:25.177257Z"
    }
   },
   "cell_type": "code",
   "source": [
    "# fig, ax = plt.subplots(figsize=(4, 4))\n",
    "sns.lineplot(data=vp, x='noise_target', y='vp_x1_unique_score', label='Variance Partitioning', errorbar='sd')\n",
    "sns.lineplot(data=rm, x='noise_target', y='rm_x1_unique_score', label='Residual Method (OLS)', errorbar='sd')\n",
    "sns.lineplot(data=rm_ridge, x='noise_target', y='rm_ridge_x1_unique_score', label='Residual Method (Ridge)', errorbar='sd')\n",
    "expected_values = scalars[1] * (1 - noise_levels)\n",
    "plt.plot(noise_levels, expected_values, linestyle='--', label='Expected Value')\n",
    "plt.xlabel(r\"$a_E$\")\n",
    "plt.xticks(noise_levels, labels=[f\"{noise:.1f}\" for noise in noise_levels] , rotation=45, ha='right')\n",
    "plt.ylabel(r\"$R^2$\")\n",
    "plt.legend(bbox_to_anchor=(0.3, 1), loc='upper left')"
   ],
   "id": "6d65e3b98a3c7f0a",
   "outputs": [
    {
     "data": {
      "text/plain": [
       "<matplotlib.legend.Legend at 0x7337847b1b20>"
      ]
     },
     "execution_count": 24,
     "metadata": {},
     "output_type": "execute_result"
    },
    {
     "data": {
      "text/plain": [
       "<Figure size 640x480 with 1 Axes>"
      ],
      "image/png": "[encoded data removed]"
     },
     "metadata": {},
     "output_type": "display_data"
    }
   ],
   "execution_count": 24
  }
 ],
 "metadata": {
  "kernelspec": {
   "display_name": "Python 3",
   "language": "python",
   "name": "python3"
  },
  "language_info": {
   "codemirror_mode": {
    "name": "ipython",
    "version": 2
   },
   "file_extension": ".py",
   "mimetype": "text/x-python",
   "name": "python",
   "nbconvert_exporter": "python",
   "pygments_lexer": "ipython2",
   "version": "2.7.6"
  }
 },
 "nbformat": 4,
 "nbformat_minor": 5
}
