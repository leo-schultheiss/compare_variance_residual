{
 "cells": [
  {
   "metadata": {
    "ExecuteTime": {
     "end_time": "2025-03-15T11:20:36.597294Z",
     "start_time": "2025-03-15T11:20:36.482254Z"
    }
   },
   "cell_type": "code",
   "source": [
    "import os\n",
    "import random\n",
    "import warnings\n",
    "\n",
    "import matplotlib.pyplot as plt\n",
    "import simplstyles\n",
    "import numpy as np\n",
    "import pandas as pd\n",
    "import seaborn as sns\n",
    "from himalaya.backend import set_backend\n",
    "\n",
    "from residual import residual_method\n",
    "from dataset import generate_dataset\n",
    "from variance_partitioning import variance_partitioning"
   ],
   "id": "9ddd33b8ef97bc90",
   "outputs": [],
   "execution_count": 1
  },
  {
   "metadata": {
    "ExecuteTime": {
     "end_time": "2025-03-15T11:20:36.603919Z",
     "start_time": "2025-03-15T11:20:36.601519Z"
    }
   },
   "cell_type": "code",
   "source": "plt.style.use('nord-light-talk')",
   "id": "842bd94f67de4d33",
   "outputs": [],
   "execution_count": 2
  },
  {
   "metadata": {
    "ExecuteTime": {
     "end_time": "2025-03-15T11:20:36.710559Z",
     "start_time": "2025-03-15T11:20:36.705647Z"
    }
   },
   "cell_type": "code",
   "source": [
    "def get_path(alphas, cv, n_targets):\n",
    "    path = os.path.join(\"results\", f\"targets={n_targets}\", f\"cv={cv}\",\n",
    "                        f\"alphas={alphas.min()},{alphas.max()},{len(alphas)}\", \"varying noise\")\n",
    "    os.makedirs(path, exist_ok=True)\n",
    "    return path"
   ],
   "id": "4e578e5db6242f48",
   "outputs": [],
   "execution_count": 3
  },
  {
   "metadata": {
    "ExecuteTime": {
     "end_time": "2025-03-15T11:20:36.765739Z",
     "start_time": "2025-03-15T11:20:36.755950Z"
    }
   },
   "cell_type": "code",
   "source": [
    "def get_experiments(alphas, cv, n_targets):\n",
    "    path = get_path(alphas, cv, n_targets)\n",
    "    experiments = []\n",
    "    for file in os.listdir(path):\n",
    "        if file.endswith(\".csv\"):\n",
    "            variable = file.split(\"_\")[1].split(\".csv\")[0]\n",
    "            # parse variable\n",
    "            noise = float(variable)\n",
    "            experiments.append(noise)\n",
    "    return experiments"
   ],
   "id": "82d3fc24b1a6bb7e",
   "outputs": [],
   "execution_count": 4
  },
  {
   "metadata": {
    "ExecuteTime": {
     "end_time": "2025-03-15T11:20:36.813654Z",
     "start_time": "2025-03-15T11:20:36.807377Z"
    }
   },
   "cell_type": "code",
   "source": [
    "def save_scores(noise_levels, d_list, scalars, n_targets, n_samples, cv, alphas):\n",
    "    path = get_path(alphas, cv, n_targets)\n",
    "    for noise_target in noise_levels:\n",
    "        print(noise_target)\n",
    "        csv_path = os.path.join(path, f\"scores_{noise_target}.csv\")\n",
    "        scores = pd.DataFrame()\n",
    "        if os.path.exists(csv_path):\n",
    "            print(\"skipping, already exists\")\n",
    "            continue\n",
    "        Xs, Y = generate_dataset(d_list, scalars, n_targets, n_samples, noise_target)\n",
    "        print(\"data generated\")\n",
    "        x1_score, x2_score, joint_score, x1_and_x2_score, vp_x1_unique_score, vp_x2_unique_score = variance_partitioning(\n",
    "            Xs, Y, n_samples_train, alphas, cv)\n",
    "        print(\"variance partitioning done\")\n",
    "\n",
    "        scores[\"x1_score\"] = x1_score\n",
    "        scores[\"x2_score\"] = x2_score\n",
    "        scores[\"vp_joint_score\"] = joint_score\n",
    "        scores[\"vp_shared_score\"] = x1_and_x2_score\n",
    "        scores[\"vp_x1_unique_score\"] = vp_x1_unique_score\n",
    "        scores[\"vp_x2_unique_score\"] = vp_x2_unique_score\n",
    "        del x1_score, x2_score, joint_score, x1_and_x2_score, vp_x1_unique_score, vp_x2_unique_score\n",
    "        print(scores.head())\n",
    "\n",
    "        x2_to_x1_score, x1_to_x2_score, rm_x1_unique_score, rm_x2_unique_score = residual_method(\n",
    "            Xs, Y, n_samples_train, alphas, cv)\n",
    "        print(\"residual method done\")\n",
    "        scores[\"rm_x2_to_x1_score\"] = np.concatenate(\n",
    "            [x2_to_x1_score, np.full(len(rm_x1_unique_score) - len(x2_to_x1_score), np.nan)])\n",
    "        scores[\"rm_x1_to_x2_score\"] = np.concatenate(\n",
    "            [x1_to_x2_score, np.full(len(rm_x1_unique_score) - len(x1_to_x2_score), np.nan)])\n",
    "        scores[\"rm_x1_unique_score\"] = rm_x1_unique_score\n",
    "        scores[\"rm_x2_unique_score\"] = rm_x2_unique_score\n",
    "        del x2_to_x1_score, x1_to_x2_score, rm_x1_unique_score, rm_x2_unique_score\n",
    "\n",
    "        # ridge residual\n",
    "        x2_to_x1_ridge_score, x1_to_x2_ridge_score, rm_ridge_x1_unique_score, rm_ridge_x2_unique_score = residual_method(\n",
    "            Xs, Y, n_samples_train, alphas, cv, use_ols=False)\n",
    "        print(\"residual method done\")\n",
    "        scores[\"rm_ridge_x2_to_x1_score\"] = np.concatenate(\n",
    "            [x2_to_x1_ridge_score, np.full(len(rm_ridge_x1_unique_score) - len(x2_to_x1_ridge_score), np.nan)])\n",
    "        scores[\"rm_ridge_x1_to_x2_score\"] = np.concatenate(\n",
    "            [x1_to_x2_ridge_score, np.full(len(rm_ridge_x1_unique_score) - len(x1_to_x2_ridge_score), np.nan)])\n",
    "        scores[\"rm_ridge_x1_unique_score\"] = rm_ridge_x1_unique_score\n",
    "        scores[\"rm_ridge_x2_unique_score\"] = rm_ridge_x2_unique_score\n",
    "        del x2_to_x1_ridge_score, x1_to_x2_ridge_score, rm_ridge_x1_unique_score, rm_ridge_x2_unique_score\n",
    "        del Xs, Y\n",
    "        scores.to_csv(csv_path, index=False)"
   ],
   "id": "881f582c971d5f8a",
   "outputs": [],
   "execution_count": 5
  },
  {
   "metadata": {},
   "cell_type": "markdown",
   "source": "# Save scores for varying noise levels",
   "id": "d00dc772f2ffa917"
  },
  {
   "metadata": {
    "ExecuteTime": {
     "end_time": "2025-03-15T11:20:37.123792Z",
     "start_time": "2025-03-15T11:20:36.856845Z"
    }
   },
   "cell_type": "code",
   "source": [
    "backend = set_backend(\"cupy\", on_error=\"warn\")\n",
    "warnings.filterwarnings(\"ignore\")\n",
    "random.seed(42)\n",
    "plt.style.use('nord-light-talk')"
   ],
   "id": "3ff0a44e33077917",
   "outputs": [],
   "execution_count": 6
  },
  {
   "metadata": {
    "ExecuteTime": {
     "end_time": "2025-03-15T11:20:37.131780Z",
     "start_time": "2025-03-15T11:20:37.129275Z"
    }
   },
   "cell_type": "code",
   "source": [
    "d_list = [100, 100, 100]\n",
    "n_targets = 10000\n",
    "n_samples_train = 10000\n",
    "n_samples_test = 10000\n",
    "n_samples = n_samples_train + n_samples_test\n",
    "scalars = [1 / 3, 1 / 3, 1 / 3]\n",
    "\n",
    "cv = 10\n",
    "alphas = np.logspace(-5, 5, 10)"
   ],
   "id": "b7a438f228379129",
   "outputs": [],
   "execution_count": 7
  },
  {
   "metadata": {
    "ExecuteTime": {
     "end_time": "2025-03-15T11:20:37.185061Z",
     "start_time": "2025-03-15T11:20:37.179614Z"
    }
   },
   "cell_type": "code",
   "source": [
    "nstep = 21\n",
    "noise_levels = np.linspace(0, 1, nstep)\n",
    "noise_levels"
   ],
   "id": "bf5e4a31c09a5330",
   "outputs": [
    {
     "data": {
      "text/plain": [
       "array([0.  , 0.05, 0.1 , 0.15, 0.2 , 0.25, 0.3 , 0.35, 0.4 , 0.45, 0.5 ,\n",
       "       0.55, 0.6 , 0.65, 0.7 , 0.75, 0.8 , 0.85, 0.9 , 0.95, 1.  ])"
      ]
     },
     "execution_count": 8,
     "metadata": {},
     "output_type": "execute_result"
    }
   ],
   "execution_count": 8
  },
  {
   "metadata": {
    "ExecuteTime": {
     "end_time": "2025-03-15T11:34:04.341553Z",
     "start_time": "2025-03-15T11:20:37.233454Z"
    }
   },
   "cell_type": "code",
   "source": "save_scores(noise_levels, d_list, scalars, n_targets, n_samples, cv, alphas)",
   "id": "f3d311a75f339e77",
   "outputs": [
    {
     "name": "stdout",
     "output_type": "stream",
     "text": [
      "0.0\n",
      "skipping, already exists\n",
      "0.05\n",
      "data generated\n",
      "variance partitioning done\n",
      "   x1_score  x2_score  vp_joint_score  vp_shared_score  vp_x1_unique_score  \\\n",
      "0  0.621636  0.626123        0.944767         0.302992            0.318644   \n",
      "1  0.620122  0.626296        0.943860         0.302558            0.317564   \n",
      "2  0.627814  0.618821        0.945241         0.301394            0.326419   \n",
      "3  0.611273  0.625684        0.944792         0.292165            0.319107   \n",
      "4  0.608940  0.616607        0.943348         0.282198            0.326741   \n",
      "\n",
      "   vp_x2_unique_score  \n",
      "0            0.323131  \n",
      "1            0.323738  \n",
      "2            0.317427  \n",
      "3            0.333519  \n",
      "4            0.334408  \n",
      "residual method done\n",
      "residual method done\n",
      "0.1\n",
      "skipping, already exists\n",
      "0.15000000000000002\n",
      "data generated\n",
      "variance partitioning done\n",
      "   x1_score  x2_score  vp_joint_score  vp_shared_score  vp_x1_unique_score  \\\n",
      "0  0.552436  0.558803        0.842444         0.268795            0.283641   \n",
      "1  0.551571  0.558344        0.840571         0.269344            0.282228   \n",
      "2  0.561560  0.549249        0.843660         0.267149            0.294411   \n",
      "3  0.543840  0.557767        0.841714         0.259892            0.283948   \n",
      "4  0.541710  0.546821        0.839408         0.249123            0.292588   \n",
      "\n",
      "   vp_x2_unique_score  \n",
      "0            0.290008  \n",
      "1            0.289000  \n",
      "2            0.282100  \n",
      "3            0.297875  \n",
      "4            0.297698  \n",
      "residual method done\n",
      "residual method done\n",
      "0.2\n",
      "skipping, already exists\n",
      "0.25\n",
      "data generated\n",
      "variance partitioning done\n",
      "   x1_score  x2_score  vp_joint_score  vp_shared_score  vp_x1_unique_score  \\\n",
      "0  0.483433  0.490888        0.739393         0.234928            0.248504   \n",
      "1  0.483156  0.490258        0.737097         0.236317            0.246839   \n",
      "2  0.494411  0.480431        0.741566         0.233275            0.261135   \n",
      "3  0.476499  0.489671        0.738699         0.227471            0.249028   \n",
      "4  0.474939  0.478027        0.736002         0.216964            0.257975   \n",
      "\n",
      "   vp_x2_unique_score  \n",
      "0            0.255960  \n",
      "1            0.253941  \n",
      "2            0.247155  \n",
      "3            0.262200  \n",
      "4            0.261063  \n",
      "residual method done\n",
      "residual method done\n",
      "0.30000000000000004\n",
      "skipping, already exists\n",
      "0.35000000000000003\n",
      "data generated\n",
      "variance partitioning done\n",
      "   x1_score  x2_score  vp_joint_score  vp_shared_score  vp_x1_unique_score  \\\n",
      "0  0.414478  0.422618        0.636010         0.201085            0.213392   \n",
      "1  0.414906  0.422203        0.633833         0.203276            0.211630   \n",
      "2  0.426703  0.411895        0.639065         0.199534            0.227169   \n",
      "3  0.409218  0.421498        0.635602         0.195115            0.214104   \n",
      "4  0.408537  0.409876        0.633113         0.185301            0.223237   \n",
      "\n",
      "   vp_x2_unique_score  \n",
      "0            0.221532  \n",
      "1            0.218927  \n",
      "2            0.212362  \n",
      "3            0.226383  \n",
      "4            0.224576  \n",
      "residual method done\n",
      "residual method done\n",
      "0.4\n",
      "skipping, already exists\n",
      "0.45\n",
      "data generated\n",
      "variance partitioning done\n",
      "   x1_score  x2_score  vp_joint_score  vp_shared_score  vp_x1_unique_score  \\\n",
      "0  0.345570  0.354097        0.532401         0.167266            0.178304   \n",
      "1  0.346853  0.354244        0.530837         0.170260            0.176593   \n",
      "2  0.358565  0.343550        0.536226         0.165889            0.192676   \n",
      "3  0.342023  0.353311        0.532417         0.162917            0.179106   \n",
      "4  0.342459  0.342249        0.530685         0.154023            0.188436   \n",
      "\n",
      "   vp_x2_unique_score  \n",
      "0            0.186831  \n",
      "1            0.183984  \n",
      "2            0.177661  \n",
      "3            0.190394  \n",
      "4            0.188226  \n",
      "residual method done\n",
      "residual method done\n",
      "0.5\n",
      "skipping, already exists\n",
      "0.55\n",
      "data generated\n",
      "variance partitioning done\n",
      "   x1_score  x2_score  vp_joint_score  vp_shared_score  vp_x1_unique_score  \\\n",
      "0  0.276750  0.285402        0.428766         0.133387            0.143363   \n",
      "1  0.279027  0.286424        0.428159         0.137292            0.141735   \n",
      "2  0.290078  0.275403        0.433144         0.132337            0.157741   \n",
      "3  0.274958  0.285165        0.429413         0.130710            0.144248   \n",
      "4  0.276672  0.275085        0.428320         0.123437            0.153235   \n",
      "\n",
      "   vp_x2_unique_score  \n",
      "0            0.152016  \n",
      "1            0.149132  \n",
      "2            0.143066  \n",
      "3            0.154456  \n",
      "4            0.151649  \n",
      "residual method done\n",
      "residual method done\n",
      "0.6000000000000001\n",
      "skipping, already exists\n",
      "0.65\n",
      "data generated\n",
      "variance partitioning done\n",
      "   x1_score  x2_score  vp_joint_score  vp_shared_score  vp_x1_unique_score  \\\n",
      "0  0.208089  0.216604        0.325033         0.099659            0.108429   \n",
      "1  0.211463  0.218781        0.325854         0.104390            0.107073   \n",
      "2  0.221305  0.207520        0.329864         0.098961            0.122344   \n",
      "3  0.208082  0.217124        0.326566         0.098639            0.109442   \n",
      "4  0.211141  0.208351        0.326692         0.092799            0.118342   \n",
      "\n",
      "   vp_x2_unique_score  \n",
      "0            0.116945  \n",
      "1            0.114391  \n",
      "2            0.108559  \n",
      "3            0.118484  \n",
      "4            0.115552  \n",
      "residual method done\n",
      "residual method done\n",
      "0.7000000000000001\n",
      "skipping, already exists\n",
      "0.75\n",
      "data generated\n",
      "variance partitioning done\n",
      "   x1_score  x2_score  vp_joint_score  vp_shared_score  vp_x1_unique_score  \\\n",
      "0  0.139706  0.147783        0.221410         0.066080            0.073627   \n",
      "1  0.144213  0.151351        0.223994         0.071570            0.072643   \n",
      "2  0.152311  0.140045        0.226676         0.065681            0.086631   \n",
      "3  0.141489  0.149268        0.223857         0.066899            0.074589   \n",
      "4  0.145826  0.142026        0.225367         0.062486            0.083340   \n",
      "\n",
      "   vp_x2_unique_score  \n",
      "0            0.081704  \n",
      "1            0.079781  \n",
      "2            0.074365  \n",
      "3            0.082368  \n",
      "4            0.079540  \n",
      "residual method done\n",
      "residual method done\n",
      "0.8\n",
      "skipping, already exists\n",
      "0.8500000000000001\n",
      "data generated\n",
      "variance partitioning done\n",
      "   x1_score  x2_score  vp_joint_score  vp_shared_score  vp_x1_unique_score  \\\n",
      "0  0.076409  0.082505        0.118132         0.040782            0.035628   \n",
      "1  0.080945  0.085506        0.122279         0.044172            0.036773   \n",
      "2  0.084228  0.075958        0.123810         0.036376            0.047852   \n",
      "3  0.077785  0.082731        0.121476         0.039040            0.038745   \n",
      "4  0.082198  0.079442        0.125328         0.036312            0.045886   \n",
      "\n",
      "   vp_x2_unique_score  \n",
      "0            0.041723  \n",
      "1            0.041335  \n",
      "2            0.039582  \n",
      "3            0.043691  \n",
      "4            0.043130  \n",
      "residual method done\n",
      "residual method done\n",
      "0.9\n",
      "skipping, already exists\n",
      "0.9500000000000001\n",
      "data generated\n",
      "variance partitioning done\n",
      "   x1_score  x2_score  vp_joint_score  vp_shared_score  vp_x1_unique_score  \\\n",
      "0  0.012581  0.017593        0.025892         0.004283            0.008299   \n",
      "1  0.017939  0.022079        0.030701         0.009317            0.008622   \n",
      "2  0.019239  0.014407        0.028563         0.005083            0.014156   \n",
      "3  0.015618  0.019292        0.028409         0.006501            0.009117   \n",
      "4  0.020183  0.017340        0.030759         0.006764            0.013419   \n",
      "\n",
      "   vp_x2_unique_score  \n",
      "0            0.013311  \n",
      "1            0.012762  \n",
      "2            0.009324  \n",
      "3            0.012790  \n",
      "4            0.010576  \n",
      "residual method done\n",
      "residual method done\n",
      "1.0\n",
      "skipping, already exists\n"
     ]
    }
   ],
   "execution_count": 9
  },
  {
   "metadata": {},
   "cell_type": "markdown",
   "source": "# Plot scores",
   "id": "59733bdb308f0cf5"
  },
  {
   "metadata": {
    "ExecuteTime": {
     "end_time": "2025-03-15T11:34:04.934748Z",
     "start_time": "2025-03-15T11:34:04.384838Z"
    }
   },
   "cell_type": "code",
   "source": [
    "vp = pd.DataFrame()\n",
    "rm = pd.DataFrame()\n",
    "rm_ridge = pd.DataFrame()\n",
    "\n",
    "all_levels = get_experiments(alphas, cv, n_targets)\n",
    "print(all_levels)\n",
    "for i, noise_level in enumerate(all_levels):\n",
    "    scores = pd.read_csv(os.path.join(get_path(alphas, cv, n_targets), f\"scores_{noise_level}.csv\"))\n",
    "    vp_x1_unique_predicted = scores['vp_x1_unique_score']\n",
    "    vp_scores = pd.DataFrame({\n",
    "        'noise_target': [noise_level] * len(vp_x1_unique_predicted),\n",
    "        'vp_x1_unique_score': vp_x1_unique_predicted,\n",
    "    }, index=range(len(vp_x1_unique_predicted)))\n",
    "\n",
    "    rm_x1_unique_score = scores['rm_x1_unique_score']\n",
    "    rm_scores = pd.DataFrame({\n",
    "        'noise_target': [noise_level] * len(vp_x1_unique_predicted),\n",
    "        'rm_x1_unique_score': rm_x1_unique_score,\n",
    "    }, index=range(len(vp_x1_unique_predicted)))\n",
    "\n",
    "    rm_ridge_x1_unique_score = scores['rm_ridge_x1_unique_score']\n",
    "    rm_ridge_scores = pd.DataFrame({\n",
    "        'noise_target': [noise_level] * len(vp_x1_unique_predicted),\n",
    "        'rm_ridge_x1_unique_score': rm_ridge_x1_unique_score,\n",
    "    }, index=range(len(vp_x1_unique_predicted)))\n",
    "\n",
    "    vp = pd.concat([vp, vp_scores], ignore_index=True)\n",
    "    rm = pd.concat([rm, rm_scores], ignore_index=True)\n",
    "    rm_ridge = pd.concat([rm_ridge, rm_ridge_scores], ignore_index=True)\n",
    "vp.head()"
   ],
   "id": "351ae4b76c61b15f",
   "outputs": [
    {
     "name": "stdout",
     "output_type": "stream",
     "text": [
      "[0.0, 0.05, 0.55, 0.2, 0.4, 0.35000000000000003, 0.9, 0.25, 0.5, 0.15000000000000002, 1.0, 0.8500000000000001, 0.8, 0.45, 0.65, 0.1, 0.6000000000000001, 0.9500000000000001, 0.30000000000000004, 0.7000000000000001, 0.75]\n"
     ]
    },
    {
     "data": {
      "text/plain": [
       "   noise_target  vp_x1_unique_score\n",
       "0           0.0            0.338148\n",
       "1           0.0            0.337351\n",
       "2           0.0            0.341050\n",
       "3           0.0            0.337566\n",
       "4           0.0            0.343791"
      ],
      "text/html": [
       "<div>\n",
       "<style scoped>\n",
       "    .dataframe tbody tr th:only-of-type {\n",
       "        vertical-align: middle;\n",
       "    }\n",
       "\n",
       "    .dataframe tbody tr th {\n",
       "        vertical-align: top;\n",
       "    }\n",
       "\n",
       "    .dataframe thead th {\n",
       "        text-align: right;\n",
       "    }\n",
       "</style>\n",
       "<table border=\"1\" class=\"dataframe\">\n",
       "  <thead>\n",
       "    <tr style=\"text-align: right;\">\n",
       "      <th></th>\n",
       "      <th>noise_target</th>\n",
       "      <th>vp_x1_unique_score</th>\n",
       "    </tr>\n",
       "  </thead>\n",
       "  <tbody>\n",
       "    <tr>\n",
       "      <th>0</th>\n",
       "      <td>0.0</td>\n",
       "      <td>0.338148</td>\n",
       "    </tr>\n",
       "    <tr>\n",
       "      <th>1</th>\n",
       "      <td>0.0</td>\n",
       "      <td>0.337351</td>\n",
       "    </tr>\n",
       "    <tr>\n",
       "      <th>2</th>\n",
       "      <td>0.0</td>\n",
       "      <td>0.341050</td>\n",
       "    </tr>\n",
       "    <tr>\n",
       "      <th>3</th>\n",
       "      <td>0.0</td>\n",
       "      <td>0.337566</td>\n",
       "    </tr>\n",
       "    <tr>\n",
       "      <th>4</th>\n",
       "      <td>0.0</td>\n",
       "      <td>0.343791</td>\n",
       "    </tr>\n",
       "  </tbody>\n",
       "</table>\n",
       "</div>"
      ]
     },
     "execution_count": 10,
     "metadata": {},
     "output_type": "execute_result"
    }
   ],
   "execution_count": 10
  },
  {
   "metadata": {
    "ExecuteTime": {
     "end_time": "2025-03-15T11:37:53.954777Z",
     "start_time": "2025-03-15T11:37:53.316789Z"
    }
   },
   "cell_type": "code",
   "source": [
    "# fig, ax = plt.subplots(figsize=(4, 4))\n",
    "sns.lineplot(data=rm_ridge, x='noise_target', y='rm_ridge_x1_unique_score', label='Residual Method (Ridge)', errorbar='sd')\n",
    "sns.lineplot(data=rm, x='noise_target', y='rm_x1_unique_score', label='Residual Method (OLS)', errorbar='sd')\n",
    "sns.lineplot(data=vp, x='noise_target', y='vp_x1_unique_score', label='Variance Partitioning', errorbar='sd')\n",
    "expected_values = scalars[1] * (1 - noise_levels)\n",
    "plt.plot(noise_levels, expected_values, linestyle='--', label='Expected Value')\n",
    "plt.xlabel(r\"$a_E$\")\n",
    "# plt.xticks(noise_levels, labels=[f\"{noise:.1f}\" for noise in noise_levels])\n",
    "plt.ylabel(r\"$R^2$ (mean and sd)\")\n",
    "plt.legend(bbox_to_anchor=(0.3, 1), loc='upper left')"
   ],
   "id": "6d65e3b98a3c7f0a",
   "outputs": [
    {
     "data": {
      "text/plain": [
       "<matplotlib.legend.Legend at 0x747e6092f770>"
      ]
     },
     "execution_count": 12,
     "metadata": {},
     "output_type": "execute_result"
    },
    {
     "data": {
      "text/plain": [
       "<Figure size 640x480 with 1 Axes>"
      ],
      "image/png": "[encoded data removed]"
     },
     "metadata": {},
     "output_type": "display_data"
    }
   ],
   "execution_count": 12
  }
 ],
 "metadata": {
  "kernelspec": {
   "display_name": "Python 3",
   "language": "python",
   "name": "python3"
  },
  "language_info": {
   "codemirror_mode": {
    "name": "ipython",
    "version": 2
   },
   "file_extension": ".py",
   "mimetype": "text/x-python",
   "name": "python",
   "nbconvert_exporter": "python",
   "pygments_lexer": "ipython2",
   "version": "2.7.6"
  }
 },
 "nbformat": 4,
 "nbformat_minor": 5
}
