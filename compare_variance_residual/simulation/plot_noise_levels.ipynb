{
 "cells": [
  {
   "metadata": {
    "ExecuteTime": {
     "end_time": "2025-03-21T09:38:42.118008Z",
     "start_time": "2025-03-21T09:38:42.113233Z"
    }
   },
   "cell_type": "code",
   "source": [
    "import os\n",
    "import random\n",
    "import warnings\n",
    "\n",
    "import matplotlib.pyplot as plt\n",
    "import simplstyles\n",
    "import numpy as np\n",
    "import pandas as pd\n",
    "import seaborn as sns\n",
    "from himalaya.backend import set_backend\n",
    "\n",
    "from compare_variance_residual.simulation.residual_method import residual_method\n",
    "from compare_variance_residual.simulation.dataset import generate_dataset\n",
    "from compare_variance_residual.simulation.variance_partitioning import variance_partitioning"
   ],
   "id": "9ddd33b8ef97bc90",
   "outputs": [],
   "execution_count": 9
  },
  {
   "metadata": {
    "ExecuteTime": {
     "end_time": "2025-03-21T09:38:42.123774Z",
     "start_time": "2025-03-21T09:38:42.119720Z"
    }
   },
   "cell_type": "code",
   "source": "plt.style.use('nord-light-talk')",
   "id": "842bd94f67de4d33",
   "outputs": [],
   "execution_count": 10
  },
  {
   "metadata": {
    "ExecuteTime": {
     "end_time": "2025-03-21T09:38:42.128816Z",
     "start_time": "2025-03-21T09:38:42.125418Z"
    }
   },
   "cell_type": "code",
   "source": [
    "def get_path():\n",
    "    path = os.path.join(\"results\", \"varying noise\")\n",
    "    os.makedirs(path, exist_ok=True)\n",
    "    return path"
   ],
   "id": "4e578e5db6242f48",
   "outputs": [],
   "execution_count": 11
  },
  {
   "metadata": {
    "ExecuteTime": {
     "end_time": "2025-03-21T09:38:42.139863Z",
     "start_time": "2025-03-21T09:38:42.136348Z"
    }
   },
   "cell_type": "code",
   "source": [
    "def get_experiments():\n",
    "    path = get_path()\n",
    "    experiments = []\n",
    "    for file in os.listdir(path):\n",
    "        if file.endswith(\".csv\"):\n",
    "            variable = file.split(\"_\")[1].split(\".csv\")[0]\n",
    "            # parse variable\n",
    "            noise = float(variable)\n",
    "            experiments.append(noise)\n",
    "    return experiments"
   ],
   "id": "82d3fc24b1a6bb7e",
   "outputs": [],
   "execution_count": 12
  },
  {
   "metadata": {
    "ExecuteTime": {
     "end_time": "2025-03-21T09:38:42.180197Z",
     "start_time": "2025-03-21T09:38:42.172744Z"
    }
   },
   "cell_type": "code",
   "source": [
    "def save_scores(noise_levels, n_samples=20000, n_samples_train=10000):\n",
    "    path = get_path()\n",
    "    for noise_target in noise_levels:\n",
    "        print(noise_target)\n",
    "        csv_path = os.path.join(path, f\"scores_{noise_target}.csv\")\n",
    "        scores = pd.DataFrame()\n",
    "        if os.path.exists(csv_path):\n",
    "            print(\"skipping, already exists\")\n",
    "            continue\n",
    "        Xs, Y = generate_dataset(n_samples=n_samples, noise_target=noise_target)\n",
    "        print(\"data generated\")\n",
    "        x1_score, x2_score, joint_score, x1_and_x2_score, vp_x1_unique_score, vp_x2_unique_score = variance_partitioning(\n",
    "            Xs, Y, n_samples_train)\n",
    "        print(\"variance partitioning done\")\n",
    "\n",
    "        scores[\"x1_score\"] = x1_score\n",
    "        scores[\"x2_score\"] = x2_score\n",
    "        scores[\"vp_joint_score\"] = joint_score\n",
    "        scores[\"vp_shared_score\"] = x1_and_x2_score\n",
    "        scores[\"vp_x1_unique_score\"] = vp_x1_unique_score\n",
    "        scores[\"vp_x2_unique_score\"] = vp_x2_unique_score\n",
    "        del x1_score, x2_score, joint_score, x1_and_x2_score, vp_x1_unique_score, vp_x2_unique_score\n",
    "        print(scores.head())\n",
    "\n",
    "        x2_to_x1_score, x1_to_x2_score, rm_x1_unique_score, rm_x2_unique_score = residual_method(\n",
    "            Xs, Y, n_samples_train)\n",
    "        print(\"residual method done\")\n",
    "        scores[\"rm_x2_to_x1_score\"] = np.concatenate(\n",
    "            [x2_to_x1_score, np.full(len(rm_x1_unique_score) - len(x2_to_x1_score), np.nan)])\n",
    "        scores[\"rm_x1_to_x2_score\"] = np.concatenate(\n",
    "            [x1_to_x2_score, np.full(len(rm_x1_unique_score) - len(x1_to_x2_score), np.nan)])\n",
    "        scores[\"rm_x1_unique_score\"] = rm_x1_unique_score\n",
    "        scores[\"rm_x2_unique_score\"] = rm_x2_unique_score\n",
    "        del x2_to_x1_score, x1_to_x2_score, rm_x1_unique_score, rm_x2_unique_score\n",
    "\n",
    "        # ridge residual\n",
    "        x2_to_x1_ridge_score, x1_to_x2_ridge_score, rm_ridge_x1_unique_score, rm_ridge_x2_unique_score = residual_method(\n",
    "            Xs, Y, n_samples_train, use_ols=False)\n",
    "        print(\"residual method done\")\n",
    "        scores[\"rm_ridge_x2_to_x1_score\"] = np.concatenate(\n",
    "            [x2_to_x1_ridge_score, np.full(len(rm_ridge_x1_unique_score) - len(x2_to_x1_ridge_score), np.nan)])\n",
    "        scores[\"rm_ridge_x1_to_x2_score\"] = np.concatenate(\n",
    "            [x1_to_x2_ridge_score, np.full(len(rm_ridge_x1_unique_score) - len(x1_to_x2_ridge_score), np.nan)])\n",
    "        scores[\"rm_ridge_x1_unique_score\"] = rm_ridge_x1_unique_score\n",
    "        scores[\"rm_ridge_x2_unique_score\"] = rm_ridge_x2_unique_score\n",
    "        del x2_to_x1_ridge_score, x1_to_x2_ridge_score, rm_ridge_x1_unique_score, rm_ridge_x2_unique_score\n",
    "        del Xs, Y\n",
    "        scores.to_csv(csv_path, index=False)"
   ],
   "id": "881f582c971d5f8a",
   "outputs": [],
   "execution_count": 13
  },
  {
   "metadata": {},
   "cell_type": "markdown",
   "source": "# Save scores for varying noise levels",
   "id": "d00dc772f2ffa917"
  },
  {
   "metadata": {
    "ExecuteTime": {
     "end_time": "2025-03-21T09:38:43.706583Z",
     "start_time": "2025-03-21T09:38:42.193016Z"
    }
   },
   "cell_type": "code",
   "source": [
    "backend = set_backend(\"torch_cuda\")\n",
    "warnings.filterwarnings(\"ignore\")\n",
    "random.seed(42)\n",
    "plt.style.use('nord-light-talk')"
   ],
   "id": "3ff0a44e33077917",
   "outputs": [],
   "execution_count": 14
  },
  {
   "metadata": {
    "ExecuteTime": {
     "end_time": "2025-03-21T09:38:43.713499Z",
     "start_time": "2025-03-21T09:38:43.708417Z"
    }
   },
   "cell_type": "code",
   "source": [
    "nstep = 21\n",
    "noise_levels = np.linspace(0, 1, nstep)\n",
    "noise_levels"
   ],
   "id": "bf5e4a31c09a5330",
   "outputs": [
    {
     "data": {
      "text/plain": [
       "array([0.  , 0.05, 0.1 , 0.15, 0.2 , 0.25, 0.3 , 0.35, 0.4 , 0.45, 0.5 ,\n",
       "       0.55, 0.6 , 0.65, 0.7 , 0.75, 0.8 , 0.85, 0.9 , 0.95, 1.  ])"
      ]
     },
     "execution_count": 15,
     "metadata": {},
     "output_type": "execute_result"
    }
   ],
   "execution_count": 15
  },
  {
   "metadata": {
    "jupyter": {
     "is_executing": true
    },
    "ExecuteTime": {
     "start_time": "2025-03-21T09:38:43.714877Z"
    }
   },
   "cell_type": "code",
   "source": "save_scores(noise_levels)",
   "id": "f3d311a75f339e77",
   "outputs": [
    {
     "name": "stdout",
     "output_type": "stream",
     "text": [
      "0.0\n"
     ]
    }
   ],
   "execution_count": null
  },
  {
   "metadata": {},
   "cell_type": "markdown",
   "source": "# Plot scores",
   "id": "59733bdb308f0cf5"
  },
  {
   "metadata": {
    "jupyter": {
     "is_executing": true
    }
   },
   "cell_type": "code",
   "source": [
    "vp = pd.DataFrame()\n",
    "rm = pd.DataFrame()\n",
    "rm_ridge = pd.DataFrame()\n",
    "\n",
    "all_levels = get_experiments()\n",
    "print(all_levels)\n",
    "for i, noise_level in enumerate(all_levels):\n",
    "    scores = pd.read_csv(os.path.join(get_path(), f\"scores_{noise_level}.csv\"))\n",
    "    vp_x1_unique_predicted = scores['vp_x1_unique_score']\n",
    "    vp_scores = pd.DataFrame({\n",
    "        'noise_target': [noise_level] * len(vp_x1_unique_predicted),\n",
    "        'vp_x1_unique_score': vp_x1_unique_predicted,\n",
    "    }, index=range(len(vp_x1_unique_predicted)))\n",
    "\n",
    "    rm_x1_unique_score = scores['rm_x1_unique_score']\n",
    "    rm_scores = pd.DataFrame({\n",
    "        'noise_target': [noise_level] * len(vp_x1_unique_predicted),\n",
    "        'rm_x1_unique_score': rm_x1_unique_score,\n",
    "    }, index=range(len(vp_x1_unique_predicted)))\n",
    "\n",
    "    rm_ridge_x1_unique_score = scores['rm_ridge_x1_unique_score']\n",
    "    rm_ridge_scores = pd.DataFrame({\n",
    "        'noise_target': [noise_level] * len(vp_x1_unique_predicted),\n",
    "        'rm_ridge_x1_unique_score': rm_ridge_x1_unique_score,\n",
    "    }, index=range(len(vp_x1_unique_predicted)))\n",
    "\n",
    "    vp = pd.concat([vp, vp_scores], ignore_index=True)\n",
    "    rm = pd.concat([rm, rm_scores], ignore_index=True)\n",
    "    rm_ridge = pd.concat([rm_ridge, rm_ridge_scores], ignore_index=True)\n",
    "vp.head()"
   ],
   "id": "351ae4b76c61b15f",
   "outputs": [],
   "execution_count": null
  },
  {
   "metadata": {
    "jupyter": {
     "is_executing": true
    }
   },
   "cell_type": "code",
   "source": [
    "# fig, ax = plt.subplots(figsize=(4, 4))\n",
    "sns.lineplot(data=rm_ridge, x='noise_target', y='rm_ridge_x1_unique_score', label='Residual Method (Ridge)',\n",
    "             errorbar='sd')\n",
    "sns.lineplot(data=rm, x='noise_target', y='rm_x1_unique_score', label='Residual Method (OLS)', errorbar='sd')\n",
    "sns.lineplot(data=vp, x='noise_target', y='vp_x1_unique_score', label='Variance Partitioning', errorbar='sd')\n",
    "expected_values = 1 / 3 * (1 - noise_levels)\n",
    "plt.plot(noise_levels, expected_values, linestyle='--', label='Expected Value')\n",
    "plt.xlabel(r\"$a_E$\")\n",
    "# plt.xticks(noise_levels, labels=[f\"{noise:.1f}\" for noise in noise_levels])\n",
    "plt.ylabel(r\"$R^2$ (mean and sd)\")\n",
    "plt.legend(bbox_to_anchor=(0.3, 1), loc='upper left')"
   ],
   "id": "6d65e3b98a3c7f0a",
   "outputs": [],
   "execution_count": null
  }
 ],
 "metadata": {
  "kernelspec": {
   "display_name": "Python 3",
   "language": "python",
   "name": "python3"
  },
  "language_info": {
   "codemirror_mode": {
    "name": "ipython",
    "version": 2
   },
   "file_extension": ".py",
   "mimetype": "text/x-python",
   "name": "python",
   "nbconvert_exporter": "python",
   "pygments_lexer": "ipython2",
   "version": "2.7.6"
  }
 },
 "nbformat": 4,
 "nbformat_minor": 5
}
