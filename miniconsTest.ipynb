{
 "cells": [
  {
   "cell_type": "code",
   "id": "initial_id",
   "metadata": {
    "ExecuteTime": {
     "end_time": "2024-09-26T18:58:22.134389Z",
     "start_time": "2024-09-26T18:58:20.110690Z"
    }
   },
   "source": [
    "import minicons.utils\n",
    "!pip install minicons"
   ],
   "outputs": [
    {
     "name": "stdout",
     "output_type": "stream",
     "text": [
      "Requirement already satisfied: minicons in c:\\users\\leo\\pycharmprojects\\miniconsplayground\\venv\\lib\\site-packages (0.2.49)\n",
      "Requirement already satisfied: accelerate>=0.25.0 in c:\\users\\leo\\pycharmprojects\\miniconsplayground\\venv\\lib\\site-packages (from minicons) (0.34.2)\n",
      "Requirement already satisfied: openai<0.29.0,>=0.28.0 in c:\\users\\leo\\pycharmprojects\\miniconsplayground\\venv\\lib\\site-packages (from minicons) (0.28.1)\n",
      "Requirement already satisfied: pandas==2.2.0 in c:\\users\\leo\\pycharmprojects\\miniconsplayground\\venv\\lib\\site-packages (from minicons) (2.2.0)\n",
      "Requirement already satisfied: pillow<11.0.0,>=10.2.0 in c:\\users\\leo\\pycharmprojects\\miniconsplayground\\venv\\lib\\site-packages (from minicons) (10.4.0)\n",
      "Requirement already satisfied: tenacity<9.0.0,>=8.2.3 in c:\\users\\leo\\pycharmprojects\\miniconsplayground\\venv\\lib\\site-packages (from minicons) (8.5.0)\n",
      "Requirement already satisfied: torch<3.0.0,>=2.0.0 in c:\\users\\leo\\pycharmprojects\\miniconsplayground\\venv\\lib\\site-packages (from minicons) (2.4.1)\n",
      "Requirement already satisfied: transformers>=4.30.0 in c:\\users\\leo\\pycharmprojects\\miniconsplayground\\venv\\lib\\site-packages (from minicons) (4.45.0)\n",
      "Requirement already satisfied: urllib3<2.0.0,>=1.26.7 in c:\\users\\leo\\pycharmprojects\\miniconsplayground\\venv\\lib\\site-packages (from minicons) (1.26.20)\n",
      "Requirement already satisfied: wonderwords<3.0.0,>=2.2.0 in c:\\users\\leo\\pycharmprojects\\miniconsplayground\\venv\\lib\\site-packages (from minicons) (2.2.0)\n",
      "Requirement already satisfied: numpy<2,>=1.22.4 in c:\\users\\leo\\pycharmprojects\\miniconsplayground\\venv\\lib\\site-packages (from pandas==2.2.0->minicons) (1.26.4)\n",
      "Requirement already satisfied: python-dateutil>=2.8.2 in c:\\users\\leo\\pycharmprojects\\miniconsplayground\\venv\\lib\\site-packages (from pandas==2.2.0->minicons) (2.9.0.post0)\n",
      "Requirement already satisfied: pytz>=2020.1 in c:\\users\\leo\\pycharmprojects\\miniconsplayground\\venv\\lib\\site-packages (from pandas==2.2.0->minicons) (2024.2)\n",
      "Requirement already satisfied: tzdata>=2022.7 in c:\\users\\leo\\pycharmprojects\\miniconsplayground\\venv\\lib\\site-packages (from pandas==2.2.0->minicons) (2024.2)\n",
      "Requirement already satisfied: packaging>=20.0 in c:\\users\\leo\\pycharmprojects\\miniconsplayground\\venv\\lib\\site-packages (from accelerate>=0.25.0->minicons) (24.1)\n",
      "Requirement already satisfied: psutil in c:\\users\\leo\\pycharmprojects\\miniconsplayground\\venv\\lib\\site-packages (from accelerate>=0.25.0->minicons) (6.0.0)\n",
      "Requirement already satisfied: pyyaml in c:\\users\\leo\\pycharmprojects\\miniconsplayground\\venv\\lib\\site-packages (from accelerate>=0.25.0->minicons) (6.0.2)\n",
      "Requirement already satisfied: huggingface-hub>=0.21.0 in c:\\users\\leo\\pycharmprojects\\miniconsplayground\\venv\\lib\\site-packages (from accelerate>=0.25.0->minicons) (0.25.1)\n",
      "Requirement already satisfied: safetensors>=0.4.3 in c:\\users\\leo\\pycharmprojects\\miniconsplayground\\venv\\lib\\site-packages (from accelerate>=0.25.0->minicons) (0.4.5)\n",
      "Requirement already satisfied: requests>=2.20 in c:\\users\\leo\\pycharmprojects\\miniconsplayground\\venv\\lib\\site-packages (from openai<0.29.0,>=0.28.0->minicons) (2.32.3)\n",
      "Requirement already satisfied: tqdm in c:\\users\\leo\\pycharmprojects\\miniconsplayground\\venv\\lib\\site-packages (from openai<0.29.0,>=0.28.0->minicons) (4.66.5)\n",
      "Requirement already satisfied: aiohttp in c:\\users\\leo\\pycharmprojects\\miniconsplayground\\venv\\lib\\site-packages (from openai<0.29.0,>=0.28.0->minicons) (3.10.6)\n",
      "Requirement already satisfied: filelock in c:\\users\\leo\\pycharmprojects\\miniconsplayground\\venv\\lib\\site-packages (from torch<3.0.0,>=2.0.0->minicons) (3.16.1)\n",
      "Requirement already satisfied: typing-extensions>=4.8.0 in c:\\users\\leo\\pycharmprojects\\miniconsplayground\\venv\\lib\\site-packages (from torch<3.0.0,>=2.0.0->minicons) (4.12.2)\n",
      "Requirement already satisfied: sympy in c:\\users\\leo\\pycharmprojects\\miniconsplayground\\venv\\lib\\site-packages (from torch<3.0.0,>=2.0.0->minicons) (1.13.3)\n",
      "Requirement already satisfied: networkx in c:\\users\\leo\\pycharmprojects\\miniconsplayground\\venv\\lib\\site-packages (from torch<3.0.0,>=2.0.0->minicons) (3.3)\n",
      "Requirement already satisfied: jinja2 in c:\\users\\leo\\pycharmprojects\\miniconsplayground\\venv\\lib\\site-packages (from torch<3.0.0,>=2.0.0->minicons) (3.1.4)\n",
      "Requirement already satisfied: fsspec in c:\\users\\leo\\pycharmprojects\\miniconsplayground\\venv\\lib\\site-packages (from torch<3.0.0,>=2.0.0->minicons) (2024.9.0)\n",
      "Requirement already satisfied: regex!=2019.12.17 in c:\\users\\leo\\pycharmprojects\\miniconsplayground\\venv\\lib\\site-packages (from transformers>=4.30.0->minicons) (2024.9.11)\n",
      "Requirement already satisfied: tokenizers<0.21,>=0.20 in c:\\users\\leo\\pycharmprojects\\miniconsplayground\\venv\\lib\\site-packages (from transformers>=4.30.0->minicons) (0.20.0)\n",
      "Requirement already satisfied: six>=1.5 in c:\\users\\leo\\pycharmprojects\\miniconsplayground\\venv\\lib\\site-packages (from python-dateutil>=2.8.2->pandas==2.2.0->minicons) (1.16.0)\n",
      "Requirement already satisfied: charset-normalizer<4,>=2 in c:\\users\\leo\\pycharmprojects\\miniconsplayground\\venv\\lib\\site-packages (from requests>=2.20->openai<0.29.0,>=0.28.0->minicons) (3.3.2)\n",
      "Requirement already satisfied: idna<4,>=2.5 in c:\\users\\leo\\pycharmprojects\\miniconsplayground\\venv\\lib\\site-packages (from requests>=2.20->openai<0.29.0,>=0.28.0->minicons) (3.10)\n",
      "Requirement already satisfied: certifi>=2017.4.17 in c:\\users\\leo\\pycharmprojects\\miniconsplayground\\venv\\lib\\site-packages (from requests>=2.20->openai<0.29.0,>=0.28.0->minicons) (2024.8.30)\n",
      "Requirement already satisfied: colorama in c:\\users\\leo\\pycharmprojects\\miniconsplayground\\venv\\lib\\site-packages (from tqdm->openai<0.29.0,>=0.28.0->minicons) (0.4.6)\n",
      "Requirement already satisfied: aiohappyeyeballs>=2.3.0 in c:\\users\\leo\\pycharmprojects\\miniconsplayground\\venv\\lib\\site-packages (from aiohttp->openai<0.29.0,>=0.28.0->minicons) (2.4.0)\n",
      "Requirement already satisfied: aiosignal>=1.1.2 in c:\\users\\leo\\pycharmprojects\\miniconsplayground\\venv\\lib\\site-packages (from aiohttp->openai<0.29.0,>=0.28.0->minicons) (1.3.1)\n",
      "Requirement already satisfied: attrs>=17.3.0 in c:\\users\\leo\\pycharmprojects\\miniconsplayground\\venv\\lib\\site-packages (from aiohttp->openai<0.29.0,>=0.28.0->minicons) (24.2.0)\n",
      "Requirement already satisfied: frozenlist>=1.1.1 in c:\\users\\leo\\pycharmprojects\\miniconsplayground\\venv\\lib\\site-packages (from aiohttp->openai<0.29.0,>=0.28.0->minicons) (1.4.1)\n",
      "Requirement already satisfied: multidict<7.0,>=4.5 in c:\\users\\leo\\pycharmprojects\\miniconsplayground\\venv\\lib\\site-packages (from aiohttp->openai<0.29.0,>=0.28.0->minicons) (6.1.0)\n",
      "Requirement already satisfied: yarl<2.0,>=1.12.0 in c:\\users\\leo\\pycharmprojects\\miniconsplayground\\venv\\lib\\site-packages (from aiohttp->openai<0.29.0,>=0.28.0->minicons) (1.12.1)\n",
      "Requirement already satisfied: async-timeout<5.0,>=4.0 in c:\\users\\leo\\pycharmprojects\\miniconsplayground\\venv\\lib\\site-packages (from aiohttp->openai<0.29.0,>=0.28.0->minicons) (4.0.3)\n",
      "Requirement already satisfied: MarkupSafe>=2.0 in c:\\users\\leo\\pycharmprojects\\miniconsplayground\\venv\\lib\\site-packages (from jinja2->torch<3.0.0,>=2.0.0->minicons) (2.1.5)\n",
      "Requirement already satisfied: mpmath<1.4,>=1.1.0 in c:\\users\\leo\\pycharmprojects\\miniconsplayground\\venv\\lib\\site-packages (from sympy->torch<3.0.0,>=2.0.0->minicons) (1.3.0)\n"
     ]
    },
    {
     "name": "stderr",
     "output_type": "stream",
     "text": [
      "\n",
      "[notice] A new release of pip is available: 23.2.1 -> 24.2\n",
      "[notice] To update, run: python.exe -m pip install --upgrade pip\n"
     ]
    }
   ],
   "execution_count": 27
  },
  {
   "metadata": {
    "ExecuteTime": {
     "end_time": "2024-09-26T19:09:22.519181Z",
     "start_time": "2024-09-26T19:09:22.484453Z"
    }
   },
   "cell_type": "code",
   "source": [
    "import os\n",
    "from minicons import cwe\n",
    "from minicons import scorer"
   ],
   "id": "60793d8302df4111",
   "outputs": [],
   "execution_count": 36
  },
  {
   "metadata": {},
   "cell_type": "markdown",
   "source": "# Load stimuli and model",
   "id": "ecd74ad03ef94eb5"
  },
  {
   "metadata": {
    "ExecuteTime": {
     "end_time": "2024-09-26T18:58:22.693806Z",
     "start_time": "2024-09-26T18:58:22.150398Z"
    }
   },
   "cell_type": "code",
   "source": [
    "stimuli_folder = \"./stimuli\"\n",
    "stimuli = []\n",
    "for file in os.listdir(stimuli_folder):\n",
    "    with open(stimuli_folder + \"/\" + file, 'r') as stimulus:\n",
    "        file_contents = stimulus.read().replace('\\n', '')\n",
    "        text_split_at_space = file_contents.split(\" \")\n",
    "        while text_split_at_space.__contains__(\"\"):\n",
    "            text_split_at_space.remove(\"\")\n",
    "        stimuli.append(text_split_at_space)\n",
    "\n",
    "model = cwe.CWE('bert-base-uncased')"
   ],
   "id": "7aa28dd6bd21edc9",
   "outputs": [],
   "execution_count": 29
  },
  {
   "metadata": {},
   "cell_type": "markdown",
   "source": "# Produce Sliding window predictions",
   "id": "822774438d5af8ff"
  },
  {
   "metadata": {
    "ExecuteTime": {
     "end_time": "2024-09-26T19:05:28.311459Z",
     "start_time": "2024-09-26T19:04:02.082747Z"
    }
   },
   "cell_type": "code",
   "source": [
    "def get_context_words_for_pos(arr: list, pos: int, window_size: int) -> [str]:\n",
    "    min_index = max(0, pos - (window_size + 1))\n",
    "    context = arr[min_index]\n",
    "    for i in range(min_index + 1, pos + 1):\n",
    "        context = context + \" \" + arr[i]\n",
    "    return [context, arr[pos]]\n",
    "\n",
    "\n",
    "context_size = 5\n",
    "dataset = stimuli[0]\n",
    "pos = 2\n",
    "layer_to_extract = None\n",
    "\n",
    "\n",
    "representations = []\n",
    "for pos in range(len(dataset)):\n",
    "    context_words = get_context_words_for_pos(dataset, pos, context_size)\n",
    "    representation = model.extract_representation(context_words, layer=layer_to_extract)\n",
    "    representations.append([context_words, representation])"
   ],
   "id": "a1d52a7a00777bdb",
   "outputs": [],
   "execution_count": 34
  },
  {
   "metadata": {
    "ExecuteTime": {
     "end_time": "2024-09-26T19:06:00.653605Z",
     "start_time": "2024-09-26T19:06:00.641066Z"
    }
   },
   "cell_type": "code",
   "source": "print(representations[0][1])",
   "id": "d877e64d6c12d1ea",
   "outputs": [
    {
     "name": "stdout",
     "output_type": "stream",
     "text": [
      "tensor([[ 3.8546e-01,  2.5927e-02,  4.5724e-01,  2.4660e-01, -1.8420e-01,\n",
      "          4.0395e-01,  2.5618e-02,  7.5747e-01, -3.1473e-01, -2.8724e-01,\n",
      "         -3.5021e-01,  8.0802e-02, -3.5961e-02,  1.4989e-01, -1.2546e-01,\n",
      "          3.8521e-01, -4.2257e-01, -6.8980e-02, -2.2295e-01, -1.1200e-01,\n",
      "          5.6545e-02, -2.9890e-01, -3.1384e-01,  4.3110e-01, -4.5344e-01,\n",
      "          2.6639e-01, -4.8424e-01, -8.1909e-01, -3.2558e-01,  3.4584e-01,\n",
      "          3.1353e-01,  4.0233e-01, -3.5318e-01, -5.7898e-01, -6.5884e-01,\n",
      "          1.5276e-01, -2.7353e-01, -4.5331e-01, -2.3076e-01, -9.7108e-02,\n",
      "          9.5714e-03, -2.4807e-01, -9.1338e-02,  1.1594e-01,  6.1116e-02,\n",
      "         -4.6243e-01,  3.5154e-01, -1.0457e-01,  5.3796e-02, -4.8131e-01,\n",
      "         -2.8545e-01,  2.7677e-01, -1.3215e-01, -3.3050e-01, -2.0261e-01,\n",
      "          6.4922e-01,  1.2876e-01,  2.1384e-01, -1.3975e-01,  1.5448e-01,\n",
      "         -4.4165e-01,  3.6759e-01,  7.5730e-01,  1.6125e-01,  3.0599e-03,\n",
      "          1.0378e-01, -7.0599e-02,  3.7860e-01, -3.4448e-01, -2.5581e-01,\n",
      "         -1.7627e-01,  8.6061e-03, -2.1809e-02, -4.2099e-01,  3.2761e-02,\n",
      "         -7.8784e-01, -3.7690e-01,  5.7649e-02,  6.0750e-02, -3.2603e-01,\n",
      "          1.0285e-02,  5.1861e-01, -3.5388e-01,  2.6650e-01,  3.2431e-01,\n",
      "         -2.2310e-01, -4.7869e-01, -2.2646e-02, -7.7623e-01,  6.1715e-01,\n",
      "         -4.0652e-01, -3.1334e-01,  7.4026e-01,  6.5724e-01,  2.0605e-01,\n",
      "         -2.2311e-01,  5.4969e-02, -4.3267e-02,  6.9316e-01,  6.0477e-01,\n",
      "         -7.4772e-02, -5.1306e-01, -2.6240e-01, -3.5686e-02, -1.2028e+00,\n",
      "         -1.9458e-01, -5.7766e-02, -6.5982e-01,  8.3010e-01, -6.3223e-01,\n",
      "         -3.0540e-01,  4.1655e-01, -7.5328e-02,  2.8919e-01,  2.1634e-01,\n",
      "          8.6278e-01, -2.1526e-01, -2.0883e-01,  1.0786e-01,  1.8106e-01,\n",
      "         -8.7815e-02,  1.4105e-01,  8.6329e-01,  3.6043e-01, -2.8447e-01,\n",
      "          6.4976e-02, -6.2768e-01,  2.1670e-01, -1.1667e-01, -5.2205e-01,\n",
      "         -8.3422e-02,  2.3635e-01,  2.2515e-01, -6.2996e-01,  1.8674e-01,\n",
      "          4.1028e-01, -2.2829e-01, -3.1909e-01,  3.1807e-03, -3.4841e-01,\n",
      "          8.9989e-01,  7.3075e-01,  3.0129e-02, -5.6651e-02,  5.8388e-02,\n",
      "          7.4374e-02, -2.5511e-01,  8.3395e-02, -2.3987e-01, -6.2357e-02,\n",
      "         -3.6200e-02,  2.1309e-01,  3.0485e-01, -2.8090e-01,  1.1896e-01,\n",
      "         -6.2128e-02,  3.8367e-01,  8.9711e-01,  3.1247e-02,  4.2313e-01,\n",
      "         -2.4704e-01, -1.1239e-02,  1.1472e-01,  9.2089e-01, -3.0546e-01,\n",
      "         -3.8442e-01, -3.0677e-02, -2.8531e-01,  1.3217e-01,  4.3549e-01,\n",
      "         -4.6777e-02, -2.4044e-01,  5.0859e-01, -1.4209e-01,  6.8946e-01,\n",
      "         -5.7361e-01,  1.0183e-01, -4.2397e-02,  1.7163e-01,  1.1529e-01,\n",
      "         -3.1914e-01,  8.5279e-01, -2.6512e-01, -2.2228e-01,  1.5791e-01,\n",
      "         -3.2316e-01,  1.0410e+00, -4.3743e-01,  4.8645e-01,  1.7469e-01,\n",
      "          3.9678e-01, -1.6912e-01, -5.5579e-01, -2.4946e-01, -1.0908e-01,\n",
      "         -1.0410e+00, -4.7427e-01, -6.5214e-01,  1.2845e-01,  3.5850e-01,\n",
      "          1.7632e-02, -3.3026e-01,  5.0543e-02, -2.3261e-01, -4.3205e-01,\n",
      "          1.4765e+00, -2.0587e-01, -2.5851e-01, -2.2047e-01, -7.9663e-02,\n",
      "          6.7777e-02,  3.4323e-01,  7.1161e-02, -2.5521e-01,  1.1702e+00,\n",
      "         -2.8073e-01, -1.1617e-01,  3.7479e-02, -1.6207e-01, -2.3019e-01,\n",
      "          1.1043e+00, -2.1312e-01, -1.2643e-01,  7.3937e-01, -3.3795e-01,\n",
      "          7.1108e-01,  1.6155e-01, -1.3146e-01,  1.2813e-02, -4.8802e-01,\n",
      "         -2.6838e-01, -3.6248e-01,  1.2594e+00,  1.9626e-01,  4.1593e-01,\n",
      "          3.3143e-01, -6.9911e-01,  1.3650e-01, -3.3020e-01,  4.6577e-01,\n",
      "          5.1035e-02,  6.2548e-01,  7.3639e-01,  6.1000e-01,  1.6583e-01,\n",
      "          4.2108e-01,  7.2009e-01, -2.9163e-01,  1.1707e-01, -4.0338e-01,\n",
      "         -4.5492e-01, -9.9102e-01, -6.2595e-01, -2.4723e-01, -5.5200e-01,\n",
      "         -2.2900e-01, -4.5233e-01, -2.3041e-01,  1.2987e-01, -5.0737e-02,\n",
      "         -1.3330e-01, -3.0360e-02,  5.7066e-01, -3.0790e-01, -1.3369e-01,\n",
      "         -8.9076e-02, -2.5126e-02, -4.1523e-02,  7.5222e-01,  1.0834e-01,\n",
      "          6.9653e-01,  3.8119e-01,  3.3201e-01, -4.0694e-01, -5.6056e-01,\n",
      "         -2.4338e-01,  6.7972e-01,  1.0471e-01,  4.4818e-01, -3.9067e-01,\n",
      "         -4.9745e-01,  6.6787e-01, -3.4108e-01,  2.8767e-01, -1.2961e-01,\n",
      "          2.2033e-01, -3.3473e-01,  1.2522e-01, -2.7908e-01, -6.5628e-01,\n",
      "          1.7502e-01,  1.2168e-01,  9.2708e-01, -5.7359e-01,  4.6356e-01,\n",
      "         -3.6440e-01,  1.8656e-02,  2.4228e-02, -3.2795e-01, -4.3276e-01,\n",
      "          2.9776e-01, -3.7056e-01,  9.1339e-02,  7.7583e-02, -7.3230e-01,\n",
      "          3.2053e-02, -7.0163e-01, -4.2348e-01, -3.7695e+00, -4.0966e-01,\n",
      "         -9.5897e-02, -4.0993e-01,  2.5658e-01, -8.0006e-01, -1.2573e-01,\n",
      "          1.0226e-01, -7.1322e-01, -1.7532e-01,  6.2969e-01, -4.9135e-01,\n",
      "          2.1303e-01,  2.1827e-01,  7.6937e-01, -4.6485e-01, -5.8852e-01,\n",
      "          6.3245e-02, -5.4069e-01,  7.8876e-01, -9.2583e-02, -1.2414e-01,\n",
      "         -1.8905e-02, -2.3029e-01,  1.0586e-02,  1.0546e+00, -4.8552e-01,\n",
      "          1.3069e-01, -7.0681e-01,  7.6795e-01, -6.5228e-01, -1.0300e-01,\n",
      "          3.4020e-01, -1.7918e-01,  3.0132e-01,  1.3713e-01, -2.6024e-01,\n",
      "         -4.7028e-01,  3.3059e-01, -5.7554e-01,  5.0896e-03, -5.7782e-01,\n",
      "          4.1228e-02, -5.4317e-01,  3.7355e-01,  7.0626e-02, -4.4254e-01,\n",
      "         -1.2895e-01,  2.9228e-01,  1.7961e-01,  1.4280e-01, -4.6025e-01,\n",
      "          1.5525e-01, -3.0273e-01,  3.2361e-02, -4.4109e-01, -5.2977e-01,\n",
      "          1.9222e-01,  3.1722e-01,  3.9284e-01, -4.1842e-01,  3.9106e-01,\n",
      "         -6.4671e-01,  5.6122e-01, -1.3147e-01,  6.5852e-01, -6.6181e-01,\n",
      "          7.4223e-01,  6.6398e-01, -1.9438e-01, -6.4180e-02,  4.7340e-01,\n",
      "         -3.0980e-01, -6.9343e-01, -7.0523e-02,  3.7806e-01,  3.8251e-01,\n",
      "         -5.9106e-01,  2.2605e-01, -5.8309e-01, -5.1185e-01,  1.2352e-01,\n",
      "         -2.7717e-03,  5.4829e-01,  4.4547e-01, -3.5019e-01,  3.2630e-01,\n",
      "         -6.2865e-01,  2.0084e-01,  1.1551e-01,  8.1840e-01, -1.1880e-01,\n",
      "          6.8809e-02,  3.4470e-01,  5.9610e-01, -1.1661e-01, -1.5537e-01,\n",
      "         -1.2685e-01, -3.7399e-03,  7.4573e-02,  4.4069e-01, -2.5959e-01,\n",
      "          2.9356e-01,  7.8159e-02,  4.1679e-01,  3.4682e-01, -7.6273e-01,\n",
      "         -1.8170e-02,  3.4164e-01,  3.9910e-01, -3.1294e-02, -5.4209e-01,\n",
      "          1.0877e-01,  1.2182e-01,  9.0842e-02, -2.7430e-01,  1.8457e-01,\n",
      "          2.8971e-01, -5.1601e-01,  8.4551e-01,  5.0892e-02,  8.2092e-01,\n",
      "         -5.2253e-02, -7.8735e-03, -5.4123e-01,  3.3918e-01, -2.0518e-01,\n",
      "         -4.6547e-01, -1.0611e+00,  7.1774e-02, -4.1382e-01, -1.1298e-01,\n",
      "          5.5087e-02, -9.1162e-01,  4.5392e-01,  2.5945e-02,  1.1235e-01,\n",
      "         -1.4909e-01,  9.7467e-03,  2.1904e-01, -2.7104e-01,  2.5741e-01,\n",
      "          6.3486e-02,  6.9547e-01, -3.2308e-01,  6.6039e-01, -2.0377e-02,\n",
      "         -2.3830e-01, -1.8075e-01,  6.0186e-02,  7.1719e-01, -1.7056e-01,\n",
      "          2.8314e-01,  8.6364e-03, -3.0960e-01, -1.8403e-01,  9.7656e-01,\n",
      "         -1.1228e-01,  2.0517e-01, -9.3894e-01, -3.8869e-01,  3.3977e-01,\n",
      "          3.6686e-01,  1.1749e-01,  5.3796e-01,  7.2965e-02,  3.8228e-01,\n",
      "          8.3038e-02, -2.7223e-01, -3.9659e-01,  6.2935e-01,  3.3981e-01,\n",
      "          3.9027e-01, -1.3301e-01, -5.7568e-01,  3.0660e-02, -3.0404e-01,\n",
      "          1.3568e-01, -1.8092e-01,  2.2454e-01, -1.8886e-03, -6.2868e-02,\n",
      "          2.9439e-01, -3.1345e-01,  3.0298e-01,  8.2130e-01, -8.3368e-01,\n",
      "          9.4896e-02,  7.3081e-02,  3.3137e-01, -5.1325e-01,  1.5399e-01,\n",
      "         -6.9142e-01, -2.6726e-01, -8.3351e-01, -2.8203e-01, -3.0880e-01,\n",
      "         -7.4404e-01, -8.2917e-02,  9.0736e-02,  2.9474e-01, -2.0063e-02,\n",
      "         -3.7493e-01,  5.6236e-01,  2.1884e-01, -3.1070e-01, -1.0302e-01,\n",
      "          4.8578e-01, -2.3373e-01,  4.5559e-01, -1.2169e-01,  7.9517e-02,\n",
      "         -4.9588e-01,  2.5992e-02,  2.3039e-01, -4.0449e-01,  2.9779e-01,\n",
      "          5.1499e-01, -2.6740e-01, -4.1009e-01, -4.7092e-01, -3.8958e-01,\n",
      "          2.2216e-01, -2.0933e-01, -5.8740e-01, -2.4801e-01, -8.2527e-01,\n",
      "         -2.7403e-01, -4.7011e-01, -3.3682e-01, -8.8003e-01, -4.8095e-01,\n",
      "          5.9386e-01,  2.2727e-01,  3.9610e-02,  2.3229e-02, -2.6946e-02,\n",
      "          3.0945e-01,  1.5903e-01, -3.6901e-02, -7.1370e-01,  3.2697e-02,\n",
      "         -1.0496e+00, -1.1764e-02,  2.0847e-01,  6.2193e-01,  9.5252e-02,\n",
      "          1.9379e-01, -3.9282e-01,  2.2855e-01,  4.6191e-04, -3.9079e-01,\n",
      "         -3.6813e-01, -4.2718e-01, -1.7176e-01,  6.8568e-01, -5.1078e-01,\n",
      "          2.3894e-01, -2.4314e-03,  4.3377e-01,  2.1082e-02, -1.7034e-01,\n",
      "          3.6861e-01, -2.3721e-01, -6.5129e-01,  3.5126e-01, -5.2884e-02,\n",
      "         -2.0856e-01,  2.4602e-01, -3.0378e-04, -4.7527e-01, -2.3324e-01,\n",
      "          5.3784e-01,  4.2053e-01,  5.8473e-02, -4.1250e-01,  8.7794e-02,\n",
      "         -2.1496e-01,  1.3974e-01,  4.9275e-01,  1.4611e-01,  4.5796e-01,\n",
      "         -6.0613e-01, -4.0181e-01, -7.5498e-01, -3.8754e-01, -1.5224e-01,\n",
      "          2.7453e-01, -2.7622e-01,  8.9823e-02, -2.1956e-01,  2.2062e-01,\n",
      "          2.3450e-01, -1.3611e-01,  3.5352e-01, -3.4955e-04,  7.6665e-01,\n",
      "         -1.0233e-01, -1.1169e-01, -8.7119e-02, -6.3246e-01,  1.1295e-01,\n",
      "          8.7996e-02,  1.7070e-02, -1.6211e-02,  3.5054e-01,  2.3540e-01,\n",
      "         -2.6750e-01,  1.7300e-01,  2.9206e-01, -4.3297e-01, -6.0454e-02,\n",
      "          1.2299e+00,  3.2880e-01,  4.7634e-01,  3.1824e-01,  1.9613e-01,\n",
      "         -7.8464e-01, -4.5863e-01,  8.6214e-02, -3.1593e-01, -1.3569e-01,\n",
      "          5.3416e-02,  2.9337e-01,  9.5738e-01,  6.5791e-02, -5.0068e-01,\n",
      "          1.0759e-01,  1.7770e-01,  9.0573e-01,  1.8437e-01,  2.7412e-02,\n",
      "         -5.2132e-01,  5.5817e-01, -3.4302e-02,  3.9281e-01, -1.6384e-02,\n",
      "         -6.7562e-01,  6.2513e-01,  3.0925e-01, -4.0096e-02,  3.1289e-01,\n",
      "          6.6760e-01, -3.0727e-02, -4.0514e-01, -1.2970e-02, -4.8936e-01,\n",
      "          1.7250e-01,  4.3103e-01,  5.4161e-01, -3.4344e-02,  3.2028e-03,\n",
      "         -8.4613e-01,  3.1832e-01,  3.9053e-01,  1.5563e-01,  2.3667e-01,\n",
      "          1.5339e-01, -5.7298e-01, -6.1901e-01,  2.4046e-01,  2.5217e-01,\n",
      "          2.7665e-01, -2.4733e-01,  1.0646e-01,  1.3211e-01, -5.4099e-02,\n",
      "          1.4039e-01,  4.0769e-01, -1.4282e-01,  4.2577e-01,  8.3594e-01,\n",
      "          5.8348e-01,  4.7809e-01, -6.4682e-01,  6.7314e-02,  2.1894e-01,\n",
      "          1.2262e-01, -4.4453e-01,  3.4985e-01,  5.3964e-01,  1.1429e-01,\n",
      "         -5.2521e-01, -6.9602e-01,  8.5439e-01, -1.1040e+00, -5.0563e-01,\n",
      "          2.5706e-01,  5.7682e-01,  4.2693e-01,  2.4569e-01, -1.1161e-01,\n",
      "          3.1524e-03, -2.1350e-01, -4.5645e-02, -7.4901e-01,  4.5581e-01,\n",
      "          1.8486e-01, -1.2965e-02, -1.2508e-01,  8.9162e-01, -5.0370e-02,\n",
      "          4.7251e-01,  9.9530e-02, -4.6717e-02,  3.7981e-01, -1.6318e-01,\n",
      "         -1.7723e-01,  3.3868e-02, -1.8393e-01,  6.0093e-01,  4.0573e-01,\n",
      "         -5.7141e-01,  1.3623e-01, -1.2236e-01, -2.7015e-01,  1.9879e-01,\n",
      "         -7.6661e-01, -1.7541e-01, -1.3644e-02, -2.8107e-01,  3.8546e-02,\n",
      "         -2.0442e-01,  3.8101e-01,  2.3977e-01, -6.5122e-01, -8.9268e-01,\n",
      "          1.0547e+00, -2.8548e-01, -1.3339e-01,  8.3030e-02,  1.8247e-01,\n",
      "          1.5118e-01, -1.9507e-01, -3.6397e-01, -4.2680e-01,  1.6584e-01,\n",
      "         -8.7602e-01,  2.0232e-01, -8.3907e-01,  8.4081e-01,  2.4670e-01,\n",
      "         -5.9621e-01, -3.7713e-01, -6.8752e-01, -3.8536e-01, -3.2599e-01,\n",
      "         -9.0379e-01,  5.0796e-01,  1.4097e-01, -9.6948e-02, -2.3700e-01,\n",
      "          2.7742e-01, -1.0541e-01,  1.7899e-02, -1.3331e-01,  3.6095e-02,\n",
      "         -2.2593e-01,  2.4214e-01, -2.2663e-01]])\n"
     ]
    }
   ],
   "execution_count": 35
  },
  {
   "metadata": {},
   "cell_type": "markdown",
   "source": [
    "# Compute acceptability scores of the words predicted\n",
    "\n",
    "Todo"
   ],
   "id": "2f44f101d64b37f2"
  },
  {
   "metadata": {
    "ExecuteTime": {
     "end_time": "2024-09-26T19:09:48.197054Z",
     "start_time": "2024-09-26T19:09:29.634370Z"
    }
   },
   "cell_type": "code",
   "source": [
    "s2s_model = scorer.Seq2SeqScorer('t5-base', 'cpu')\n",
    "\n",
    "# sequence scoring for batch of input, output, by default = logprobs, can change to other quantities as needed (see minicons readme)\n",
    "s2s_model.conditional_score([\"What is the capital of France?\", \"What is the capital of France?\"], [\"Paris.\", \"Lyon.\"]) # the same thing works with ilm_model and mlm_model as well\n",
    "\n",
    "'''OUTPUT:\n",
    "[-6.089522838592529, -8.20227336883545]\n",
    "''' \n",
    "\n",
    "# Token-wise score of the output queries: -- <pad> token is given a score of 0.0, pass rank=True to also give token ranks\n",
    "s2s_model.conditional_token_score([\"What is the capital of France?\", \"What is the capital of France?\"], [\"Paris.\", \"Lyon.\"], rank=True) \n",
    "\n",
    "'''OUTPUT:\n",
    "[[('<pad>', 0.0, 0),\n",
    "  ('Paris', -7.5618486404418945, 168),\n",
    "  ('.', -4.617197036743164, 11)],\n",
    " [('<pad>', 0.0, 0),\n",
    "  ('Lyon', -12.044157981872559, 3459),\n",
    "  ('.', -4.36038875579834, 8)]]\n",
    "'''"
   ],
   "id": "5aba31ec6f7ca6d6",
   "outputs": [
    {
     "data": {
      "text/plain": [
       "config.json:   0%|          | 0.00/1.21k [00:00<?, ?B/s]"
      ],
      "application/vnd.jupyter.widget-view+json": {
       "version_major": 2,
       "version_minor": 0,
       "model_id": "fdda6420263b4c73b3140979417058d2"
      }
     },
     "metadata": {},
     "output_type": "display_data"
    },
    {
     "name": "stderr",
     "output_type": "stream",
     "text": [
      "C:\\Users\\Leo\\PycharmProjects\\miniconsPlayground\\venv\\lib\\site-packages\\huggingface_hub\\file_download.py:147: UserWarning: `huggingface_hub` cache-system uses symlinks by default to efficiently store duplicated files but your machine does not support them in C:\\Users\\Leo\\.cache\\huggingface\\hub\\models--t5-base. Caching files will still work but in a degraded version that might require more space on your disk. This warning can be disabled by setting the `HF_HUB_DISABLE_SYMLINKS_WARNING` environment variable. For more details, see https://huggingface.co/docs/huggingface_hub/how-to-cache#limitations.\n",
      "To support symlinks on Windows, you either need to activate Developer Mode or to run Python as an administrator. In order to activate developer mode, see this article: https://docs.microsoft.com/en-us/windows/apps/get-started/enable-your-device-for-development\n",
      "  warnings.warn(message)\n"
     ]
    },
    {
     "data": {
      "text/plain": [
       "spiece.model:   0%|          | 0.00/792k [00:00<?, ?B/s]"
      ],
      "application/vnd.jupyter.widget-view+json": {
       "version_major": 2,
       "version_minor": 0,
       "model_id": "93c99c0fa45644b48e39b7ab6de2694a"
      }
     },
     "metadata": {},
     "output_type": "display_data"
    },
    {
     "data": {
      "text/plain": [
       "tokenizer.json:   0%|          | 0.00/1.39M [00:00<?, ?B/s]"
      ],
      "application/vnd.jupyter.widget-view+json": {
       "version_major": 2,
       "version_minor": 0,
       "model_id": "84cf02c1b8124ec2a341696c77b6590a"
      }
     },
     "metadata": {},
     "output_type": "display_data"
    },
    {
     "data": {
      "text/plain": [
       "model.safetensors:   0%|          | 0.00/892M [00:00<?, ?B/s]"
      ],
      "application/vnd.jupyter.widget-view+json": {
       "version_major": 2,
       "version_minor": 0,
       "model_id": "3ed1a11366d649a889a59ac9ccccbcb4"
      }
     },
     "metadata": {},
     "output_type": "display_data"
    },
    {
     "data": {
      "text/plain": [
       "generation_config.json:   0%|          | 0.00/147 [00:00<?, ?B/s]"
      ],
      "application/vnd.jupyter.widget-view+json": {
       "version_major": 2,
       "version_minor": 0,
       "model_id": "9672ae3cdb444138af28efeae815ff71"
      }
     },
     "metadata": {},
     "output_type": "display_data"
    },
    {
     "data": {
      "text/plain": [
       "\"OUTPUT:\\n[[('<pad>', 0.0, 0),\\n  ('Paris', -7.5618486404418945, 168),\\n  ('.', -4.617197036743164, 11)],\\n [('<pad>', 0.0, 0),\\n  ('Lyon', -12.044157981872559, 3459),\\n  ('.', -4.36038875579834, 8)]]\\n\""
      ]
     },
     "execution_count": 37,
     "metadata": {},
     "output_type": "execute_result"
    }
   ],
   "execution_count": 37
  }
 ],
 "metadata": {
  "kernelspec": {
   "display_name": "Python 3",
   "language": "python",
   "name": "python3"
  },
  "language_info": {
   "codemirror_mode": {
    "name": "ipython",
    "version": 2
   },
   "file_extension": ".py",
   "mimetype": "text/x-python",
   "name": "python",
   "nbconvert_exporter": "python",
   "pygments_lexer": "ipython2",
   "version": "2.7.6"
  }
 },
 "nbformat": 4,
 "nbformat_minor": 5
}
