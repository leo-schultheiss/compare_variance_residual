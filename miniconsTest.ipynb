{
 "cells": [
  {
   "cell_type": "code",
   "id": "initial_id",
   "metadata": {
    "ExecuteTime": {
     "end_time": "2024-09-27T08:51:02.278882Z",
     "start_time": "2024-09-27T08:50:45.383974Z"
    }
   },
   "source": "!pip install minicons",
   "outputs": [
    {
     "name": "stdout",
     "output_type": "stream",
     "text": [
      "Requirement already satisfied: minicons in ./venv/lib/python3.12/site-packages (0.2.49)\r\n",
      "Requirement already satisfied: accelerate>=0.25.0 in ./venv/lib/python3.12/site-packages (from minicons) (0.34.2)\r\n",
      "Requirement already satisfied: openai<0.29.0,>=0.28.0 in ./venv/lib/python3.12/site-packages (from minicons) (0.28.1)\r\n",
      "Collecting pandas==2.2.0 (from minicons)\r\n",
      "  Using cached pandas-2.2.0-cp312-cp312-manylinux_2_17_x86_64.manylinux2014_x86_64.whl.metadata (19 kB)\r\n",
      "Requirement already satisfied: pillow<11.0.0,>=10.2.0 in ./venv/lib/python3.12/site-packages (from minicons) (10.4.0)\r\n",
      "Requirement already satisfied: tenacity<9.0.0,>=8.2.3 in ./venv/lib/python3.12/site-packages (from minicons) (8.5.0)\r\n",
      "Requirement already satisfied: torch<3.0.0,>=2.0.0 in ./venv/lib/python3.12/site-packages (from minicons) (2.4.1)\r\n",
      "Requirement already satisfied: transformers>=4.30.0 in ./venv/lib/python3.12/site-packages (from minicons) (4.44.2)\r\n",
      "Collecting urllib3<2.0.0,>=1.26.7 (from minicons)\r\n",
      "  Using cached urllib3-1.26.20-py2.py3-none-any.whl.metadata (50 kB)\r\n",
      "Requirement already satisfied: wonderwords<3.0.0,>=2.2.0 in ./venv/lib/python3.12/site-packages (from minicons) (2.2.0)\r\n",
      "Requirement already satisfied: numpy<2,>=1.26.0 in /nix/store/5qnnxrlcfiiv9b84cj1n02gnfq2hbsp4-python3.12-numpy-1.26.4/lib/python3.12/site-packages (from pandas==2.2.0->minicons) (1.26.4)\r\n",
      "Requirement already satisfied: python-dateutil>=2.8.2 in /nix/store/pm35z7kl9plm66mlisan2b8fzj28ijbb-python3.12-python-dateutil-2.9.0.post0/lib/python3.12/site-packages (from pandas==2.2.0->minicons) (2.9.0.post0)\r\n",
      "Requirement already satisfied: pytz>=2020.1 in /nix/store/30vw7zvhxksm0b3p599w8xwi9wxjp81z-python3.12-pytz-2024.1/lib/python3.12/site-packages (from pandas==2.2.0->minicons) (2024.1)\r\n",
      "Requirement already satisfied: tzdata>=2022.7 in /nix/store/1jlf4hi59ydd63xxa17daq7r3f6d389f-python3.12-tzdata-2024.1/lib/python3.12/site-packages (from pandas==2.2.0->minicons) (2024.1)\r\n",
      "Requirement already satisfied: packaging>=20.0 in /nix/store/mi72s33raf3kf07jyjg0grm759yjbgx3-python3.12-packaging-24.1/lib/python3.12/site-packages (from accelerate>=0.25.0->minicons) (24.1)\r\n",
      "Requirement already satisfied: psutil in /nix/store/3hw3cjhfslzb0gpai92hdfc74czm0rwj-python3.12-psutil-6.0.0/lib/python3.12/site-packages (from accelerate>=0.25.0->minicons) (6.0.0)\r\n",
      "Requirement already satisfied: pyyaml in /nix/store/f7klsqj0al82n6nrdcbnziyn72l0pxzk-python3.12-pyyaml-6.0.1/lib/python3.12/site-packages (from accelerate>=0.25.0->minicons) (6.0.1)\r\n",
      "Requirement already satisfied: huggingface-hub>=0.21.0 in ./venv/lib/python3.12/site-packages (from accelerate>=0.25.0->minicons) (0.25.1)\r\n",
      "Requirement already satisfied: safetensors>=0.4.3 in ./venv/lib/python3.12/site-packages (from accelerate>=0.25.0->minicons) (0.4.5)\r\n",
      "Requirement already satisfied: requests>=2.20 in /nix/store/s5cw6mdkviv6m1fzcmsgkx7rc2hlw6wz-python3.12-requests-2.32.3/lib/python3.12/site-packages (from openai<0.29.0,>=0.28.0->minicons) (2.32.3)\r\n",
      "Requirement already satisfied: tqdm in /nix/store/divql1ndklzzhk1y3qbhfc29jvrbf44f-python3.12-tqdm-4.66.4/lib/python3.12/site-packages (from openai<0.29.0,>=0.28.0->minicons) (4.66.4)\r\n",
      "Requirement already satisfied: aiohttp in /nix/store/i1153yl1g1r3x8hin3a93s7qdsjzywwd-python3.12-aiohttp-3.10.2/lib/python3.12/site-packages (from openai<0.29.0,>=0.28.0->minicons) (3.10.2)\r\n",
      "Requirement already satisfied: filelock in ./venv/lib/python3.12/site-packages (from torch<3.0.0,>=2.0.0->minicons) (3.16.1)\r\n",
      "Requirement already satisfied: typing-extensions>=4.8.0 in /nix/store/grk0208qlwhqr6xsiwdgf6zjpmrialq1-python3.12-typing-extensions-4.12.2/lib/python3.12/site-packages (from torch<3.0.0,>=2.0.0->minicons) (4.12.2)\r\n",
      "Requirement already satisfied: sympy in ./venv/lib/python3.12/site-packages (from torch<3.0.0,>=2.0.0->minicons) (1.13.3)\r\n",
      "Requirement already satisfied: networkx in ./venv/lib/python3.12/site-packages (from torch<3.0.0,>=2.0.0->minicons) (3.3)\r\n",
      "Requirement already satisfied: jinja2 in /nix/store/4c7kq6bvii4x73k4b6i6sm436jw49y3r-python3.12-jinja2-3.1.4/lib/python3.12/site-packages (from torch<3.0.0,>=2.0.0->minicons) (3.1.4)\r\n",
      "Requirement already satisfied: fsspec in ./venv/lib/python3.12/site-packages (from torch<3.0.0,>=2.0.0->minicons) (2024.9.0)\r\n",
      "Requirement already satisfied: setuptools in /nix/store/1mprs8zcxcq1i02hi6kg2gaqaia8fpjn-python3.12-setuptools-72.1.0/lib/python3.12/site-packages (from torch<3.0.0,>=2.0.0->minicons) (72.1.0.post0)\r\n",
      "Requirement already satisfied: nvidia-cuda-nvrtc-cu12==12.1.105 in ./venv/lib/python3.12/site-packages (from torch<3.0.0,>=2.0.0->minicons) (12.1.105)\r\n",
      "Requirement already satisfied: nvidia-cuda-runtime-cu12==12.1.105 in ./venv/lib/python3.12/site-packages (from torch<3.0.0,>=2.0.0->minicons) (12.1.105)\r\n",
      "Requirement already satisfied: nvidia-cuda-cupti-cu12==12.1.105 in ./venv/lib/python3.12/site-packages (from torch<3.0.0,>=2.0.0->minicons) (12.1.105)\r\n",
      "Requirement already satisfied: nvidia-cudnn-cu12==9.1.0.70 in ./venv/lib/python3.12/site-packages (from torch<3.0.0,>=2.0.0->minicons) (9.1.0.70)\r\n",
      "Requirement already satisfied: nvidia-cublas-cu12==12.1.3.1 in ./venv/lib/python3.12/site-packages (from torch<3.0.0,>=2.0.0->minicons) (12.1.3.1)\r\n",
      "Requirement already satisfied: nvidia-cufft-cu12==11.0.2.54 in ./venv/lib/python3.12/site-packages (from torch<3.0.0,>=2.0.0->minicons) (11.0.2.54)\r\n",
      "Requirement already satisfied: nvidia-curand-cu12==10.3.2.106 in ./venv/lib/python3.12/site-packages (from torch<3.0.0,>=2.0.0->minicons) (10.3.2.106)\r\n",
      "Requirement already satisfied: nvidia-cusolver-cu12==11.4.5.107 in ./venv/lib/python3.12/site-packages (from torch<3.0.0,>=2.0.0->minicons) (11.4.5.107)\r\n",
      "Requirement already satisfied: nvidia-cusparse-cu12==12.1.0.106 in ./venv/lib/python3.12/site-packages (from torch<3.0.0,>=2.0.0->minicons) (12.1.0.106)\r\n",
      "Requirement already satisfied: nvidia-nccl-cu12==2.20.5 in ./venv/lib/python3.12/site-packages (from torch<3.0.0,>=2.0.0->minicons) (2.20.5)\r\n",
      "Requirement already satisfied: nvidia-nvtx-cu12==12.1.105 in ./venv/lib/python3.12/site-packages (from torch<3.0.0,>=2.0.0->minicons) (12.1.105)\r\n",
      "Requirement already satisfied: triton==3.0.0 in ./venv/lib/python3.12/site-packages (from torch<3.0.0,>=2.0.0->minicons) (3.0.0)\r\n",
      "Requirement already satisfied: nvidia-nvjitlink-cu12 in ./venv/lib/python3.12/site-packages (from nvidia-cusolver-cu12==11.4.5.107->torch<3.0.0,>=2.0.0->minicons) (12.6.68)\r\n",
      "Requirement already satisfied: regex!=2019.12.17 in ./venv/lib/python3.12/site-packages (from transformers>=4.30.0->minicons) (2024.9.11)\r\n",
      "Requirement already satisfied: tokenizers<0.20,>=0.19 in ./venv/lib/python3.12/site-packages (from transformers>=4.30.0->minicons) (0.19.1)\r\n",
      "Requirement already satisfied: six>=1.5 in /nix/store/d8kyggpkgp2k28sc8x1h8alwlpwlqaf2-python3.12-six-1.16.0/lib/python3.12/site-packages (from python-dateutil>=2.8.2->pandas==2.2.0->minicons) (1.16.0)\r\n",
      "Requirement already satisfied: charset-normalizer<4,>=2 in /nix/store/w3822yxkxpyjq2jmmlf3asb9d0ljqcbp-python3.12-charset-normalizer-3.3.2/lib/python3.12/site-packages (from requests>=2.20->openai<0.29.0,>=0.28.0->minicons) (3.3.2)\r\n",
      "Requirement already satisfied: idna<4,>=2.5 in /nix/store/ryad4ql31r75h1wz6b8p5b7364bnjfbm-python3.12-idna-3.7/lib/python3.12/site-packages (from requests>=2.20->openai<0.29.0,>=0.28.0->minicons) (3.7)\r\n",
      "Requirement already satisfied: certifi>=2017.4.17 in /nix/store/gc83fxmyhb0ibaaw27cb4wgh3cmhlw68-python3.12-certifi-2024.02.02/lib/python3.12/site-packages (from requests>=2.20->openai<0.29.0,>=0.28.0->minicons) (2024.2.2)\r\n",
      "Requirement already satisfied: aiohappyeyeballs>=2.3.0 in /nix/store/6n0hwqvavcqf105j9kn2x4sljvzwzl7v-python3.12-aiohappyeyeballs-2.3.5/lib/python3.12/site-packages (from aiohttp->openai<0.29.0,>=0.28.0->minicons) (2.3.5)\r\n",
      "Requirement already satisfied: aiosignal>=1.1.2 in /nix/store/q1s86lrbkklri3rcwx37rd7gpm8bcrqa-python3.12-aiosignal-1.3.1/lib/python3.12/site-packages (from aiohttp->openai<0.29.0,>=0.28.0->minicons) (1.3.1)\r\n",
      "Requirement already satisfied: attrs>=17.3.0 in /nix/store/x1vdniqmxxbz14n62baa9vk94zzw9x6h-python3.12-attrs-23.2.0/lib/python3.12/site-packages (from aiohttp->openai<0.29.0,>=0.28.0->minicons) (23.2.0)\r\n",
      "Requirement already satisfied: frozenlist>=1.1.1 in /nix/store/9krzdy1d8ccrmp6d9gw8plf33li56c30-python3.12-frozenlist-1.4.1/lib/python3.12/site-packages (from aiohttp->openai<0.29.0,>=0.28.0->minicons) (1.4.1)\r\n",
      "Requirement already satisfied: multidict<7.0,>=4.5 in /nix/store/imlhn2igkq5ghyzb20ghpapp5nc5bnhf-python3.12-multidict-6.0.5/lib/python3.12/site-packages (from aiohttp->openai<0.29.0,>=0.28.0->minicons) (6.0.5)\r\n",
      "Requirement already satisfied: yarl<2.0,>=1.0 in /nix/store/ib3pbnpzz5lkd7yg5ggf615s6ij6vpp7-python3.12-yarl-1.9.4/lib/python3.12/site-packages (from aiohttp->openai<0.29.0,>=0.28.0->minicons) (1.9.4)\r\n",
      "Requirement already satisfied: MarkupSafe>=2.0 in /nix/store/yz5ad93rx27g39jdxfia0za7hx5ynb85-python3.12-markupsafe-2.1.5/lib/python3.12/site-packages (from jinja2->torch<3.0.0,>=2.0.0->minicons) (2.1.5)\r\n",
      "Requirement already satisfied: mpmath<1.4,>=1.1.0 in ./venv/lib/python3.12/site-packages (from sympy->torch<3.0.0,>=2.0.0->minicons) (1.3.0)\r\n",
      "Using cached pandas-2.2.0-cp312-cp312-manylinux_2_17_x86_64.manylinux2014_x86_64.whl (12.7 MB)\r\n",
      "Using cached urllib3-1.26.20-py2.py3-none-any.whl (144 kB)\r\n",
      "Installing collected packages: urllib3, pandas\r\n",
      "  Attempting uninstall: urllib3\r\n",
      "    Found existing installation: urllib3 2.2.2\r\n",
      "    Not uninstalling urllib3 at /nix/store/dcgjkj2z9zlmis91fq9py6c49rvasbnb-python3.12-urllib3-2.2.2/lib/python3.12/site-packages, outside environment /home/leo/git/miniconsPlayground/venv\r\n",
      "    Can't uninstall 'urllib3'. No files were found to uninstall.\r\n",
      "  Attempting uninstall: pandas\r\n",
      "    Found existing installation: pandas 2.2.2\r\n",
      "    Not uninstalling pandas at /nix/store/6if4ab4fy227ww2ay90ddlnyp4d8dzgh-python3.12-pandas-2.2.2/lib/python3.12/site-packages, outside environment /home/leo/git/miniconsPlayground/venv\r\n",
      "    Can't uninstall 'pandas'. No files were found to uninstall.\r\n",
      "Successfully installed pandas-2.2.0 urllib3-1.26.20\r\n",
      "\r\n",
      "\u001B[1m[\u001B[0m\u001B[34;49mnotice\u001B[0m\u001B[1;39;49m]\u001B[0m\u001B[39;49m A new release of pip is available: \u001B[0m\u001B[31;49m24.0\u001B[0m\u001B[39;49m -> \u001B[0m\u001B[32;49m24.2\u001B[0m\r\n",
      "\u001B[1m[\u001B[0m\u001B[34;49mnotice\u001B[0m\u001B[1;39;49m]\u001B[0m\u001B[39;49m To update, run: \u001B[0m\u001B[32;49mpip install --upgrade pip\u001B[0m\r\n"
     ]
    }
   ],
   "execution_count": 1
  },
  {
   "metadata": {
    "ExecuteTime": {
     "end_time": "2024-09-27T08:51:03.949370Z",
     "start_time": "2024-09-27T08:51:02.304015Z"
    }
   },
   "cell_type": "code",
   "source": [
    "import random\n",
    "import os\n",
    "from minicons import cwe"
   ],
   "id": "60793d8302df4111",
   "outputs": [],
   "execution_count": 2
  },
  {
   "metadata": {},
   "cell_type": "markdown",
   "source": "# Load stimuli and model",
   "id": "ecd74ad03ef94eb5"
  },
  {
   "metadata": {
    "ExecuteTime": {
     "end_time": "2024-09-27T08:51:06.974790Z",
     "start_time": "2024-09-27T08:51:04.172975Z"
    }
   },
   "cell_type": "code",
   "source": [
    "stimuli_folder = \"./stimuli\"\n",
    "stimuli = []\n",
    "for file in os.listdir(stimuli_folder):\n",
    "    with open(stimuli_folder + \"/\" + file, 'r') as stimulus:\n",
    "        file_contents = stimulus.read().replace('\\n', '')\n",
    "        text_split_at_space = file_contents.split(\" \")\n",
    "        while text_split_at_space.__contains__(\"\"):\n",
    "            text_split_at_space.remove(\"\")\n",
    "        stimuli.append(text_split_at_space)\n",
    "\n",
    "model = cwe.CWE('bert-base-uncased')"
   ],
   "id": "7aa28dd6bd21edc9",
   "outputs": [
    {
     "name": "stderr",
     "output_type": "stream",
     "text": [
      "/home/leo/git/miniconsPlayground/venv/lib/python3.12/site-packages/transformers/tokenization_utils_base.py:1601: FutureWarning: `clean_up_tokenization_spaces` was not set. It will be set to `True` by default. This behavior will be depracted in transformers v4.45, and will be then set to `False` by default. For more details check this issue: https://github.com/huggingface/transformers/issues/31884\n",
      "  warnings.warn(\n"
     ]
    }
   ],
   "execution_count": 3
  },
  {
   "metadata": {},
   "cell_type": "markdown",
   "source": "# Produce Sliding window context representations",
   "id": "822774438d5af8ff"
  },
  {
   "metadata": {
    "ExecuteTime": {
     "end_time": "2024-09-27T09:18:41.879261Z",
     "start_time": "2024-09-27T09:18:41.870783Z"
    }
   },
   "cell_type": "code",
   "source": [
    "def get_sliding_window_context_representations(data, window_size, layer):\n",
    "    def get_context_words_for_pos(arr: list, pos: int) -> [str]:\n",
    "        min_index = max(0, pos - (window_size + 1))\n",
    "        words = arr[min_index]\n",
    "        for i in range(min_index + 1, pos + 1):\n",
    "            words = words + \" \" + arr[i]\n",
    "        return [words, arr[pos]]\n",
    "\n",
    "    context_and_representations = []\n",
    "    for position in range(len(data)):\n",
    "        context_words = get_context_words_for_pos(arr=data, pos=position)\n",
    "        representation = model.extract_representation(context_words, layer=layer)\n",
    "        context_and_representations.append([context_words, representation])\n",
    "    return context_and_representations"
   ],
   "id": "a1d52a7a00777bdb",
   "outputs": [],
   "execution_count": 12
  },
  {
   "metadata": {},
   "cell_type": "markdown",
   "source": "## Extract context representations for one story",
   "id": "eb488857652c721c"
  },
  {
   "metadata": {
    "ExecuteTime": {
     "end_time": "2024-09-27T09:20:08.203711Z",
     "start_time": "2024-09-27T09:18:44.616088Z"
    }
   },
   "cell_type": "code",
   "source": [
    "story = 0\n",
    "context_size = 4\n",
    "layer_to_extract = 12\n",
    "\n",
    "story_representations = get_sliding_window_context_representations(data=stimuli[story],\n",
    "                                                                   window_size=context_size,\n",
    "                                                                   layer=layer_to_extract)"
   ],
   "id": "c95bd7bff90a2044",
   "outputs": [],
   "execution_count": 13
  },
  {
   "metadata": {},
   "cell_type": "code",
   "outputs": [],
   "execution_count": null,
   "source": [
    "random_index = random.randint(0, len(story_representations) - 1)\n",
    "\n",
    "context = story_representations[random_index][0]\n",
    "context_representation = story_representations[random_index][1]\n",
    "\n",
    "print(\"Random context (index {0}) with its layer {1} representation:\\n\"\n",
    "      \"{2}\\n\"\n",
    "      \"{3}\".format(random_index,\n",
    "                   layer_to_extract,\n",
    "                   context,\n",
    "                   context_representation))"
   ],
   "id": "8442c6797e654139"
  },
  {
   "metadata": {},
   "cell_type": "markdown",
   "source": "## Extract context representations for all stories",
   "id": "bab870c0d0e10037"
  },
  {
   "metadata": {
    "ExecuteTime": {
     "end_time": "2024-09-27T09:06:59.273979Z",
     "start_time": "2024-09-27T08:51:07.035279Z"
    }
   },
   "cell_type": "code",
   "source": [
    "context_size = 5\n",
    "layer_to_extract = None\n",
    "\n",
    "all_representations = []\n",
    "\n",
    "for stimulus in stimuli:\n",
    "    representations = get_sliding_window_context_representations(data=stimulus, window_size=context_size,\n",
    "                                                                 layer=layer_to_extract)\n",
    "    all_representations.append(representations)"
   ],
   "id": "c820c58f367f1e18",
   "outputs": [],
   "execution_count": 5
  },
  {
   "metadata": {
    "jupyter": {
     "is_executing": true
    }
   },
   "cell_type": "code",
   "source": [
    "print(all_representations)\n",
    "\n",
    "# print(all_representations[0][0][1])"
   ],
   "id": "d877e64d6c12d1ea",
   "outputs": [],
   "execution_count": null
  }
 ],
 "metadata": {
  "kernelspec": {
   "display_name": "Python 3",
   "language": "python",
   "name": "python3"
  },
  "language_info": {
   "codemirror_mode": {
    "name": "ipython",
    "version": 2
   },
   "file_extension": ".py",
   "mimetype": "text/x-python",
   "name": "python",
   "nbconvert_exporter": "python",
   "pygments_lexer": "ipython2",
   "version": "2.7.6"
  }
 },
 "nbformat": 4,
 "nbformat_minor": 5
}
