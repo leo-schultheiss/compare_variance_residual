{
 "cells": [
  {
   "cell_type": "markdown",
   "id": "64379b6d8168d70d",
   "metadata": {},
   "source": "# Install Cuda and Minicons"
  },
  {
   "cell_type": "code",
   "id": "43eea76f2f70e23f",
   "metadata": {
    "ExecuteTime": {
     "end_time": "2024-09-30T14:11:12.182483Z",
     "start_time": "2024-09-30T14:11:07.966077Z"
    }
   },
   "source": [
    "!pip3 install torch torchvision torchaudio --index-url https://download.pytorch.org/whl/cu124\n",
    "!pip install minicons"
   ],
   "outputs": [
    {
     "name": "stdout",
     "output_type": "stream",
     "text": [
      "Looking in indexes: https://download.pytorch.org/whl/cu124\n",
      "Requirement already satisfied: torch in c:\\users\\leo\\pycharmprojects\\miniconsplayground\\venv\\lib\\site-packages (2.4.1+cu124)\n",
      "Requirement already satisfied: torchvision in c:\\users\\leo\\pycharmprojects\\miniconsplayground\\venv\\lib\\site-packages (0.19.1+cu124)\n",
      "Requirement already satisfied: torchaudio in c:\\users\\leo\\pycharmprojects\\miniconsplayground\\venv\\lib\\site-packages (2.4.1+cu124)\n",
      "Requirement already satisfied: filelock in c:\\users\\leo\\pycharmprojects\\miniconsplayground\\venv\\lib\\site-packages (from torch) (3.16.1)\n",
      "Requirement already satisfied: typing-extensions>=4.8.0 in c:\\users\\leo\\pycharmprojects\\miniconsplayground\\venv\\lib\\site-packages (from torch) (4.12.2)\n",
      "Requirement already satisfied: sympy in c:\\users\\leo\\pycharmprojects\\miniconsplayground\\venv\\lib\\site-packages (from torch) (1.13.3)\n",
      "Requirement already satisfied: networkx in c:\\users\\leo\\pycharmprojects\\miniconsplayground\\venv\\lib\\site-packages (from torch) (3.3)\n",
      "Requirement already satisfied: jinja2 in c:\\users\\leo\\pycharmprojects\\miniconsplayground\\venv\\lib\\site-packages (from torch) (3.1.4)\n",
      "Requirement already satisfied: fsspec in c:\\users\\leo\\pycharmprojects\\miniconsplayground\\venv\\lib\\site-packages (from torch) (2024.9.0)\n",
      "Requirement already satisfied: numpy in c:\\users\\leo\\pycharmprojects\\miniconsplayground\\venv\\lib\\site-packages (from torchvision) (1.26.4)\n",
      "Requirement already satisfied: pillow!=8.3.*,>=5.3.0 in c:\\users\\leo\\pycharmprojects\\miniconsplayground\\venv\\lib\\site-packages (from torchvision) (10.4.0)\n",
      "Requirement already satisfied: MarkupSafe>=2.0 in c:\\users\\leo\\pycharmprojects\\miniconsplayground\\venv\\lib\\site-packages (from jinja2->torch) (2.1.5)\n",
      "Requirement already satisfied: mpmath<1.4,>=1.1.0 in c:\\users\\leo\\pycharmprojects\\miniconsplayground\\venv\\lib\\site-packages (from sympy->torch) (1.3.0)\n"
     ]
    },
    {
     "name": "stderr",
     "output_type": "stream",
     "text": [
      "\n",
      "[notice] A new release of pip is available: 23.2.1 -> 24.2\n",
      "[notice] To update, run: python.exe -m pip install --upgrade pip\n"
     ]
    },
    {
     "name": "stdout",
     "output_type": "stream",
     "text": [
      "Requirement already satisfied: minicons in c:\\users\\leo\\pycharmprojects\\miniconsplayground\\venv\\lib\\site-packages (0.2.49)\n",
      "Requirement already satisfied: accelerate>=0.25.0 in c:\\users\\leo\\pycharmprojects\\miniconsplayground\\venv\\lib\\site-packages (from minicons) (0.34.2)\n",
      "Requirement already satisfied: openai<0.29.0,>=0.28.0 in c:\\users\\leo\\pycharmprojects\\miniconsplayground\\venv\\lib\\site-packages (from minicons) (0.28.1)\n",
      "Requirement already satisfied: pandas==2.2.0 in c:\\users\\leo\\pycharmprojects\\miniconsplayground\\venv\\lib\\site-packages (from minicons) (2.2.0)\n",
      "Requirement already satisfied: pillow<11.0.0,>=10.2.0 in c:\\users\\leo\\pycharmprojects\\miniconsplayground\\venv\\lib\\site-packages (from minicons) (10.4.0)\n",
      "Requirement already satisfied: tenacity<9.0.0,>=8.2.3 in c:\\users\\leo\\pycharmprojects\\miniconsplayground\\venv\\lib\\site-packages (from minicons) (8.5.0)\n",
      "Requirement already satisfied: torch<3.0.0,>=2.0.0 in c:\\users\\leo\\pycharmprojects\\miniconsplayground\\venv\\lib\\site-packages (from minicons) (2.4.1+cu124)\n",
      "Requirement already satisfied: transformers>=4.30.0 in c:\\users\\leo\\pycharmprojects\\miniconsplayground\\venv\\lib\\site-packages (from minicons) (4.45.0)\n",
      "Requirement already satisfied: urllib3<2.0.0,>=1.26.7 in c:\\users\\leo\\pycharmprojects\\miniconsplayground\\venv\\lib\\site-packages (from minicons) (1.26.20)\n",
      "Requirement already satisfied: wonderwords<3.0.0,>=2.2.0 in c:\\users\\leo\\pycharmprojects\\miniconsplayground\\venv\\lib\\site-packages (from minicons) (2.2.0)\n",
      "Requirement already satisfied: numpy<2,>=1.22.4 in c:\\users\\leo\\pycharmprojects\\miniconsplayground\\venv\\lib\\site-packages (from pandas==2.2.0->minicons) (1.26.4)\n",
      "Requirement already satisfied: python-dateutil>=2.8.2 in c:\\users\\leo\\pycharmprojects\\miniconsplayground\\venv\\lib\\site-packages (from pandas==2.2.0->minicons) (2.9.0.post0)\n",
      "Requirement already satisfied: pytz>=2020.1 in c:\\users\\leo\\pycharmprojects\\miniconsplayground\\venv\\lib\\site-packages (from pandas==2.2.0->minicons) (2024.2)\n",
      "Requirement already satisfied: tzdata>=2022.7 in c:\\users\\leo\\pycharmprojects\\miniconsplayground\\venv\\lib\\site-packages (from pandas==2.2.0->minicons) (2024.2)\n",
      "Requirement already satisfied: packaging>=20.0 in c:\\users\\leo\\pycharmprojects\\miniconsplayground\\venv\\lib\\site-packages (from accelerate>=0.25.0->minicons) (24.1)\n",
      "Requirement already satisfied: psutil in c:\\users\\leo\\pycharmprojects\\miniconsplayground\\venv\\lib\\site-packages (from accelerate>=0.25.0->minicons) (6.0.0)\n",
      "Requirement already satisfied: pyyaml in c:\\users\\leo\\pycharmprojects\\miniconsplayground\\venv\\lib\\site-packages (from accelerate>=0.25.0->minicons) (6.0.2)\n",
      "Requirement already satisfied: huggingface-hub>=0.21.0 in c:\\users\\leo\\pycharmprojects\\miniconsplayground\\venv\\lib\\site-packages (from accelerate>=0.25.0->minicons) (0.25.1)\n",
      "Requirement already satisfied: safetensors>=0.4.3 in c:\\users\\leo\\pycharmprojects\\miniconsplayground\\venv\\lib\\site-packages (from accelerate>=0.25.0->minicons) (0.4.5)\n",
      "Requirement already satisfied: requests>=2.20 in c:\\users\\leo\\pycharmprojects\\miniconsplayground\\venv\\lib\\site-packages (from openai<0.29.0,>=0.28.0->minicons) (2.32.3)\n",
      "Requirement already satisfied: tqdm in c:\\users\\leo\\pycharmprojects\\miniconsplayground\\venv\\lib\\site-packages (from openai<0.29.0,>=0.28.0->minicons) (4.66.5)\n",
      "Requirement already satisfied: aiohttp in c:\\users\\leo\\pycharmprojects\\miniconsplayground\\venv\\lib\\site-packages (from openai<0.29.0,>=0.28.0->minicons) (3.10.6)\n",
      "Requirement already satisfied: filelock in c:\\users\\leo\\pycharmprojects\\miniconsplayground\\venv\\lib\\site-packages (from torch<3.0.0,>=2.0.0->minicons) (3.16.1)\n",
      "Requirement already satisfied: typing-extensions>=4.8.0 in c:\\users\\leo\\pycharmprojects\\miniconsplayground\\venv\\lib\\site-packages (from torch<3.0.0,>=2.0.0->minicons) (4.12.2)\n",
      "Requirement already satisfied: sympy in c:\\users\\leo\\pycharmprojects\\miniconsplayground\\venv\\lib\\site-packages (from torch<3.0.0,>=2.0.0->minicons) (1.13.3)\n",
      "Requirement already satisfied: networkx in c:\\users\\leo\\pycharmprojects\\miniconsplayground\\venv\\lib\\site-packages (from torch<3.0.0,>=2.0.0->minicons) (3.3)\n",
      "Requirement already satisfied: jinja2 in c:\\users\\leo\\pycharmprojects\\miniconsplayground\\venv\\lib\\site-packages (from torch<3.0.0,>=2.0.0->minicons) (3.1.4)\n",
      "Requirement already satisfied: fsspec in c:\\users\\leo\\pycharmprojects\\miniconsplayground\\venv\\lib\\site-packages (from torch<3.0.0,>=2.0.0->minicons) (2024.9.0)\n",
      "Requirement already satisfied: regex!=2019.12.17 in c:\\users\\leo\\pycharmprojects\\miniconsplayground\\venv\\lib\\site-packages (from transformers>=4.30.0->minicons) (2024.9.11)\n",
      "Requirement already satisfied: tokenizers<0.21,>=0.20 in c:\\users\\leo\\pycharmprojects\\miniconsplayground\\venv\\lib\\site-packages (from transformers>=4.30.0->minicons) (0.20.0)\n",
      "Requirement already satisfied: six>=1.5 in c:\\users\\leo\\pycharmprojects\\miniconsplayground\\venv\\lib\\site-packages (from python-dateutil>=2.8.2->pandas==2.2.0->minicons) (1.16.0)\n",
      "Requirement already satisfied: charset-normalizer<4,>=2 in c:\\users\\leo\\pycharmprojects\\miniconsplayground\\venv\\lib\\site-packages (from requests>=2.20->openai<0.29.0,>=0.28.0->minicons) (3.3.2)\n",
      "Requirement already satisfied: idna<4,>=2.5 in c:\\users\\leo\\pycharmprojects\\miniconsplayground\\venv\\lib\\site-packages (from requests>=2.20->openai<0.29.0,>=0.28.0->minicons) (3.10)\n",
      "Requirement already satisfied: certifi>=2017.4.17 in c:\\users\\leo\\pycharmprojects\\miniconsplayground\\venv\\lib\\site-packages (from requests>=2.20->openai<0.29.0,>=0.28.0->minicons) (2024.8.30)\n",
      "Requirement already satisfied: colorama in c:\\users\\leo\\pycharmprojects\\miniconsplayground\\venv\\lib\\site-packages (from tqdm->openai<0.29.0,>=0.28.0->minicons) (0.4.6)\n",
      "Requirement already satisfied: aiohappyeyeballs>=2.3.0 in c:\\users\\leo\\pycharmprojects\\miniconsplayground\\venv\\lib\\site-packages (from aiohttp->openai<0.29.0,>=0.28.0->minicons) (2.4.0)\n",
      "Requirement already satisfied: aiosignal>=1.1.2 in c:\\users\\leo\\pycharmprojects\\miniconsplayground\\venv\\lib\\site-packages (from aiohttp->openai<0.29.0,>=0.28.0->minicons) (1.3.1)\n",
      "Requirement already satisfied: attrs>=17.3.0 in c:\\users\\leo\\pycharmprojects\\miniconsplayground\\venv\\lib\\site-packages (from aiohttp->openai<0.29.0,>=0.28.0->minicons) (24.2.0)\n",
      "Requirement already satisfied: frozenlist>=1.1.1 in c:\\users\\leo\\pycharmprojects\\miniconsplayground\\venv\\lib\\site-packages (from aiohttp->openai<0.29.0,>=0.28.0->minicons) (1.4.1)\n",
      "Requirement already satisfied: multidict<7.0,>=4.5 in c:\\users\\leo\\pycharmprojects\\miniconsplayground\\venv\\lib\\site-packages (from aiohttp->openai<0.29.0,>=0.28.0->minicons) (6.1.0)\n",
      "Requirement already satisfied: yarl<2.0,>=1.12.0 in c:\\users\\leo\\pycharmprojects\\miniconsplayground\\venv\\lib\\site-packages (from aiohttp->openai<0.29.0,>=0.28.0->minicons) (1.12.1)\n",
      "Requirement already satisfied: async-timeout<5.0,>=4.0 in c:\\users\\leo\\pycharmprojects\\miniconsplayground\\venv\\lib\\site-packages (from aiohttp->openai<0.29.0,>=0.28.0->minicons) (4.0.3)\n",
      "Requirement already satisfied: MarkupSafe>=2.0 in c:\\users\\leo\\pycharmprojects\\miniconsplayground\\venv\\lib\\site-packages (from jinja2->torch<3.0.0,>=2.0.0->minicons) (2.1.5)\n",
      "Requirement already satisfied: mpmath<1.4,>=1.1.0 in c:\\users\\leo\\pycharmprojects\\miniconsplayground\\venv\\lib\\site-packages (from sympy->torch<3.0.0,>=2.0.0->minicons) (1.3.0)\n"
     ]
    },
    {
     "name": "stderr",
     "output_type": "stream",
     "text": [
      "\n",
      "[notice] A new release of pip is available: 23.2.1 -> 24.2\n",
      "[notice] To update, run: python.exe -m pip install --upgrade pip\n"
     ]
    }
   ],
   "execution_count": 12
  },
  {
   "cell_type": "code",
   "id": "60793d8302df4111",
   "metadata": {
    "ExecuteTime": {
     "end_time": "2024-09-30T13:51:25.770192Z",
     "start_time": "2024-09-30T13:51:21.475007Z"
    }
   },
   "source": [
    "import random\n",
    "import os\n",
    "from minicons import cwe\n",
    "import torch\n",
    "\n",
    "torch.cuda.is_available()"
   ],
   "outputs": [
    {
     "data": {
      "text/plain": [
       "True"
      ]
     },
     "execution_count": 2,
     "metadata": {},
     "output_type": "execute_result"
    }
   ],
   "execution_count": 2
  },
  {
   "cell_type": "markdown",
   "id": "ecd74ad03ef94eb5",
   "metadata": {},
   "source": [
    "# Load stimuli and model"
   ]
  },
  {
   "cell_type": "code",
   "id": "7aa28dd6bd21edc9",
   "metadata": {
    "ExecuteTime": {
     "end_time": "2024-09-30T13:51:27.973255Z",
     "start_time": "2024-09-30T13:51:25.771193Z"
    }
   },
   "source": [
    "stimuli_folder = \"./stimuli\"\n",
    "stimuli = []\n",
    "for file in os.listdir(stimuli_folder):\n",
    "    with open(os.path.join(stimuli_folder, file), 'r') as stimulus:\n",
    "        file_contents = stimulus.read().replace('\\n', '')\n",
    "        text_split_at_space = file_contents.split()\n",
    "        stimuli.append(text_split_at_space)\n",
    "\n",
    "# Load model\n",
    "device = \"cuda:0\" if torch.cuda.is_available() else \"cpu\"\n",
    "model = cwe.CWE(model_name='bert-base-uncased', device=device)"
   ],
   "outputs": [
    {
     "name": "stderr",
     "output_type": "stream",
     "text": [
      "C:\\Users\\Leo\\PycharmProjects\\miniconsPlayground\\venv\\lib\\site-packages\\transformers\\tokenization_utils_base.py:1617: FutureWarning: `clean_up_tokenization_spaces` was not set. It will be set to `True` by default. This behavior will be deprecated in transformers v4.45, and will be then set to `False` by default. For more details check this issue: https://github.com/huggingface/transformers/issues/31884\n",
      "  warnings.warn(\n"
     ]
    }
   ],
   "execution_count": 3
  },
  {
   "cell_type": "markdown",
   "id": "822774438d5af8ff",
   "metadata": {},
   "source": [
    "# Produce Sliding window context representations"
   ]
  },
  {
   "cell_type": "code",
   "id": "a1d52a7a00777bdb",
   "metadata": {
    "ExecuteTime": {
     "end_time": "2024-09-30T13:51:27.989288Z",
     "start_time": "2024-09-30T13:51:27.974255Z"
    }
   },
   "source": [
    "# Function to get sliding window context representations\n",
    "def get_sliding_window_context_representations(data: list[str], window_size: int, layer: int) -> list[list[tuple[list[str], torch.Tensor]]]:\n",
    "    def get_context_words(arr, pos):\n",
    "        start = max(0, pos - window_size)\n",
    "        words = \" \".join(arr[start:pos + 1])\n",
    "        return [words, arr[pos]]\n",
    "\n",
    "    results = []\n",
    "    for pos in range(len(data)):\n",
    "        context_words = get_context_words(data, pos)\n",
    "        representation = model.extract_representation(context_words, layer=layer)\n",
    "        results.append([context_words, representation])\n",
    "    return results"
   ],
   "outputs": [],
   "execution_count": 4
  },
  {
   "cell_type": "markdown",
   "id": "eb488857652c721c",
   "metadata": {},
   "source": [
    "## Extract context representations for one story"
   ]
  },
  {
   "cell_type": "code",
   "id": "c95bd7bff90a2044",
   "metadata": {
    "ExecuteTime": {
     "end_time": "2024-09-30T13:51:53.806853Z",
     "start_time": "2024-09-30T13:51:27.991295Z"
    }
   },
   "source": [
    "layer = 12\n",
    "story_representations = get_sliding_window_context_representations(data=stimuli[0],\n",
    "                                                                   window_size=4,\n",
    "                                                                   layer=layer)"
   ],
   "outputs": [
    {
     "name": "stderr",
     "output_type": "stream",
     "text": [
      "C:\\Users\\Leo\\PycharmProjects\\miniconsPlayground\\venv\\lib\\site-packages\\transformers\\models\\bert\\modeling_bert.py:440: UserWarning: 1Torch was not compiled with flash attention. (Triggered internally at C:\\actions-runner\\_work\\pytorch\\pytorch\\builder\\windows\\pytorch\\aten\\src\\ATen\\native\\transformers\\cuda\\sdp_utils.cpp:555.)\n",
      "  attn_output = torch.nn.functional.scaled_dot_product_attention(\n"
     ]
    }
   ],
   "execution_count": 5
  },
  {
   "cell_type": "code",
   "id": "8442c6797e654139",
   "metadata": {
    "ExecuteTime": {
     "end_time": "2024-09-30T13:51:53.838134Z",
     "start_time": "2024-09-30T13:51:53.807804Z"
    }
   },
   "source": [
    "random_index = random.randint(0, len(story_representations) - 1)\n",
    "context, context_representation = story_representations[random_index]\n",
    "\n",
    "print(f\"Random context (index {random_index}) with its layer 12 representation:\\n{context}\\n{context_representation}\")\n"
   ],
   "outputs": [
    {
     "name": "stdout",
     "output_type": "stream",
     "text": [
      "Random context (index 1595) with its layer 12 representation:\n",
      "['to them. And {BR} I', 'I']\n",
      "tensor([[-9.7179e-01,  5.6414e-02, -7.4843e-02, -3.6394e-01,  6.5555e-01,\n",
      "          3.7119e-01,  2.6344e-01,  8.7313e-01, -3.3810e-01, -4.6067e-01,\n",
      "         -4.3446e-01,  2.5819e-02,  1.5414e-01, -6.9084e-02, -1.0626e-01,\n",
      "         -1.2962e-01,  4.3342e-01,  2.5932e-03,  6.1435e-02, -1.1143e-01,\n",
      "         -3.5935e-02, -6.9124e-02, -1.0290e+00, -4.1050e-01,  4.9770e-01,\n",
      "          8.0817e-02, -3.2828e-01, -2.4316e-01,  3.9930e-01,  2.3143e-01,\n",
      "          4.0242e-01, -8.3865e-02, -1.2525e-02,  4.3984e-01, -1.3059e+00,\n",
      "         -1.8592e-01, -2.5856e-01,  4.9956e-01, -6.0177e-01,  3.8538e-01,\n",
      "         -3.1858e-01, -5.5120e-01,  2.2789e-01, -8.7787e-01,  1.0639e-01,\n",
      "         -4.5276e-01,  9.7732e-01,  3.8869e-01,  2.6941e-01,  6.6239e-01,\n",
      "         -1.0177e+00, -9.0851e-03, -3.4074e-02, -2.4615e-01,  1.0542e-02,\n",
      "         -2.7447e-01,  6.7200e-01,  4.6330e-01, -8.6003e-01, -5.5495e-01,\n",
      "          1.1377e+00,  2.4660e-01,  2.9253e-02, -2.6532e-01, -4.0717e-01,\n",
      "          7.4227e-01,  2.8869e-01,  9.2211e-01, -6.1613e-01, -4.9696e-01,\n",
      "          2.1206e-01,  7.3170e-01, -1.4243e-01, -3.2182e-01,  7.5171e-01,\n",
      "          1.2352e-01, -3.5324e-01,  3.2119e-01, -1.1045e-01, -3.8256e-01,\n",
      "         -2.4237e-01,  1.4916e+00, -3.7637e-01,  8.0506e-01, -9.2727e-02,\n",
      "         -1.4303e-01, -4.3492e-01,  1.7697e-01, -5.5075e-02,  3.9235e-01,\n",
      "         -3.7228e-01, -8.5762e-01,  1.7358e-01, -1.6828e-02,  6.3856e-01,\n",
      "          3.6023e-01, -1.6866e-02,  2.7125e-01,  1.4895e-02, -4.1950e-01,\n",
      "         -6.8479e-01,  2.6657e-01, -6.1142e-02,  2.4614e-01, -1.1264e+00,\n",
      "          2.4516e-01,  3.9700e-01, -2.6752e-01,  5.7516e-01,  6.0908e-01,\n",
      "         -3.2369e-01, -1.3426e+00,  1.9186e-01, -3.9025e-01,  7.0245e-02,\n",
      "          6.3527e-01, -4.4915e-01, -1.4635e-01,  2.1187e-01,  3.2498e-01,\n",
      "          8.1318e-02, -8.7376e-01,  9.5012e-02,  8.0476e-01, -3.1865e-01,\n",
      "          1.6881e-01, -6.2078e-01, -4.1146e-02,  2.1551e-02, -4.1997e-01,\n",
      "          8.9062e-02,  7.6524e-01,  3.1072e-03, -6.1028e-01, -5.4993e-01,\n",
      "          6.3512e-01, -4.6793e-01,  7.5614e-02, -7.3638e-01, -5.1964e-01,\n",
      "          1.0979e+00,  5.2069e-01,  2.3267e-01, -1.2114e-01,  9.3131e-01,\n",
      "         -2.2944e-01, -7.7080e-01, -4.2996e-01, -1.5834e-01, -2.8997e-01,\n",
      "         -1.5753e-01, -2.5957e-01,  2.9875e-01, -4.5030e-01, -5.0468e-01,\n",
      "         -1.6155e+00, -7.4234e-02,  1.1182e+00, -3.4298e-01,  4.7334e-01,\n",
      "          6.5644e-01,  5.9594e-03, -2.1776e-02,  1.7306e-01, -2.4094e-01,\n",
      "          2.1741e-01,  1.9481e-01,  1.2304e+00, -1.0856e-01, -4.0312e-01,\n",
      "         -3.8857e-01, -7.1055e-01,  1.5601e+00,  1.1581e-01,  1.7997e-01,\n",
      "          3.5889e-01,  2.9964e-01,  4.7091e-01,  5.3135e-02, -2.6021e-01,\n",
      "         -2.4427e-01,  1.5578e-01, -4.7954e-02,  9.8844e-02,  1.2078e+00,\n",
      "         -3.8218e-01, -1.6234e-01, -8.1636e-01,  8.2030e-02,  4.3276e-01,\n",
      "         -1.5297e+00, -9.1278e-01,  1.1548e-01,  1.7615e-01,  1.1957e-01,\n",
      "         -7.1477e-01,  1.2863e+00,  1.0839e-01, -9.2104e-02, -3.5673e-01,\n",
      "          8.9892e-01, -1.7477e-01,  8.2162e-02,  2.5237e-01, -1.0399e-02,\n",
      "          2.3039e-01,  1.0757e-01, -3.2901e-01, -9.1439e-01, -1.2979e-01,\n",
      "         -1.5835e+00,  1.8148e+00, -2.3394e-01,  2.4756e-01,  1.0694e+00,\n",
      "         -5.3226e-01,  4.6264e-01,  7.4490e-01, -8.6254e-01,  1.2090e+00,\n",
      "          8.1037e-01, -2.0986e-01,  3.3963e-01,  4.8783e-01, -4.9541e-01,\n",
      "          2.9853e-01,  7.4137e-01, -1.6061e+00,  2.9932e-01,  1.1587e+00,\n",
      "         -6.5282e-01, -1.0728e+00,  8.3667e-01, -6.7075e-01, -1.1194e+00,\n",
      "          9.3094e-01, -1.4948e-01, -2.3874e-01, -3.6041e-01, -3.7338e-01,\n",
      "         -5.3107e-01,  1.4940e-01,  6.4901e-01,  1.1430e+00, -1.9843e-01,\n",
      "          4.4309e-01,  4.8870e-01, -3.8266e-01, -8.9970e-02, -1.8755e-01,\n",
      "         -3.3749e-01, -2.1302e+00,  1.8047e-01, -3.9186e-02, -1.1715e+00,\n",
      "         -3.8780e-02, -1.3341e-01, -2.0206e-01, -2.2119e-01,  2.7848e-01,\n",
      "          5.2611e-01,  1.0242e-02,  1.0693e+00, -9.3972e-02,  1.6760e-01,\n",
      "         -9.9024e-02,  3.6010e-01, -2.5075e-01,  4.3879e-01,  2.1404e-01,\n",
      "         -5.1521e-01, -7.3285e-02, -1.0000e-01,  9.7997e-01, -2.3662e-01,\n",
      "         -2.3894e-01,  4.0528e-01,  2.1606e-02,  1.1306e-01, -2.9664e-01,\n",
      "          6.4769e-01, -2.0981e-01, -8.0958e-01, -4.4116e-01,  7.9805e-01,\n",
      "          2.8552e-01, -2.8987e-01,  1.2110e-01,  3.0183e-01, -5.7368e-01,\n",
      "          1.3461e-01, -1.0771e-01,  4.3320e-01, -7.8896e-01,  4.1796e-01,\n",
      "         -3.6930e-01, -7.6774e-01,  2.5378e-01,  9.5289e-01,  4.3880e-02,\n",
      "         -1.0217e+00,  7.6233e-02,  2.8830e-02, -1.4923e-01,  5.9672e-01,\n",
      "          8.3124e-01,  1.7155e-01,  5.0927e-01, -2.3078e+00,  9.0259e-02,\n",
      "          4.4857e-01, -5.7248e-01,  1.0491e+00,  4.6542e-01, -6.6008e-02,\n",
      "         -3.4685e-01, -4.0291e-01, -5.2133e-01,  8.2398e-01, -7.4413e-01,\n",
      "          4.9412e-01, -5.6467e-02,  7.9787e-02, -6.7969e-01, -7.0934e-02,\n",
      "         -6.6332e-01, -4.8055e-01,  4.9646e-01,  1.0802e-01, -4.2886e-01,\n",
      "          4.6388e-01, -6.4479e-01,  4.9334e-01,  1.1142e+00,  7.2387e-02,\n",
      "          8.2985e-01, -1.5612e+00,  4.6033e-02, -6.6891e-01, -6.0595e-01,\n",
      "          7.5822e-02, -1.0573e-01,  1.2402e-01,  3.7683e-01,  2.2291e-01,\n",
      "         -1.4233e+00,  1.1345e+00, -5.1366e-01,  5.2684e-01, -9.7949e-01,\n",
      "         -2.9562e-01,  2.6100e-01,  1.0958e+00, -7.2236e-01, -8.9798e-02,\n",
      "         -6.7041e-01,  1.9322e-01,  5.3162e-01,  1.5408e-01, -2.9762e-01,\n",
      "         -1.6004e-01, -9.8051e-01, -3.3823e-02,  4.0548e-02, -6.3661e-01,\n",
      "          8.0750e-01, -2.5948e-01, -5.7065e-01,  5.1369e-01,  3.3148e-01,\n",
      "         -9.6959e-01,  1.3962e+00, -4.7847e-01, -9.4373e-01,  1.4503e-01,\n",
      "         -4.0019e-01,  1.1552e-01,  3.8285e-01,  2.0862e-01,  3.9548e-01,\n",
      "         -1.1377e-01, -4.4195e-01, -5.6275e-01,  5.0950e-01,  2.3615e-01,\n",
      "         -7.1857e-01, -7.4589e-03, -8.0287e-01,  3.7567e-01, -6.0877e-01,\n",
      "          2.2020e-01, -2.0070e-01, -3.1859e-01,  6.7313e-01,  7.0421e-01,\n",
      "         -1.1610e+00,  4.6683e-01, -4.2618e-01,  8.3910e-01,  1.3281e-01,\n",
      "          1.5785e+00, -2.6605e-01,  1.3690e+00, -7.1017e-02,  1.3115e+00,\n",
      "          5.7908e-02, -2.5659e-01, -5.0788e-01, -2.3137e-01, -5.1300e-02,\n",
      "          3.7474e-01,  7.1144e-01,  1.3185e-01,  2.6696e-01, -2.3297e+00,\n",
      "          3.5031e-01, -3.1500e-02, -4.2490e-01,  6.6228e-01, -3.3314e-01,\n",
      "          6.2301e-01, -4.3285e-02, -1.0758e+00, -5.4238e-01,  4.5225e-01,\n",
      "          2.7430e-01,  4.3172e-01, -7.6922e-01,  1.3879e-01,  9.0817e-01,\n",
      "         -4.1883e-01, -4.1909e-01, -3.1147e-01, -2.0358e-01, -2.0878e-01,\n",
      "          4.5846e-01, -9.6514e-02,  8.8378e-02, -7.6946e-01, -8.9752e-02,\n",
      "         -2.1741e-02, -7.0373e-01,  1.3818e-01, -2.4648e-02,  1.1954e-01,\n",
      "         -4.4926e-01, -4.2009e-01,  1.2485e+00,  4.4858e-01, -7.9326e-02,\n",
      "         -1.1692e+00,  5.5957e-01, -3.9837e-01,  6.4657e-01, -6.7073e-01,\n",
      "          1.8745e-01, -1.0128e-01,  1.0786e+00,  2.1612e-01, -4.8784e-01,\n",
      "          5.3902e-01,  3.5147e-01, -5.4710e-02,  4.1710e-01,  4.7931e-02,\n",
      "         -8.6904e-01,  7.5896e-02, -1.0135e+00,  6.6219e-01,  1.6229e-01,\n",
      "          3.9237e-01,  3.0904e-01,  9.7732e-02,  6.1622e-01,  6.2465e-01,\n",
      "          4.5037e-02, -5.0898e-01,  6.3446e-01,  5.3841e-01,  6.5702e-02,\n",
      "          5.1637e-01,  3.9611e-03,  4.1948e-02,  2.0864e-01, -3.3120e-01,\n",
      "         -1.0124e+00, -1.5841e+00, -3.9688e-03,  2.6718e-01, -1.1354e-01,\n",
      "         -7.7846e-01,  3.4539e-02,  5.2215e-01,  3.1233e-01, -4.4539e-01,\n",
      "         -1.1542e-01,  6.7731e-02,  7.9292e-01, -4.8279e-01, -3.0234e-01,\n",
      "         -7.4654e-01, -6.5849e-01, -3.4127e-01, -7.6232e-01,  5.2526e-01,\n",
      "         -9.9561e-01,  1.2321e-01,  3.7359e-01, -1.9845e-02, -3.8984e-01,\n",
      "         -9.7041e-01,  2.5240e-01,  7.0849e-02,  3.3206e-01, -3.1965e-01,\n",
      "          5.3476e-01, -5.8152e-01,  7.9030e-02,  8.1799e-01, -4.5182e-01,\n",
      "         -6.4977e-01, -2.3689e-01, -4.7023e-01,  4.4423e-01, -4.8936e-01,\n",
      "         -2.4313e-01,  2.1854e-01, -5.6030e-01, -1.7982e+00, -7.0018e-01,\n",
      "          3.2034e-01, -2.5318e-01,  1.0134e-01, -4.3901e-01, -1.3450e+00,\n",
      "         -5.1438e-01, -1.0933e-01, -1.0510e+00,  3.4150e-01,  6.6628e-01,\n",
      "          4.3925e-01,  4.5523e-01,  6.2913e-01, -3.1914e-01, -1.0148e+00,\n",
      "         -1.1831e+00,  1.6537e-03,  1.7433e-02, -1.7841e-01, -8.7029e-01,\n",
      "         -2.8939e-01, -4.8850e-01,  6.1257e-02, -4.1364e-01, -5.6417e-01,\n",
      "          6.2093e-01,  1.7977e+00,  9.0845e-01, -6.8864e-01,  7.7142e-01,\n",
      "         -3.9691e-01, -9.7961e-01, -4.5788e-03, -4.1885e-01, -1.0690e+00,\n",
      "          1.6268e-01, -1.1976e-01,  1.1399e-02,  1.1540e-01, -4.6566e-02,\n",
      "         -3.2711e-01,  4.0689e-01,  1.4982e-02, -1.6612e-01,  3.4541e-01,\n",
      "          1.6740e-01,  7.1967e-01, -3.7338e-01, -6.9350e-01,  5.5587e-01,\n",
      "         -3.0880e-02,  6.5210e-01, -6.9552e-01,  2.2368e-01,  1.9309e-01,\n",
      "         -7.6341e-01,  8.7709e-02, -2.8083e-01, -5.4430e-01,  2.2398e-01,\n",
      "          4.7194e-01,  9.5377e-01,  5.7090e-01, -3.5315e-01, -1.6864e-01,\n",
      "         -5.5420e-01, -2.2939e-01, -1.0653e+00,  5.4401e-01,  1.3337e-01,\n",
      "         -1.3730e-01,  6.8251e-01,  6.5352e-01,  8.0613e-01, -3.1417e-01,\n",
      "         -4.9039e-02, -8.6929e-01,  6.6383e-01, -7.2656e-01,  1.3005e-01,\n",
      "         -2.0090e-02, -2.8519e-01, -2.4642e-01,  1.1252e+00,  6.0469e-01,\n",
      "          7.9931e-02, -9.3199e-01,  2.0916e-01, -9.2094e-01, -6.8770e-02,\n",
      "         -5.6993e-01,  9.1498e-01, -7.1620e-01,  1.0100e-01,  6.3632e-02,\n",
      "         -9.0970e-01,  1.2979e-02,  6.9468e-01,  6.0056e-01,  2.5491e-01,\n",
      "          1.0515e+00,  7.8264e-01, -1.2609e-02,  9.9786e-01, -1.1507e+00,\n",
      "          2.1956e-01,  4.4962e-01,  1.4096e+00, -7.3276e-01, -5.8833e-01,\n",
      "          4.7448e-01,  4.2167e-01,  5.5966e-01,  4.5628e-01,  8.0515e-01,\n",
      "         -1.1719e-01, -1.3174e+00,  1.3437e-01, -1.9802e-01, -5.8169e-01,\n",
      "          1.0709e+00, -1.7813e-01, -8.8730e-02,  4.5809e-01,  5.2377e-01,\n",
      "         -8.0358e-02,  2.6102e-01,  7.9951e-01, -3.1361e-01,  4.9229e-01,\n",
      "         -1.2905e+00,  3.8543e-01, -1.6772e-01,  1.5402e+00, -2.5262e-01,\n",
      "         -3.5730e-01, -5.2132e-01,  1.0279e+00, -1.4757e-01,  1.1219e+00,\n",
      "          1.0989e+00, -4.3061e-02, -3.7223e-01,  1.7179e-01,  2.6442e-02,\n",
      "         -3.7809e-01, -4.5816e-01, -9.4573e-01, -1.4873e-01,  7.4275e-02,\n",
      "          2.5187e-01,  7.4327e-01, -1.0116e+00, -3.8785e-01,  9.1863e-02,\n",
      "          3.9748e-01, -9.3983e-01, -1.5492e+00,  1.6590e-01,  1.1640e+00,\n",
      "         -2.7994e-01,  4.2097e-01,  9.0886e-01, -6.9948e-01,  1.3252e-01,\n",
      "         -2.1290e-01, -3.0757e-01, -4.2567e-01,  1.2405e-01,  8.8183e-04,\n",
      "          6.8743e-02, -1.6489e-01, -2.1471e-02, -4.5555e-01, -2.2176e-01,\n",
      "          3.3795e-01,  9.8646e-01,  7.3965e-01,  1.1999e+00, -2.7011e-01,\n",
      "          1.5542e-01,  5.4644e-01, -2.6984e-01,  1.1257e-01, -3.9207e-01,\n",
      "          7.8792e-01, -7.9293e-01, -5.6099e-01,  7.4613e-02,  8.1139e-01,\n",
      "         -8.2235e-01,  5.6033e-01,  5.1688e-01, -3.7579e-01,  2.7634e-01,\n",
      "          1.1730e-01,  4.1401e-02, -2.9306e-01,  9.4309e-02, -4.8498e-01,\n",
      "         -4.4805e-01,  1.3149e+00, -7.1092e-01, -5.2802e-01, -1.2525e+00,\n",
      "          1.2642e+00,  3.1769e-01,  7.0296e-01, -6.8197e-02,  2.4241e-01,\n",
      "         -4.4768e-01,  1.8271e-01,  1.0310e-01, -6.7718e-01, -4.8815e-01,\n",
      "         -5.0763e-01, -7.1266e-01,  2.3191e-01,  3.0768e-01,  4.8368e-01,\n",
      "          2.3481e-02, -4.9418e-01,  2.3762e-01,  5.3887e-01, -1.7440e-01,\n",
      "          2.1282e-01, -2.2438e-01, -1.0359e+00,  3.2556e-02, -3.8421e-01,\n",
      "          2.6895e-01, -3.8104e-01, -7.3319e-01, -1.0663e+00,  7.2283e-01,\n",
      "         -2.6533e-01,  4.3554e-01, -3.8691e-01]])\n"
     ]
    }
   ],
   "execution_count": 6
  },
  {
   "cell_type": "markdown",
   "id": "bab870c0d0e10037",
   "metadata": {},
   "source": [
    "## Extract context representations for all stories"
   ]
  },
  {
   "cell_type": "code",
   "id": "c820c58f367f1e18",
   "metadata": {
    "scrolled": true,
    "ExecuteTime": {
     "end_time": "2024-09-30T13:57:00.921652Z",
     "start_time": "2024-09-30T13:51:53.839132Z"
    }
   },
   "source": [
    "all_representations = [get_sliding_window_context_representations(stimulus, window_size=5, layer=None) for stimulus in stimuli]\n",
    "\n"
   ],
   "outputs": [],
   "execution_count": 7
  },
  {
   "cell_type": "code",
   "id": "d877e64d6c12d1ea",
   "metadata": {
    "ExecuteTime": {
     "end_time": "2024-09-30T14:07:44.786459Z",
     "start_time": "2024-09-30T14:07:44.776404Z"
    }
   },
   "source": [
    "context, representation = all_representations[0][10]\n",
    "\n",
    "print(context)\n",
    "print(representation)"
   ],
   "outputs": [
    {
     "name": "stdout",
     "output_type": "stream",
     "text": [
      "['that the universe that we inhabit', 'inhabit']\n",
      "tensor([[ 5.4745e-01,  8.8868e-01,  2.0234e-01, -2.6698e-01,  4.1239e-01,\n",
      "          1.0069e-01,  3.8865e-01,  7.0537e-01,  5.4214e-01, -1.2111e+00,\n",
      "          4.8280e-01, -1.4419e-01, -1.0896e+00,  1.0598e+00, -4.1688e-01,\n",
      "          4.1683e-01, -2.0451e-01,  5.6005e-03, -2.1767e-01,  4.8985e-01,\n",
      "         -3.9682e-01,  2.0072e-01, -2.9084e-01,  2.3084e-01,  2.4638e-01,\n",
      "         -1.9373e-02, -1.0311e-01,  8.1191e-01, -1.3286e-01, -4.1009e-01,\n",
      "         -2.4934e-01,  1.1043e+00,  1.2458e-01,  2.3373e-01, -5.7065e-02,\n",
      "          5.9015e-01, -1.8757e-02, -5.5312e-02, -1.3660e-01,  5.1150e-01,\n",
      "          2.4910e-01, -3.0834e-01,  2.7299e-01, -1.6936e-01, -2.1597e-01,\n",
      "         -2.5065e-01,  4.3360e-01,  2.6983e-01,  3.2872e-01,  6.1394e-01,\n",
      "         -5.4159e-01,  1.0774e+00, -7.9726e-01,  4.7545e-02,  8.0608e-01,\n",
      "          9.8120e-01,  6.5279e-01, -5.5325e-01,  6.5457e-02, -3.2394e-01,\n",
      "         -1.7371e-01,  9.0868e-01,  1.0276e-01, -2.7416e-01, -8.5830e-01,\n",
      "          5.8517e-01, -3.7348e-02, -4.2643e-01, -1.3889e-01,  4.1641e-01,\n",
      "         -1.7338e-01,  3.3124e-01, -3.9058e-01,  8.1845e-01, -7.1729e-01,\n",
      "         -1.3023e-01,  3.0077e-01, -3.2615e-01,  5.4163e-02, -4.1058e-01,\n",
      "         -3.4584e-01,  1.6255e-01,  1.6723e-01,  2.7308e-01,  6.9055e-01,\n",
      "         -4.6745e-02, -3.5006e-01,  1.8380e-01,  9.1896e-02,  6.6099e-02,\n",
      "         -4.2294e-02,  6.9938e-01, -3.3023e-01,  6.1500e-01,  2.8955e-01,\n",
      "         -5.5206e-01,  6.3898e-01,  2.5735e-01, -5.6942e-01, -5.8456e-01,\n",
      "          4.4275e-01,  6.1509e-01, -2.8405e-01, -1.2184e-01,  2.3135e-01,\n",
      "         -8.7490e-02, -1.1676e-01, -2.8217e-02,  5.2118e-01,  5.4926e-01,\n",
      "          7.6628e-02, -3.8746e-01, -4.2762e-02, -3.5448e-01,  2.1134e-01,\n",
      "          7.3147e-02,  3.2591e-02, -3.9943e-01,  1.0488e-01, -4.4381e-01,\n",
      "          2.1083e-03,  3.3614e-01,  9.3428e-02,  7.7223e-01, -4.4382e-01,\n",
      "         -2.7674e-01,  3.2094e-01, -2.2932e-01, -1.0334e-01, -5.2223e-01,\n",
      "          7.5389e-01,  5.7188e-01,  2.0317e-01, -3.6134e-01, -5.6543e-02,\n",
      "          6.0681e-02,  4.8938e-01, -5.6142e-01, -2.8406e-01, -5.1590e-01,\n",
      "         -4.1687e-01, -2.8014e-01,  6.2651e-02, -1.6156e-01, -2.1624e-01,\n",
      "          1.2212e-01,  2.6452e-01, -2.9237e-01,  3.5883e-02,  1.4323e-01,\n",
      "         -4.8778e-01,  1.5988e-01, -9.7535e-02, -3.9681e-01, -1.9615e-02,\n",
      "         -1.0937e+00, -3.0447e-01,  9.8199e-01, -4.1285e-03, -5.0515e-01,\n",
      "          2.7333e-02,  5.9090e-02, -2.1287e-01,  7.0432e-01, -2.6064e-02,\n",
      "         -2.4291e-01, -1.9224e-01,  3.4171e-01, -4.6175e-02, -1.4022e+00,\n",
      "         -3.8138e-01, -9.1388e-02,  1.0069e+00,  3.9819e-01,  9.7283e-03,\n",
      "         -4.0102e-01,  4.9850e-01,  4.0938e-01,  9.8073e-02,  7.0948e-02,\n",
      "         -3.1678e-01, -2.6971e-01, -1.1066e-01, -3.3758e-01,  4.3803e-01,\n",
      "         -2.9541e-01,  1.0699e-01, -7.2769e-01, -2.9744e-01, -4.9533e-01,\n",
      "         -3.8233e-01, -4.0947e-01, -3.5093e-01,  1.0450e-01, -1.4313e-01,\n",
      "         -6.9020e-01, -1.0325e+00,  1.5797e-01, -1.3054e-01,  2.3343e-01,\n",
      "          8.7333e-02, -1.3521e-02,  1.1448e-01, -9.9026e-02,  5.3750e-01,\n",
      "          4.6779e-01,  8.8887e-02, -4.0690e-01,  1.9163e-03,  2.3479e-01,\n",
      "         -4.5337e-01, -1.9880e-02, -4.8663e-01, -1.9030e-01, -2.2240e-01,\n",
      "          3.1942e-01, -2.8128e-02, -1.4614e-01, -4.4410e-01, -3.0785e-02,\n",
      "          5.2006e-01, -7.9528e-01, -2.7671e-01, -6.3303e-02,  4.5202e-01,\n",
      "          3.2514e-01,  2.0283e-01,  2.5576e-01, -1.5694e-01,  5.2451e-01,\n",
      "          6.0258e-01, -7.4534e-01,  9.4783e-01, -5.9722e-01,  1.0447e-01,\n",
      "          4.6144e-01,  1.7046e-01, -9.0060e-01,  3.1970e-01,  1.2873e-01,\n",
      "         -7.8828e-01, -3.6998e-01,  6.0368e-02,  7.0399e-01, -3.3546e-02,\n",
      "         -4.3202e-01, -7.4310e-02, -4.6643e-01, -5.8402e-01,  9.9827e-03,\n",
      "         -2.4696e-01, -1.1136e+00,  1.3337e-01, -3.0624e-02, -3.0561e-01,\n",
      "         -6.6967e-01, -1.8718e-01, -5.1970e-01,  3.5681e-01,  2.0514e-01,\n",
      "         -4.8770e-01, -1.9970e-01,  3.9435e-01,  3.5247e-01, -1.9283e-01,\n",
      "         -1.3033e+00,  5.8867e-01,  4.6982e-01,  5.3753e-01,  3.2150e-01,\n",
      "          6.7297e-01,  2.6834e-01,  2.9557e-01,  8.0804e-01,  8.1340e-01,\n",
      "         -1.3381e-01,  8.6663e-02,  4.3689e-03,  2.2782e-02, -4.0024e-01,\n",
      "         -1.4993e-01,  7.4322e-02, -4.1567e-01,  7.4720e-02,  1.1279e+00,\n",
      "         -3.2646e-01, -1.3730e-01, -6.5688e-01, -1.1944e-01,  2.4425e-01,\n",
      "          6.4102e-02,  4.5804e-01, -6.0318e-01, -1.2341e-01,  7.5362e-01,\n",
      "          8.4457e-01,  3.5746e-01,  5.6496e-01,  4.7009e-01,  1.5534e-01,\n",
      "         -4.7948e-01,  7.1830e-02,  3.8584e-01,  5.2271e-01, -6.0329e-01,\n",
      "          2.1408e-01, -6.0455e-02,  7.5376e-01, -4.8687e+00, -4.1468e-01,\n",
      "         -3.7504e-02,  1.7140e-01,  2.6522e-01,  9.0570e-01, -1.2855e-01,\n",
      "         -2.3740e-01, -7.8238e-02,  1.1231e+00,  8.6866e-02, -7.9478e-02,\n",
      "          4.0831e-02,  8.1936e-01,  7.1846e-02, -8.0807e-01,  5.0850e-01,\n",
      "         -3.5949e-01, -1.1813e-01,  7.1530e-01,  1.1449e-01, -1.6803e-01,\n",
      "          5.6032e-01, -7.9745e-01,  1.4188e-01,  6.0954e-01, -1.8987e-01,\n",
      "         -2.6549e-01,  1.4315e-01, -4.9279e-01,  3.2981e-01, -1.1329e-01,\n",
      "          3.7039e-02,  5.4994e-02, -1.0426e-01,  8.6908e-02,  1.0098e-01,\n",
      "         -1.3086e+00,  4.9176e-01, -7.6479e-01, -7.7818e-01, -6.8808e-01,\n",
      "          6.1530e-01, -3.6349e-01,  4.6301e-01,  5.6539e-02, -1.8540e-01,\n",
      "          3.8777e-01, -5.5240e-01,  7.1822e-01,  2.4533e-01,  1.8319e-01,\n",
      "          2.4370e-01, -1.4210e-01,  3.2663e-01,  4.0576e-01,  3.2584e-01,\n",
      "         -7.0543e-01,  1.6045e-01, -1.0276e+00,  5.4279e-01, -4.6765e-01,\n",
      "         -5.2209e-01,  5.9005e-01,  1.9348e-01,  1.3708e-02, -8.9392e-01,\n",
      "         -6.7586e-01,  5.9470e-01, -7.5184e-01,  6.7308e-02,  4.8073e-01,\n",
      "         -6.3038e-01, -3.7479e-01, -6.2610e-01,  2.4510e-01, -6.0725e-01,\n",
      "          1.9582e-01, -1.1353e-01, -6.2020e-01, -3.8969e-01, -8.7178e-01,\n",
      "          4.7322e-01, -6.8685e-01, -4.3355e-01, -3.6147e-01, -1.6163e-02,\n",
      "          2.0399e-01,  4.1458e-01,  2.7256e-01,  1.0792e-01, -4.8857e-01,\n",
      "         -1.4468e-01,  3.4990e-01,  1.0711e+00, -2.8401e-01, -8.1613e-01,\n",
      "          5.6637e-01, -1.7101e-01, -1.0304e-01,  3.7759e-01, -6.7909e-01,\n",
      "          4.5368e-01,  2.9633e-01,  2.7455e-01, -2.7466e-01, -7.3382e-01,\n",
      "          3.5737e-01,  2.2743e-01,  2.3220e-01,  1.5710e-02,  6.5479e-01,\n",
      "         -1.8905e-01, -6.0101e-01, -5.2306e-02, -3.0079e-02,  8.2881e-01,\n",
      "          2.9377e-01, -3.7255e-01, -2.1758e-01, -5.2646e-01,  7.3675e-01,\n",
      "         -2.8874e-02,  3.9087e-01, -1.5009e+00,  1.8367e-01,  1.4531e-01,\n",
      "          4.1908e-01,  2.0238e-01,  2.1744e-01, -3.1434e-02,  4.0561e-01,\n",
      "         -4.7194e-02, -1.8552e-01, -2.6126e-01, -5.5108e-02,  2.9049e-01,\n",
      "         -3.5820e-02, -2.7543e-01,  6.8857e-01,  8.0892e-01, -3.0481e-01,\n",
      "          8.0653e-01, -4.6764e-01, -1.3296e+00, -3.3355e-01,  1.7675e-01,\n",
      "         -1.3520e-01, -9.2438e-01,  1.5217e-01, -5.2546e-01, -6.6721e-01,\n",
      "          4.7641e-01, -1.4906e-01, -7.2059e-03, -1.4485e-01,  3.2634e-01,\n",
      "          4.7935e-02,  5.9608e-01, -2.2075e-01,  5.7818e-01,  1.6056e-01,\n",
      "          4.2985e-01,  2.0183e-01, -5.9304e-01,  3.3974e-01, -2.7243e-01,\n",
      "          6.8548e-02, -1.7028e-01, -3.6412e-01, -1.3288e-01,  1.3647e-01,\n",
      "         -4.0369e-02,  1.9274e-01,  2.8590e-01,  4.0638e-01,  1.5786e-02,\n",
      "          7.1455e-04,  8.6645e-02,  4.1189e-01,  2.6018e-02, -5.1641e-02,\n",
      "         -2.0520e-01, -8.5201e-01,  1.0650e-02, -8.6941e-01, -3.4730e-01,\n",
      "          1.7995e-01, -1.8045e-01, -5.6810e-02, -1.1939e-01, -2.1186e-01,\n",
      "         -6.4811e-01, -8.3091e-01, -3.0746e-01, -4.2689e-01,  2.5786e-01,\n",
      "          1.0132e+00,  4.5117e-02,  6.3952e-01,  6.2806e-01, -7.1568e-01,\n",
      "         -6.7270e-01, -1.7389e-01,  2.3972e-01,  1.7955e-01, -5.0507e-01,\n",
      "          3.0186e-01, -1.8808e-01,  3.3741e-01, -9.3779e-01, -3.2820e-01,\n",
      "         -3.8614e-01, -4.4371e-01,  9.6789e-02, -1.9972e-01,  7.8800e-01,\n",
      "         -5.5238e-01, -1.3316e-03,  6.1914e-01, -1.4450e-01, -4.9962e-02,\n",
      "          7.5954e-01,  7.8982e-01, -2.3679e-01,  3.9659e-01,  2.0818e-01,\n",
      "          7.0143e-01,  7.5470e-02, -8.6257e-02, -4.7014e-01,  1.2805e-01,\n",
      "          5.9010e-01, -5.1774e-01,  4.9260e-01,  2.0011e-01,  9.9549e-01,\n",
      "          3.1665e-01, -5.5469e-01, -1.7746e-01,  8.8464e-02, -2.8117e-01,\n",
      "         -1.2263e+00, -5.1890e-01,  4.6081e-01, -4.2409e-01, -4.4212e-01,\n",
      "         -1.8608e-01,  4.0618e-01,  1.5019e-01,  1.9914e-01, -5.5027e-01,\n",
      "         -7.0907e-01, -6.2202e-01,  9.4650e-02, -1.8218e-01,  8.6504e-02,\n",
      "         -4.4656e-01, -3.4989e-01,  2.4489e-01,  1.2146e-02,  3.2500e-01,\n",
      "          3.6167e-01, -2.4872e-01,  1.7764e-01,  1.1693e-01, -3.5199e-01,\n",
      "          3.0848e-01,  5.0021e-01, -1.8684e-01,  5.3294e-01, -4.9020e-01,\n",
      "         -2.0644e-01, -1.1173e+00,  2.2000e-01,  2.7667e-01, -3.6045e-01,\n",
      "         -6.0108e-01,  9.9340e-01, -1.1829e+00, -2.8448e-02,  7.1842e-02,\n",
      "         -4.3290e-01,  1.6649e-01,  2.2282e-01, -3.5232e-01,  3.7984e-01,\n",
      "         -1.7625e-02, -2.5105e-01, -4.9954e-01,  1.6558e-01,  1.2495e-01,\n",
      "          2.1351e-01,  3.8297e-01,  2.3128e-01,  7.0484e-01,  8.0032e-01,\n",
      "          4.3962e-02,  4.9824e-01,  4.1882e-01, -7.9108e-01, -3.9723e-01,\n",
      "          2.3854e-01, -2.9037e-01, -4.7157e-01,  1.3277e-02, -1.3857e-02,\n",
      "         -3.1026e-01, -3.1407e-01,  2.3293e-01,  7.7567e-01, -6.1495e-01,\n",
      "          5.2504e-01,  4.3530e-02, -3.8219e-01, -7.5679e-01, -2.4586e-01,\n",
      "         -1.3209e+00, -5.8332e-01,  5.9864e-01, -6.0230e-01, -4.2855e-01,\n",
      "          1.0994e-02,  3.0902e-01,  2.8791e-01,  5.1510e-01, -2.3150e-01,\n",
      "          1.1806e-01, -7.8618e-01, -6.5012e-01, -1.2521e-01,  2.1891e-01,\n",
      "         -8.3597e-01,  8.6488e-01,  2.7482e-01, -8.1433e-01,  4.5950e-01,\n",
      "          4.0166e-01, -6.0544e-02,  6.5247e-01, -2.2862e-01, -2.6016e-01,\n",
      "          3.0654e-01,  3.0145e-01, -4.0160e-01, -4.7178e-01, -4.9497e-01,\n",
      "          7.2677e-01,  9.8657e-01,  1.1019e+00,  5.2735e-03, -5.2303e-01,\n",
      "          6.0930e-01,  8.7915e-02,  2.1861e-01,  3.2246e-01,  3.8766e-01,\n",
      "          1.9773e-01, -5.0694e-01,  4.7924e-01,  5.5900e-01, -7.4024e-03,\n",
      "          7.1142e-01, -1.4862e+00,  3.8598e-01,  6.2927e-01,  6.1267e-02,\n",
      "         -5.1539e-01, -4.2758e-01, -8.3591e-01,  4.8175e-01, -1.4500e-01,\n",
      "         -4.9537e-02,  4.8129e-01,  4.0708e-01, -1.5788e-01, -1.6238e-01,\n",
      "         -7.0252e-01, -2.7139e-01, -8.5365e-01, -1.7725e-01, -2.4845e-01,\n",
      "          5.8242e-01, -9.3689e-02,  4.3034e-01,  9.0973e-02,  6.7436e-01,\n",
      "          7.6409e-02,  3.5947e-01, -1.0021e-02,  8.0888e-01,  3.2412e-01,\n",
      "          2.1901e-01,  1.4280e-01, -1.1003e-01,  2.7401e-01, -4.7706e-01,\n",
      "         -3.7743e-01,  1.5193e-01, -2.8947e-01,  1.9501e-01,  1.9089e-01,\n",
      "         -6.1473e-01, -1.3856e-01, -3.2897e-02,  2.1301e-02,  2.1892e-01,\n",
      "          1.3635e-02, -2.0197e-01, -3.2213e-01, -1.8468e-01,  9.2914e-03,\n",
      "         -2.6311e-01,  8.2693e-01,  3.8801e-01, -4.8596e-01, -3.5045e-01,\n",
      "          5.1665e-03,  3.2301e-01, -1.0614e+00, -5.1560e-01, -5.7151e-01,\n",
      "         -2.1483e-01,  7.7125e-03,  6.2706e-02,  6.2458e-02, -3.6468e-01,\n",
      "          5.3318e-01, -3.7233e-01,  5.0707e-01, -3.4352e-01,  2.5273e-01,\n",
      "          7.5044e-02,  7.9842e-01,  1.3002e-01,  2.1821e-01, -8.2772e-01,\n",
      "          2.7954e-01,  4.6851e-01,  2.8682e-01, -6.5856e-01,  2.4141e-01,\n",
      "          1.5019e-01, -9.1793e-01,  8.6146e-01, -2.1049e-01, -1.9336e-02,\n",
      "         -2.8884e-01, -5.7005e-01,  4.4991e-02,  4.3293e-01, -3.0828e-01,\n",
      "          3.4422e-01, -2.4243e-01,  6.6185e-01, -5.6693e-01,  5.9777e-01,\n",
      "         -2.4610e-01,  1.9117e-01,  4.2702e-02]])\n"
     ]
    }
   ],
   "execution_count": 11
  }
 ],
 "metadata": {
  "kernelspec": {
   "display_name": "Python 3 (ipykernel)",
   "language": "python",
   "name": "python3"
  },
  "language_info": {
   "codemirror_mode": {
    "name": "ipython",
    "version": 3
   },
   "file_extension": ".py",
   "mimetype": "text/x-python",
   "name": "python",
   "nbconvert_exporter": "python",
   "pygments_lexer": "ipython3",
   "version": "3.10.6"
  }
 },
 "nbformat": 4,
 "nbformat_minor": 5
}
