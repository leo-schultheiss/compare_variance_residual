{
 "cells": [
  {
   "cell_type": "code",
   "id": "initial_id",
   "metadata": {
    "ExecuteTime": {
     "end_time": "2024-09-27T08:51:02.278882Z",
     "start_time": "2024-09-27T08:50:45.383974Z"
    }
   },
   "source": [
    "import minicons.utils\n",
    "!pip install minicons"
   ],
   "outputs": [
    {
     "name": "stdout",
     "output_type": "stream",
     "text": [
      "Requirement already satisfied: minicons in ./venv/lib/python3.12/site-packages (0.2.49)\r\n",
      "Requirement already satisfied: accelerate>=0.25.0 in ./venv/lib/python3.12/site-packages (from minicons) (0.34.2)\r\n",
      "Requirement already satisfied: openai<0.29.0,>=0.28.0 in ./venv/lib/python3.12/site-packages (from minicons) (0.28.1)\r\n",
      "Collecting pandas==2.2.0 (from minicons)\r\n",
      "  Using cached pandas-2.2.0-cp312-cp312-manylinux_2_17_x86_64.manylinux2014_x86_64.whl.metadata (19 kB)\r\n",
      "Requirement already satisfied: pillow<11.0.0,>=10.2.0 in ./venv/lib/python3.12/site-packages (from minicons) (10.4.0)\r\n",
      "Requirement already satisfied: tenacity<9.0.0,>=8.2.3 in ./venv/lib/python3.12/site-packages (from minicons) (8.5.0)\r\n",
      "Requirement already satisfied: torch<3.0.0,>=2.0.0 in ./venv/lib/python3.12/site-packages (from minicons) (2.4.1)\r\n",
      "Requirement already satisfied: transformers>=4.30.0 in ./venv/lib/python3.12/site-packages (from minicons) (4.44.2)\r\n",
      "Collecting urllib3<2.0.0,>=1.26.7 (from minicons)\r\n",
      "  Using cached urllib3-1.26.20-py2.py3-none-any.whl.metadata (50 kB)\r\n",
      "Requirement already satisfied: wonderwords<3.0.0,>=2.2.0 in ./venv/lib/python3.12/site-packages (from minicons) (2.2.0)\r\n",
      "Requirement already satisfied: numpy<2,>=1.26.0 in /nix/store/5qnnxrlcfiiv9b84cj1n02gnfq2hbsp4-python3.12-numpy-1.26.4/lib/python3.12/site-packages (from pandas==2.2.0->minicons) (1.26.4)\r\n",
      "Requirement already satisfied: python-dateutil>=2.8.2 in /nix/store/pm35z7kl9plm66mlisan2b8fzj28ijbb-python3.12-python-dateutil-2.9.0.post0/lib/python3.12/site-packages (from pandas==2.2.0->minicons) (2.9.0.post0)\r\n",
      "Requirement already satisfied: pytz>=2020.1 in /nix/store/30vw7zvhxksm0b3p599w8xwi9wxjp81z-python3.12-pytz-2024.1/lib/python3.12/site-packages (from pandas==2.2.0->minicons) (2024.1)\r\n",
      "Requirement already satisfied: tzdata>=2022.7 in /nix/store/1jlf4hi59ydd63xxa17daq7r3f6d389f-python3.12-tzdata-2024.1/lib/python3.12/site-packages (from pandas==2.2.0->minicons) (2024.1)\r\n",
      "Requirement already satisfied: packaging>=20.0 in /nix/store/mi72s33raf3kf07jyjg0grm759yjbgx3-python3.12-packaging-24.1/lib/python3.12/site-packages (from accelerate>=0.25.0->minicons) (24.1)\r\n",
      "Requirement already satisfied: psutil in /nix/store/3hw3cjhfslzb0gpai92hdfc74czm0rwj-python3.12-psutil-6.0.0/lib/python3.12/site-packages (from accelerate>=0.25.0->minicons) (6.0.0)\r\n",
      "Requirement already satisfied: pyyaml in /nix/store/f7klsqj0al82n6nrdcbnziyn72l0pxzk-python3.12-pyyaml-6.0.1/lib/python3.12/site-packages (from accelerate>=0.25.0->minicons) (6.0.1)\r\n",
      "Requirement already satisfied: huggingface-hub>=0.21.0 in ./venv/lib/python3.12/site-packages (from accelerate>=0.25.0->minicons) (0.25.1)\r\n",
      "Requirement already satisfied: safetensors>=0.4.3 in ./venv/lib/python3.12/site-packages (from accelerate>=0.25.0->minicons) (0.4.5)\r\n",
      "Requirement already satisfied: requests>=2.20 in /nix/store/s5cw6mdkviv6m1fzcmsgkx7rc2hlw6wz-python3.12-requests-2.32.3/lib/python3.12/site-packages (from openai<0.29.0,>=0.28.0->minicons) (2.32.3)\r\n",
      "Requirement already satisfied: tqdm in /nix/store/divql1ndklzzhk1y3qbhfc29jvrbf44f-python3.12-tqdm-4.66.4/lib/python3.12/site-packages (from openai<0.29.0,>=0.28.0->minicons) (4.66.4)\r\n",
      "Requirement already satisfied: aiohttp in /nix/store/i1153yl1g1r3x8hin3a93s7qdsjzywwd-python3.12-aiohttp-3.10.2/lib/python3.12/site-packages (from openai<0.29.0,>=0.28.0->minicons) (3.10.2)\r\n",
      "Requirement already satisfied: filelock in ./venv/lib/python3.12/site-packages (from torch<3.0.0,>=2.0.0->minicons) (3.16.1)\r\n",
      "Requirement already satisfied: typing-extensions>=4.8.0 in /nix/store/grk0208qlwhqr6xsiwdgf6zjpmrialq1-python3.12-typing-extensions-4.12.2/lib/python3.12/site-packages (from torch<3.0.0,>=2.0.0->minicons) (4.12.2)\r\n",
      "Requirement already satisfied: sympy in ./venv/lib/python3.12/site-packages (from torch<3.0.0,>=2.0.0->minicons) (1.13.3)\r\n",
      "Requirement already satisfied: networkx in ./venv/lib/python3.12/site-packages (from torch<3.0.0,>=2.0.0->minicons) (3.3)\r\n",
      "Requirement already satisfied: jinja2 in /nix/store/4c7kq6bvii4x73k4b6i6sm436jw49y3r-python3.12-jinja2-3.1.4/lib/python3.12/site-packages (from torch<3.0.0,>=2.0.0->minicons) (3.1.4)\r\n",
      "Requirement already satisfied: fsspec in ./venv/lib/python3.12/site-packages (from torch<3.0.0,>=2.0.0->minicons) (2024.9.0)\r\n",
      "Requirement already satisfied: setuptools in /nix/store/1mprs8zcxcq1i02hi6kg2gaqaia8fpjn-python3.12-setuptools-72.1.0/lib/python3.12/site-packages (from torch<3.0.0,>=2.0.0->minicons) (72.1.0.post0)\r\n",
      "Requirement already satisfied: nvidia-cuda-nvrtc-cu12==12.1.105 in ./venv/lib/python3.12/site-packages (from torch<3.0.0,>=2.0.0->minicons) (12.1.105)\r\n",
      "Requirement already satisfied: nvidia-cuda-runtime-cu12==12.1.105 in ./venv/lib/python3.12/site-packages (from torch<3.0.0,>=2.0.0->minicons) (12.1.105)\r\n",
      "Requirement already satisfied: nvidia-cuda-cupti-cu12==12.1.105 in ./venv/lib/python3.12/site-packages (from torch<3.0.0,>=2.0.0->minicons) (12.1.105)\r\n",
      "Requirement already satisfied: nvidia-cudnn-cu12==9.1.0.70 in ./venv/lib/python3.12/site-packages (from torch<3.0.0,>=2.0.0->minicons) (9.1.0.70)\r\n",
      "Requirement already satisfied: nvidia-cublas-cu12==12.1.3.1 in ./venv/lib/python3.12/site-packages (from torch<3.0.0,>=2.0.0->minicons) (12.1.3.1)\r\n",
      "Requirement already satisfied: nvidia-cufft-cu12==11.0.2.54 in ./venv/lib/python3.12/site-packages (from torch<3.0.0,>=2.0.0->minicons) (11.0.2.54)\r\n",
      "Requirement already satisfied: nvidia-curand-cu12==10.3.2.106 in ./venv/lib/python3.12/site-packages (from torch<3.0.0,>=2.0.0->minicons) (10.3.2.106)\r\n",
      "Requirement already satisfied: nvidia-cusolver-cu12==11.4.5.107 in ./venv/lib/python3.12/site-packages (from torch<3.0.0,>=2.0.0->minicons) (11.4.5.107)\r\n",
      "Requirement already satisfied: nvidia-cusparse-cu12==12.1.0.106 in ./venv/lib/python3.12/site-packages (from torch<3.0.0,>=2.0.0->minicons) (12.1.0.106)\r\n",
      "Requirement already satisfied: nvidia-nccl-cu12==2.20.5 in ./venv/lib/python3.12/site-packages (from torch<3.0.0,>=2.0.0->minicons) (2.20.5)\r\n",
      "Requirement already satisfied: nvidia-nvtx-cu12==12.1.105 in ./venv/lib/python3.12/site-packages (from torch<3.0.0,>=2.0.0->minicons) (12.1.105)\r\n",
      "Requirement already satisfied: triton==3.0.0 in ./venv/lib/python3.12/site-packages (from torch<3.0.0,>=2.0.0->minicons) (3.0.0)\r\n",
      "Requirement already satisfied: nvidia-nvjitlink-cu12 in ./venv/lib/python3.12/site-packages (from nvidia-cusolver-cu12==11.4.5.107->torch<3.0.0,>=2.0.0->minicons) (12.6.68)\r\n",
      "Requirement already satisfied: regex!=2019.12.17 in ./venv/lib/python3.12/site-packages (from transformers>=4.30.0->minicons) (2024.9.11)\r\n",
      "Requirement already satisfied: tokenizers<0.20,>=0.19 in ./venv/lib/python3.12/site-packages (from transformers>=4.30.0->minicons) (0.19.1)\r\n",
      "Requirement already satisfied: six>=1.5 in /nix/store/d8kyggpkgp2k28sc8x1h8alwlpwlqaf2-python3.12-six-1.16.0/lib/python3.12/site-packages (from python-dateutil>=2.8.2->pandas==2.2.0->minicons) (1.16.0)\r\n",
      "Requirement already satisfied: charset-normalizer<4,>=2 in /nix/store/w3822yxkxpyjq2jmmlf3asb9d0ljqcbp-python3.12-charset-normalizer-3.3.2/lib/python3.12/site-packages (from requests>=2.20->openai<0.29.0,>=0.28.0->minicons) (3.3.2)\r\n",
      "Requirement already satisfied: idna<4,>=2.5 in /nix/store/ryad4ql31r75h1wz6b8p5b7364bnjfbm-python3.12-idna-3.7/lib/python3.12/site-packages (from requests>=2.20->openai<0.29.0,>=0.28.0->minicons) (3.7)\r\n",
      "Requirement already satisfied: certifi>=2017.4.17 in /nix/store/gc83fxmyhb0ibaaw27cb4wgh3cmhlw68-python3.12-certifi-2024.02.02/lib/python3.12/site-packages (from requests>=2.20->openai<0.29.0,>=0.28.0->minicons) (2024.2.2)\r\n",
      "Requirement already satisfied: aiohappyeyeballs>=2.3.0 in /nix/store/6n0hwqvavcqf105j9kn2x4sljvzwzl7v-python3.12-aiohappyeyeballs-2.3.5/lib/python3.12/site-packages (from aiohttp->openai<0.29.0,>=0.28.0->minicons) (2.3.5)\r\n",
      "Requirement already satisfied: aiosignal>=1.1.2 in /nix/store/q1s86lrbkklri3rcwx37rd7gpm8bcrqa-python3.12-aiosignal-1.3.1/lib/python3.12/site-packages (from aiohttp->openai<0.29.0,>=0.28.0->minicons) (1.3.1)\r\n",
      "Requirement already satisfied: attrs>=17.3.0 in /nix/store/x1vdniqmxxbz14n62baa9vk94zzw9x6h-python3.12-attrs-23.2.0/lib/python3.12/site-packages (from aiohttp->openai<0.29.0,>=0.28.0->minicons) (23.2.0)\r\n",
      "Requirement already satisfied: frozenlist>=1.1.1 in /nix/store/9krzdy1d8ccrmp6d9gw8plf33li56c30-python3.12-frozenlist-1.4.1/lib/python3.12/site-packages (from aiohttp->openai<0.29.0,>=0.28.0->minicons) (1.4.1)\r\n",
      "Requirement already satisfied: multidict<7.0,>=4.5 in /nix/store/imlhn2igkq5ghyzb20ghpapp5nc5bnhf-python3.12-multidict-6.0.5/lib/python3.12/site-packages (from aiohttp->openai<0.29.0,>=0.28.0->minicons) (6.0.5)\r\n",
      "Requirement already satisfied: yarl<2.0,>=1.0 in /nix/store/ib3pbnpzz5lkd7yg5ggf615s6ij6vpp7-python3.12-yarl-1.9.4/lib/python3.12/site-packages (from aiohttp->openai<0.29.0,>=0.28.0->minicons) (1.9.4)\r\n",
      "Requirement already satisfied: MarkupSafe>=2.0 in /nix/store/yz5ad93rx27g39jdxfia0za7hx5ynb85-python3.12-markupsafe-2.1.5/lib/python3.12/site-packages (from jinja2->torch<3.0.0,>=2.0.0->minicons) (2.1.5)\r\n",
      "Requirement already satisfied: mpmath<1.4,>=1.1.0 in ./venv/lib/python3.12/site-packages (from sympy->torch<3.0.0,>=2.0.0->minicons) (1.3.0)\r\n",
      "Using cached pandas-2.2.0-cp312-cp312-manylinux_2_17_x86_64.manylinux2014_x86_64.whl (12.7 MB)\r\n",
      "Using cached urllib3-1.26.20-py2.py3-none-any.whl (144 kB)\r\n",
      "Installing collected packages: urllib3, pandas\r\n",
      "  Attempting uninstall: urllib3\r\n",
      "    Found existing installation: urllib3 2.2.2\r\n",
      "    Not uninstalling urllib3 at /nix/store/dcgjkj2z9zlmis91fq9py6c49rvasbnb-python3.12-urllib3-2.2.2/lib/python3.12/site-packages, outside environment /home/leo/git/miniconsPlayground/venv\r\n",
      "    Can't uninstall 'urllib3'. No files were found to uninstall.\r\n",
      "  Attempting uninstall: pandas\r\n",
      "    Found existing installation: pandas 2.2.2\r\n",
      "    Not uninstalling pandas at /nix/store/6if4ab4fy227ww2ay90ddlnyp4d8dzgh-python3.12-pandas-2.2.2/lib/python3.12/site-packages, outside environment /home/leo/git/miniconsPlayground/venv\r\n",
      "    Can't uninstall 'pandas'. No files were found to uninstall.\r\n",
      "Successfully installed pandas-2.2.0 urllib3-1.26.20\r\n",
      "\r\n",
      "\u001B[1m[\u001B[0m\u001B[34;49mnotice\u001B[0m\u001B[1;39;49m]\u001B[0m\u001B[39;49m A new release of pip is available: \u001B[0m\u001B[31;49m24.0\u001B[0m\u001B[39;49m -> \u001B[0m\u001B[32;49m24.2\u001B[0m\r\n",
      "\u001B[1m[\u001B[0m\u001B[34;49mnotice\u001B[0m\u001B[1;39;49m]\u001B[0m\u001B[39;49m To update, run: \u001B[0m\u001B[32;49mpip install --upgrade pip\u001B[0m\r\n"
     ]
    }
   ],
   "execution_count": 1
  },
  {
   "metadata": {
    "ExecuteTime": {
     "end_time": "2024-09-27T08:51:03.949370Z",
     "start_time": "2024-09-27T08:51:02.304015Z"
    }
   },
   "cell_type": "code",
   "source": [
    "import os\n",
    "from minicons import cwe\n",
    "from minicons import scorer"
   ],
   "id": "60793d8302df4111",
   "outputs": [],
   "execution_count": 2
  },
  {
   "metadata": {},
   "cell_type": "markdown",
   "source": "# Load stimuli and model",
   "id": "ecd74ad03ef94eb5"
  },
  {
   "metadata": {
    "ExecuteTime": {
     "end_time": "2024-09-27T08:51:06.974790Z",
     "start_time": "2024-09-27T08:51:04.172975Z"
    }
   },
   "cell_type": "code",
   "source": [
    "stimuli_folder = \"./stimuli\"\n",
    "stimuli = []\n",
    "for file in os.listdir(stimuli_folder):\n",
    "    with open(stimuli_folder + \"/\" + file, 'r') as stimulus:\n",
    "        file_contents = stimulus.read().replace('\\n', '')\n",
    "        text_split_at_space = file_contents.split(\" \")\n",
    "        while text_split_at_space.__contains__(\"\"):\n",
    "            text_split_at_space.remove(\"\")\n",
    "        stimuli.append(text_split_at_space)\n",
    "\n",
    "model = cwe.CWE('bert-base-uncased')"
   ],
   "id": "7aa28dd6bd21edc9",
   "outputs": [
    {
     "name": "stderr",
     "output_type": "stream",
     "text": [
      "/home/leo/git/miniconsPlayground/venv/lib/python3.12/site-packages/transformers/tokenization_utils_base.py:1601: FutureWarning: `clean_up_tokenization_spaces` was not set. It will be set to `True` by default. This behavior will be depracted in transformers v4.45, and will be then set to `False` by default. For more details check this issue: https://github.com/huggingface/transformers/issues/31884\n",
      "  warnings.warn(\n"
     ]
    }
   ],
   "execution_count": 3
  },
  {
   "metadata": {},
   "cell_type": "markdown",
   "source": "# Produce Sliding window context representations",
   "id": "822774438d5af8ff"
  },
  {
   "metadata": {
    "ExecuteTime": {
     "end_time": "2024-09-27T08:51:06.993896Z",
     "start_time": "2024-09-27T08:51:06.987393Z"
    }
   },
   "cell_type": "code",
   "source": [
    "def get_sliding_window_context_representations(data, window_size, layer_to_extract):\n",
    "    def get_context_words_for_pos(arr: list, pos: int, window_size: int) -> [str]:\n",
    "        min_index = max(0, pos - (window_size + 1))\n",
    "        context = arr[min_index]\n",
    "        for i in range(min_index + 1, pos + 1):\n",
    "            context = context + \" \" + arr[i]\n",
    "        return [context, arr[pos]]\n",
    "\n",
    "    context_and_representations = []\n",
    "    for pos in range(len(data)):\n",
    "        context_words = get_context_words_for_pos(data, pos, window_size)\n",
    "        representation = model.extract_representation(context_words, layer=layer_to_extract)\n",
    "        context_and_representations.append([context_words, representation])\n",
    "    return context_and_representations"
   ],
   "id": "a1d52a7a00777bdb",
   "outputs": [],
   "execution_count": 4
  },
  {
   "metadata": {
    "ExecuteTime": {
     "end_time": "2024-09-27T09:06:59.273979Z",
     "start_time": "2024-09-27T08:51:07.035279Z"
    }
   },
   "cell_type": "code",
   "source": [
    "context_size = 5\n",
    "layer_to_extract = None\n",
    "\n",
    "all_representations = []\n",
    "\n",
    "for stimulus in stimuli:\n",
    "    representations =  get_sliding_window_context_representations(data=stimulus, window_size=context_size, layer_to_extract=layer_to_extract)\n",
    "    all_representations.append(representations)"
   ],
   "id": "c820c58f367f1e18",
   "outputs": [],
   "execution_count": 5
  },
  {
   "metadata": {
    "ExecuteTime": {
     "end_time": "2024-09-27T09:06:59.450440Z",
     "start_time": "2024-09-27T09:06:59.433797Z"
    }
   },
   "cell_type": "code",
   "source": [
    "print(all_representations)\n",
    "\n",
    "# print(all_representations[0][0][1])"
   ],
   "id": "d877e64d6c12d1ea",
   "outputs": [
    {
     "name": "stdout",
     "output_type": "stream",
     "text": [
      "tensor([[ 6.2667e-01, -5.6615e-01,  5.6625e-01, -2.7800e-01,  7.5073e-02,\n",
      "          9.8897e-02,  2.2067e-01,  6.0475e-01,  2.5101e-01, -7.9267e-01,\n",
      "         -2.3411e-01,  2.6271e-01,  5.5959e-01,  5.4802e-01,  1.7569e-01,\n",
      "         -5.7553e-02,  9.9202e-02,  9.2514e-02,  9.2509e-01,  7.0583e-01,\n",
      "          1.0748e-01,  4.7346e-01, -5.1622e-01,  4.9869e-01,  5.5606e-01,\n",
      "         -4.9652e-02, -1.0355e-01, -6.6541e-01, -4.9547e-01,  7.3011e-01,\n",
      "          9.2101e-01, -2.8783e-01, -7.0555e-01, -7.8648e-02,  2.9894e-02,\n",
      "         -2.4275e-01, -3.0252e-01,  6.3173e-01, -4.5520e-01,  3.3427e-02,\n",
      "          5.3662e-02, -3.8546e-01,  7.7663e-01, -1.4103e-01, -4.0217e-02,\n",
      "          4.0856e-01,  6.7624e-01,  4.9639e-02, -2.2499e-01, -1.2269e+00,\n",
      "         -5.5136e-01, -9.5802e-01,  2.9877e-01,  9.3275e-01, -8.7987e-02,\n",
      "          1.2868e-01,  3.5004e-01, -2.8315e-01, -6.3820e-01,  2.5280e-01,\n",
      "          2.5830e-01, -1.2040e-01,  3.0968e-01, -2.2157e-01,  3.9739e-01,\n",
      "          3.8507e-01,  1.2871e+00, -1.6368e-01, -1.2240e+00,  3.7159e-01,\n",
      "          2.6264e-01, -1.6496e-01,  5.2855e-01, -1.7043e-01,  1.3195e-01,\n",
      "          2.6699e-01,  5.5503e-01, -2.5769e-01,  5.3363e-01, -4.5814e-01,\n",
      "          6.5019e-01,  1.3289e+00, -2.6365e-01,  8.4064e-01,  5.0053e-02,\n",
      "         -1.3098e-01,  2.9676e-01,  3.0656e-01, -9.7506e-02,  3.3918e-01,\n",
      "         -7.5005e-01, -7.0005e-01, -1.6065e-01,  2.3671e-01,  2.5570e-01,\n",
      "         -3.7852e-01, -1.2107e-01,  4.2609e-02, -2.9145e-01, -8.9171e-02,\n",
      "          4.7150e-02, -1.0852e+00,  8.7626e-02, -8.2708e-02, -8.1277e-01,\n",
      "          1.0678e-02, -7.2656e-03, -2.4702e-01, -4.6055e-02, -3.6934e-02,\n",
      "          1.0459e-01,  1.1823e-01,  3.8450e-01, -3.1688e-01, -2.6469e-01,\n",
      "          7.7387e-01, -1.1666e+00,  1.4492e-01,  2.6879e-01,  4.9925e-01,\n",
      "         -6.5917e-01, -5.4082e-01,  7.3204e-02,  9.7146e-01, -6.5794e-02,\n",
      "         -6.1841e-01, -1.2759e-01,  1.1505e-01, -7.2136e-01, -9.9036e-01,\n",
      "          1.1223e+00,  3.4979e-01,  2.8651e-01,  1.3585e-02, -4.8875e-01,\n",
      "          1.9466e-01,  5.1899e-01, -9.7180e-01, -2.9803e-01, -2.1924e-01,\n",
      "          7.8003e-02,  7.2082e-01,  1.0869e+00, -2.9058e-01,  9.3788e-01,\n",
      "         -3.5279e-01,  3.5697e-01, -1.0443e+00,  4.2442e-01, -2.1228e-01,\n",
      "          4.6241e-02,  2.0688e-01, -5.1904e-02, -1.3317e+00, -4.9405e-01,\n",
      "         -4.3162e-01, -5.7469e-01,  2.7756e-01,  6.1315e-01,  4.1708e-01,\n",
      "          5.7000e-01,  6.5584e-01, -3.8778e-01, -2.8780e-01, -2.8858e-01,\n",
      "          3.3561e-02,  2.6026e-01,  2.3256e-01,  3.9701e-01,  1.8163e-02,\n",
      "         -2.8961e-01, -8.1061e-01,  1.5125e+00,  2.4699e-01, -4.1834e-01,\n",
      "          3.6851e-01, -2.8835e-01,  3.6013e-01, -4.7571e-02,  6.1938e-03,\n",
      "         -3.9755e-01,  4.3378e-01, -2.9825e-01, -9.1281e-01,  7.6744e-01,\n",
      "          4.5772e-01,  1.3130e+00, -3.7385e-01, -4.2618e-01,  3.1404e-01,\n",
      "         -4.4926e-01, -7.2963e-01, -1.3093e-01, -3.1018e-01,  2.1529e-01,\n",
      "         -7.1030e-01,  6.9150e-01,  7.9260e-01,  5.8083e-01, -4.8699e-01,\n",
      "          4.8079e-01, -5.2156e-02,  2.5468e-01, -3.1751e-01, -1.5432e-02,\n",
      "          6.1803e-01,  2.5359e-01, -2.9247e-01,  1.7458e-01, -3.2145e-01,\n",
      "         -3.2278e-01,  1.2429e+00, -3.1796e-01, -1.8510e-01,  8.2521e-01,\n",
      "         -3.2417e-01, -3.9985e-03,  5.6036e-01, -4.9645e-01, -2.0560e-01,\n",
      "         -5.6760e-01, -6.8239e-01, -7.9430e-03,  9.1313e-01, -5.2441e-01,\n",
      "          6.8398e-01,  6.0902e-01, -9.7519e-01,  5.7063e-01,  3.7177e-01,\n",
      "         -5.3688e-01,  3.6655e-03, -1.5494e-01,  8.4605e-01,  4.1105e-01,\n",
      "         -1.8731e-01, -3.8751e-01,  2.5335e-01, -3.2035e-02, -2.8859e-01,\n",
      "         -4.3695e-01,  2.9390e-02,  6.6154e-01,  1.5141e-01, -5.3674e-01,\n",
      "          7.0330e-01,  1.1190e+00, -4.3536e-01, -6.5740e-01,  2.7894e-01,\n",
      "         -5.5235e-01, -9.8109e-01, -2.2865e-01, -5.5677e-01, -1.0561e+00,\n",
      "         -3.8335e-01, -8.5832e-01, -6.3736e-01, -2.7822e-01, -8.7755e-02,\n",
      "         -8.1740e-01,  2.4545e-01,  7.2458e-01,  9.2800e-03, -4.6301e-02,\n",
      "          2.0558e-01, -1.3585e-01,  1.1833e-01,  1.1307e-01, -1.0231e-01,\n",
      "         -4.2397e-01, -8.9884e-01,  4.5571e-01,  1.8800e-01, -9.9384e-01,\n",
      "          7.5854e-02,  3.4763e-01,  6.5592e-02,  6.3807e-02,  9.1027e-01,\n",
      "         -6.3028e-03,  7.9487e-01, -1.4428e+00, -2.0412e-01, -1.8672e-01,\n",
      "         -7.4554e-01, -1.2102e+00, -5.8776e-02,  7.1568e-02, -3.5197e-01,\n",
      "          1.5225e-02,  3.2663e-01,  2.0521e-01, -6.8346e-01,  1.7156e-01,\n",
      "          1.7421e-01, -3.5658e-01, -7.0027e-02, -4.1302e-01,  2.2274e-01,\n",
      "          2.5247e-01,  1.1235e-01, -1.6389e-01, -2.8219e-01,  6.6595e-02,\n",
      "          4.2503e-02,  8.1763e-02,  3.0664e-01, -4.0305e+00, -2.0168e-01,\n",
      "         -4.1540e-02,  4.2351e-01,  6.6385e-02,  3.1628e-01,  2.3984e-01,\n",
      "          3.2373e-01, -1.0047e+00,  2.4029e-01,  9.5743e-01, -5.6368e-01,\n",
      "         -4.2501e-01,  9.3434e-01,  9.1982e-01, -3.3503e-01,  1.4509e-01,\n",
      "         -6.0214e-01, -1.1565e+00,  6.1380e-01, -5.7466e-01, -5.1781e-01,\n",
      "          6.0877e-01, -3.8264e-01,  8.7484e-02,  1.0535e+00, -7.7128e-02,\n",
      "          7.3655e-01, -1.0448e+00,  3.0809e-01, -1.0409e-02, -3.7081e-01,\n",
      "          4.5330e-01,  1.5412e-01,  5.4490e-01,  1.5665e-02,  4.4471e-01,\n",
      "          9.2483e-03,  1.0337e+00,  3.7307e-01,  1.9193e-01, -6.6106e-01,\n",
      "         -5.5667e-01,  5.2939e-01,  5.5426e-01, -1.8451e-01,  8.1212e-01,\n",
      "         -6.4880e-01,  1.1526e-01, -4.8418e-01, -4.2154e-02,  3.7038e-01,\n",
      "         -6.5694e-01, -6.1956e-01,  3.9735e-01,  1.4616e-01,  6.2433e-01,\n",
      "          1.0882e+00,  3.8946e-01, -3.5194e-01,  3.3953e-01, -9.1776e-01,\n",
      "          3.8037e-01,  5.8174e-01, -8.8455e-01,  3.6091e-01, -5.4657e-01,\n",
      "          5.0924e-02, -2.4626e-01,  1.7508e-01, -1.7779e-01, -1.1319e+00,\n",
      "          2.6080e-01, -1.6591e+00, -5.7890e-01,  4.8111e-01, -1.0845e-01,\n",
      "         -1.9567e-01, -8.5618e-03,  2.2931e-01, -2.7188e-01, -9.5905e-01,\n",
      "         -3.2857e-01,  2.3239e-01,  1.6453e-01, -6.5169e-02,  6.3055e-01,\n",
      "         -8.4147e-01, -2.0106e-01, -2.9654e-02, -9.0543e-02,  7.8273e-01,\n",
      "          1.1587e+00,  1.7520e-01,  6.9230e-01, -4.3599e-01,  5.7808e-01,\n",
      "         -5.8102e-01, -8.0138e-02, -1.9808e-01, -4.1454e-01, -5.4392e-01,\n",
      "          2.6755e-01, -1.2071e-02,  3.9310e-01, -5.4474e-01, -1.3019e+00,\n",
      "          8.4679e-01, -2.7689e-01, -9.6038e-03,  7.4957e-01, -6.8250e-01,\n",
      "          4.4421e-01, -2.0595e-01, -7.5024e-01,  1.6182e-01,  1.7750e-01,\n",
      "          3.9647e-02, -1.2356e-01, -4.2308e-02, -1.3833e-01,  9.0283e-01,\n",
      "         -3.2434e-01, -6.0836e-01, -4.2886e-01, -3.8819e-01,  1.8965e-01,\n",
      "         -8.0640e-01, -1.1967e+00,  5.2776e-01, -2.4649e-01,  4.3269e-02,\n",
      "         -1.1614e-01, -3.4919e-01, -3.4082e-01,  4.6954e-02, -2.9796e-01,\n",
      "         -2.3611e-01,  7.5106e-01,  6.4242e-01,  8.9530e-01,  4.9519e-01,\n",
      "         -2.9977e-01, -3.0525e-01, -4.0227e-01,  1.0990e+00, -1.9181e-01,\n",
      "          5.7194e-01, -4.3443e-01,  9.9787e-01, -8.8028e-02, -1.1291e+00,\n",
      "         -2.0315e-01, -2.2270e-01, -2.2688e-01,  8.5454e-02,  3.2421e-01,\n",
      "          3.4864e-01,  2.5693e-01, -4.2270e-02, -2.5348e-01, -2.8261e-01,\n",
      "          8.2216e-01,  6.2507e-01,  5.1364e-01,  1.6601e-01, -3.4248e-01,\n",
      "          9.5464e-01, -1.0002e+00, -3.2725e-01,  6.2055e-01, -1.8474e-01,\n",
      "         -6.9607e-01,  1.3515e-01, -7.7162e-02, -4.2351e-01,  3.7924e-02,\n",
      "         -1.4362e+00, -9.0816e-01, -2.0145e-01,  2.8558e-02, -2.2865e-01,\n",
      "          8.1268e-02, -9.1048e-01,  7.1381e-01,  5.4328e-01, -4.9565e-01,\n",
      "         -2.9073e-01,  4.6243e-01,  6.7163e-01,  6.5585e-01, -3.8011e-02,\n",
      "         -2.9600e-01, -4.1566e-01, -3.6606e-01, -5.1362e-01,  5.8849e-01,\n",
      "         -4.5830e-01,  4.4678e-01,  1.8415e-01,  4.6236e-03, -1.0098e+00,\n",
      "          6.9870e-01, -7.1455e-02, -1.3255e-01, -5.2372e-01,  2.1986e-01,\n",
      "          1.1935e+00, -1.1535e+00, -5.8181e-01,  6.5513e-02, -6.5005e-02,\n",
      "          1.8446e-02, -4.5573e-01, -5.2677e-01,  4.2929e-01,  2.5691e-01,\n",
      "          5.1627e-01, -7.6347e-01, -9.5340e-01, -5.1761e-01, -3.1278e-01,\n",
      "         -1.3055e-01, -4.9103e-01, -3.1386e-01, -2.3246e-01, -6.7803e-01,\n",
      "         -6.8435e-01, -5.2737e-02,  3.5069e-02, -1.0244e-01, -8.9536e-02,\n",
      "         -2.5004e-01, -3.5486e-01, -2.8732e-01,  1.1707e-01, -1.2613e+00,\n",
      "          1.4830e-01, -9.1318e-01,  3.6161e-01,  1.7751e-01, -9.3210e-01,\n",
      "         -9.5274e-01,  4.1362e-01,  2.6256e-01,  2.2315e-01,  9.7380e-02,\n",
      "          3.3451e-01,  7.3716e-01,  5.9150e-01,  9.1815e-02, -4.0382e-01,\n",
      "          1.9997e-01, -2.0101e-01,  3.7544e-01, -6.9650e-01, -6.3326e-01,\n",
      "         -4.7461e-02,  2.2201e-01, -1.4144e-01, -7.6519e-01,  1.4393e-01,\n",
      "         -3.9022e-01,  4.5130e-01, -6.8142e-01, -1.5315e-02, -1.2571e-01,\n",
      "          2.5661e-01,  7.6356e-01,  4.3807e-01, -1.0546e+00, -5.6323e-01,\n",
      "          7.9009e-01,  2.0488e-01, -1.4925e-01, -2.3376e-01,  4.2104e-01,\n",
      "         -5.5974e-01, -4.9161e-01, -5.9439e-01,  1.1374e-01,  1.2177e+00,\n",
      "         -2.6968e-01, -1.6671e-01,  9.9303e-02, -7.4965e-01,  3.1031e-01,\n",
      "          2.5259e-01,  7.4992e-02, -1.1444e-01, -9.9872e-02, -2.5392e-01,\n",
      "          1.6339e-01,  6.0981e-01,  1.9805e-01,  5.9560e-01, -3.5581e-02,\n",
      "         -2.1906e-01, -2.7013e-01,  2.2333e-01,  1.0947e+00, -3.6997e-01,\n",
      "         -3.0862e-01,  3.2826e-01, -3.2472e-01,  8.2563e-01,  6.2910e-01,\n",
      "          3.9875e-01,  5.1876e-01,  5.9160e-01, -2.4247e-01, -5.0421e-01,\n",
      "         -3.5226e-01,  1.3516e+00, -4.4794e-01, -3.7192e-02,  6.8819e-01,\n",
      "         -4.3580e-01, -1.9855e-01,  1.6550e-01,  7.3107e-02, -3.6166e-01,\n",
      "         -1.2867e-01,  3.1937e-01,  7.4577e-01,  5.2582e-01, -1.0417e+00,\n",
      "         -2.0300e-01,  4.3460e-01,  8.4937e-01,  6.7135e-02,  1.0231e+00,\n",
      "         -3.4947e-02,  3.9186e-01,  7.2227e-02, -2.7761e-01,  5.1800e-01,\n",
      "         -4.0803e-01,  2.3260e-01,  2.0242e-01, -3.8926e-01,  2.5892e-01,\n",
      "          6.3326e-01,  1.6387e-01, -7.2127e-01, -5.4393e-02,  8.7500e-02,\n",
      "         -1.4827e-01,  5.6614e-02,  8.9293e-01, -4.6581e-01,  4.6760e-01,\n",
      "         -6.2047e-01, -3.7489e-01,  5.1495e-01, -7.7420e-01, -3.3027e-01,\n",
      "          2.8441e-01, -2.6087e-02,  3.2188e-01, -1.3102e-01,  8.2721e-01,\n",
      "          3.7339e-01, -1.0440e+00,  5.9894e-01,  3.5410e-01,  8.3676e-02,\n",
      "          6.7428e-02, -4.6088e-01,  1.9288e-01,  6.8304e-01,  3.8653e-01,\n",
      "          5.6979e-01,  8.5505e-01, -4.7544e-01,  8.2823e-02,  3.7814e-01,\n",
      "         -1.4358e-01, -1.7974e-01, -3.9161e-01,  3.9532e-01, -3.5856e-02,\n",
      "         -1.9728e-01, -2.1570e-01,  8.0617e-01, -5.4131e-01,  4.9080e-01,\n",
      "         -2.7109e-01, -2.7648e-02, -1.5422e-01,  2.8899e-01, -2.3924e-01,\n",
      "         -3.3302e-01, -8.9937e-01,  3.3806e-02, -5.6135e-01,  2.8623e-01,\n",
      "          5.9386e-02,  1.2306e-02, -4.8341e-01,  2.7265e-01, -2.1107e-02,\n",
      "          5.4547e-01,  3.3784e-01, -1.0818e+00,  8.2590e-01, -3.0318e-01,\n",
      "          2.8663e-01, -6.1836e-01, -1.1863e-01,  5.2744e-01,  1.0436e+00,\n",
      "         -6.4750e-01, -5.4620e-01, -1.8552e-01,  7.0484e-02,  3.1851e-01,\n",
      "         -5.6711e-01,  5.3505e-01,  3.5763e-01, -3.1432e-01,  1.8181e-01,\n",
      "         -1.0601e-01,  1.4148e+00,  2.5746e-01, -6.3066e-02, -1.0279e+00,\n",
      "          2.2050e-01, -4.6625e-01,  8.2317e-01,  7.0364e-04,  1.1010e+00,\n",
      "         -1.6518e-01, -1.1836e+00, -1.1637e-01,  7.7929e-03, -6.6511e-01,\n",
      "         -3.2060e-01, -2.2015e-02, -4.7132e-01,  1.7589e-01,  2.3029e-01,\n",
      "         -5.7101e-02, -4.5479e-01, -5.2129e-03,  3.5216e-03, -1.1111e+00,\n",
      "         -1.4134e-01, -3.2775e-01, -1.7129e-01,  3.9954e-01,  3.5216e-01,\n",
      "          1.3898e-01, -1.9045e-02, -8.1034e-01,  2.1941e-01,  3.4279e-01,\n",
      "          1.3472e-01,  5.5569e-01,  6.0758e-01]])\n"
     ]
    }
   ],
   "execution_count": 6
  }
 ],
 "metadata": {
  "kernelspec": {
   "display_name": "Python 3",
   "language": "python",
   "name": "python3"
  },
  "language_info": {
   "codemirror_mode": {
    "name": "ipython",
    "version": 2
   },
   "file_extension": ".py",
   "mimetype": "text/x-python",
   "name": "python",
   "nbconvert_exporter": "python",
   "pygments_lexer": "ipython2",
   "version": "2.7.6"
  }
 },
 "nbformat": 4,
 "nbformat_minor": 5
}
